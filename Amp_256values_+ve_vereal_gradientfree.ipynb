{
  "nbformat": 4,
  "nbformat_minor": 0,
  "metadata": {
    "colab": {
      "provenance": []
    },
    "kernelspec": {
      "name": "python3",
      "display_name": "Python 3"
    },
    "language_info": {
      "name": "python"
    }
  },
  "cells": [
    {
      "cell_type": "code",
      "execution_count": 1,
      "metadata": {
        "id": "e_S3eSpKP8xe"
      },
      "outputs": [],
      "source": [
        "# !pip install pennylane nftopt"
      ]
    },
    {
      "cell_type": "code",
      "source": [
        "# import numpy as np\n",
        "# arr = []\n",
        "# for i in range(256):\n",
        "#   arr.append(1/256)\n",
        "\n",
        "# arr = np.array(arr)\n",
        "# print(arr)"
      ],
      "metadata": {
        "id": "LKd616nH8O2G"
      },
      "execution_count": 2,
      "outputs": []
    },
    {
      "cell_type": "code",
      "source": [
        "import numpy as np\n",
        "arr = np.random.uniform(low=-1, high=1,size=(8))\n",
        "# arr = np.array([[0.1,-0.1,-0.1,0.1,-0.1,0.1,-0.2,0.2]])\n",
        "print(arr)"
      ],
      "metadata": {
        "colab": {
          "base_uri": "https://localhost:8080/"
        },
        "id": "IGTk4AV29R4y",
        "outputId": "ec379772-071f-4b4f-d678-7f7d5d794677"
      },
      "execution_count": 3,
      "outputs": [
        {
          "output_type": "stream",
          "name": "stdout",
          "text": [
            "[ 0.37355263 -0.44361671 -0.39660804  0.04016908 -0.54340399  0.24815682\n",
            " -0.31465694 -0.99103463]\n"
          ]
        }
      ]
    },
    {
      "cell_type": "code",
      "source": [
        "np.unique(arr)"
      ],
      "metadata": {
        "colab": {
          "base_uri": "https://localhost:8080/"
        },
        "id": "GuY1qV2evgru",
        "outputId": "0004acac-51ed-49aa-b2f5-d3990c3089f3"
      },
      "execution_count": 4,
      "outputs": [
        {
          "output_type": "execute_result",
          "data": {
            "text/plain": [
              "array([-0.99103463, -0.54340399, -0.44361671, -0.39660804, -0.31465694,\n",
              "        0.04016908,  0.24815682,  0.37355263])"
            ]
          },
          "metadata": {},
          "execution_count": 4
        }
      ]
    },
    {
      "cell_type": "code",
      "source": [
        "# Rearranging the array so that there is no index confusion\n",
        "arr1 = []\n",
        "for i in range(len(arr)):\n",
        "  if(arr[i] > 0):\n",
        "    arr1.append(arr[i])\n",
        "\n",
        "for i in range(len(arr)):\n",
        "  if(arr[i] < 0):\n",
        "    arr1.append(arr[i])\n",
        "\n",
        "arr1 = np.array([arr1])\n",
        "print(arr1)"
      ],
      "metadata": {
        "colab": {
          "base_uri": "https://localhost:8080/"
        },
        "id": "Xv5tYw51SzOh",
        "outputId": "132f59dc-1406-4f2f-b9e0-39d53d71c997"
      },
      "execution_count": 5,
      "outputs": [
        {
          "output_type": "stream",
          "name": "stdout",
          "text": [
            "[[ 0.37355263  0.04016908  0.24815682 -0.44361671 -0.39660804 -0.54340399\n",
            "  -0.31465694 -0.99103463]]\n"
          ]
        }
      ]
    },
    {
      "cell_type": "code",
      "source": [
        "summer = np.sum(np.abs(arr))\n",
        "print(summer)\n",
        "normalized_X = arr/summer\n",
        "print(normalized_X)"
      ],
      "metadata": {
        "colab": {
          "base_uri": "https://localhost:8080/"
        },
        "id": "EMpMS6myyaZ9",
        "outputId": "75e862c7-c389-432e-dd99-a1154e59d040"
      },
      "execution_count": 6,
      "outputs": [
        {
          "output_type": "stream",
          "name": "stdout",
          "text": [
            "3.3511988514498015\n",
            "[ 0.11146836 -0.13237553 -0.11834811  0.01198648 -0.16215212  0.07405016\n",
            " -0.09389384 -0.2957254 ]\n"
          ]
        }
      ]
    },
    {
      "cell_type": "code",
      "source": [
        "#defining parameters\n",
        "n_qubits = 4 #( 3 + 1 ancillary)\n",
        "depth = 4"
      ],
      "metadata": {
        "id": "uxqDzYPHP9gG"
      },
      "execution_count": 7,
      "outputs": []
    },
    {
      "cell_type": "code",
      "source": [
        "import pennylane as qml\n",
        "from pennylane import numpy as np\n",
        "from pennylane.optimize import NesterovMomentumOptimizer\n",
        "from scipy import optimize\n",
        "from nftopt import nakanishi_fujii_todo as nftmethod"
      ],
      "metadata": {
        "id": "LHEOby-1QAja"
      },
      "execution_count": 8,
      "outputs": []
    },
    {
      "cell_type": "code",
      "source": [
        "dev = qml.device(\"default.qubit\",wires=n_qubits)\n",
        "dev"
      ],
      "metadata": {
        "colab": {
          "base_uri": "https://localhost:8080/"
        },
        "id": "NMFJbv1ZQCB1",
        "outputId": "69e9d8e1-a0f3-4008-cd7b-03252222dba4"
      },
      "execution_count": 9,
      "outputs": [
        {
          "output_type": "execute_result",
          "data": {
            "text/plain": [
              "<default.qubit device (wires=4) at 0x793eeb977dc0>"
            ]
          },
          "metadata": {},
          "execution_count": 9
        }
      ]
    },
    {
      "cell_type": "code",
      "source": [
        "def ansatz_layer(layer_weights, depth, n_qubits):\n",
        "    for dep in range(depth):\n",
        "      for wire in range(0,n_qubits):\n",
        "        qml.RY(layer_weights[wire+(n_qubits*dep)], wires=wire)\n",
        "\n",
        "      qml.CZ(wires=[0,1])\n",
        "      qml.CZ(wires=[1,2])\n",
        "      qml.CZ(wires=[2,3])\n",
        "      qml.CZ(wires=[3,0])\n",
        "\n",
        "    qml.Hadamard(0)"
      ],
      "metadata": {
        "id": "c-OxlJ3QQDKK"
      },
      "execution_count": 10,
      "outputs": []
    },
    {
      "cell_type": "code",
      "source": [
        "def accuracy(labels, predictions):\n",
        "  state0 = qml.math.dm_from_state_vector(labels)\n",
        "  state1 = qml.math.dm_from_state_vector(predictions)\n",
        "  return qml.math.fidelity(state0, state1)"
      ],
      "metadata": {
        "id": "FTW1SGK9QEoN"
      },
      "execution_count": 11,
      "outputs": []
    },
    {
      "cell_type": "code",
      "source": [
        "@qml.qnode(dev,diff_method=\"backprop\")\n",
        "def circuit(weights):\n",
        "  # since depth 4 was used\n",
        "  ansatz_layer(weights,depth=depth, n_qubits=n_qubits)\n",
        "  # qml.state() applies Ua to Ini State, which gives Appro_a\n",
        "  return qml.state()"
      ],
      "metadata": {
        "id": "XR4C_aLQQGIy"
      },
      "execution_count": 12,
      "outputs": []
    },
    {
      "cell_type": "code",
      "source": [
        "def variational_classifier(weights, x):\n",
        "    # weights are thetas\n",
        "    return np.real(circuit(weights))"
      ],
      "metadata": {
        "id": "JZGfLnJeQHjz"
      },
      "execution_count": 13,
      "outputs": []
    },
    {
      "cell_type": "code",
      "source": [
        "# temp = []\n",
        "# for i in range(len(normalized_X[0])):\n",
        "#   temp.append(np.sqrt(normalized_X[0][i]))\n",
        "# x = np.array(temp)\n",
        "# print(x)\n",
        "\n",
        "temp = []\n",
        "for i in range(len(normalized_X)):\n",
        "  val = np.sqrt(np.abs(normalized_X[i]))\n",
        "  if (normalized_X[i] < 0):\n",
        "    val = val * -1\n",
        "  temp.append(val)\n",
        "\n",
        "x = np.array(temp)\n",
        "print(x)\n",
        "\n",
        "# # [ 0.1 -0.1 -0.1  0.1 -0.1  0.1 -0.2  0.2]\n",
        "# x = np.array([0.31622776601683794,-0.31622776601683794,-0.31622776601683794,0.31622776601683794,-0.31622776601683794,0.31622776601683794,-0.4472135954999579,0.4472135954999579])\n",
        "# print(x)"
      ],
      "metadata": {
        "colab": {
          "base_uri": "https://localhost:8080/"
        },
        "id": "7aI212uqQIlQ",
        "outputId": "ede76f88-314f-42c9-ee4d-dad6465ac7d6"
      },
      "execution_count": 14,
      "outputs": [
        {
          "output_type": "stream",
          "name": "stdout",
          "text": [
            "[ 0.33386877 -0.36383448 -0.3440176   0.10948279 -0.40268116  0.2721216\n",
            " -0.30642102 -0.5438064 ]\n"
          ]
        }
      ]
    },
    {
      "cell_type": "code",
      "source": [
        "sum = 0\n",
        "for i in range(len(x)):\n",
        "  sum += x[i]**2\n",
        "print(sum)"
      ],
      "metadata": {
        "colab": {
          "base_uri": "https://localhost:8080/"
        },
        "id": "m9IqJ70dphm0",
        "outputId": "8dc5094e-e46c-419b-8b90-9b9736dbe637"
      },
      "execution_count": 15,
      "outputs": [
        {
          "output_type": "stream",
          "name": "stdout",
          "text": [
            "1.0\n"
          ]
        }
      ]
    },
    {
      "cell_type": "code",
      "source": [
        "# def F1_loss(a,Appro_a):\n",
        "#   #   Define the cost function\n",
        "#   F1=(a[0]**2)*np.log2((Appro_a[0]**2)/(a[0]**2))+(a[1]**2)*np.log2((Appro_a[1]**2)/(a[1]**2))+(a[2]**2)*np.log2((Appro_a[2]**2)/(a[2]**2))\n",
        "#   F2=(a[3]**2)*np.log2((Appro_a[3]**2)/(a[3]**2))+(a[4]**2)*np.log2((Appro_a[4]**2)/(a[4]**2))+(a[5]**2)*np.log2((Appro_a[5]**2)/(a[5]**2))\n",
        "#   F3=(a[6]**2)*np.log2((Appro_a[6]**2)/(a[6]**2))+(a[7]**2)*np.log2((Appro_a[7]**2)/(a[7]**2))\n",
        "\n",
        "#   #   Prepare the Bell state\n",
        "#   Bell_State=np.ones((8,1))/np.linalg.norm(np.ones((8,1)))\n",
        "#   #   The sum of vector a\n",
        "#   Sum_a=np.sum(a)\n",
        "#   sqrt_D = np.linalg.norm(np.ones((8,1)))\n",
        "#   UaFunction=np.abs(Sum_a -  (sqrt_D * np.matmul(np.transpose(Bell_State), Appro_a)))-(F1+F2+F3)\n",
        "#   return np.real(UaFunction)"
      ],
      "metadata": {
        "id": "Xgysu4MgQKBz"
      },
      "execution_count": 16,
      "outputs": []
    },
    {
      "cell_type": "code",
      "source": [
        "# D = 2**d\n",
        "# D+ = k\n",
        "# D- = l\n",
        "def F1_loss(a,Appro_a):\n",
        "  #   Define the cost function\n",
        "  F2 = 0.\n",
        "  k = []\n",
        "  k_ind = []\n",
        "  l = []\n",
        "  l_ind = []\n",
        "  # Split a into k and l, store indices as well(+ve and -ve)\n",
        "  for i in range(len(a)):\n",
        "    if(a[i] >= 0):\n",
        "      k.append(a[i])\n",
        "      k_ind.append(i)\n",
        "    else:\n",
        "      l.append(a[i])\n",
        "      l_ind.append(i)\n",
        "\n",
        "  for i in range(len(k)):\n",
        "    F2 += (k[i]**2)*np.log2((Appro_a[k_ind[i]]**2)/(k[i]**2))\n",
        "  D = 2 ** (n_qubits-1)\n",
        "  for i in range(len(l)):\n",
        "    F2 += (l[i]**2)*np.log2((Appro_a[l_ind[i]+D]**2)/(l[i]**2))\n",
        "\n",
        "\n",
        "  #   Prepare the Bell state\n",
        "  states_with_ancillary = 2**(n_qubits)\n",
        "  Bell_State=np.ones((states_with_ancillary,1))/np.linalg.norm(np.ones((states_with_ancillary,1)))\n",
        "  #   The sum of vector a\n",
        "  Sum_a=np.sum(np.abs(a))\n",
        "  sqrt_D = np.sqrt(2) * np.linalg.norm(np.ones((D,1)))\n",
        "  UaFunction=np.abs(Sum_a -  (sqrt_D * np.matmul(np.transpose(Bell_State), Appro_a)))-(F2)\n",
        "  return np.real(UaFunction)"
      ],
      "metadata": {
        "id": "eDGI-EXh6Jhl"
      },
      "execution_count": 17,
      "outputs": []
    },
    {
      "cell_type": "code",
      "source": [
        "a= x"
      ],
      "metadata": {
        "id": "ThuF1UTmogie"
      },
      "execution_count": 18,
      "outputs": []
    },
    {
      "cell_type": "code",
      "source": [
        "print(a)"
      ],
      "metadata": {
        "colab": {
          "base_uri": "https://localhost:8080/"
        },
        "id": "tL5u-vVq4y0-",
        "outputId": "21b397b3-d4b3-4a54-d7b9-3bb1c98a922a"
      },
      "execution_count": 19,
      "outputs": [
        {
          "output_type": "stream",
          "name": "stdout",
          "text": [
            "[ 0.33386877 -0.36383448 -0.3440176   0.10948279 -0.40268116  0.2721216\n",
            " -0.30642102 -0.5438064 ]\n"
          ]
        }
      ]
    },
    {
      "cell_type": "code",
      "source": [
        "def cost(weights, X=x):\n",
        "    # X is our preparation state\n",
        "    Appro_a = variational_classifier(weights, X)\n",
        "    return F1_loss(X, Appro_a)"
      ],
      "metadata": {
        "id": "Z9jjzQJFQq-O"
      },
      "execution_count": 20,
      "outputs": []
    },
    {
      "cell_type": "code",
      "source": [
        "weights = 4*np.pi*np.random.rand(n_qubits * depth)\n",
        "result= optimize.minimize(cost,weights, method=nftmethod, options={'maxfev':2000})\n"
      ],
      "metadata": {
        "id": "dhuy_o6ZQvPY"
      },
      "execution_count": 21,
      "outputs": []
    },
    {
      "cell_type": "code",
      "source": [
        "result.x"
      ],
      "metadata": {
        "colab": {
          "base_uri": "https://localhost:8080/"
        },
        "id": "Wpzlr_C7QsYZ",
        "outputId": "5cc3d488-7b1c-456a-a895-5382c7f001b1"
      },
      "execution_count": 22,
      "outputs": [
        {
          "output_type": "execute_result",
          "data": {
            "text/plain": [
              "array([ 5.71650351,  6.31368545,  2.22212513, 13.12137346, 10.38234483,\n",
              "        3.08274821,  4.35672108,  1.00910184,  4.6029608 ,  5.03021641,\n",
              "       11.20934093, -0.61577448,  6.23123078,  0.11830317,  7.22266903,\n",
              "        9.86314686])"
            ]
          },
          "metadata": {},
          "execution_count": 22
        }
      ]
    },
    {
      "cell_type": "code",
      "source": [
        "print(a)"
      ],
      "metadata": {
        "colab": {
          "base_uri": "https://localhost:8080/"
        },
        "id": "uin09FM4UG8G",
        "outputId": "25ceda30-94d5-4f7d-f72f-b49895fe6de1"
      },
      "execution_count": 23,
      "outputs": [
        {
          "output_type": "stream",
          "name": "stdout",
          "text": [
            "[ 0.33386877 -0.36383448 -0.3440176   0.10948279 -0.40268116  0.2721216\n",
            " -0.30642102 -0.5438064 ]\n"
          ]
        }
      ]
    },
    {
      "cell_type": "code",
      "source": [
        "k_ind = []\n",
        "l_ind = []\n",
        "for i in range(len(a)):\n",
        "    if(a[i] >= 0):\n",
        "      k_ind.append(i)\n",
        "    else:\n",
        "      l_ind.append(i)\n",
        "print(k_ind)\n",
        "print(l_ind)"
      ],
      "metadata": {
        "colab": {
          "base_uri": "https://localhost:8080/"
        },
        "id": "Y1mS03NXP0JE",
        "outputId": "6a705224-f7a8-48b2-c01c-021dd8c78e8b"
      },
      "execution_count": 24,
      "outputs": [
        {
          "output_type": "stream",
          "name": "stdout",
          "text": [
            "[0, 3, 5]\n",
            "[1, 2, 4, 6, 7]\n"
          ]
        }
      ]
    },
    {
      "cell_type": "code",
      "source": [
        "# Left most value in state vector is the 0th qubit which the top one in circuit - Pennylane\n",
        "predictions=variational_classifier(result.x,a)\n",
        "print(predictions)\n",
        "\n",
        "modified_predictions = []\n",
        "D = 2 ** (n_qubits - 1)\n",
        "for i in range(len(a)):\n",
        "  if(i in k_ind):\n",
        "    # positive we take from |0> of zeroth qubit\n",
        "    modified_predictions.append(predictions[i])\n",
        "  else:\n",
        "    modified_predictions.append(-1 * predictions[i + D])\n",
        "\n",
        "modified_predictions = np.array(modified_predictions)\n",
        "print(modified_predictions)\n",
        "\n",
        "acc = accuracy(x, modified_predictions)\n",
        "print(modified_predictions.numpy(), x.numpy())\n",
        "print(acc)"
      ],
      "metadata": {
        "colab": {
          "base_uri": "https://localhost:8080/"
        },
        "id": "0y3eA9FWRQnj",
        "outputId": "d7486ce0-1444-4147-83d3-6a80726dbbab"
      },
      "execution_count": 25,
      "outputs": [
        {
          "output_type": "stream",
          "name": "stdout",
          "text": [
            "[-0.03772637  0.13735294  0.07027094  0.06858903  0.06663741  0.08222756\n",
            "  0.06099133  0.14308302  0.02510106  0.35511322  0.36837734  0.18295927\n",
            "  0.46192534  0.15196547  0.25695381  0.57988673]\n",
            "[-0.03772637 -0.35511322 -0.36837734  0.06858903 -0.46192534  0.08222756\n",
            " -0.25695381 -0.57988673]\n",
            "[-0.03772637 -0.35511322 -0.36837734  0.06858903 -0.46192534  0.08222756\n",
            " -0.25695381 -0.57988673] [ 0.33386877 -0.36383448 -0.3440176   0.10948279 -0.40268116  0.2721216\n",
            " -0.30642102 -0.5438064 ]\n",
            "0.7281398067583531\n"
          ]
        }
      ]
    },
    {
      "cell_type": "code",
      "source": [],
      "metadata": {
        "id": "VB43gUKQRVnW"
      },
      "execution_count": 25,
      "outputs": []
    }
  ]
}