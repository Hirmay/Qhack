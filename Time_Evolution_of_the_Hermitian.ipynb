{
  "nbformat": 4,
  "nbformat_minor": 0,
  "metadata": {
    "colab": {
      "provenance": []
    },
    "kernelspec": {
      "name": "python3",
      "display_name": "Python 3"
    },
    "language_info": {
      "name": "python"
    }
  },
  "cells": [
    {
      "cell_type": "code",
      "execution_count": null,
      "metadata": {
        "id": "P0junK8SAgeN"
      },
      "outputs": [],
      "source": [
        "!pip install pennylane"
      ]
    },
    {
      "cell_type": "code",
      "source": [
        "import pennylane as qml\n",
        "import math\n",
        "import numpy as np\n",
        "from scipy.linalg import block_diag"
      ],
      "metadata": {
        "id": "X1R4BqZVC4DP"
      },
      "execution_count": null,
      "outputs": []
    },
    {
      "cell_type": "code",
      "source": [
        "# defing parameters\n",
        "wires = 5\n",
        "depth = 4"
      ],
      "metadata": {
        "id": "ua0dLujbVZqM"
      },
      "execution_count": null,
      "outputs": []
    },
    {
      "cell_type": "code",
      "source": [
        "dev = qml.device(\"default.qubit\", wires = wires)"
      ],
      "metadata": {
        "colab": {
          "base_uri": "https://localhost:8080/"
        },
        "id": "5pgkcwU7XEPG",
        "outputId": "cd21db72-dc04-4599-e7b1-3ae705eddf0c"
      },
      "execution_count": null,
      "outputs": [
        {
          "output_type": "execute_result",
          "data": {
            "text/plain": [
              "<default.qubit device (wires=3) at 0x7b777ba3a1a0>"
            ]
          },
          "metadata": {},
          "execution_count": 14
        }
      ]
    },
    {
      "cell_type": "code",
      "source": [
        "# Set parameters\n",
        "delta = 1.0\n",
        "Omega = 1.0\n",
        "gamma = 1.0\n",
        "Delta_t = 0.01"
      ],
      "metadata": {
        "id": "qLjwGxBHAlAo"
      },
      "execution_count": null,
      "outputs": []
    },
    {
      "cell_type": "code",
      "source": [
        "# Exact vector a\n",
        "alpha = np.sqrt(2)/2*delta*Delta_t\n",
        "beta = (1-gamma*Delta_t/2)"
      ],
      "metadata": {
        "id": "FIvBgq9WCk6c"
      },
      "execution_count": null,
      "outputs": []
    },
    {
      "cell_type": "code",
      "source": [
        "# Pauli operators\n",
        "I = np.eye(2)\n",
        "X = np.array([[0,1],[1,0]])\n",
        "Y = np.array([[0, -1j], [1j, 0]])\n",
        "Z = np.array([[1, 0], [0, -1]])\n",
        "Hadamard = np.array([[1, 1], [1, -1]]) / np.sqrt(2)"
      ],
      "metadata": {
        "id": "5izhLjrJGm1S"
      },
      "execution_count": null,
      "outputs": []
    },
    {
      "cell_type": "code",
      "source": [
        "# The non-Hermitian operator H\n",
        "\n",
        "H0 = np.kron(I,1j*Hadamard)\n",
        "H1 = np.kron(I,-Z)\n",
        "H2 = np.kron((-1j * alpha * Hadamard + beta * I) / np.sqrt(alpha**2 + beta**2), I)\n",
        "H3 = np.kron(-Z,I)\n",
        "H4 = np.kron(X,X)\n",
        "H5 = np.kron(X,-1j*Y)\n",
        "H6 = np.kron(-1j*Y,X)\n",
        "H7 = np.kron(-Y,Y)"
      ],
      "metadata": {
        "id": "yv3rdqNdDJL3"
      },
      "execution_count": null,
      "outputs": []
    },
    {
      "cell_type": "code",
      "source": [
        "# The non-Hermitian operator Q\n",
        "\n",
        "I_4 = np.eye(4)\n",
        "\n",
        "Q0 = I_4 + Delta_t*H0\n",
        "Q1 = I_4 + Delta_t*H1\n",
        "Q2 = I_4 + Delta_t*H2\n",
        "Q3 = I_4 + Delta_t*H3\n",
        "Q4 = I_4 + Delta_t*H4\n",
        "Q5 = I_4 + Delta_t*H5\n",
        "Q6 = I_4 + Delta_t*H6\n",
        "Q7 = I_4 + Delta_t*H7"
      ],
      "metadata": {
        "id": "2ecbpsQqfGkX"
      },
      "execution_count": null,
      "outputs": []
    },
    {
      "cell_type": "code",
      "source": [
        "# Multi-controlled unitary\n",
        "Lambda_Q = block_diag(Q0, Q1, Q2, Q3, Q4, Q5, Q6, Q7)"
      ],
      "metadata": {
        "id": "Yn-LYKOMgiyx"
      },
      "execution_count": null,
      "outputs": []
    },
    {
      "cell_type": "code",
      "source": [
        "def Uq(theta):\n",
        "  @qml.qnode(dev)\n",
        "  def circuit(theta):\n",
        "    UqLay(theta[0:20])\n",
        "    UqLay(theta[20:40])\n",
        "    UqLay(theta[40:60])\n",
        "    UqLay(theta[60:80])\n",
        "\n",
        "    return qml.state()\n",
        "\n",
        "  state = circuit(theta)\n",
        "\n",
        "  # UqFunction = abs(1-1/32**2)*trace((Uq(theta)')*Lambda_Q))**2)\n",
        "  return np.abs(1-1/32**2)*(np.trace(state)**2)\n"
      ],
      "metadata": {
        "id": "MZhfreSdiKfx"
      },
      "execution_count": null,
      "outputs": []
    },
    {
      "cell_type": "code",
      "source": [
        "#UqLay\n",
        "def UqLay(theta, wires):\n",
        "  @qml.qnode(dev)\n",
        "  def circuit():\n",
        "    for i in range(wires):\n",
        "      qml.RZ(theta[i], wires = i)\n",
        "      qml.RY(theta[i+5], wires = i)\n",
        "      qml.RZ(theta[i+10], wires = i)\n",
        "\n",
        "      qml.CRY(theta[16], wires = [0,1])\n",
        "      qml.CRY(theta[17], wires = [1,2])\n",
        "      qml.CRY(theta[18], wires = [2,3])\n",
        "      qml.CRY(theta[19], wires = [3,4])\n",
        "\n",
        "      return qml.state()\n",
        "\n",
        "    return circuit()"
      ],
      "metadata": {
        "id": "FDm_GtEjM8wE"
      },
      "execution_count": null,
      "outputs": []
    }
  ]
}