{
  "nbformat": 4,
  "nbformat_minor": 0,
  "metadata": {
    "colab": {
      "provenance": []
    },
    "kernelspec": {
      "name": "python3",
      "display_name": "Python 3"
    },
    "language_info": {
      "name": "python"
    }
  },
  "cells": [
    {
      "cell_type": "code",
      "execution_count": null,
      "metadata": {
        "id": "Rw9oga4MhfmS"
      },
      "outputs": [],
      "source": [
        "!pip install pennylane"
      ]
    },
    {
      "cell_type": "code",
      "source": [
        "import pennylane as qml\n",
        "import numpy as np\n",
        "from scipy.linalg import expm, norm"
      ],
      "metadata": {
        "id": "sqp919qghkBm"
      },
      "execution_count": 2,
      "outputs": []
    },
    {
      "cell_type": "code",
      "source": [
        "n_qubits = 4\n",
        "dev = qml.device('default.qubit', wires = n_qubits)"
      ],
      "metadata": {
        "id": "HCGx5GrdhqBf"
      },
      "execution_count": 3,
      "outputs": []
    },
    {
      "cell_type": "code",
      "source": [
        "zero = np.array([1,0])\n",
        "I = np.array(2)\n",
        "X = np.array([[0,1],[1,0]])"
      ],
      "metadata": {
        "id": "IUS4hTDOh1Ha"
      },
      "execution_count": 4,
      "outputs": []
    },
    {
      "cell_type": "code",
      "source": [
        "# Initial state\n",
        "Vec_Rho_Ini = np.kron(zero, zero)"
      ],
      "metadata": {
        "id": "OaLc432Sh9RF"
      },
      "execution_count": 5,
      "outputs": []
    },
    {
      "cell_type": "code",
      "source": [
        "# Strategy A\n",
        "# Measurement operators\n",
        "Hat_M = np.kron(I,X)"
      ],
      "metadata": {
        "id": "vpLzZh4wjWu3"
      },
      "execution_count": 6,
      "outputs": []
    },
    {
      "cell_type": "code",
      "source": [
        "# Strategy B\n",
        "I_three = np.kron(zero, np.kron(zerp, zero))\n",
        "Widetilde_M = np.kron(I_three@I_three.T, Hat_M)\n",
        "Widetilde_I = np.kron(I_three@I_three.T, np.kron(I,I))\n",
        "\n",
        "# Bell state\n",
        "Bell_state = np.sqrt(2)*np.array([1,0,0,1])"
      ],
      "metadata": {
        "id": "CYV_TbQPh_H2"
      },
      "execution_count": null,
      "outputs": []
    },
    {
      "cell_type": "code",
      "source": [
        "Number = 500\n",
        "Delta_t = 0.01\n",
        "\n",
        "Simu_Expectation = np.zeros(Number)\n",
        "Exact_Expectation = np.zeros(Number)\n",
        "First_Expectation = np.zeros(Number)\n",
        "Pro = np.zeros(Number)\n",
        "ExactTrace = np.zeros(Number)"
      ],
      "metadata": {
        "id": "GEXGAOFUjshb"
      },
      "execution_count": 7,
      "outputs": []
    },
    {
      "cell_type": "code",
      "source": [
        "Rho_t = Vec_Rho_Ini\n",
        "Ecact_Rho_t = Vec_Rho_Ini\n",
        "First_Rho_t = Vec_Rho_Ini"
      ],
      "metadata": {
        "id": "tQUHFwQ9j4so"
      },
      "execution_count": null,
      "outputs": []
    },
    {
      "cell_type": "code",
      "source": [
        "Lambda_Q =\n",
        "Ua(Theta_Opt) =\n",
        "Appro_a =\n",
        "Hat_H =\n",
        "First_operator ="
      ],
      "metadata": {
        "id": "FR3xAvhwmnQV"
      },
      "execution_count": null,
      "outputs": []
    },
    {
      "cell_type": "code",
      "source": [
        "for i in range(Number):\n",
        "  Iteration = (i+1)*Delta_t\n",
        "  Rho_t = Lambda_Q@np.kron(Appro_a, Rho_t)\n",
        "  Rho_t = np.kron(Ua(Theta_Opt,np.kron(I,I)))@Rho_t\n",
        "\n",
        "  # Measurement\n",
        "  PI = np.outer(I_three, I_three.T)\n",
        "  PI = np.kron(PI, np.kron(I,I))\n",
        "  Rho_t = PI@Rho_t\n",
        "  Pro.append(np.linalig.norm(Rho_t)**2)\n",
        "  Rho_t = Rho_t/np.lingalg.norm(Rho_t)\n",
        "  Rho_t = Rho_t[:4]\n",
        "\n",
        "  Simu_Trace = np.real(np.vdot(Bell_state, Rho_t))\n",
        "  Simu_Expectation_M = np.real(np.dot(np.dot(Bell_state.conj().T, Hat_M), Rho_t))\n",
        "  Simu_Expectation = np.real(Simu_Expectation_M)/Simu_Trace\n",
        "\n",
        "  First_Rho_t = np.dot(First_operator, First_Rho_t)\n",
        "  First_Rho_t = First_Rho_t/norm(First_Rho_t)\n",
        "\n",
        "  First_Trace = np.real(np.dot(Bell_state.conj().T, First_Rho_t))\n",
        "  First_Exception_M = np.real(np.dot(np.dot(Bell_state.conj().T, Hat_M),First_Rho_t))\n",
        "  First_Exception = First_Exception_M/First_Trace\n",
        "\n",
        "  Exact_Rho_t = np.dot(expm(Hat_H*Delta_t),Exact_Rho_t)\n",
        "  Exact_Trace = np.sqrt(2)*np.real(np.dot(Bell_state.conj().T, Exact_Rho_t))\n",
        "  Exact_Rho_t = Exact_Rho_t/norm(Exact_Rho_t)\n",
        "\n",
        "  Exact_Trace = np.real(np.dot(Bell_state.conj().T, Exact_Rho_t))\n",
        "  Exact_Expectation_M = np.real(np.dot(np.dot(Bell_state.conj().T,Hat_M),Exact_Rho_t))\n",
        "  Exact_EXpectation = Exact_Expectation_M/Exact_Trace\n",
        "\n",
        "  ExactTrace = (np.real(np.dot(Bell_state.conj().T, Exact_Rho_t)) - 1) / 2"
      ],
      "metadata": {
        "id": "mgxiFSzRii6w"
      },
      "execution_count": null,
      "outputs": []
    }
  ]
}