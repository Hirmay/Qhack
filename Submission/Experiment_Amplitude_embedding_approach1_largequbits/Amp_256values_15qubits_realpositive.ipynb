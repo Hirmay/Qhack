{
 "cells": [
  {
   "cell_type": "code",
   "execution_count": 1,
   "id": "9c38a23f-5fe2-4549-b7ee-6d73498e47ae",
   "metadata": {},
   "outputs": [],
   "source": [
    "# !pip install pennylane nftopt"
   ]
  },
  {
   "cell_type": "code",
   "execution_count": 2,
   "id": "84e1bb3d-d2a5-4079-9f5d-05fbb12243ee",
   "metadata": {},
   "outputs": [],
   "source": [
    "import cudaq\n",
    "from cudaq import spin\n",
    "\n",
    "cudaq.set_target(\"nvidia\")"
   ]
  },
  {
   "cell_type": "code",
   "execution_count": 3,
   "id": "8f0e2746-6603-43dc-b3f0-5b0afe97cd14",
   "metadata": {},
   "outputs": [],
   "source": [
    "import pennylane as qml\n",
    "from pennylane import numpy as np\n",
    "from pennylane.optimize import NesterovMomentumOptimizer\n",
    "from scipy import optimize\n",
    "from nftopt import nakanishi_fujii_todo as nftmethod"
   ]
  },
  {
   "cell_type": "code",
   "execution_count": 4,
   "id": "3f3b438e-6ecc-4e5b-8093-9187bd90136a",
   "metadata": {},
   "outputs": [],
   "source": [
    "#defining parameters\n",
    "n_qubits = 15\n",
    "depth = 4"
   ]
  },
  {
   "cell_type": "code",
   "execution_count": 5,
   "id": "efa2883b-a66b-445b-928e-c560de1f4a7b",
   "metadata": {},
   "outputs": [
    {
     "name": "stdout",
     "output_type": "stream",
     "text": [
      "[[0.37119004 0.1961633  0.81616498 ... 0.43475222 0.11775007 0.25598085]]\n"
     ]
    }
   ],
   "source": [
    "import numpy as np\n",
    "total_val = 2**n_qubits\n",
    "arr = np.random.rand(1,total_val)\n",
    "print(arr)"
   ]
  },
  {
   "cell_type": "code",
   "execution_count": 6,
   "id": "806169ae-aca0-4f1a-8b51-43e2ce23c816",
   "metadata": {},
   "outputs": [
    {
     "name": "stdout",
     "output_type": "stream",
     "text": [
      "16355.126946902354\n",
      "[[2.26956378e-05 1.19939942e-05 4.99026995e-05 ... 2.65820147e-05\n",
      "  7.19958180e-06 1.56514131e-05]]\n"
     ]
    }
   ],
   "source": [
    "summer = np.sum(arr)\n",
    "print(summer)\n",
    "normalized_X = arr/summer\n",
    "print(normalized_X)"
   ]
  },
  {
   "cell_type": "code",
   "execution_count": 7,
   "id": "937a53ce-796f-453b-afba-b55f95b37d5d",
   "metadata": {},
   "outputs": [
    {
     "name": "stdout",
     "output_type": "stream",
     "text": [
      "[0.00476399 0.00346323 0.00706418 ... 0.00515577 0.0026832  0.00395619]\n"
     ]
    }
   ],
   "source": [
    "temp = []\n",
    "for i in range(len(normalized_X[0])):\n",
    "  temp.append(np.sqrt(normalized_X[0][i]))\n",
    "x = np.array(temp)\n",
    "print(x)"
   ]
  },
  {
   "cell_type": "code",
   "execution_count": 8,
   "id": "411dc9f5-469f-4348-9ce1-da3bf383de25",
   "metadata": {},
   "outputs": [
    {
     "name": "stdout",
     "output_type": "stream",
     "text": [
      "0.9999999999999929\n"
     ]
    }
   ],
   "source": [
    "sum = 0\n",
    "for i in range(len(x)):\n",
    "  sum += x[i]**2\n",
    "print(sum)"
   ]
  },
  {
   "cell_type": "code",
   "execution_count": 9,
   "id": "88c6e979-a303-4681-9f86-a5014260a81b",
   "metadata": {},
   "outputs": [],
   "source": [
    "qubit_count = n_qubits\n",
    "\n",
    "# Initialize a kernel/ ansatz and variational parameters.\n",
    "kernel, parameters = cudaq.make_kernel(list)\n",
    "\n",
    "# Allocate qubits that are initialised to the |0> state.\n",
    "qubits = kernel.qalloc(qubit_count)\n",
    "\n",
    "\n",
    "for dep in range(depth):\n",
    "    for wire in range(n_qubits):\n",
    "        kernel.ry(parameters[wire+(n_qubits*dep)], qubits[wire])\n",
    "\n",
    "    for i in range(n_qubits-1):\n",
    "        kernel.cz(control=qubits[i], target=qubits[i+1])\n",
    "    \n",
    "    kernel.cz(control=qubits[n_qubits-1], target=qubits[0])\n",
    "\n",
    "# Initial gate parameters which intialize the qubit in the zero state\n",
    "initial_parameters = 4*np.pi*np.random.rand(n_qubits * depth)"
   ]
  },
  {
   "cell_type": "code",
   "execution_count": 10,
   "id": "3340733c-08e3-4d1f-ab98-4e9dfd751872",
   "metadata": {},
   "outputs": [],
   "source": [
    "def accuracy(labels, predictions):\n",
    "  state0 = qml.math.dm_from_state_vector(labels)\n",
    "  state1 = qml.math.dm_from_state_vector(predictions)\n",
    "  return qml.math.fidelity(state0, state1)"
   ]
  },
  {
   "cell_type": "code",
   "execution_count": 11,
   "id": "50af2e95-efc7-4843-8c64-54448f06ed8e",
   "metadata": {},
   "outputs": [],
   "source": [
    "def F1_loss(a,Appro_a):\n",
    "  #   Define the cost function\n",
    "  F1 = 0.\n",
    "  length = 2**n_qubits\n",
    "  for i in range(length):\n",
    "    F1 += (a[i]**2)*np.log2((Appro_a[i]**2)/(a[i]**2))\n",
    "      \n",
    "  #   Prepare the Bell state\n",
    "  states = 2**n_qubits\n",
    "  Bell_State=np.ones((states,1))/np.linalg.norm(np.ones((states,1)))\n",
    "  #   The sum of vector a\n",
    "  Sum_a=np.sum(a)\n",
    "  sqrt_D = np.linalg.norm(np.ones((states,1)))\n",
    "  UaFunction=np.abs(Sum_a -  (sqrt_D * np.matmul(np.transpose(Bell_State), Appro_a)))-(F1)\n",
    "  return np.real(UaFunction)"
   ]
  },
  {
   "cell_type": "code",
   "execution_count": 12,
   "id": "2099198d-fcbd-4748-a663-9fc36e557a30",
   "metadata": {},
   "outputs": [],
   "source": [
    "cost_values = []\n",
    "def cost(parameters):\n",
    "    # X is our preparation state\n",
    "    # Appro_a = variational_classifier(weights, x)\n",
    "    Appro_a = cudaq.get_state(kernel,parameters)\n",
    "    #result.dump()\n",
    "    expectation_value = F1_loss(x, Appro_a)\n",
    "    cost_values.append(expectation_value)\n",
    "    return expectation_value"
   ]
  },
  {
   "cell_type": "code",
   "execution_count": 13,
   "id": "ee707ddd-ceac-40b2-bd44-0622441c9e7e",
   "metadata": {},
   "outputs": [
    {
     "name": "stdout",
     "output_type": "stream",
     "text": [
      "Training time: 1077.2926959991455s\n"
     ]
    }
   ],
   "source": [
    "import time\n",
    "start = time.time()\n",
    "result= optimize.minimize(cost,initial_parameters, method=nftmethod, options={'maxfev':8000})\n",
    "stop = time.time()\n",
    "print(f\"Training time: {stop - start}s\")"
   ]
  },
  {
   "cell_type": "code",
   "execution_count": 14,
   "id": "2fdea510-1405-45c3-857f-7ca0cc6193a3",
   "metadata": {},
   "outputs": [
    {
     "data": {
      "text/plain": [
       "array([ 1.47513004e+01,  1.09940159e+01,  9.42487420e+00,  9.14846096e+00,\n",
       "        9.42855597e+00,  3.76067838e+00,  9.42180277e+00,  3.25857934e+00,\n",
       "        4.73579781e+00, -3.75943405e-04,  8.28034132e+00,  9.42441881e+00,\n",
       "        1.49851568e-02,  6.51698128e+00,  9.42504510e+00,  6.28337390e+00,\n",
       "        1.09955231e+01,  6.28267341e+00,  9.71018789e+00,  1.09922408e+01,\n",
       "        1.32952544e+01,  1.09975439e+01,  3.08233531e+00,  1.10554941e+01,\n",
       "       -2.78603271e-04,  3.13015606e+00,  6.27514364e+00,  4.71958150e+00,\n",
       "        6.47565222e+00,  1.57050898e+00,  1.09954806e+01,  7.85563986e+00,\n",
       "        7.85309618e+00,  1.56959804e+00,  3.14408098e+00,  1.57046228e+00,\n",
       "        6.28137395e+00,  4.71215349e+00,  1.41349996e+01,  4.71294083e+00,\n",
       "       -4.38259557e-01,  7.85407456e+00,  3.13374590e+00,  1.41369941e+01,\n",
       "        1.25661543e+01,  2.18572036e+00,  1.25665718e+01,  1.75197345e-04,\n",
       "        9.42492459e+00,  3.14158366e+00,  7.62893617e+00,  1.25661744e+01,\n",
       "        9.30189416e+00,  1.96086969e-04,  9.42457525e+00,  6.28318949e+00,\n",
       "        6.27709236e+00,  9.42599107e+00,  6.24480477e+00,  3.14090845e+00])"
      ]
     },
     "execution_count": 14,
     "metadata": {},
     "output_type": "execute_result"
    }
   ],
   "source": [
    "result.x"
   ]
  },
  {
   "cell_type": "code",
   "execution_count": 15,
   "id": "b984758d-9d9a-40d7-93ad-46b226fecfbb",
   "metadata": {},
   "outputs": [],
   "source": [
    "np.savetxt('15_qubit_data.out', x, delimiter=',')   # X is an array"
   ]
  },
  {
   "cell_type": "code",
   "execution_count": 16,
   "id": "a897777b-c646-4bd7-a543-9b07cd5b8420",
   "metadata": {},
   "outputs": [
    {
     "name": "stdout",
     "output_type": "stream",
     "text": [
      "[0.00476399 0.00346323 0.00706418 ... 0.00515577 0.0026832  0.00395619]\n"
     ]
    }
   ],
   "source": [
    "value = np.loadtxt('15_qubit_data.out')\n",
    "print(value)"
   ]
  },
  {
   "cell_type": "code",
   "execution_count": 17,
   "id": "35625da8-da82-43ad-b8c8-262675759941",
   "metadata": {},
   "outputs": [],
   "source": [
    "np.savetxt('15_qubit_weights.out', result.x, delimiter=',')   # weights is an array"
   ]
  },
  {
   "cell_type": "code",
   "execution_count": 18,
   "id": "e2a8f99a-f441-42e5-bcb2-8a6cc5f75384",
   "metadata": {},
   "outputs": [
    {
     "name": "stdout",
     "output_type": "stream",
     "text": [
      "[ 1.47513004e+01  1.09940159e+01  9.42487420e+00  9.14846096e+00\n",
      "  9.42855597e+00  3.76067838e+00  9.42180277e+00  3.25857934e+00\n",
      "  4.73579781e+00 -3.75943405e-04  8.28034132e+00  9.42441881e+00\n",
      "  1.49851568e-02  6.51698128e+00  9.42504510e+00  6.28337390e+00\n",
      "  1.09955231e+01  6.28267341e+00  9.71018789e+00  1.09922408e+01\n",
      "  1.32952544e+01  1.09975439e+01  3.08233531e+00  1.10554941e+01\n",
      " -2.78603271e-04  3.13015606e+00  6.27514364e+00  4.71958150e+00\n",
      "  6.47565222e+00  1.57050898e+00  1.09954806e+01  7.85563986e+00\n",
      "  7.85309618e+00  1.56959804e+00  3.14408098e+00  1.57046228e+00\n",
      "  6.28137395e+00  4.71215349e+00  1.41349996e+01  4.71294083e+00\n",
      " -4.38259557e-01  7.85407456e+00  3.13374590e+00  1.41369941e+01\n",
      "  1.25661543e+01  2.18572036e+00  1.25665718e+01  1.75197345e-04\n",
      "  9.42492459e+00  3.14158366e+00  7.62893617e+00  1.25661744e+01\n",
      "  9.30189416e+00  1.96086969e-04  9.42457525e+00  6.28318949e+00\n",
      "  6.27709236e+00  9.42599107e+00  6.24480477e+00  3.14090845e+00]\n"
     ]
    }
   ],
   "source": [
    "weights = np.loadtxt('15_qubit_weights.out')\n",
    "print(weights)"
   ]
  },
  {
   "cell_type": "code",
   "execution_count": 19,
   "id": "e85b9f28-5637-4788-9154-280328d34821",
   "metadata": {},
   "outputs": [],
   "source": [
    "# Fails because of large density matrix comutation for estimating fidelity\n",
    "# # predictions=variational_classifier(result.x,x)\n",
    "# predictions = np.array(cudaq.get_state(kernel,weights))\n",
    "# predictions_arr = []\n",
    "# for i in range(len(predictions)):\n",
    "#     predictions_arr.append(predictions[i].numpy())\n",
    "# acc = accuracy(value, predictions_arr)\n",
    "# # print(predictions.numpy(), x.numpy())\n",
    "# # print(acc)"
   ]
  },
  {
   "cell_type": "code",
   "execution_count": 20,
   "id": "cb53c6f3-e1d6-4d8c-a6b3-1d3a28fd8f42",
   "metadata": {},
   "outputs": [],
   "source": [
    "plotting_values = []\n",
    "for i in range(len(cost_values)):\n",
    "    val = cost_values[i].tolist()\n",
    "    plotting_values.append(val)"
   ]
  },
  {
   "cell_type": "code",
   "execution_count": 21,
   "id": "c7acb813-ef27-4285-aaf9-3507b34cbfa7",
   "metadata": {},
   "outputs": [
    {
     "data": {
      "text/plain": [
       "Text(0, 0.5, 'Cost Value')"
      ]
     },
     "execution_count": 21,
     "metadata": {},
     "output_type": "execute_result"
    },
    {
     "data": {
      "image/png": "[encoded data removed]",
      "text/plain": [
       "<Figure size 640x480 with 1 Axes>"
      ]
     },
     "metadata": {},
     "output_type": "display_data"
    }
   ],
   "source": [
    "# Plotting how the value of the cost function decreases during the minimization procedure.\n",
    "import matplotlib.pyplot as plt\n",
    "\n",
    "x_values = list(range(len(plotting_values)))\n",
    "y_values = plotting_values\n",
    "\n",
    "plt.plot(x_values, y_values)\n",
    "\n",
    "plt.xlabel(\"Epochs\")\n",
    "plt.ylabel(\"Cost Value\")"
   ]
  },
  {
   "cell_type": "code",
   "execution_count": 22,
   "id": "421bb01f-eb53-4b73-9b86-9ec1ccc750d6",
   "metadata": {},
   "outputs": [
    {
     "data": {
      "text/plain": [
       " success: True\n",
       "     fun: [ 1.047e+01]\n",
       "       x: [ 1.475e+01  1.099e+01 ...  6.245e+00  3.141e+00]\n",
       "     nit: 4922\n",
       "    nfev: 10000"
      ]
     },
     "execution_count": 22,
     "metadata": {},
     "output_type": "execute_result"
    }
   ],
   "source": [
    "result"
   ]
  }
 ],
 "metadata": {
  "kernelspec": {
   "display_name": "Python 3 (ipykernel)",
   "language": "python",
   "name": "python3"
  },
  "language_info": {
   "codemirror_mode": {
    "name": "ipython",
    "version": 3
   },
   "file_extension": ".py",
   "mimetype": "text/x-python",
   "name": "python",
   "nbconvert_exporter": "python",
   "pygments_lexer": "ipython3",
   "version": "3.10.12"
  }
 },
 "nbformat": 4,
 "nbformat_minor": 5
}
