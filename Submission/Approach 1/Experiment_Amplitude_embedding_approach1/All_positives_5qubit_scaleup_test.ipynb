{
 "cells": [
  {
   "cell_type": "markdown",
   "id": "e636f617-3fad-48c0-926b-79eec11441fe",
   "metadata": {},
   "source": [
    "Testing the implementaion of All positive values using 5 Qubits - 32 data points"
   ]
  },
  {
   "cell_type": "markdown",
   "id": "9be78276-ba16-4997-acc8-327e8936f0e3",
   "metadata": {},
   "source": [
    "The experimental code for developing Amplitude embedded circuits using Variational Quantum State Preparation (VQSP). The VQSP algorithm uses PQC to create training circuits which learns the parameters to create the corresponding amplitude embedded states."
   ]
  },
  {
   "cell_type": "code",
   "execution_count": 1,
   "id": "ae60a68f-eb91-48fa-acdd-f182c9973c22",
   "metadata": {},
   "outputs": [],
   "source": [
    "# !pip install pennylane nftopt"
   ]
  },
  {
   "cell_type": "markdown",
   "id": "f619c0e1-7048-46bf-9220-4060ed674c17",
   "metadata": {},
   "source": [
    "We specify the number of qubits needed to map the data, for n qubits we can amplitude embedded 2^n data. The depth represents the ansatz repitition depth."
   ]
  },
  {
   "cell_type": "code",
   "execution_count": 2,
   "id": "36a2c84f-0092-4fd2-a84c-daeff317dd48",
   "metadata": {},
   "outputs": [],
   "source": [
    "#defining parameters\n",
    "n_qubits = 5\n",
    "depth = 4"
   ]
  },
  {
   "cell_type": "markdown",
   "id": "eede4510-e2e8-45fa-8329-b1502dda7cb8",
   "metadata": {},
   "source": [
    "Generating Random data points to be amplitude embedded."
   ]
  },
  {
   "cell_type": "code",
   "execution_count": 3,
   "id": "17ce9c2b-8ac0-4304-9f87-3532839a6713",
   "metadata": {},
   "outputs": [
    {
     "name": "stdout",
     "output_type": "stream",
     "text": [
      "[[0.66306011 0.44009259 0.91638308 0.69002991 0.80180474 0.49293135\n",
      "  0.56532402 0.7268446  0.53866599 0.24343673 0.04601713 0.24728381\n",
      "  0.36337984 0.71678465 0.44558523 0.32236305 0.08158918 0.52304389\n",
      "  0.33430481 0.77262271 0.70770279 0.16435848 0.4648046  0.5083319\n",
      "  0.62220249 0.05545318 0.40487978 0.06893375 0.13846934 0.90147677\n",
      "  0.56004729 0.91420991]]\n"
     ]
    }
   ],
   "source": [
    "import numpy as np\n",
    "total_val = 2**n_qubits\n",
    "arr = np.random.rand(1,total_val)\n",
    "print(arr)"
   ]
  },
  {
   "cell_type": "markdown",
   "id": "740e6454-d26d-4ec0-90ef-f4ada2df2be4",
   "metadata": {},
   "source": [
    "Normalizing the points by dividing by their sum"
   ]
  },
  {
   "cell_type": "code",
   "execution_count": 4,
   "id": "91cd54f9-5a06-42b0-9724-dd2ff8cd7b96",
   "metadata": {},
   "outputs": [
    {
     "name": "stdout",
     "output_type": "stream",
     "text": [
      "15.442417727616997\n",
      "[[0.04293758 0.02849894 0.05934194 0.04468406 0.05192223 0.03192061\n",
      "  0.03660852 0.04706806 0.03488223 0.01576416 0.00297992 0.01601328\n",
      "  0.02353128 0.04641661 0.02885463 0.02087517 0.00528345 0.0338706\n",
      "  0.02164848 0.0500325  0.0458285  0.01064331 0.03009921 0.0329179\n",
      "  0.04029178 0.00359096 0.02621868 0.00446392 0.00896682 0.05837666\n",
      "  0.03626681 0.05920122]]\n"
     ]
    }
   ],
   "source": [
    "summer = np.sum(arr)\n",
    "print(summer)\n",
    "normalized_X = arr/summer\n",
    "print(normalized_X)"
   ]
  },
  {
   "cell_type": "code",
   "execution_count": 5,
   "id": "2a7c1c73-0907-4ee9-b995-ab8d33fea9ef",
   "metadata": {},
   "outputs": [],
   "source": [
    "import pennylane as qml\n",
    "from pennylane import numpy as np\n",
    "from pennylane.optimize import NesterovMomentumOptimizer\n",
    "from scipy import optimize\n",
    "from nftopt import nakanishi_fujii_todo as nftmethod"
   ]
  },
  {
   "cell_type": "markdown",
   "id": "00272b92-afad-423e-b45f-35353c92c4a9",
   "metadata": {},
   "source": [
    "Lightning.GPU device has been used to work on NVIDIA GPU powerups"
   ]
  },
  {
   "cell_type": "code",
   "execution_count": 6,
   "id": "8dd1f0e1-7dc0-40b1-b780-303853264e98",
   "metadata": {},
   "outputs": [
    {
     "data": {
      "text/plain": [
       "<LightningGPU device (wires=5, shots=None) at 0x7f9359ec3fa0>"
      ]
     },
     "execution_count": 6,
     "metadata": {},
     "output_type": "execute_result"
    }
   ],
   "source": [
    "dev = qml.device('lightning.gpu',wires=n_qubits)\n",
    "dev"
   ]
  },
  {
   "cell_type": "markdown",
   "id": "1d56b886-e22f-4336-b0d5-360ef823a74f",
   "metadata": {},
   "source": [
    "A single Ansatz layer used for training contains set of trainiable RY gates for all the qubits followed by cyclic CZ arrangement."
   ]
  },
  {
   "cell_type": "code",
   "execution_count": 7,
   "id": "c2ffba23-faec-4557-b143-52c21b2d75f0",
   "metadata": {},
   "outputs": [],
   "source": [
    "def ansatz_layer(layer_weights, depth, n_qubits):\n",
    "    for dep in range(depth):\n",
    "        for wire in range(n_qubits):\n",
    "            qml.RY(layer_weights[wire+(n_qubits*dep)], wires=wire)\n",
    "\n",
    "        for i in range(n_qubits-1):\n",
    "            qml.CZ(wires=[i,i+1])\n",
    "        qml.CZ(wires=[n_qubits-1,0])"
   ]
  },
  {
   "cell_type": "markdown",
   "id": "9c245bd5-3e9d-4f38-bd38-d45dbe8788fa",
   "metadata": {},
   "source": [
    "We use the Fidelity as the accuracy metric in this case. The Fidelity estimate provides the similarity between the generated state and the required amplitude embedding. It returs 1 if there are similar."
   ]
  },
  {
   "cell_type": "code",
   "execution_count": 8,
   "id": "7e480cd0-73f5-4222-843e-0905eee5b8c5",
   "metadata": {},
   "outputs": [],
   "source": [
    "def accuracy(labels, predictions):\n",
    "  state0 = qml.math.dm_from_state_vector(labels)\n",
    "  state1 = qml.math.dm_from_state_vector(predictions)\n",
    "  return qml.math.fidelity(state0, state1)"
   ]
  },
  {
   "cell_type": "code",
   "execution_count": 9,
   "id": "f6d051b0-8776-4c2d-a185-6942ece52e2f",
   "metadata": {},
   "outputs": [],
   "source": [
    "@qml.qnode(dev)\n",
    "def circuit(weights):\n",
    "  # since depth 4 was used\n",
    "  ansatz_layer(weights,depth=depth, n_qubits=n_qubits)\n",
    "  # qml.state() applies Ua to Ini State, which gives Appro_a\n",
    "  return qml.state()"
   ]
  },
  {
   "cell_type": "code",
   "execution_count": 10,
   "id": "e050d3ed-6542-4c7c-bd5a-0742604cccc0",
   "metadata": {},
   "outputs": [],
   "source": [
    "def variational_classifier(weights, x):\n",
    "    # weights are thetas\n",
    "    return np.real(circuit(weights))"
   ]
  },
  {
   "cell_type": "markdown",
   "id": "f983cef5-35e8-4c9b-8e5d-552601831b60",
   "metadata": {},
   "source": [
    "We convert the data into a state representation by dividing them with their squre root of sum so as to obtain the probability value of the state vector as 1."
   ]
  },
  {
   "cell_type": "code",
   "execution_count": 11,
   "id": "d930b9ce-e2c4-49f4-acd4-92800b979837",
   "metadata": {},
   "outputs": [
    {
     "name": "stdout",
     "output_type": "stream",
     "text": [
      "[0.20721386 0.1688163  0.24360202 0.21138604 0.2278645  0.17866339\n",
      " 0.19133352 0.21695174 0.18676785 0.1255554  0.05458862 0.1265436\n",
      " 0.15339908 0.21544514 0.1698665  0.14448241 0.07268732 0.18403966\n",
      " 0.14713421 0.22367945 0.21407591 0.10316643 0.17349124 0.1814329\n",
      " 0.20072812 0.05992466 0.16192183 0.06681259 0.09469328 0.24161262\n",
      " 0.19043848 0.243313  ]\n"
     ]
    }
   ],
   "source": [
    "temp = []\n",
    "for i in range(len(normalized_X[0])):\n",
    "  temp.append(np.sqrt(normalized_X[0][i]))\n",
    "x = np.array(temp)\n",
    "print(x)"
   ]
  },
  {
   "cell_type": "markdown",
   "id": "6c45db11-f904-4121-a740-9529dc9128ec",
   "metadata": {},
   "source": [
    "This calculates the total probability value of the state and it's 1."
   ]
  },
  {
   "cell_type": "code",
   "execution_count": 12,
   "id": "f83f6841-53de-4146-8e2e-44c424485725",
   "metadata": {},
   "outputs": [
    {
     "name": "stdout",
     "output_type": "stream",
     "text": [
      "1.0000000000000002\n"
     ]
    }
   ],
   "source": [
    "sum = 0\n",
    "for i in range(len(x)):\n",
    "  sum += x[i]**2\n",
    "print(sum)"
   ]
  },
  {
   "cell_type": "markdown",
   "id": "c7aff560-098c-48d4-9851-fbb3b6328f49",
   "metadata": {},
   "source": [
    "The Cost function for Approach 1 from the paper <a>https://arxiv.org/pdf/2302.13299.pdf</a>. This cost function can only be used for All positive or All negative data values."
   ]
  },
  {
   "cell_type": "code",
   "execution_count": 13,
   "id": "5b04fdb9-ca2c-4a3e-aeeb-c528b6081462",
   "metadata": {},
   "outputs": [],
   "source": [
    "def F1_loss(a,Appro_a):\n",
    "  #   Define the cost function\n",
    "  F1 = 0.\n",
    "  length = 2**n_qubits\n",
    "  for i in range(length):\n",
    "    F1 += (a[i]**2)*np.log2((Appro_a[i]**2)/(a[i]**2))\n",
    "      \n",
    "  #   Prepare the Bell state\n",
    "  states = 2**n_qubits\n",
    "  Bell_State=np.ones((states,1))/np.linalg.norm(np.ones((states,1)))\n",
    "  #   The sum of vector a\n",
    "  Sum_a=np.sum(a)\n",
    "  sqrt_D = np.linalg.norm(np.ones((states,1)))\n",
    "  UaFunction=np.abs(Sum_a -  (sqrt_D * np.matmul(np.transpose(Bell_State), Appro_a)))-(F1)\n",
    "  return np.real(UaFunction)"
   ]
  },
  {
   "cell_type": "code",
   "execution_count": 14,
   "id": "1ea848fa-5aa0-4335-ab1d-155db9214174",
   "metadata": {},
   "outputs": [],
   "source": [
    "cost_values = []\n",
    "def cost(weights, X=x):\n",
    "    # X is our preparation state\n",
    "    Appro_a = variational_classifier(weights, X)\n",
    "    expectation_value = F1_loss(X, Appro_a)\n",
    "    cost_values.append(expectation_value)\n",
    "    return expectation_value"
   ]
  },
  {
   "cell_type": "markdown",
   "id": "a47a3403-c8ab-4f48-b4db-5a09a5ab84a2",
   "metadata": {},
   "source": [
    "We perform the minimization using the Nakanishi-Fujii-Todo algorithm. "
   ]
  },
  {
   "cell_type": "code",
   "execution_count": 15,
   "id": "5fc9f1f4-6319-474c-8f7e-0b3d37879c0b",
   "metadata": {},
   "outputs": [
    {
     "name": "stdout",
     "output_type": "stream",
     "text": [
      "Training time: 19.001507997512817s\n"
     ]
    }
   ],
   "source": [
    "import time\n",
    "weights = 4*np.pi*np.random.rand(n_qubits * depth)\n",
    "start = time.time()\n",
    "result= optimize.minimize(cost,weights, method=nftmethod, options={'maxfev':2000})\n",
    "stop = time.time()\n",
    "print(f\"Training time: {stop - start}s\")"
   ]
  },
  {
   "cell_type": "markdown",
   "id": "fd905b1a-059f-45c8-83a6-04114279600f",
   "metadata": {},
   "source": [
    "The final sets of weights after performin optimization. These can be used to the generate the requried amplitude embedded state."
   ]
  },
  {
   "cell_type": "code",
   "execution_count": 16,
   "id": "6eb70b76-4a6f-48b7-a025-01c9b0c8d86d",
   "metadata": {},
   "outputs": [
    {
     "data": {
      "text/plain": [
       "array([9.76133301e+00, 5.96665402e+00, 9.10565907e+00, 6.19606796e+00,\n",
       "       1.03210263e+00, 3.14291352e+00, 1.74464201e-03, 4.83484940e+00,\n",
       "       8.92469477e+00, 2.60136170e+00, 1.72608261e+00, 1.11360908e+01,\n",
       "       6.27715412e+00, 7.76898989e+00, 3.18421336e+00, 6.28469290e+00,\n",
       "       1.15248411e-01, 9.52154743e+00, 5.78442087e+00, 6.27334843e+00])"
      ]
     },
     "execution_count": 16,
     "metadata": {},
     "output_type": "execute_result"
    }
   ],
   "source": [
    "result.x"
   ]
  },
  {
   "cell_type": "markdown",
   "id": "213f0f4e-c26f-4bfb-91b0-3fb3ec188428",
   "metadata": {},
   "source": [
    "We compite the fidelity of the generated states using VQSP and the original amplitude embedding needed."
   ]
  },
  {
   "cell_type": "code",
   "execution_count": 17,
   "id": "d47ecf5f-7828-44a8-9417-be207174e056",
   "metadata": {},
   "outputs": [
    {
     "name": "stdout",
     "output_type": "stream",
     "text": [
      "0.9316817094678765\n"
     ]
    }
   ],
   "source": [
    "predictions=variational_classifier(result.x,x)\n",
    "acc = accuracy(x, predictions)\n",
    "# print(predictions.numpy(), x.numpy())\n",
    "print(acc)"
   ]
  },
  {
   "cell_type": "code",
   "execution_count": 18,
   "id": "3dea4ec4-8eed-4370-9db1-8b5aa9484f6d",
   "metadata": {},
   "outputs": [],
   "source": [
    "plotting_values = []\n",
    "for i in range(len(cost_values)):\n",
    "    val = cost_values[i].numpy()\n",
    "    plotting_values.append(val)"
   ]
  },
  {
   "cell_type": "code",
   "execution_count": 19,
   "id": "a065d903-9aac-480a-b230-88a19bf0375f",
   "metadata": {},
   "outputs": [
    {
     "data": {
      "text/plain": [
       "Text(0, 0.5, 'Cost Value')"
      ]
     },
     "execution_count": 19,
     "metadata": {},
     "output_type": "execute_result"
    },
    {
     "data": {
      "image/png": "[encoded data removed]",
      "text/plain": [
       "<Figure size 640x480 with 1 Axes>"
      ]
     },
     "metadata": {},
     "output_type": "display_data"
    }
   ],
   "source": [
    "# Plotting how the value of the cost function decreases during the minimization procedure.\n",
    "import matplotlib.pyplot as plt\n",
    "\n",
    "x_values = list(range(len(plotting_values)))\n",
    "y_values = plotting_values\n",
    "\n",
    "plt.plot(x_values, y_values)\n",
    "\n",
    "plt.xlabel(\"Epochs\")\n",
    "plt.ylabel(\"Cost Value\")"
   ]
  },
  {
   "cell_type": "code",
   "execution_count": 20,
   "id": "f861dd2e-d62e-4919-b0ee-73cf0053a649",
   "metadata": {},
   "outputs": [
    {
     "data": {
      "text/plain": [
       "{'resources': Resources(num_wires=5, num_gates=40, gate_types=defaultdict(<class 'int'>, {'RY': 20, 'CZ': 20}), gate_sizes=defaultdict(<class 'int'>, {1: 20, 2: 20}), depth=24, shots=Shots(total_shots=None, shot_vector=())),\n",
       " 'num_observables': 1,\n",
       " 'num_diagonalizing_gates': 0,\n",
       " 'num_trainable_params': 0,\n",
       " 'num_device_wires': 5,\n",
       " 'device_name': 'lightning.gpu',\n",
       " 'expansion_strategy': 'gradient',\n",
       " 'gradient_options': {},\n",
       " 'interface': 'auto',\n",
       " 'diff_method': 'best',\n",
       " 'gradient_fn': 'pennylane.gradients.parameter_shift.param_shift',\n",
       " 'num_gradient_executions': 'NotSupported: Computing the gradient of circuits that return the state with the parameter-shift rule gradient transform is not supported, as it is a hardware-compatible method.'}"
      ]
     },
     "execution_count": 20,
     "metadata": {},
     "output_type": "execute_result"
    }
   ],
   "source": [
    "specs_func = qml.specs(circuit)\n",
    "specs_func(result.x)"
   ]
  },
  {
   "cell_type": "code",
   "execution_count": 21,
   "id": "d1fb138e-9ff0-488b-b56a-514c6ea511b7",
   "metadata": {},
   "outputs": [],
   "source": [
    "np.savetxt('5_qubit_data.out', x, delimiter=',')   # X is an array"
   ]
  },
  {
   "cell_type": "code",
   "execution_count": 22,
   "id": "24f4cd4f-9af7-444d-ac3a-c62a6f7e610c",
   "metadata": {},
   "outputs": [
    {
     "name": "stdout",
     "output_type": "stream",
     "text": [
      "[0.20721386 0.1688163  0.24360202 0.21138604 0.2278645  0.17866339\n",
      " 0.19133352 0.21695174 0.18676785 0.1255554  0.05458862 0.1265436\n",
      " 0.15339908 0.21544514 0.1698665  0.14448241 0.07268732 0.18403966\n",
      " 0.14713421 0.22367945 0.21407591 0.10316643 0.17349124 0.1814329\n",
      " 0.20072812 0.05992466 0.16192183 0.06681259 0.09469328 0.24161262\n",
      " 0.19043848 0.243313  ]\n"
     ]
    }
   ],
   "source": [
    "value = np.loadtxt('5_qubit_data.out')\n",
    "print(value)"
   ]
  },
  {
   "cell_type": "code",
   "execution_count": 23,
   "id": "a9e49a83-a549-4365-8a70-e49d0cf1976c",
   "metadata": {},
   "outputs": [],
   "source": [
    "np.savetxt('5_qubit_weights.out', result.x, delimiter=',')   # weights is an array"
   ]
  }
 ],
 "metadata": {
  "kernelspec": {
   "display_name": "Python 3 (ipykernel)",
   "language": "python",
   "name": "python3"
  },
  "language_info": {
   "codemirror_mode": {
    "name": "ipython",
    "version": 3
   },
   "file_extension": ".py",
   "mimetype": "text/x-python",
   "name": "python",
   "nbconvert_exporter": "python",
   "pygments_lexer": "ipython3",
   "version": "3.10.12"
  }
 },
 "nbformat": 4,
 "nbformat_minor": 5
}
