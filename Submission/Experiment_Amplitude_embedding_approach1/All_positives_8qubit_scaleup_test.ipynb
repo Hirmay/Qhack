{
 "cells": [
  {
   "cell_type": "markdown",
   "id": "e636f617-3fad-48c0-926b-79eec11441fe",
   "metadata": {},
   "source": [
    "Testing the implementaion of All positive values using 8 Qubits - 256 data points"
   ]
  },
  {
   "cell_type": "markdown",
   "id": "9be78276-ba16-4997-acc8-327e8936f0e3",
   "metadata": {},
   "source": [
    "The experimental code for developing Amplitude embedded circuits using Variational Quantum State Preparation (VQSP). The VQSP algorithm uses PQC to create training circuits which learns the parameters to create the corresponding amplitude embedded states."
   ]
  },
  {
   "cell_type": "code",
   "execution_count": 1,
   "id": "ae60a68f-eb91-48fa-acdd-f182c9973c22",
   "metadata": {},
   "outputs": [],
   "source": [
    "# !pip install pennylane nftopt"
   ]
  },
  {
   "cell_type": "markdown",
   "id": "f619c0e1-7048-46bf-9220-4060ed674c17",
   "metadata": {},
   "source": [
    "We specify the number of qubits needed to map the data, for n qubits we can amplitude embedded 2^n data. The depth represents the ansatz repitition depth."
   ]
  },
  {
   "cell_type": "code",
   "execution_count": 2,
   "id": "36a2c84f-0092-4fd2-a84c-daeff317dd48",
   "metadata": {},
   "outputs": [],
   "source": [
    "#defining parameters\n",
    "n_qubits = 8\n",
    "depth = 4"
   ]
  },
  {
   "cell_type": "markdown",
   "id": "eede4510-e2e8-45fa-8329-b1502dda7cb8",
   "metadata": {},
   "source": [
    "Generating Random data points to be amplitude embedded."
   ]
  },
  {
   "cell_type": "code",
   "execution_count": 3,
   "id": "17ce9c2b-8ac0-4304-9f87-3532839a6713",
   "metadata": {},
   "outputs": [
    {
     "name": "stdout",
     "output_type": "stream",
     "text": [
      "[[0.89893581 0.30455625 0.29828991 0.77591027 0.58227738 0.316801\n",
      "  0.66379097 0.56123406 0.01919165 0.12371126 0.02760005 0.1845545\n",
      "  0.22957078 0.57976093 0.16090967 0.97639254 0.28124997 0.21554177\n",
      "  0.54879186 0.4814916  0.51767514 0.77883251 0.14678886 0.09816508\n",
      "  0.71237368 0.70417614 0.21917175 0.84134816 0.18268604 0.95943005\n",
      "  0.76554558 0.75009793 0.963988   0.65487266 0.62265334 0.72289953\n",
      "  0.87543877 0.05656856 0.65347461 0.35449055 0.99025138 0.46723699\n",
      "  0.31335864 0.67360356 0.74937834 0.61001519 0.56550968 0.50370225\n",
      "  0.42486722 0.21527175 0.12112256 0.35321477 0.84287889 0.99872788\n",
      "  0.35389893 0.76597024 0.82389856 0.9713845  0.41255908 0.92807501\n",
      "  0.00129415 0.93740125 0.99242453 0.92708495 0.40143776 0.51997864\n",
      "  0.20110867 0.78169462 0.11103252 0.43376133 0.11409973 0.22442608\n",
      "  0.96915885 0.69625805 0.34173751 0.20647425 0.00377326 0.26923283\n",
      "  0.00523966 0.9628135  0.57581999 0.86160263 0.74335243 0.40921694\n",
      "  0.23374726 0.54669304 0.38057807 0.44251837 0.61346661 0.78087179\n",
      "  0.21175038 0.40840713 0.44035177 0.37648539 0.01310948 0.44207614\n",
      "  0.87567564 0.757038   0.95851836 0.66585714 0.95269574 0.78002097\n",
      "  0.11037646 0.63349667 0.52567844 0.60735635 0.28255549 0.64122749\n",
      "  0.40186696 0.3025342  0.00849843 0.7438489  0.02158707 0.26071273\n",
      "  0.70097982 0.19211566 0.85624675 0.62570617 0.73858859 0.79211215\n",
      "  0.38551355 0.83547837 0.61195199 0.11046915 0.44046915 0.00406514\n",
      "  0.12724226 0.69696242 0.55219864 0.1333793  0.68126184 0.02006215\n",
      "  0.96805665 0.78303264 0.56107121 0.54757254 0.15173384 0.02589139\n",
      "  0.19908408 0.56922508 0.81609806 0.54518205 0.13753929 0.62580778\n",
      "  0.96461016 0.26876473 0.10718477 0.51202625 0.99222883 0.62041229\n",
      "  0.99725151 0.06390896 0.51309808 0.80575279 0.80102681 0.97767558\n",
      "  0.14075416 0.05127196 0.33548972 0.1896711  0.16233563 0.40845275\n",
      "  0.94852496 0.78755378 0.60410679 0.52843411 0.61373123 0.30797178\n",
      "  0.84042083 0.61452244 0.16486038 0.391819   0.15166212 0.83461769\n",
      "  0.60238563 0.81677564 0.49921814 0.72201763 0.50834988 0.39669317\n",
      "  0.35765487 0.49157411 0.52995469 0.18130452 0.08497107 0.50591572\n",
      "  0.34590088 0.68455917 0.60868714 0.46740958 0.94802647 0.53645852\n",
      "  0.5071082  0.70022407 0.86897596 0.22622437 0.04891871 0.60479246\n",
      "  0.76533985 0.96043694 0.39711129 0.60651044 0.57593505 0.51510173\n",
      "  0.6150553  0.87813969 0.3483433  0.35578292 0.36507483 0.35855159\n",
      "  0.55372941 0.7400619  0.23730758 0.46301377 0.3471423  0.0327848\n",
      "  0.02672637 0.6605796  0.74696213 0.81006134 0.41636213 0.6683571\n",
      "  0.55414748 0.61552912 0.80495478 0.90243178 0.96605253 0.13802116\n",
      "  0.18486856 0.3303335  0.6749459  0.48283261 0.24182069 0.44720967\n",
      "  0.8589668  0.62097496 0.28971426 0.35701247 0.20838453 0.79449778\n",
      "  0.03644983 0.9422384  0.36845196 0.98762403 0.75546445 0.52537908\n",
      "  0.26438428 0.88533249 0.13058665 0.52255349 0.08531373 0.82623156\n",
      "  0.94311368 0.21149238 0.53350335 0.64814743]]\n"
     ]
    }
   ],
   "source": [
    "import numpy as np\n",
    "total_val = 2**n_qubits\n",
    "arr = np.random.rand(1,total_val)\n",
    "print(arr)"
   ]
  },
  {
   "cell_type": "markdown",
   "id": "740e6454-d26d-4ec0-90ef-f4ada2df2be4",
   "metadata": {},
   "source": [
    "Normalizing the points by dividing by their sum"
   ]
  },
  {
   "cell_type": "code",
   "execution_count": 4,
   "id": "91cd54f9-5a06-42b0-9724-dd2ff8cd7b96",
   "metadata": {},
   "outputs": [
    {
     "name": "stdout",
     "output_type": "stream",
     "text": [
      "130.9689653743472\n",
      "[[6.86373146e-03 2.32540777e-03 2.27756176e-03 5.92438265e-03\n",
      "  4.44591877e-03 2.41890128e-03 5.06830735e-03 4.28524463e-03\n",
      "  1.46535888e-04 9.44584528e-04 2.10737352e-04 1.40914679e-03\n",
      "  1.75286397e-03 4.42670467e-03 1.22860917e-03 7.45514437e-03\n",
      "  2.14745509e-03 1.64574691e-03 4.19024351e-03 3.67637932e-03\n",
      "  3.95265503e-03 5.94669516e-03 1.12079115e-03 7.49529290e-04\n",
      "  5.43925564e-03 5.37666412e-03 1.67346328e-03 6.42402695e-03\n",
      "  1.39488038e-03 7.32562897e-03 5.84524416e-03 5.72729525e-03\n",
      "  7.36043078e-03 5.00021248e-03 4.75420521e-03 5.51962465e-03\n",
      "  6.68432227e-03 4.31923389e-04 4.98953787e-03 2.70667599e-03\n",
      "  7.56096210e-03 3.56753978e-03 2.39261750e-03 5.14323039e-03\n",
      "  5.72180089e-03 4.65770793e-03 4.31789075e-03 3.84596645e-03\n",
      "  3.24402977e-03 1.64368523e-03 9.24818789e-04 2.69693490e-03\n",
      "  6.43571467e-03 7.62568348e-03 2.70215869e-03 5.84848662e-03\n",
      "  6.29079230e-03 7.41690596e-03 3.15005223e-03 7.08622084e-03\n",
      "  9.88135704e-06 7.15743037e-03 7.57755491e-03 7.07866130e-03\n",
      "  3.06513652e-03 3.97024316e-03 1.53554445e-03 5.96854852e-03\n",
      "  8.47777347e-04 3.31193984e-03 8.71196666e-04 1.71358216e-03\n",
      "  7.39991227e-03 5.31620637e-03 2.60930145e-03 1.57651282e-03\n",
      "  2.88103657e-05 2.05569948e-03 4.00068935e-05 7.35146301e-03\n",
      "  4.39661399e-03 6.57867781e-03 5.67579065e-03 3.12453367e-03\n",
      "  1.78475302e-03 4.17421821e-03 2.90586451e-03 3.37880325e-03\n",
      "  4.68406086e-03 5.96226587e-03 1.61679814e-03 3.11835042e-03\n",
      "  3.36226046e-03 2.87461528e-03 1.00096071e-04 3.37542668e-03\n",
      "  6.68613086e-03 5.78028538e-03 7.31866788e-03 5.08408335e-03\n",
      "  7.27420983e-03 5.95576951e-03 8.42768084e-04 4.83699839e-03\n",
      "  4.01376340e-03 4.63740665e-03 2.15742325e-03 4.89602625e-03\n",
      "  3.06841364e-03 2.30996859e-03 6.48888549e-05 5.67958144e-03\n",
      "  1.64825827e-04 1.99064511e-03 5.35225897e-03 1.46687924e-03\n",
      "  6.53778360e-03 4.77751481e-03 5.63941686e-03 6.04809043e-03\n",
      "  2.94354887e-03 6.37920872e-03 4.67249615e-03 8.43475760e-04\n",
      "  3.36315666e-03 3.10389626e-05 9.71545140e-04 5.32158451e-03\n",
      "  4.21625563e-03 1.01840389e-03 5.20170435e-03 1.53182476e-04\n",
      "  7.39149650e-03 5.97876481e-03 4.28400121e-03 4.18093355e-03\n",
      "  1.15854806e-03 1.97690995e-04 1.52008594e-03 4.34625929e-03\n",
      "  6.23123240e-03 4.16268121e-03 1.05016705e-03 4.77829061e-03\n",
      "  7.36518116e-03 2.05212530e-03 8.18398201e-04 3.90952354e-03\n",
      "  7.57606065e-03 4.73709389e-03 7.61441086e-03 4.87970268e-04\n",
      "  3.91770737e-03 6.15224214e-03 6.11615743e-03 7.46494082e-03\n",
      "  1.07471381e-03 3.91481721e-04 2.56159709e-03 1.44821411e-03\n",
      "  1.23949691e-03 3.11869878e-03 7.24236428e-03 6.01328546e-03\n",
      "  4.61259498e-03 4.03480406e-03 4.68608141e-03 2.35148668e-03\n",
      "  6.41694636e-03 4.69212255e-03 1.25877440e-03 2.99169345e-03\n",
      "  1.15800047e-03 6.37263709e-03 4.59945320e-03 6.23640597e-03\n",
      "  3.81172850e-03 5.51289099e-03 3.88145295e-03 3.02890969e-03\n",
      "  2.73083677e-03 3.75336328e-03 4.04641430e-03 1.38433194e-03\n",
      "  6.48787850e-04 3.86286720e-03 2.64109044e-03 5.22688077e-03\n",
      "  4.64756771e-03 3.56885755e-03 7.23855810e-03 4.09607362e-03\n",
      "  3.87197224e-03 5.34648850e-03 6.63497612e-03 1.72731278e-03\n",
      "  3.73513767e-04 4.61783036e-03 5.84367331e-03 7.33331698e-03\n",
      "  3.03210221e-03 4.63094776e-03 4.39749257e-03 3.93300606e-03\n",
      "  4.69619118e-03 6.70494484e-03 2.65973930e-03 2.71654374e-03\n",
      "  2.78749114e-03 2.73768361e-03 4.22794368e-03 5.65066615e-03\n",
      "  1.81193751e-03 3.53529376e-03 2.65056913e-03 2.50324989e-04\n",
      "  2.04066435e-04 5.04378723e-03 5.70335211e-03 6.18513961e-03\n",
      "  3.17909002e-03 5.10317160e-03 4.23113582e-03 4.69980897e-03\n",
      "  6.14614906e-03 6.89042457e-03 7.37619428e-03 1.05384628e-03\n",
      "  1.41154476e-03 2.52222732e-03 5.15347963e-03 3.68661849e-03\n",
      "  1.84639690e-03 3.41462323e-03 6.55855226e-03 4.74139010e-03\n",
      "  2.21208332e-03 2.72593183e-03 1.59109858e-03 6.06630571e-03\n",
      "  2.78308920e-04 7.19436389e-03 2.81327689e-03 7.54090125e-03\n",
      "  5.76827076e-03 4.01147765e-03 2.01867888e-03 6.75986476e-03\n",
      "  9.97080845e-04 3.98990314e-03 6.51404151e-04 6.30860572e-03\n",
      "  7.20104707e-03 1.61482818e-03 4.07350966e-03 4.94886272e-03]]\n"
     ]
    }
   ],
   "source": [
    "summer = np.sum(arr)\n",
    "print(summer)\n",
    "normalized_X = arr/summer\n",
    "print(normalized_X)"
   ]
  },
  {
   "cell_type": "code",
   "execution_count": 5,
   "id": "2a7c1c73-0907-4ee9-b995-ab8d33fea9ef",
   "metadata": {},
   "outputs": [],
   "source": [
    "import pennylane as qml\n",
    "from pennylane import numpy as np\n",
    "from pennylane.optimize import NesterovMomentumOptimizer\n",
    "from scipy import optimize\n",
    "from nftopt import nakanishi_fujii_todo as nftmethod"
   ]
  },
  {
   "cell_type": "markdown",
   "id": "00272b92-afad-423e-b45f-35353c92c4a9",
   "metadata": {},
   "source": [
    "Lightning.GPU device has been used to work on NVIDIA GPU powerups"
   ]
  },
  {
   "cell_type": "code",
   "execution_count": 6,
   "id": "8dd1f0e1-7dc0-40b1-b780-303853264e98",
   "metadata": {},
   "outputs": [
    {
     "data": {
      "text/plain": [
       "<LightningGPU device (wires=8, shots=None) at 0x7f34b4556110>"
      ]
     },
     "execution_count": 6,
     "metadata": {},
     "output_type": "execute_result"
    }
   ],
   "source": [
    "dev = qml.device('lightning.gpu',wires=n_qubits)\n",
    "dev"
   ]
  },
  {
   "cell_type": "markdown",
   "id": "1d56b886-e22f-4336-b0d5-360ef823a74f",
   "metadata": {},
   "source": [
    "A single Ansatz layer used for training contains set of trainiable RY gates for all the qubits followed by cyclic CZ arrangement."
   ]
  },
  {
   "cell_type": "code",
   "execution_count": 7,
   "id": "c2ffba23-faec-4557-b143-52c21b2d75f0",
   "metadata": {},
   "outputs": [],
   "source": [
    "def ansatz_layer(layer_weights, depth, n_qubits):\n",
    "    for dep in range(depth):\n",
    "        for wire in range(n_qubits):\n",
    "            qml.RY(layer_weights[wire+(n_qubits*dep)], wires=wire)\n",
    "\n",
    "        for i in range(n_qubits-1):\n",
    "            qml.CZ(wires=[i,i+1])\n",
    "        qml.CZ(wires=[n_qubits-1,0])"
   ]
  },
  {
   "cell_type": "markdown",
   "id": "9c245bd5-3e9d-4f38-bd38-d45dbe8788fa",
   "metadata": {},
   "source": [
    "We use the Fidelity as the accuracy metric in this case. The Fidelity estimate provides the similarity between the generated state and the required amplitude embedding. It returs 1 if there are similar."
   ]
  },
  {
   "cell_type": "code",
   "execution_count": 8,
   "id": "7e480cd0-73f5-4222-843e-0905eee5b8c5",
   "metadata": {},
   "outputs": [],
   "source": [
    "def accuracy(labels, predictions):\n",
    "  state0 = qml.math.dm_from_state_vector(labels)\n",
    "  state1 = qml.math.dm_from_state_vector(predictions)\n",
    "  return qml.math.fidelity(state0, state1)"
   ]
  },
  {
   "cell_type": "code",
   "execution_count": 9,
   "id": "f6d051b0-8776-4c2d-a185-6942ece52e2f",
   "metadata": {},
   "outputs": [],
   "source": [
    "@qml.qnode(dev)\n",
    "def circuit(weights):\n",
    "  # since depth 4 was used\n",
    "  ansatz_layer(weights,depth=depth, n_qubits=n_qubits)\n",
    "  # qml.state() applies Ua to Ini State, which gives Appro_a\n",
    "  return qml.state()"
   ]
  },
  {
   "cell_type": "code",
   "execution_count": 10,
   "id": "e050d3ed-6542-4c7c-bd5a-0742604cccc0",
   "metadata": {},
   "outputs": [],
   "source": [
    "def variational_classifier(weights, x):\n",
    "    # weights are thetas\n",
    "    return np.real(circuit(weights))"
   ]
  },
  {
   "cell_type": "markdown",
   "id": "f983cef5-35e8-4c9b-8e5d-552601831b60",
   "metadata": {},
   "source": [
    "We convert the data into a state representation by dividing them with their squre root of sum so as to obtain the probability value of the state vector as 1."
   ]
  },
  {
   "cell_type": "code",
   "execution_count": 11,
   "id": "d930b9ce-e2c4-49f4-acd4-92800b979837",
   "metadata": {},
   "outputs": [
    {
     "name": "stdout",
     "output_type": "stream",
     "text": [
      "[0.08284764 0.04822248 0.04772381 0.07697001 0.06667772 0.04918233\n",
      " 0.07119205 0.06546178 0.0121052  0.03073409 0.0145168  0.0375386\n",
      " 0.04186722 0.06653349 0.03505152 0.08634318 0.04634064 0.04056781\n",
      " 0.06473209 0.06063315 0.06287014 0.07711482 0.03347822 0.02737753\n",
      " 0.07375131 0.07332574 0.04090799 0.08015003 0.0373481  0.08558989\n",
      " 0.0764542  0.0756789  0.08579295 0.07071218 0.06895074 0.07429418\n",
      " 0.0817577  0.02078277 0.07063666 0.05202572 0.08695379 0.05972889\n",
      " 0.04891439 0.07171632 0.07564259 0.0682474  0.06571066 0.06201586\n",
      " 0.05695638 0.04054239 0.03041083 0.05193202 0.08022291 0.08732516\n",
      " 0.05198229 0.0764754  0.07931452 0.08612146 0.05612533 0.08417969\n",
      " 0.00314346 0.0846016  0.08704915 0.08413478 0.05536368 0.06300987\n",
      " 0.03918602 0.07725638 0.02911662 0.05754946 0.02951604 0.04139544\n",
      " 0.08602274 0.07291232 0.05108132 0.03970532 0.00536753 0.04533982\n",
      " 0.0063251  0.08574067 0.06630697 0.08110905 0.07533784 0.05589753\n",
      " 0.04224634 0.06460819 0.05390607 0.05812747 0.0684402  0.07721571\n",
      " 0.04020943 0.05584219 0.057985   0.05361544 0.0100048  0.05809842\n",
      " 0.08176876 0.07602819 0.08554921 0.07130276 0.08528898 0.07717363\n",
      " 0.02903047 0.06954853 0.06335427 0.06809851 0.04644807 0.06997161\n",
      " 0.05539326 0.04806213 0.00805536 0.075363   0.01283845 0.04461665\n",
      " 0.07315913 0.03829986 0.08085656 0.06911957 0.07509605 0.07776947\n",
      " 0.05425448 0.07986995 0.06835566 0.02904265 0.05799273 0.00557126\n",
      " 0.03116962 0.07294919 0.0649327  0.03191244 0.07212284 0.01237669\n",
      " 0.08597381 0.07732247 0.06545228 0.06466014 0.03403745 0.01406026\n",
      " 0.03898828 0.06592617 0.07893816 0.06451884 0.03240628 0.06912518\n",
      " 0.08582063 0.04530039 0.02860766 0.06252618 0.08704057 0.06882655\n",
      " 0.08726059 0.02209005 0.06259159 0.07843623 0.07820587 0.08639989\n",
      " 0.03278283 0.0197859  0.05061222 0.03805541 0.03520649 0.05584531\n",
      " 0.08510208 0.07754538 0.06791609 0.06352011 0.06845496 0.04849213\n",
      " 0.08010584 0.06849907 0.03547921 0.05469638 0.03402941 0.0798288\n",
      " 0.06781927 0.07897092 0.0617392  0.07424885 0.06230131 0.05503553\n",
      " 0.05225741 0.0612647  0.06361143 0.03720661 0.02547131 0.06215197\n",
      " 0.05139154 0.07229717 0.06817307 0.05973992 0.08507972 0.06400058\n",
      " 0.06222517 0.07311969 0.08145536 0.04156095 0.0193265  0.06795462\n",
      " 0.07644392 0.08563479 0.05506453 0.06805107 0.06631359 0.06271368\n",
      " 0.06852876 0.08188373 0.05157266 0.05212047 0.0527967  0.05232288\n",
      " 0.06502264 0.07517091 0.04256686 0.05945834 0.05148368 0.01582166\n",
      " 0.01428518 0.07101963 0.07552054 0.07864566 0.05638342 0.07143649\n",
      " 0.06504718 0.06855515 0.07839738 0.08300858 0.08588477 0.032463\n",
      " 0.03757053 0.05022178 0.07178774 0.06071753 0.04296972 0.05843478\n",
      " 0.08098489 0.06885775 0.04703279 0.05221046 0.03988858 0.07788649\n",
      " 0.01668259 0.0848196  0.05304033 0.08683836 0.07594913 0.06333623\n",
      " 0.04492971 0.0822184  0.03157659 0.06316568 0.02552262 0.07942673\n",
      " 0.08485898 0.04018492 0.06382405 0.07034815]\n"
     ]
    }
   ],
   "source": [
    "temp = []\n",
    "for i in range(len(normalized_X[0])):\n",
    "  temp.append(np.sqrt(normalized_X[0][i]))\n",
    "x = np.array(temp)\n",
    "print(x)"
   ]
  },
  {
   "cell_type": "markdown",
   "id": "6c45db11-f904-4121-a740-9529dc9128ec",
   "metadata": {},
   "source": [
    "This calculates the total probability value of the state and it's 1."
   ]
  },
  {
   "cell_type": "code",
   "execution_count": 12,
   "id": "f83f6841-53de-4146-8e2e-44c424485725",
   "metadata": {},
   "outputs": [
    {
     "name": "stdout",
     "output_type": "stream",
     "text": [
      "0.9999999999999999\n"
     ]
    }
   ],
   "source": [
    "sum = 0\n",
    "for i in range(len(x)):\n",
    "  sum += x[i]**2\n",
    "print(sum)"
   ]
  },
  {
   "cell_type": "markdown",
   "id": "c7aff560-098c-48d4-9851-fbb3b6328f49",
   "metadata": {},
   "source": [
    "The Cost function for Approach 1 from the paper <a>https://arxiv.org/pdf/2302.13299.pdf</a>. This cost function can only be used for All positive or All negative data values."
   ]
  },
  {
   "cell_type": "code",
   "execution_count": 13,
   "id": "5b04fdb9-ca2c-4a3e-aeeb-c528b6081462",
   "metadata": {},
   "outputs": [],
   "source": [
    "def F1_loss(a,Appro_a):\n",
    "  #   Define the cost function\n",
    "  F1 = 0.\n",
    "  length = 2**n_qubits\n",
    "  for i in range(length):\n",
    "    F1 += (a[i]**2)*np.log2((Appro_a[i]**2)/(a[i]**2))\n",
    "      \n",
    "  #   Prepare the Bell state\n",
    "  states = 2**n_qubits\n",
    "  Bell_State=np.ones((states,1))/np.linalg.norm(np.ones((states,1)))\n",
    "  #   The sum of vector a\n",
    "  Sum_a=np.sum(a)\n",
    "  sqrt_D = np.linalg.norm(np.ones((states,1)))\n",
    "  UaFunction=np.abs(Sum_a -  (sqrt_D * np.matmul(np.transpose(Bell_State), Appro_a)))-(F1)\n",
    "  return np.real(UaFunction)"
   ]
  },
  {
   "cell_type": "code",
   "execution_count": 14,
   "id": "1ea848fa-5aa0-4335-ab1d-155db9214174",
   "metadata": {},
   "outputs": [],
   "source": [
    "cost_values = []\n",
    "def cost(weights, X=x):\n",
    "    # X is our preparation state\n",
    "    Appro_a = variational_classifier(weights, X)\n",
    "    expectation_value = F1_loss(X, Appro_a)\n",
    "    cost_values.append(expectation_value)\n",
    "    return expectation_value"
   ]
  },
  {
   "cell_type": "markdown",
   "id": "a47a3403-c8ab-4f48-b4db-5a09a5ab84a2",
   "metadata": {},
   "source": [
    "We perform the minimization using the Nakanishi-Fujii-Todo algorithm. "
   ]
  },
  {
   "cell_type": "code",
   "execution_count": 15,
   "id": "5fc9f1f4-6319-474c-8f7e-0b3d37879c0b",
   "metadata": {},
   "outputs": [
    {
     "name": "stdout",
     "output_type": "stream",
     "text": [
      "Training time: 174.4988567829132s\n"
     ]
    }
   ],
   "source": [
    "import time\n",
    "weights = 4*np.pi*np.random.rand(n_qubits * depth)\n",
    "start = time.time()\n",
    "result= optimize.minimize(cost,weights, method=nftmethod, options={'maxfev':5000})\n",
    "stop = time.time()\n",
    "print(f\"Training time: {stop - start}s\")"
   ]
  },
  {
   "cell_type": "markdown",
   "id": "fd905b1a-059f-45c8-83a6-04114279600f",
   "metadata": {},
   "source": [
    "The final sets of weights after performin optimization. These can be used to the generate the requried amplitude embedded state."
   ]
  },
  {
   "cell_type": "code",
   "execution_count": 16,
   "id": "6eb70b76-4a6f-48b7-a025-01c9b0c8d86d",
   "metadata": {},
   "outputs": [
    {
     "data": {
      "text/plain": [
       "array([ 7.07129103e+00,  1.25722207e+01,  4.56983192e+00,  2.36785476e+00,\n",
       "        1.57084698e+00,  9.08351669e+00,  1.13776435e+01,  9.40771272e+00,\n",
       "        1.17221282e+01, -2.19482400e-03,  4.74860056e+00,  3.21313709e+00,\n",
       "        7.85353059e+00,  9.42605276e+00,  1.09674479e+01,  9.42500297e+00,\n",
       "        9.48882159e+00,  1.10216109e+01,  4.59130100e+00,  4.78753353e+00,\n",
       "        4.74872469e+00,  1.10023146e+01,  1.20897675e+00,  1.09405914e+01,\n",
       "        6.31600285e+00,  6.29365534e+00,  3.14158555e+00,  7.65431967e-01,\n",
       "       -5.62693376e-02,  1.29409569e+01,  9.44179920e+00, -5.29899179e-02])"
      ]
     },
     "execution_count": 16,
     "metadata": {},
     "output_type": "execute_result"
    }
   ],
   "source": [
    "result.x"
   ]
  },
  {
   "cell_type": "markdown",
   "id": "213f0f4e-c26f-4bfb-91b0-3fb3ec188428",
   "metadata": {},
   "source": [
    "We compite the fidelity of the generated states using VQSP and the original amplitude embedding needed."
   ]
  },
  {
   "cell_type": "code",
   "execution_count": 17,
   "id": "d47ecf5f-7828-44a8-9417-be207174e056",
   "metadata": {},
   "outputs": [
    {
     "name": "stdout",
     "output_type": "stream",
     "text": [
      "0.8982048521179006\n"
     ]
    }
   ],
   "source": [
    "predictions=variational_classifier(result.x,x)\n",
    "acc = accuracy(x, predictions)\n",
    "# print(predictions.numpy(), x.numpy())\n",
    "print(acc)"
   ]
  },
  {
   "cell_type": "code",
   "execution_count": 18,
   "id": "3dea4ec4-8eed-4370-9db1-8b5aa9484f6d",
   "metadata": {},
   "outputs": [],
   "source": [
    "plotting_values = []\n",
    "for i in range(len(cost_values)):\n",
    "    val = cost_values[i].numpy()\n",
    "    plotting_values.append(val)"
   ]
  },
  {
   "cell_type": "code",
   "execution_count": 19,
   "id": "a065d903-9aac-480a-b230-88a19bf0375f",
   "metadata": {},
   "outputs": [
    {
     "data": {
      "text/plain": [
       "Text(0, 0.5, 'Cost Value')"
      ]
     },
     "execution_count": 19,
     "metadata": {},
     "output_type": "execute_result"
    },
    {
     "data": {
      "image/png": "[encoded data removed]",
      "text/plain": [
       "<Figure size 640x480 with 1 Axes>"
      ]
     },
     "metadata": {},
     "output_type": "display_data"
    }
   ],
   "source": [
    "# Plotting how the value of the cost function decreases during the minimization procedure.\n",
    "import matplotlib.pyplot as plt\n",
    "\n",
    "x_values = list(range(len(plotting_values)))\n",
    "y_values = plotting_values\n",
    "\n",
    "plt.plot(x_values, y_values)\n",
    "\n",
    "plt.xlabel(\"Epochs\")\n",
    "plt.ylabel(\"Cost Value\")"
   ]
  },
  {
   "cell_type": "code",
   "execution_count": 20,
   "id": "f861dd2e-d62e-4919-b0ee-73cf0053a649",
   "metadata": {},
   "outputs": [
    {
     "data": {
      "text/plain": [
       "{'resources': Resources(num_wires=8, num_gates=64, gate_types=defaultdict(<class 'int'>, {'RY': 32, 'CZ': 32}), gate_sizes=defaultdict(<class 'int'>, {1: 32, 2: 32}), depth=36, shots=Shots(total_shots=None, shot_vector=())),\n",
       " 'num_observables': 1,\n",
       " 'num_diagonalizing_gates': 0,\n",
       " 'num_trainable_params': 0,\n",
       " 'num_device_wires': 8,\n",
       " 'device_name': 'lightning.gpu',\n",
       " 'expansion_strategy': 'gradient',\n",
       " 'gradient_options': {},\n",
       " 'interface': 'auto',\n",
       " 'diff_method': 'best',\n",
       " 'gradient_fn': 'pennylane.gradients.parameter_shift.param_shift',\n",
       " 'num_gradient_executions': 'NotSupported: Computing the gradient of circuits that return the state with the parameter-shift rule gradient transform is not supported, as it is a hardware-compatible method.'}"
      ]
     },
     "execution_count": 20,
     "metadata": {},
     "output_type": "execute_result"
    }
   ],
   "source": [
    "specs_func = qml.specs(circuit)\n",
    "specs_func(result.x)"
   ]
  },
  {
   "cell_type": "code",
   "execution_count": 21,
   "id": "5a3ab46f-1507-4b90-8505-9531507c65e8",
   "metadata": {},
   "outputs": [],
   "source": [
    "np.savetxt('8_qubit_data.out', x, delimiter=',')   # X is an array"
   ]
  },
  {
   "cell_type": "code",
   "execution_count": 22,
   "id": "2112fd12-9f9a-42be-9acc-509d63f034fd",
   "metadata": {},
   "outputs": [
    {
     "name": "stdout",
     "output_type": "stream",
     "text": [
      "[0.08284764 0.04822248 0.04772381 0.07697001 0.06667772 0.04918233\n",
      " 0.07119205 0.06546178 0.0121052  0.03073409 0.0145168  0.0375386\n",
      " 0.04186722 0.06653349 0.03505152 0.08634318 0.04634064 0.04056781\n",
      " 0.06473209 0.06063315 0.06287014 0.07711482 0.03347822 0.02737753\n",
      " 0.07375131 0.07332574 0.04090799 0.08015003 0.0373481  0.08558989\n",
      " 0.0764542  0.0756789  0.08579295 0.07071218 0.06895074 0.07429418\n",
      " 0.0817577  0.02078277 0.07063666 0.05202572 0.08695379 0.05972889\n",
      " 0.04891439 0.07171632 0.07564259 0.0682474  0.06571066 0.06201586\n",
      " 0.05695638 0.04054239 0.03041083 0.05193202 0.08022291 0.08732516\n",
      " 0.05198229 0.0764754  0.07931452 0.08612146 0.05612533 0.08417969\n",
      " 0.00314346 0.0846016  0.08704915 0.08413478 0.05536368 0.06300987\n",
      " 0.03918602 0.07725638 0.02911662 0.05754946 0.02951604 0.04139544\n",
      " 0.08602274 0.07291232 0.05108132 0.03970532 0.00536753 0.04533982\n",
      " 0.0063251  0.08574067 0.06630697 0.08110905 0.07533784 0.05589753\n",
      " 0.04224634 0.06460819 0.05390607 0.05812747 0.0684402  0.07721571\n",
      " 0.04020943 0.05584219 0.057985   0.05361544 0.0100048  0.05809842\n",
      " 0.08176876 0.07602819 0.08554921 0.07130276 0.08528898 0.07717363\n",
      " 0.02903047 0.06954853 0.06335427 0.06809851 0.04644807 0.06997161\n",
      " 0.05539326 0.04806213 0.00805536 0.075363   0.01283845 0.04461665\n",
      " 0.07315913 0.03829986 0.08085656 0.06911957 0.07509605 0.07776947\n",
      " 0.05425448 0.07986995 0.06835566 0.02904265 0.05799273 0.00557126\n",
      " 0.03116962 0.07294919 0.0649327  0.03191244 0.07212284 0.01237669\n",
      " 0.08597381 0.07732247 0.06545228 0.06466014 0.03403745 0.01406026\n",
      " 0.03898828 0.06592617 0.07893816 0.06451884 0.03240628 0.06912518\n",
      " 0.08582063 0.04530039 0.02860766 0.06252618 0.08704057 0.06882655\n",
      " 0.08726059 0.02209005 0.06259159 0.07843623 0.07820587 0.08639989\n",
      " 0.03278283 0.0197859  0.05061222 0.03805541 0.03520649 0.05584531\n",
      " 0.08510208 0.07754538 0.06791609 0.06352011 0.06845496 0.04849213\n",
      " 0.08010584 0.06849907 0.03547921 0.05469638 0.03402941 0.0798288\n",
      " 0.06781927 0.07897092 0.0617392  0.07424885 0.06230131 0.05503553\n",
      " 0.05225741 0.0612647  0.06361143 0.03720661 0.02547131 0.06215197\n",
      " 0.05139154 0.07229717 0.06817307 0.05973992 0.08507972 0.06400058\n",
      " 0.06222517 0.07311969 0.08145536 0.04156095 0.0193265  0.06795462\n",
      " 0.07644392 0.08563479 0.05506453 0.06805107 0.06631359 0.06271368\n",
      " 0.06852876 0.08188373 0.05157266 0.05212047 0.0527967  0.05232288\n",
      " 0.06502264 0.07517091 0.04256686 0.05945834 0.05148368 0.01582166\n",
      " 0.01428518 0.07101963 0.07552054 0.07864566 0.05638342 0.07143649\n",
      " 0.06504718 0.06855515 0.07839738 0.08300858 0.08588477 0.032463\n",
      " 0.03757053 0.05022178 0.07178774 0.06071753 0.04296972 0.05843478\n",
      " 0.08098489 0.06885775 0.04703279 0.05221046 0.03988858 0.07788649\n",
      " 0.01668259 0.0848196  0.05304033 0.08683836 0.07594913 0.06333623\n",
      " 0.04492971 0.0822184  0.03157659 0.06316568 0.02552262 0.07942673\n",
      " 0.08485898 0.04018492 0.06382405 0.07034815]\n"
     ]
    }
   ],
   "source": [
    "value = np.loadtxt('8_qubit_data.out')\n",
    "print(value)"
   ]
  },
  {
   "cell_type": "code",
   "execution_count": 23,
   "id": "701bbde8-c0a8-4fe1-a047-2d9c1091994b",
   "metadata": {},
   "outputs": [],
   "source": [
    "np.savetxt('8_qubit_weights.out', result.x, delimiter=',')   # weights is an array"
   ]
  }
 ],
 "metadata": {
  "kernelspec": {
   "display_name": "Python 3 (ipykernel)",
   "language": "python",
   "name": "python3"
  },
  "language_info": {
   "codemirror_mode": {
    "name": "ipython",
    "version": 3
   },
   "file_extension": ".py",
   "mimetype": "text/x-python",
   "name": "python",
   "nbconvert_exporter": "python",
   "pygments_lexer": "ipython3",
   "version": "3.10.12"
  }
 },
 "nbformat": 4,
 "nbformat_minor": 5
}
