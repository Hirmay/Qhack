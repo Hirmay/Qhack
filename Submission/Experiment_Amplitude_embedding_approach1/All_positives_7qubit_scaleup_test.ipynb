{
 "cells": [
  {
   "cell_type": "markdown",
   "id": "e636f617-3fad-48c0-926b-79eec11441fe",
   "metadata": {},
   "source": [
    "Testing the implementaion of All positive values using 7 Qubits - 128 data points"
   ]
  },
  {
   "cell_type": "markdown",
   "id": "9be78276-ba16-4997-acc8-327e8936f0e3",
   "metadata": {},
   "source": [
    "The experimental code for developing Amplitude embedded circuits using Variational Quantum State Preparation (VQSP). The VQSP algorithm uses PQC to create training circuits which learns the parameters to create the corresponding amplitude embedded states."
   ]
  },
  {
   "cell_type": "code",
   "execution_count": 1,
   "id": "ae60a68f-eb91-48fa-acdd-f182c9973c22",
   "metadata": {},
   "outputs": [],
   "source": [
    "# !pip install pennylane nftopt"
   ]
  },
  {
   "cell_type": "markdown",
   "id": "f619c0e1-7048-46bf-9220-4060ed674c17",
   "metadata": {},
   "source": [
    "We specify the number of qubits needed to map the data, for n qubits we can amplitude embedded 2^n data. The depth represents the ansatz repitition depth."
   ]
  },
  {
   "cell_type": "code",
   "execution_count": 2,
   "id": "36a2c84f-0092-4fd2-a84c-daeff317dd48",
   "metadata": {},
   "outputs": [],
   "source": [
    "#defining parameters\n",
    "n_qubits = 7\n",
    "depth = 4"
   ]
  },
  {
   "cell_type": "markdown",
   "id": "eede4510-e2e8-45fa-8329-b1502dda7cb8",
   "metadata": {},
   "source": [
    "Generating Random data points to be amplitude embedded."
   ]
  },
  {
   "cell_type": "code",
   "execution_count": 3,
   "id": "17ce9c2b-8ac0-4304-9f87-3532839a6713",
   "metadata": {},
   "outputs": [
    {
     "name": "stdout",
     "output_type": "stream",
     "text": [
      "[[0.32990819 0.14086813 0.46292175 0.91836203 0.64823924 0.75982963\n",
      "  0.45300365 0.6045035  0.82465655 0.73482226 0.54968708 0.65319165\n",
      "  0.56755442 0.60308675 0.16438858 0.98039736 0.15821722 0.3411931\n",
      "  0.94042343 0.23328886 0.29360192 0.5648346  0.484904   0.34894405\n",
      "  0.53648153 0.02609374 0.84042143 0.11783411 0.12398401 0.48125641\n",
      "  0.16922035 0.66798298 0.08496577 0.8431399  0.82213477 0.77597262\n",
      "  0.20022907 0.64356786 0.80097945 0.75571026 0.79701273 0.85192739\n",
      "  0.94217201 0.4894664  0.29572423 0.66628439 0.03343879 0.76528132\n",
      "  0.99155013 0.36559806 0.59176018 0.6192578  0.37470952 0.9621501\n",
      "  0.83260983 0.47376939 0.17156849 0.82264579 0.367574   0.36107849\n",
      "  0.10328958 0.51292685 0.43329879 0.17019758 0.00282529 0.47098967\n",
      "  0.92748668 0.51319514 0.53310128 0.59955547 0.84504188 0.66307177\n",
      "  0.64160319 0.5058734  0.08817263 0.31758761 0.78973505 0.73398316\n",
      "  0.20618146 0.47050429 0.51194178 0.41216325 0.58616496 0.91471674\n",
      "  0.82684042 0.05728719 0.42176619 0.78855271 0.3881036  0.12737974\n",
      "  0.11970586 0.13669913 0.35170986 0.459738   0.77798984 0.80806185\n",
      "  0.69011643 0.13184366 0.59534068 0.75348195 0.37101449 0.33759677\n",
      "  0.72195084 0.92907682 0.17552945 0.63795531 0.45112645 0.04443025\n",
      "  0.50222662 0.43331161 0.94759351 0.29801098 0.4605125  0.18247147\n",
      "  0.36027806 0.60194405 0.15901324 0.34765304 0.88790863 0.69071829\n",
      "  0.92134561 0.1606079  0.32352775 0.15722255 0.71012147 0.97921134\n",
      "  0.37461372 0.00205236]]\n"
     ]
    }
   ],
   "source": [
    "import numpy as np\n",
    "total_val = 2**n_qubits\n",
    "arr = np.random.rand(1,total_val)\n",
    "print(arr)"
   ]
  },
  {
   "cell_type": "markdown",
   "id": "740e6454-d26d-4ec0-90ef-f4ada2df2be4",
   "metadata": {},
   "source": [
    "Normalizing the points by dividing by their sum"
   ]
  },
  {
   "cell_type": "code",
   "execution_count": 4,
   "id": "91cd54f9-5a06-42b0-9724-dd2ff8cd7b96",
   "metadata": {},
   "outputs": [
    {
     "name": "stdout",
     "output_type": "stream",
     "text": [
      "64.98363088336498\n",
      "[[5.07678908e-03 2.16774783e-03 7.12366700e-03 1.41322056e-02\n",
      "  9.97542356e-03 1.16926312e-02 6.97104243e-03 9.30239652e-03\n",
      "  1.26902196e-02 1.13078055e-02 8.45885455e-03 1.00516337e-02\n",
      "  8.73380591e-03 9.28059486e-03 2.52969210e-03 1.50868357e-02\n",
      "  2.43472415e-03 5.25044683e-03 1.44716972e-02 3.58996341e-03\n",
      "  4.51809042e-03 8.69195196e-03 7.46194075e-03 5.36972233e-03\n",
      "  8.25564111e-03 4.01543312e-04 1.29328174e-02 1.81328905e-03\n",
      "  1.90792678e-03 7.40580980e-03 2.60404571e-03 1.02792499e-02\n",
      "  1.30749494e-03 1.29746506e-02 1.26514133e-02 1.19410475e-02\n",
      "  3.08122320e-03 9.90353810e-03 1.23258648e-02 1.16292403e-02\n",
      "  1.22648231e-02 1.31098767e-02 1.44986052e-02 7.53214910e-03\n",
      "  4.55074958e-03 1.02531111e-02 5.14572540e-04 1.17765245e-02\n",
      "  1.52584600e-02 5.62600229e-03 9.10629597e-03 9.52944283e-03\n",
      "  5.76621400e-03 1.48060379e-02 1.28126086e-02 7.29059587e-03\n",
      "  2.64018012e-03 1.26592770e-02 5.65640907e-03 5.55645297e-03\n",
      "  1.58947071e-03 7.89317005e-03 6.66781438e-03 2.61908388e-03\n",
      "  4.34769140e-05 7.24782018e-03 1.42726202e-02 7.89729860e-03\n",
      "  8.20362407e-03 9.22625372e-03 1.30039191e-02 1.02036738e-02\n",
      "  9.87330469e-03 7.78462811e-03 1.35684362e-03 4.88719396e-03\n",
      "  1.21528306e-02 1.12948931e-02 3.17282151e-03 7.24035091e-03\n",
      "  7.87801136e-03 6.34257038e-03 9.02019401e-03 1.40761100e-02\n",
      "  1.27238261e-02 8.81563416e-04 6.49034505e-03 1.21346360e-02\n",
      "  5.97232865e-03 1.96018196e-03 1.84209256e-03 2.10359323e-03\n",
      "  5.41228387e-03 7.07467393e-03 1.19720893e-02 1.24348523e-02\n",
      "  1.06198502e-02 2.02887486e-03 9.16139447e-03 1.15949501e-02\n",
      "  5.70935299e-03 5.19510481e-03 1.11097338e-02 1.42970900e-02\n",
      "  2.70113338e-03 9.81716933e-03 6.94215523e-03 6.83714536e-04\n",
      "  7.72850960e-03 6.66801173e-03 1.45820339e-02 4.58593915e-03\n",
      "  7.08659238e-03 2.80796054e-03 5.54413562e-03 9.26301037e-03\n",
      "  2.44697371e-03 5.34985563e-03 1.36635736e-02 1.06291119e-02\n",
      "  1.41781183e-02 2.47151320e-03 4.97860376e-03 2.41941775e-03\n",
      "  1.09276977e-02 1.50685845e-02 5.76473973e-03 3.15826939e-05]]\n"
     ]
    }
   ],
   "source": [
    "summer = np.sum(arr)\n",
    "print(summer)\n",
    "normalized_X = arr/summer\n",
    "print(normalized_X)"
   ]
  },
  {
   "cell_type": "code",
   "execution_count": 5,
   "id": "2a7c1c73-0907-4ee9-b995-ab8d33fea9ef",
   "metadata": {},
   "outputs": [],
   "source": [
    "import pennylane as qml\n",
    "from pennylane import numpy as np\n",
    "from pennylane.optimize import NesterovMomentumOptimizer\n",
    "from scipy import optimize\n",
    "from nftopt import nakanishi_fujii_todo as nftmethod"
   ]
  },
  {
   "cell_type": "markdown",
   "id": "00272b92-afad-423e-b45f-35353c92c4a9",
   "metadata": {},
   "source": [
    "Lightning.GPU device has been used to work on NVIDIA GPU powerups"
   ]
  },
  {
   "cell_type": "code",
   "execution_count": 6,
   "id": "8dd1f0e1-7dc0-40b1-b780-303853264e98",
   "metadata": {},
   "outputs": [
    {
     "data": {
      "text/plain": [
       "<LightningGPU device (wires=7, shots=None) at 0x7f306831ed40>"
      ]
     },
     "execution_count": 6,
     "metadata": {},
     "output_type": "execute_result"
    }
   ],
   "source": [
    "dev = qml.device('lightning.gpu',wires=n_qubits)\n",
    "dev"
   ]
  },
  {
   "cell_type": "markdown",
   "id": "1d56b886-e22f-4336-b0d5-360ef823a74f",
   "metadata": {},
   "source": [
    "A single Ansatz layer used for training contains set of trainiable RY gates for all the qubits followed by cyclic CZ arrangement."
   ]
  },
  {
   "cell_type": "code",
   "execution_count": 7,
   "id": "c2ffba23-faec-4557-b143-52c21b2d75f0",
   "metadata": {},
   "outputs": [],
   "source": [
    "def ansatz_layer(layer_weights, depth, n_qubits):\n",
    "    for dep in range(depth):\n",
    "        for wire in range(n_qubits):\n",
    "            qml.RY(layer_weights[wire+(n_qubits*dep)], wires=wire)\n",
    "\n",
    "        for i in range(n_qubits-1):\n",
    "            qml.CZ(wires=[i,i+1])\n",
    "        qml.CZ(wires=[n_qubits-1,0])"
   ]
  },
  {
   "cell_type": "markdown",
   "id": "9c245bd5-3e9d-4f38-bd38-d45dbe8788fa",
   "metadata": {},
   "source": [
    "We use the Fidelity as the accuracy metric in this case. The Fidelity estimate provides the similarity between the generated state and the required amplitude embedding. It returs 1 if there are similar."
   ]
  },
  {
   "cell_type": "code",
   "execution_count": 8,
   "id": "7e480cd0-73f5-4222-843e-0905eee5b8c5",
   "metadata": {},
   "outputs": [],
   "source": [
    "def accuracy(labels, predictions):\n",
    "  state0 = qml.math.dm_from_state_vector(labels)\n",
    "  state1 = qml.math.dm_from_state_vector(predictions)\n",
    "  return qml.math.fidelity(state0, state1)"
   ]
  },
  {
   "cell_type": "code",
   "execution_count": 9,
   "id": "f6d051b0-8776-4c2d-a185-6942ece52e2f",
   "metadata": {},
   "outputs": [],
   "source": [
    "@qml.qnode(dev)\n",
    "def circuit(weights):\n",
    "  # since depth 4 was used\n",
    "  ansatz_layer(weights,depth=depth, n_qubits=n_qubits)\n",
    "  # qml.state() applies Ua to Ini State, which gives Appro_a\n",
    "  return qml.state()"
   ]
  },
  {
   "cell_type": "code",
   "execution_count": 10,
   "id": "e050d3ed-6542-4c7c-bd5a-0742604cccc0",
   "metadata": {},
   "outputs": [],
   "source": [
    "def variational_classifier(weights, x):\n",
    "    # weights are thetas\n",
    "    return np.real(circuit(weights))"
   ]
  },
  {
   "cell_type": "markdown",
   "id": "f983cef5-35e8-4c9b-8e5d-552601831b60",
   "metadata": {},
   "source": [
    "We convert the data into a state representation by dividing them with their squre root of sum so as to obtain the probability value of the state vector as 1."
   ]
  },
  {
   "cell_type": "code",
   "execution_count": 11,
   "id": "d930b9ce-e2c4-49f4-acd4-92800b979837",
   "metadata": {},
   "outputs": [
    {
     "name": "stdout",
     "output_type": "stream",
     "text": [
      "[0.07125159 0.04655908 0.08440182 0.11887895 0.09987704 0.10813247\n",
      " 0.08349277 0.09644893 0.11265087 0.10633817 0.09197203 0.10025784\n",
      " 0.09345483 0.09633584 0.05029604 0.12282848 0.04934292 0.07245997\n",
      " 0.12029837 0.0599163  0.06721674 0.09323064 0.08638253 0.07327839\n",
      " 0.09086056 0.02003855 0.11372255 0.04258273 0.04367982 0.08605701\n",
      " 0.05102985 0.10138664 0.0361593  0.11390632 0.1124785  0.1092751\n",
      " 0.05550877 0.09951652 0.11102191 0.10783896 0.11074666 0.11449837\n",
      " 0.12041015 0.08678795 0.06745924 0.10125765 0.02268419 0.1085197\n",
      " 0.12352514 0.07500668 0.09542691 0.09761887 0.07593559 0.12168006\n",
      " 0.11319279 0.08538499 0.05138268 0.11251345 0.0752091  0.07454162\n",
      " 0.03986817 0.08884351 0.08165669 0.05117699 0.0065937  0.08513413\n",
      " 0.11946807 0.08886675 0.09057386 0.09605339 0.11403473 0.10101324\n",
      " 0.0993645  0.08823054 0.03683536 0.06990847 0.11023988 0.10627743\n",
      " 0.0563278  0.08509025 0.08875816 0.07964026 0.0949747  0.11864278\n",
      " 0.11279994 0.02969113 0.08056268 0.11015732 0.07728084 0.04427394\n",
      " 0.04291961 0.04586495 0.07356823 0.08411108 0.10941704 0.11151167\n",
      " 0.10305266 0.04504303 0.09571517 0.10767985 0.07556026 0.07207708\n",
      " 0.10540272 0.11957044 0.05197243 0.09908163 0.0833196  0.02614794\n",
      " 0.08791194 0.08165789 0.12075609 0.06771956 0.0841819  0.05299019\n",
      " 0.07445895 0.09624453 0.0494669  0.07314271 0.11689129 0.10309758\n",
      " 0.1190719  0.04971432 0.07055922 0.04918758 0.10453563 0.12275416\n",
      " 0.07592588 0.00561985]\n"
     ]
    }
   ],
   "source": [
    "temp = []\n",
    "for i in range(len(normalized_X[0])):\n",
    "  temp.append(np.sqrt(normalized_X[0][i]))\n",
    "x = np.array(temp)\n",
    "print(x)"
   ]
  },
  {
   "cell_type": "markdown",
   "id": "6c45db11-f904-4121-a740-9529dc9128ec",
   "metadata": {},
   "source": [
    "This calculates the total probability value of the state and it's 1."
   ]
  },
  {
   "cell_type": "code",
   "execution_count": 12,
   "id": "f83f6841-53de-4146-8e2e-44c424485725",
   "metadata": {},
   "outputs": [
    {
     "name": "stdout",
     "output_type": "stream",
     "text": [
      "1.0\n"
     ]
    }
   ],
   "source": [
    "sum = 0\n",
    "for i in range(len(x)):\n",
    "  sum += x[i]**2\n",
    "print(sum)"
   ]
  },
  {
   "cell_type": "markdown",
   "id": "c7aff560-098c-48d4-9851-fbb3b6328f49",
   "metadata": {},
   "source": [
    "The Cost function for Approach 1 from the paper <a>https://arxiv.org/pdf/2302.13299.pdf</a>. This cost function can only be used for All positive or All negative data values."
   ]
  },
  {
   "cell_type": "code",
   "execution_count": 13,
   "id": "5b04fdb9-ca2c-4a3e-aeeb-c528b6081462",
   "metadata": {},
   "outputs": [],
   "source": [
    "def F1_loss(a,Appro_a):\n",
    "  #   Define the cost function\n",
    "  F1 = 0.\n",
    "  length = 2**n_qubits\n",
    "  for i in range(length):\n",
    "    F1 += (a[i]**2)*np.log2((Appro_a[i]**2)/(a[i]**2))\n",
    "      \n",
    "  #   Prepare the Bell state\n",
    "  states = 2**n_qubits\n",
    "  Bell_State=np.ones((states,1))/np.linalg.norm(np.ones((states,1)))\n",
    "  #   The sum of vector a\n",
    "  Sum_a=np.sum(a)\n",
    "  sqrt_D = np.linalg.norm(np.ones((states,1)))\n",
    "  UaFunction=np.abs(Sum_a -  (sqrt_D * np.matmul(np.transpose(Bell_State), Appro_a)))-(F1)\n",
    "  return np.real(UaFunction)"
   ]
  },
  {
   "cell_type": "code",
   "execution_count": 14,
   "id": "1ea848fa-5aa0-4335-ab1d-155db9214174",
   "metadata": {},
   "outputs": [],
   "source": [
    "cost_values = []\n",
    "def cost(weights, X=x):\n",
    "    # X is our preparation state\n",
    "    Appro_a = variational_classifier(weights, X)\n",
    "    expectation_value = F1_loss(X, Appro_a)\n",
    "    cost_values.append(expectation_value)\n",
    "    return expectation_value"
   ]
  },
  {
   "cell_type": "markdown",
   "id": "a47a3403-c8ab-4f48-b4db-5a09a5ab84a2",
   "metadata": {},
   "source": [
    "We perform the minimization using the Nakanishi-Fujii-Todo algorithm. "
   ]
  },
  {
   "cell_type": "code",
   "execution_count": 15,
   "id": "5fc9f1f4-6319-474c-8f7e-0b3d37879c0b",
   "metadata": {},
   "outputs": [
    {
     "name": "stdout",
     "output_type": "stream",
     "text": [
      "Training time: 105.44137144088745s\n"
     ]
    }
   ],
   "source": [
    "import time\n",
    "weights = 4*np.pi*np.random.rand(n_qubits * depth)\n",
    "start = time.time()\n",
    "result= optimize.minimize(cost,weights, method=nftmethod, options={'maxfev':5000})\n",
    "stop = time.time()\n",
    "print(f\"Training time: {stop - start}s\")"
   ]
  },
  {
   "cell_type": "markdown",
   "id": "fd905b1a-059f-45c8-83a6-04114279600f",
   "metadata": {},
   "source": [
    "The final sets of weights after performin optimization. These can be used to the generate the requried amplitude embedded state."
   ]
  },
  {
   "cell_type": "code",
   "execution_count": 16,
   "id": "6eb70b76-4a6f-48b7-a025-01c9b0c8d86d",
   "metadata": {},
   "outputs": [
    {
     "data": {
      "text/plain": [
       "array([ 3.09501292, 11.08869078, 15.70153603,  3.2235248 ,  2.47789243,\n",
       "       -0.11009238,  4.75014844,  3.12644818,  4.75012514,  9.88921019,\n",
       "        9.41677586,  8.87788541,  6.37164483,  2.80841756,  7.8273322 ,\n",
       "        1.41455215,  2.12192669,  4.58754238,  7.67421136,  4.80495844,\n",
       "        3.49971165, -0.04535396, -0.03910277,  9.42823648,  3.15551482,\n",
       "        3.18685418, 12.59408296,  0.05802119])"
      ]
     },
     "execution_count": 16,
     "metadata": {},
     "output_type": "execute_result"
    }
   ],
   "source": [
    "result.x"
   ]
  },
  {
   "cell_type": "markdown",
   "id": "213f0f4e-c26f-4bfb-91b0-3fb3ec188428",
   "metadata": {},
   "source": [
    "We compite the fidelity of the generated states using VQSP and the original amplitude embedding needed."
   ]
  },
  {
   "cell_type": "code",
   "execution_count": 17,
   "id": "d47ecf5f-7828-44a8-9417-be207174e056",
   "metadata": {},
   "outputs": [
    {
     "name": "stdout",
     "output_type": "stream",
     "text": [
      "0.912511422288056\n"
     ]
    }
   ],
   "source": [
    "predictions=variational_classifier(result.x,x)\n",
    "acc = accuracy(x, predictions)\n",
    "# print(predictions.numpy(), x.numpy())\n",
    "print(acc)"
   ]
  },
  {
   "cell_type": "code",
   "execution_count": 18,
   "id": "3dea4ec4-8eed-4370-9db1-8b5aa9484f6d",
   "metadata": {},
   "outputs": [],
   "source": [
    "plotting_values = []\n",
    "for i in range(len(cost_values)):\n",
    "    val = cost_values[i].numpy()\n",
    "    plotting_values.append(val)"
   ]
  },
  {
   "cell_type": "code",
   "execution_count": 19,
   "id": "a065d903-9aac-480a-b230-88a19bf0375f",
   "metadata": {},
   "outputs": [
    {
     "data": {
      "text/plain": [
       "Text(0, 0.5, 'Cost Value')"
      ]
     },
     "execution_count": 19,
     "metadata": {},
     "output_type": "execute_result"
    },
    {
     "data": {
      "image/png": "[encoded data removed]",
      "text/plain": [
       "<Figure size 640x480 with 1 Axes>"
      ]
     },
     "metadata": {},
     "output_type": "display_data"
    }
   ],
   "source": [
    "# Plotting how the value of the cost function decreases during the minimization procedure.\n",
    "import matplotlib.pyplot as plt\n",
    "\n",
    "x_values = list(range(len(plotting_values)))\n",
    "y_values = plotting_values\n",
    "\n",
    "plt.plot(x_values, y_values)\n",
    "\n",
    "plt.xlabel(\"Epochs\")\n",
    "plt.ylabel(\"Cost Value\")"
   ]
  },
  {
   "cell_type": "code",
   "execution_count": 20,
   "id": "f861dd2e-d62e-4919-b0ee-73cf0053a649",
   "metadata": {},
   "outputs": [
    {
     "data": {
      "text/plain": [
       "{'resources': Resources(num_wires=7, num_gates=56, gate_types=defaultdict(<class 'int'>, {'RY': 28, 'CZ': 28}), gate_sizes=defaultdict(<class 'int'>, {1: 28, 2: 28}), depth=32, shots=Shots(total_shots=None, shot_vector=())),\n",
       " 'num_observables': 1,\n",
       " 'num_diagonalizing_gates': 0,\n",
       " 'num_trainable_params': 0,\n",
       " 'num_device_wires': 7,\n",
       " 'device_name': 'lightning.gpu',\n",
       " 'expansion_strategy': 'gradient',\n",
       " 'gradient_options': {},\n",
       " 'interface': 'auto',\n",
       " 'diff_method': 'best',\n",
       " 'gradient_fn': 'pennylane.gradients.parameter_shift.param_shift',\n",
       " 'num_gradient_executions': 'NotSupported: Computing the gradient of circuits that return the state with the parameter-shift rule gradient transform is not supported, as it is a hardware-compatible method.'}"
      ]
     },
     "execution_count": 20,
     "metadata": {},
     "output_type": "execute_result"
    }
   ],
   "source": [
    "specs_func = qml.specs(circuit)\n",
    "specs_func(result.x)"
   ]
  },
  {
   "cell_type": "code",
   "execution_count": 21,
   "id": "946b7a83-9833-4031-bf46-d7c14cca3ea8",
   "metadata": {},
   "outputs": [],
   "source": [
    "np.savetxt('7_qubit_data.out', x, delimiter=',')   # X is an array"
   ]
  },
  {
   "cell_type": "code",
   "execution_count": 22,
   "id": "2c7d5147-a299-496f-910a-92b95defe8b6",
   "metadata": {},
   "outputs": [
    {
     "name": "stdout",
     "output_type": "stream",
     "text": [
      "[0.07125159 0.04655908 0.08440182 0.11887895 0.09987704 0.10813247\n",
      " 0.08349277 0.09644893 0.11265087 0.10633817 0.09197203 0.10025784\n",
      " 0.09345483 0.09633584 0.05029604 0.12282848 0.04934292 0.07245997\n",
      " 0.12029837 0.0599163  0.06721674 0.09323064 0.08638253 0.07327839\n",
      " 0.09086056 0.02003855 0.11372255 0.04258273 0.04367982 0.08605701\n",
      " 0.05102985 0.10138664 0.0361593  0.11390632 0.1124785  0.1092751\n",
      " 0.05550877 0.09951652 0.11102191 0.10783896 0.11074666 0.11449837\n",
      " 0.12041015 0.08678795 0.06745924 0.10125765 0.02268419 0.1085197\n",
      " 0.12352514 0.07500668 0.09542691 0.09761887 0.07593559 0.12168006\n",
      " 0.11319279 0.08538499 0.05138268 0.11251345 0.0752091  0.07454162\n",
      " 0.03986817 0.08884351 0.08165669 0.05117699 0.0065937  0.08513413\n",
      " 0.11946807 0.08886675 0.09057386 0.09605339 0.11403473 0.10101324\n",
      " 0.0993645  0.08823054 0.03683536 0.06990847 0.11023988 0.10627743\n",
      " 0.0563278  0.08509025 0.08875816 0.07964026 0.0949747  0.11864278\n",
      " 0.11279994 0.02969113 0.08056268 0.11015732 0.07728084 0.04427394\n",
      " 0.04291961 0.04586495 0.07356823 0.08411108 0.10941704 0.11151167\n",
      " 0.10305266 0.04504303 0.09571517 0.10767985 0.07556026 0.07207708\n",
      " 0.10540272 0.11957044 0.05197243 0.09908163 0.0833196  0.02614794\n",
      " 0.08791194 0.08165789 0.12075609 0.06771956 0.0841819  0.05299019\n",
      " 0.07445895 0.09624453 0.0494669  0.07314271 0.11689129 0.10309758\n",
      " 0.1190719  0.04971432 0.07055922 0.04918758 0.10453563 0.12275416\n",
      " 0.07592588 0.00561985]\n"
     ]
    }
   ],
   "source": [
    "value = np.loadtxt('7_qubit_data.out')\n",
    "print(value)"
   ]
  },
  {
   "cell_type": "code",
   "execution_count": 23,
   "id": "b3d43997-d456-4487-80e9-8de596e5078c",
   "metadata": {},
   "outputs": [],
   "source": [
    "np.savetxt('7_qubit_weights.out', result.x, delimiter=',')   # weights is an array"
   ]
  }
 ],
 "metadata": {
  "kernelspec": {
   "display_name": "Python 3 (ipykernel)",
   "language": "python",
   "name": "python3"
  },
  "language_info": {
   "codemirror_mode": {
    "name": "ipython",
    "version": 3
   },
   "file_extension": ".py",
   "mimetype": "text/x-python",
   "name": "python",
   "nbconvert_exporter": "python",
   "pygments_lexer": "ipython3",
   "version": "3.10.12"
  }
 },
 "nbformat": 4,
 "nbformat_minor": 5
}
