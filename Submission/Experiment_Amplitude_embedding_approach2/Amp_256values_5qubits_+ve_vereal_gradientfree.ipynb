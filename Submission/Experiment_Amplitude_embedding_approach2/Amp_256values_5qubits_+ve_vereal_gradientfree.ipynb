{
 "cells": [
  {
   "cell_type": "markdown",
   "metadata": {
    "id": "e_S3eSpKP8xe"
   },
   "source": [
    "Testing the implementaion of positive and negative real values using 5 Qubits - 32 data points"
   ]
  },
  {
   "cell_type": "markdown",
   "metadata": {},
   "source": [
    "The experimental code for developing Amplitude embedded circuits using Variational Quantum State Preparation (VQSP). The VQSP algorithm uses PQC to create training circuits which learns the parameters to create the corresponding amplitude embedded states."
   ]
  },
  {
   "cell_type": "code",
   "execution_count": 1,
   "metadata": {},
   "outputs": [],
   "source": [
    "# !pip install pennylane nftopt"
   ]
  },
  {
   "cell_type": "markdown",
   "metadata": {},
   "source": [
    "We specify the number of qubits needed to map the data, for n qubits we can amplitude embedded 2^n data. The depth represents the ansatz repitition depth."
   ]
  },
  {
   "cell_type": "code",
   "execution_count": 2,
   "metadata": {},
   "outputs": [],
   "source": [
    "#defining parameters\n",
    "n_qubits = 6 #( 5 + 1 ancillary)\n",
    "depth = 4"
   ]
  },
  {
   "cell_type": "markdown",
   "metadata": {},
   "source": [
    "Generating Random data points to be amplitude embedded."
   ]
  },
  {
   "cell_type": "code",
   "execution_count": 3,
   "metadata": {
    "colab": {
     "base_uri": "https://localhost:8080/"
    },
    "id": "IGTk4AV29R4y",
    "outputId": "ec379772-071f-4b4f-d678-7f7d5d794677"
   },
   "outputs": [
    {
     "name": "stdout",
     "output_type": "stream",
     "text": [
      "[-0.47791645  0.50830373 -0.95573146 -0.362758    0.51337288  0.78834847\n",
      "  0.58282701 -0.10725523 -0.15327924  0.75226628 -0.75707974 -0.50793528\n",
      "  0.98100309  0.6285297   0.977436   -0.48695036  0.69136052  0.18418806\n",
      " -0.79429021  0.15465492 -0.13388799  0.51942568 -0.14410164  0.93959518\n",
      " -0.12292955 -0.82114152 -0.47339701 -0.2825014   0.83937036  0.79333027\n",
      "  0.33567151 -0.00476244]\n"
     ]
    }
   ],
   "source": [
    "import numpy as np\n",
    "val_total = 2 ** (n_qubits - 1)\n",
    "arr = np.random.uniform(low=-1, high=1,size=(val_total))\n",
    "print(arr)"
   ]
  },
  {
   "cell_type": "code",
   "execution_count": 4,
   "metadata": {
    "colab": {
     "base_uri": "https://localhost:8080/"
    },
    "id": "GuY1qV2evgru",
    "outputId": "0004acac-51ed-49aa-b2f5-d3990c3089f3"
   },
   "outputs": [
    {
     "data": {
      "text/plain": [
       "array([-0.95573146, -0.82114152, -0.79429021, -0.75707974, -0.50793528,\n",
       "       -0.48695036, -0.47791645, -0.47339701, -0.362758  , -0.2825014 ,\n",
       "       -0.15327924, -0.14410164, -0.13388799, -0.12292955, -0.10725523,\n",
       "       -0.00476244,  0.15465492,  0.18418806,  0.33567151,  0.50830373,\n",
       "        0.51337288,  0.51942568,  0.58282701,  0.6285297 ,  0.69136052,\n",
       "        0.75226628,  0.78834847,  0.79333027,  0.83937036,  0.93959518,\n",
       "        0.977436  ,  0.98100309])"
      ]
     },
     "execution_count": 4,
     "metadata": {},
     "output_type": "execute_result"
    }
   ],
   "source": [
    "np.unique(arr)"
   ]
  },
  {
   "cell_type": "markdown",
   "metadata": {},
   "source": [
    "Cumulating the negative towards the end of the array so that we can easily store the indices of negative elements."
   ]
  },
  {
   "cell_type": "code",
   "execution_count": 5,
   "metadata": {
    "colab": {
     "base_uri": "https://localhost:8080/"
    },
    "id": "Xv5tYw51SzOh",
    "outputId": "132f59dc-1406-4f2f-b9e0-39d53d71c997"
   },
   "outputs": [
    {
     "name": "stdout",
     "output_type": "stream",
     "text": [
      "[ 0.50830373  0.51337288  0.78834847  0.58282701  0.75226628  0.98100309\n",
      "  0.6285297   0.977436    0.69136052  0.18418806  0.15465492  0.51942568\n",
      "  0.93959518  0.83937036  0.79333027  0.33567151 -0.47791645 -0.95573146\n",
      " -0.362758   -0.10725523 -0.15327924 -0.75707974 -0.50793528 -0.48695036\n",
      " -0.79429021 -0.13388799 -0.14410164 -0.12292955 -0.82114152 -0.47339701\n",
      " -0.2825014  -0.00476244]\n"
     ]
    }
   ],
   "source": [
    "# Rearranging the array so that there is no index confusion\n",
    "arr1 = []\n",
    "for i in range(len(arr)):\n",
    "  if(arr[i] > 0):\n",
    "    arr1.append(arr[i])\n",
    "\n",
    "for i in range(len(arr)):\n",
    "  if(arr[i] < 0):\n",
    "    arr1.append(arr[i])\n",
    "\n",
    "arr1 = np.array(arr1)\n",
    "print(arr1)"
   ]
  },
  {
   "cell_type": "markdown",
   "metadata": {},
   "source": [
    "Normalizing the points by dividing by their sum"
   ]
  },
  {
   "cell_type": "code",
   "execution_count": 6,
   "metadata": {
    "colab": {
     "base_uri": "https://localhost:8080/"
    },
    "id": "EMpMS6myyaZ9",
    "outputId": "75e862c7-c389-432e-dd99-a1154e59d040"
   },
   "outputs": [
    {
     "name": "stdout",
     "output_type": "stream",
     "text": [
      "16.775601198424333\n",
      "[ 0.03030018  0.03060235  0.04699375  0.03474254  0.04484288  0.05847797\n",
      "  0.0374669   0.05826533  0.04121227  0.01097952  0.00921904  0.03096316\n",
      "  0.05600963  0.05003519  0.04729072  0.02000951 -0.02848878 -0.05697152\n",
      " -0.02162414 -0.00639353 -0.00913703 -0.04512981 -0.03027822 -0.0290273\n",
      " -0.04734794 -0.00798111 -0.00858995 -0.00732788 -0.04894856 -0.02821938\n",
      " -0.01684002 -0.00028389]\n"
     ]
    }
   ],
   "source": [
    "summer = np.sum(np.abs(arr1))\n",
    "print(summer)\n",
    "normalized_X = arr1/summer\n",
    "print(normalized_X)"
   ]
  },
  {
   "cell_type": "code",
   "execution_count": 7,
   "metadata": {
    "id": "LHEOby-1QAja"
   },
   "outputs": [],
   "source": [
    "import pennylane as qml\n",
    "from pennylane import numpy as np\n",
    "from pennylane.optimize import NesterovMomentumOptimizer\n",
    "from scipy import optimize\n",
    "from nftopt import nakanishi_fujii_todo as nftmethod"
   ]
  },
  {
   "cell_type": "markdown",
   "metadata": {},
   "source": [
    "Lightning.GPU device has been used to work on NVIDIA GPU powerups"
   ]
  },
  {
   "cell_type": "code",
   "execution_count": 8,
   "metadata": {
    "colab": {
     "base_uri": "https://localhost:8080/"
    },
    "id": "NMFJbv1ZQCB1",
    "outputId": "69e9d8e1-a0f3-4008-cd7b-03252222dba4"
   },
   "outputs": [
    {
     "data": {
      "text/plain": [
       "<LightningGPU device (wires=6, shots=None) at 0x7f259fc06a10>"
      ]
     },
     "execution_count": 8,
     "metadata": {},
     "output_type": "execute_result"
    }
   ],
   "source": [
    "dev = qml.device(\"lightning.gpu\",wires=n_qubits)\n",
    "dev"
   ]
  },
  {
   "cell_type": "markdown",
   "metadata": {},
   "source": [
    "A single Ansatz layer used for training contains set of trainiable RY gates for all the qubits followed by cyclic CZ arrangement."
   ]
  },
  {
   "cell_type": "code",
   "execution_count": 9,
   "metadata": {
    "id": "c-OxlJ3QQDKK"
   },
   "outputs": [],
   "source": [
    "def ansatz_layer(layer_weights, depth, n_qubits):\n",
    "    for dep in range(depth):\n",
    "        for wire in range(n_qubits):\n",
    "            qml.RY(layer_weights[wire+(n_qubits*dep)], wires=wire)\n",
    "\n",
    "        for i in range(n_qubits-1):\n",
    "            qml.CZ(wires=[i,i+1])\n",
    "        # qml.CZ(wires=[n_qubits-1,0])\n",
    "\n",
    "    qml.Hadamard(0)"
   ]
  },
  {
   "cell_type": "markdown",
   "metadata": {},
   "source": [
    "We use the Fidelity as the accuracy metric in this case. The Fidelity estimate provides the similarity between the generated state and the required amplitude embedding. It returs 1 if there are similar."
   ]
  },
  {
   "cell_type": "code",
   "execution_count": 10,
   "metadata": {
    "id": "FTW1SGK9QEoN"
   },
   "outputs": [],
   "source": [
    "def accuracy(labels, predictions):\n",
    "  state0 = qml.math.dm_from_state_vector(labels)\n",
    "  state1 = qml.math.dm_from_state_vector(predictions)\n",
    "  return qml.math.fidelity(state0, state1)"
   ]
  },
  {
   "cell_type": "code",
   "execution_count": 11,
   "metadata": {
    "id": "XR4C_aLQQGIy"
   },
   "outputs": [],
   "source": [
    "@qml.qnode(dev)\n",
    "def circuit(weights):\n",
    "  # since depth 4 was used\n",
    "  ansatz_layer(weights,depth=depth, n_qubits=n_qubits)\n",
    "  # qml.state() applies Ua to Ini State, which gives Appro_a\n",
    "  return qml.state()"
   ]
  },
  {
   "cell_type": "code",
   "execution_count": 12,
   "metadata": {
    "id": "JZGfLnJeQHjz"
   },
   "outputs": [],
   "source": [
    "def variational_classifier(weights):\n",
    "    # weights are thetas\n",
    "    return np.real(circuit(weights))"
   ]
  },
  {
   "cell_type": "markdown",
   "metadata": {},
   "source": [
    "We convert the data into a state representation by dividing them with their squre root of sum so as to obtain the probability value of the state vector as 1."
   ]
  },
  {
   "cell_type": "code",
   "execution_count": 13,
   "metadata": {
    "colab": {
     "base_uri": "https://localhost:8080/"
    },
    "id": "7aI212uqQIlQ",
    "outputId": "ede76f88-314f-42c9-ee4d-dad6465ac7d6"
   },
   "outputs": [
    {
     "name": "stdout",
     "output_type": "stream",
     "text": [
      "[ 0.17406947  0.17493528  0.21678043  0.18639351  0.21176138  0.24182219\n",
      "  0.19356367  0.24138213  0.20300804  0.10478321  0.09601583  0.17596353\n",
      "  0.23666353  0.22368547  0.2174643   0.14145496 -0.1687862  -0.23868707\n",
      " -0.1470515  -0.07995952 -0.09558783 -0.21243779 -0.17400637 -0.17037399\n",
      " -0.21759582 -0.08933708 -0.092682   -0.08560302 -0.22124321 -0.16798624\n",
      " -0.12976909 -0.01684906]\n"
     ]
    }
   ],
   "source": [
    "temp = []\n",
    "for i in range(len(normalized_X)):\n",
    "  val = np.sqrt(np.abs(normalized_X[i]))\n",
    "  if (normalized_X[i] < 0):\n",
    "    val = val * -1\n",
    "  temp.append(val)\n",
    "\n",
    "x = np.array(temp)\n",
    "print(x)\n"
   ]
  },
  {
   "cell_type": "markdown",
   "metadata": {},
   "source": [
    "This calculates the total probability value of the state and it's 1."
   ]
  },
  {
   "cell_type": "code",
   "execution_count": 14,
   "metadata": {
    "colab": {
     "base_uri": "https://localhost:8080/"
    },
    "id": "m9IqJ70dphm0",
    "outputId": "8dc5094e-e46c-419b-8b90-9b9736dbe637"
   },
   "outputs": [
    {
     "name": "stdout",
     "output_type": "stream",
     "text": [
      "0.9999999999999997\n"
     ]
    }
   ],
   "source": [
    "sum = 0\n",
    "for i in range(len(x)):\n",
    "  sum += x[i]**2\n",
    "print(sum)"
   ]
  },
  {
   "cell_type": "markdown",
   "metadata": {},
   "source": [
    "The Cost function for Approach 2 from the paper https://arxiv.org/pdf/2302.13299.pdf. This cost function can only be used for positive and negative values in an array for all real values."
   ]
  },
  {
   "cell_type": "code",
   "execution_count": 15,
   "metadata": {
    "id": "eDGI-EXh6Jhl"
   },
   "outputs": [],
   "source": [
    "# D = 2**d\n",
    "# D+ = k\n",
    "# D- = l\n",
    "def F2_loss(a,Appro_a):\n",
    "  #   Define the cost function\n",
    "  F2 = 0.\n",
    "  k = []\n",
    "  k_ind = []\n",
    "  l = []\n",
    "  l_ind = []\n",
    "  # Split a into k and l, store indices as well(+ve and -ve)\n",
    "  for i in range(len(a)):\n",
    "    if(a[i] >= 0):\n",
    "      k.append(a[i])\n",
    "      k_ind.append(i)\n",
    "    else:\n",
    "      l.append(a[i])\n",
    "      l_ind.append(i)\n",
    "\n",
    "  for i in range(len(k)):\n",
    "    F2 += (k[i]**2)*np.log2((Appro_a[k_ind[i]]**2)/(k[i]**2))\n",
    "  D = 2 ** (n_qubits-1)\n",
    "  for i in range(len(l)):\n",
    "    F2 += (l[i]**2)*np.log2((Appro_a[l_ind[i]+D]**2)/(l[i]**2))\n",
    "\n",
    "\n",
    "  #   Prepare the Bell state\n",
    "  states_with_ancillary = 2**(n_qubits)\n",
    "  Bell_State=np.ones((states_with_ancillary,1))/np.linalg.norm(np.ones((states_with_ancillary,1)))\n",
    "  #   The sum of vector a\n",
    "  Sum_a=np.sum(np.abs(a))\n",
    "  sqrt_D = np.sqrt(2) * np.linalg.norm(np.ones((D,1)))\n",
    "  UaFunction=np.abs(Sum_a -  (sqrt_D * np.matmul(np.transpose(Bell_State), Appro_a)))-(F2)\n",
    "  return np.real(UaFunction)"
   ]
  },
  {
   "cell_type": "code",
   "execution_count": 16,
   "metadata": {
    "colab": {
     "base_uri": "https://localhost:8080/"
    },
    "id": "tL5u-vVq4y0-",
    "outputId": "21b397b3-d4b3-4a54-d7b9-3bb1c98a922a"
   },
   "outputs": [
    {
     "name": "stdout",
     "output_type": "stream",
     "text": [
      "[ 0.17406947  0.17493528  0.21678043  0.18639351  0.21176138  0.24182219\n",
      "  0.19356367  0.24138213  0.20300804  0.10478321  0.09601583  0.17596353\n",
      "  0.23666353  0.22368547  0.2174643   0.14145496 -0.1687862  -0.23868707\n",
      " -0.1470515  -0.07995952 -0.09558783 -0.21243779 -0.17400637 -0.17037399\n",
      " -0.21759582 -0.08933708 -0.092682   -0.08560302 -0.22124321 -0.16798624\n",
      " -0.12976909 -0.01684906]\n"
     ]
    }
   ],
   "source": [
    "print(x)"
   ]
  },
  {
   "cell_type": "code",
   "execution_count": 17,
   "metadata": {
    "id": "Z9jjzQJFQq-O"
   },
   "outputs": [],
   "source": [
    "cost_values = []\n",
    "def cost(weights, X=x):\n",
    "    # X is our preparation state\n",
    "    Appro_a = variational_classifier(weights)\n",
    "    expectation_value = F2_loss(X, Appro_a)\n",
    "    cost_values.append(expectation_value)\n",
    "    return expectation_value"
   ]
  },
  {
   "cell_type": "markdown",
   "metadata": {},
   "source": [
    "We perform the minimization using the Nakanishi-Fujii-Todo algorithm."
   ]
  },
  {
   "cell_type": "code",
   "execution_count": 18,
   "metadata": {
    "id": "dhuy_o6ZQvPY"
   },
   "outputs": [
    {
     "name": "stdout",
     "output_type": "stream",
     "text": [
      "Training time: 76.9381353855133s\n"
     ]
    }
   ],
   "source": [
    "import time\n",
    "weights = 4*np.pi*np.random.rand(n_qubits * depth)\n",
    "start = time.time()\n",
    "result= optimize.minimize(cost,weights, method=nftmethod, options={'maxfev':8000})\n",
    "stop = time.time()\n",
    "print(f\"Training time: {stop - start}s\")"
   ]
  },
  {
   "cell_type": "markdown",
   "metadata": {},
   "source": [
    "The final sets of weights after performin optimization. These can be used to the generate the requried amplitude embedded state."
   ]
  },
  {
   "cell_type": "code",
   "execution_count": 19,
   "metadata": {
    "colab": {
     "base_uri": "https://localhost:8080/"
    },
    "id": "Wpzlr_C7QsYZ",
    "outputId": "5cc3d488-7b1c-456a-a895-5382c7f001b1"
   },
   "outputs": [
    {
     "data": {
      "text/plain": [
       "array([ 5.14609437,  9.561243  ,  2.92250256, -0.23386135, 16.06312516,\n",
       "       -3.14724378,  4.86026516,  2.42232596, -1.43644457,  6.24394873,\n",
       "        5.6331875 ,  3.30789037, -9.8305702 ,  4.86932162,  9.28017275,\n",
       "        1.40619856,  8.59443792,  8.03943732, 16.81589248,  0.58380141,\n",
       "       12.61414822,  3.15510269,  3.00790636,  9.57189379])"
      ]
     },
     "execution_count": 19,
     "metadata": {},
     "output_type": "execute_result"
    }
   ],
   "source": [
    "result.x"
   ]
  },
  {
   "cell_type": "markdown",
   "metadata": {},
   "source": [
    "We take the positive elemnts from |0> state of zeroth qubit and negative elements from |1> state of zeroth qubit"
   ]
  },
  {
   "cell_type": "code",
   "execution_count": 20,
   "metadata": {
    "colab": {
     "base_uri": "https://localhost:8080/"
    },
    "id": "Y1mS03NXP0JE",
    "outputId": "6a705224-f7a8-48b2-c01c-021dd8c78e8b"
   },
   "outputs": [
    {
     "name": "stdout",
     "output_type": "stream",
     "text": [
      "[0, 1, 2, 3, 4, 5, 6, 7, 8, 9, 10, 11, 12, 13, 14, 15]\n",
      "[16, 17, 18, 19, 20, 21, 22, 23, 24, 25, 26, 27, 28, 29, 30, 31]\n"
     ]
    }
   ],
   "source": [
    "k_ind = []\n",
    "l_ind = []\n",
    "for i in range(len(x)):\n",
    "    if(x[i] >= 0):\n",
    "      k_ind.append(i)\n",
    "    else:\n",
    "      l_ind.append(i)\n",
    "print(k_ind)\n",
    "print(l_ind)"
   ]
  },
  {
   "cell_type": "markdown",
   "metadata": {},
   "source": [
    "We compite the fidelity of the generated states using VQSP and the original amplitude embedding needed."
   ]
  },
  {
   "cell_type": "code",
   "execution_count": 21,
   "metadata": {
    "colab": {
     "base_uri": "https://localhost:8080/"
    },
    "id": "0y3eA9FWRQnj",
    "outputId": "d7486ce0-1444-4147-83d3-6a80726dbbab"
   },
   "outputs": [
    {
     "name": "stdout",
     "output_type": "stream",
     "text": [
      "[ 0.20916411  0.17828683  0.10912277  0.13375028  0.245354    0.26393159\n",
      "  0.245041    0.19530915  0.16182086  0.13821306  0.12989585  0.13943935\n",
      "  0.14882316  0.15129785  0.10986806  0.08780947 -0.15552769 -0.132587\n",
      " -0.07870094 -0.09747763 -0.16945632 -0.18361598 -0.17527369 -0.13971371\n",
      " -0.1715076  -0.14646788 -0.14681963 -0.15509653 -0.17451064 -0.17666827\n",
      " -0.1254035  -0.10019029]\n",
      "[ 0.20916411  0.17828683  0.10912277  0.13375028  0.245354    0.26393159\n",
      "  0.245041    0.19530915  0.16182086  0.13821306  0.12989585  0.13943935\n",
      "  0.14882316  0.15129785  0.10986806  0.08780947 -0.15552769 -0.132587\n",
      " -0.07870094 -0.09747763 -0.16945632 -0.18361598 -0.17527369 -0.13971371\n",
      " -0.1715076  -0.14646788 -0.14681963 -0.15509653 -0.17451064 -0.17666827\n",
      " -0.1254035  -0.10019029] [ 0.17406947  0.17493528  0.21678043  0.18639351  0.21176138  0.24182219\n",
      "  0.19356367  0.24138213  0.20300804  0.10478321  0.09601583  0.17596353\n",
      "  0.23666353  0.22368547  0.2174643   0.14145496 -0.1687862  -0.23868707\n",
      " -0.1470515  -0.07995952 -0.09558783 -0.21243779 -0.17400637 -0.17037399\n",
      " -0.21759582 -0.08933708 -0.092682   -0.08560302 -0.22124321 -0.16798624\n",
      " -0.12976909 -0.01684906]\n",
      "0.7509415232939963\n"
     ]
    }
   ],
   "source": [
    "# Left most value in state vector is the 0th qubit which the top one in circuit - Pennylane\n",
    "predictions=variational_classifier(result.x)\n",
    "# print(predictions)\n",
    "\n",
    "modified_predictions = []\n",
    "D = 2 ** (n_qubits - 1)\n",
    "for i in range(len(x)):\n",
    "  if(i in k_ind):\n",
    "    # positive we take from |0> of zeroth qubit\n",
    "    modified_predictions.append(predictions[i])\n",
    "  else:\n",
    "    modified_predictions.append(-1 * predictions[i + D])\n",
    "\n",
    "modified_predictions = np.array(modified_predictions)\n",
    "print(modified_predictions)\n",
    "\n",
    "acc = accuracy(x, modified_predictions)\n",
    "print(modified_predictions.numpy(), x.numpy())\n",
    "print(acc)"
   ]
  },
  {
   "cell_type": "code",
   "execution_count": 22,
   "metadata": {
    "id": "VB43gUKQRVnW"
   },
   "outputs": [],
   "source": [
    "plotting_values = []\n",
    "for i in range(len(cost_values)):\n",
    "    val = cost_values[i].numpy()\n",
    "    plotting_values.append(val)"
   ]
  },
  {
   "cell_type": "code",
   "execution_count": 23,
   "metadata": {},
   "outputs": [
    {
     "data": {
      "text/plain": [
       "Text(0, 0.5, 'Cost Value')"
      ]
     },
     "execution_count": 23,
     "metadata": {},
     "output_type": "execute_result"
    },
    {
     "data": {
      "image/png": "[encoded data removed]",
      "text/plain": [
       "<Figure size 640x480 with 1 Axes>"
      ]
     },
     "metadata": {},
     "output_type": "display_data"
    }
   ],
   "source": [
    "# Plotting how the value of the cost function decreases during the minimization procedure.\n",
    "import matplotlib.pyplot as plt\n",
    "\n",
    "x_values = list(range(len(plotting_values)))\n",
    "y_values = plotting_values\n",
    "\n",
    "plt.plot(x_values, y_values)\n",
    "\n",
    "plt.xlabel(\"Epochs\")\n",
    "plt.ylabel(\"Cost Value\")"
   ]
  },
  {
   "cell_type": "code",
   "execution_count": 24,
   "metadata": {},
   "outputs": [
    {
     "data": {
      "text/plain": [
       "{'resources': Resources(num_wires=6, num_gates=45, gate_types=defaultdict(<class 'int'>, {'RY': 24, 'CZ': 20, 'Hadamard': 1}), gate_sizes=defaultdict(<class 'int'>, {1: 25, 2: 20}), depth=15, shots=Shots(total_shots=None, shot_vector=())),\n",
       " 'num_observables': 1,\n",
       " 'num_diagonalizing_gates': 0,\n",
       " 'num_trainable_params': 0,\n",
       " 'num_device_wires': 6,\n",
       " 'device_name': 'lightning.gpu',\n",
       " 'expansion_strategy': 'gradient',\n",
       " 'gradient_options': {},\n",
       " 'interface': 'auto',\n",
       " 'diff_method': 'best',\n",
       " 'gradient_fn': 'pennylane.gradients.parameter_shift.param_shift',\n",
       " 'num_gradient_executions': 'NotSupported: Computing the gradient of circuits that return the state with the parameter-shift rule gradient transform is not supported, as it is a hardware-compatible method.'}"
      ]
     },
     "execution_count": 24,
     "metadata": {},
     "output_type": "execute_result"
    }
   ],
   "source": [
    "specs_func = qml.specs(circuit)\n",
    "specs_func(result.x)"
   ]
  },
  {
   "cell_type": "code",
   "execution_count": 25,
   "metadata": {},
   "outputs": [],
   "source": [
    "np.savetxt('5_qubit_data.out', x, delimiter=',')   # X is an array"
   ]
  },
  {
   "cell_type": "code",
   "execution_count": 26,
   "metadata": {},
   "outputs": [],
   "source": [
    "np.savetxt('5_qubit_weights.out', result.x, delimiter=',')   # weights is an array"
   ]
  },
  {
   "cell_type": "code",
   "execution_count": 27,
   "metadata": {},
   "outputs": [],
   "source": [
    "# D- = l\n",
    "l_ind_np = np.array(l_ind)\n",
    "np.savetxt('5_qubit_negative_indices.out', l_ind_np, delimiter=',')"
   ]
  }
 ],
 "metadata": {
  "colab": {
   "provenance": []
  },
  "kernelspec": {
   "display_name": "Python 3 (ipykernel)",
   "language": "python",
   "name": "python3"
  },
  "language_info": {
   "codemirror_mode": {
    "name": "ipython",
    "version": 3
   },
   "file_extension": ".py",
   "mimetype": "text/x-python",
   "name": "python",
   "nbconvert_exporter": "python",
   "pygments_lexer": "ipython3",
   "version": "3.10.12"
  }
 },
 "nbformat": 4,
 "nbformat_minor": 4
}
