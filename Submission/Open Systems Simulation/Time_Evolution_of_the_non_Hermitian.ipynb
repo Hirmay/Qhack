{
 "cells": [
  {
   "cell_type": "code",
   "execution_count": 104,
   "metadata": {
    "colab": {
     "base_uri": "https://localhost:8080/"
    },
    "id": "P0junK8SAgeN",
    "outputId": "8b0a8161-5ea7-4fef-9f8a-2e5018ea2812",
    "scrolled": true,
    "tags": []
   },
   "outputs": [
    {
     "name": "stdout",
     "output_type": "stream",
     "text": [
      "Defaulting to user installation because normal site-packages is not writeable\n",
      "Requirement already satisfied: pennylane in /usr/local/lib/python3.10/dist-packages (0.34.0)\n",
      "Requirement already satisfied: nftopt in /home/jupyter/.local/lib/python3.10/site-packages (0.0.1)\n",
      "Collecting cirq\n",
      "  Downloading cirq-1.3.0-py3-none-any.whl.metadata (7.5 kB)\n",
      "Requirement already satisfied: numpy in /usr/local/lib/python3.10/dist-packages (from pennylane) (1.26.3)\n",
      "Requirement already satisfied: scipy in /usr/local/lib/python3.10/dist-packages (from pennylane) (1.12.0)\n",
      "Requirement already satisfied: networkx in /usr/local/lib/python3.10/dist-packages (from pennylane) (3.2.1)\n",
      "Requirement already satisfied: rustworkx in /usr/local/lib/python3.10/dist-packages (from pennylane) (0.14.0)\n",
      "Requirement already satisfied: autograd in /usr/local/lib/python3.10/dist-packages (from pennylane) (1.6.2)\n",
      "Requirement already satisfied: toml in /usr/local/lib/python3.10/dist-packages (from pennylane) (0.10.2)\n",
      "Requirement already satisfied: appdirs in /usr/local/lib/python3.10/dist-packages (from pennylane) (1.4.4)\n",
      "Requirement already satisfied: semantic-version>=2.7 in /usr/local/lib/python3.10/dist-packages (from pennylane) (2.10.0)\n",
      "Requirement already satisfied: autoray>=0.6.1 in /usr/local/lib/python3.10/dist-packages (from pennylane) (0.6.8)\n",
      "Requirement already satisfied: cachetools in /usr/local/lib/python3.10/dist-packages (from pennylane) (5.3.2)\n",
      "Requirement already satisfied: pennylane-lightning>=0.34 in /usr/local/lib/python3.10/dist-packages (from pennylane) (0.34.0)\n",
      "Requirement already satisfied: requests in /usr/local/lib/python3.10/dist-packages (from pennylane) (2.31.0)\n",
      "Requirement already satisfied: typing-extensions in /usr/local/lib/python3.10/dist-packages (from pennylane) (4.9.0)\n",
      "Collecting cirq-aqt==1.3.0 (from cirq)\n",
      "  Downloading cirq_aqt-1.3.0-py3-none-any.whl.metadata (1.6 kB)\n",
      "Collecting cirq-core==1.3.0 (from cirq)\n",
      "  Downloading cirq_core-1.3.0-py3-none-any.whl.metadata (1.9 kB)\n",
      "Collecting cirq-ft==1.3.0 (from cirq)\n",
      "  Downloading cirq_ft-1.3.0-py3-none-any.whl.metadata (1.3 kB)\n",
      "Collecting cirq-google==1.3.0 (from cirq)\n",
      "  Downloading cirq_google-1.3.0-py3-none-any.whl.metadata (2.0 kB)\n",
      "Collecting cirq-ionq==1.3.0 (from cirq)\n",
      "  Downloading cirq_ionq-1.3.0-py3-none-any.whl.metadata (1.6 kB)\n",
      "Collecting cirq-pasqal==1.3.0 (from cirq)\n",
      "  Downloading cirq_pasqal-1.3.0-py3-none-any.whl.metadata (1.6 kB)\n",
      "Collecting cirq-rigetti==1.3.0 (from cirq)\n",
      "  Downloading cirq_rigetti-1.3.0-py3-none-any.whl.metadata (1.7 kB)\n",
      "Collecting cirq-web==1.3.0 (from cirq)\n",
      "  Downloading cirq_web-1.3.0-py3-none-any.whl.metadata (2.6 kB)\n",
      "Collecting duet~=0.2.8 (from cirq-core==1.3.0->cirq)\n",
      "  Downloading duet-0.2.9-py3-none-any.whl.metadata (2.3 kB)\n",
      "Requirement already satisfied: matplotlib~=3.0 in /usr/local/lib/python3.10/dist-packages (from cirq-core==1.3.0->cirq) (3.8.2)\n",
      "Collecting pandas (from cirq-core==1.3.0->cirq)\n",
      "  Downloading pandas-2.2.0-cp310-cp310-manylinux_2_17_x86_64.manylinux2014_x86_64.whl.metadata (19 kB)\n",
      "Collecting sortedcontainers~=2.0 (from cirq-core==1.3.0->cirq)\n",
      "  Downloading sortedcontainers-2.4.0-py2.py3-none-any.whl (29 kB)\n",
      "Requirement already satisfied: sympy in /home/jupyter/.local/lib/python3.10/site-packages (from cirq-core==1.3.0->cirq) (1.12)\n",
      "Collecting tqdm (from cirq-core==1.3.0->cirq)\n",
      "  Downloading tqdm-4.66.2-py3-none-any.whl.metadata (57 kB)\n",
      "\u001b[2K     \u001b[90m━━━━━━━━━━━━━━━━━━━━━━━━━━━━━━━━━━━━━━━━\u001b[0m \u001b[32m57.6/57.6 kB\u001b[0m \u001b[31m6.0 MB/s\u001b[0m eta \u001b[36m0:00:00\u001b[0m\n",
      "\u001b[?25hRequirement already satisfied: attrs in /usr/local/lib/python3.10/dist-packages (from cirq-ft==1.3.0->cirq) (23.2.0)\n",
      "Collecting ipywidgets (from cirq-ft==1.3.0->cirq)\n",
      "  Downloading ipywidgets-8.1.2-py3-none-any.whl.metadata (2.4 kB)\n",
      "Requirement already satisfied: nbconvert in /usr/local/lib/python3.10/dist-packages (from cirq-ft==1.3.0->cirq) (7.14.2)\n",
      "Requirement already satisfied: nbformat in /usr/local/lib/python3.10/dist-packages (from cirq-ft==1.3.0->cirq) (5.9.2)\n",
      "Collecting google-api-core>=1.14.0 (from google-api-core[grpc]>=1.14.0->cirq-google==1.3.0->cirq)\n",
      "  Downloading google_api_core-2.17.1-py3-none-any.whl.metadata (2.7 kB)\n",
      "Collecting proto-plus>=1.20.0 (from cirq-google==1.3.0->cirq)\n",
      "  Downloading proto_plus-1.23.0-py3-none-any.whl.metadata (2.2 kB)\n",
      "Requirement already satisfied: protobuf>=3.15.0 in /home/jupyter/.local/lib/python3.10/site-packages (from cirq-google==1.3.0->cirq) (4.25.3)\n",
      "Collecting pyquil<4.0.0,>=3.2.0 (from cirq-rigetti==1.3.0->cirq)\n",
      "  Downloading pyquil-3.5.4-py3-none-any.whl.metadata (11 kB)\n",
      "Requirement already satisfied: charset-normalizer<4,>=2 in /usr/local/lib/python3.10/dist-packages (from requests->pennylane) (3.3.2)\n",
      "Requirement already satisfied: idna<4,>=2.5 in /usr/local/lib/python3.10/dist-packages (from requests->pennylane) (3.6)\n",
      "Requirement already satisfied: urllib3<3,>=1.21.1 in /usr/local/lib/python3.10/dist-packages (from requests->pennylane) (2.1.0)\n",
      "Requirement already satisfied: certifi>=2017.4.17 in /usr/local/lib/python3.10/dist-packages (from requests->pennylane) (2023.11.17)\n",
      "Requirement already satisfied: future>=0.15.2 in /usr/local/lib/python3.10/dist-packages (from autograd->pennylane) (0.18.3)\n",
      "Collecting googleapis-common-protos<2.0.dev0,>=1.56.2 (from google-api-core>=1.14.0->google-api-core[grpc]>=1.14.0->cirq-google==1.3.0->cirq)\n",
      "  Downloading googleapis_common_protos-1.62.0-py2.py3-none-any.whl.metadata (1.5 kB)\n",
      "Requirement already satisfied: google-auth<3.0.dev0,>=2.14.1 in /home/jupyter/.local/lib/python3.10/site-packages (from google-api-core>=1.14.0->google-api-core[grpc]>=1.14.0->cirq-google==1.3.0->cirq) (2.28.0)\n",
      "Requirement already satisfied: grpcio<2.0dev,>=1.33.2 in /home/jupyter/.local/lib/python3.10/site-packages (from google-api-core[grpc]>=1.14.0->cirq-google==1.3.0->cirq) (1.60.1)\n",
      "Collecting grpcio-status<2.0.dev0,>=1.33.2 (from google-api-core[grpc]>=1.14.0->cirq-google==1.3.0->cirq)\n",
      "  Downloading grpcio_status-1.62.0-py3-none-any.whl.metadata (1.3 kB)\n",
      "Requirement already satisfied: contourpy>=1.0.1 in /usr/local/lib/python3.10/dist-packages (from matplotlib~=3.0->cirq-core==1.3.0->cirq) (1.2.0)\n",
      "Requirement already satisfied: cycler>=0.10 in /usr/local/lib/python3.10/dist-packages (from matplotlib~=3.0->cirq-core==1.3.0->cirq) (0.12.1)\n",
      "Requirement already satisfied: fonttools>=4.22.0 in /usr/local/lib/python3.10/dist-packages (from matplotlib~=3.0->cirq-core==1.3.0->cirq) (4.47.2)\n",
      "Requirement already satisfied: kiwisolver>=1.3.1 in /usr/local/lib/python3.10/dist-packages (from matplotlib~=3.0->cirq-core==1.3.0->cirq) (1.4.5)\n",
      "Requirement already satisfied: packaging>=20.0 in /usr/local/lib/python3.10/dist-packages (from matplotlib~=3.0->cirq-core==1.3.0->cirq) (23.2)\n",
      "Requirement already satisfied: pillow>=8 in /usr/local/lib/python3.10/dist-packages (from matplotlib~=3.0->cirq-core==1.3.0->cirq) (10.2.0)\n",
      "Requirement already satisfied: pyparsing>=2.3.1 in /usr/local/lib/python3.10/dist-packages (from matplotlib~=3.0->cirq-core==1.3.0->cirq) (3.1.1)\n",
      "Requirement already satisfied: python-dateutil>=2.7 in /usr/local/lib/python3.10/dist-packages (from matplotlib~=3.0->cirq-core==1.3.0->cirq) (2.8.2)\n",
      "Collecting deprecated<2.0.0,>=1.2.13 (from pyquil<4.0.0,>=3.2.0->cirq-rigetti==1.3.0->cirq)\n",
      "  Downloading Deprecated-1.2.14-py2.py3-none-any.whl.metadata (5.4 kB)\n",
      "Collecting lark<0.12.0,>=0.11.1 (from pyquil<4.0.0,>=3.2.0->cirq-rigetti==1.3.0->cirq)\n",
      "  Downloading lark-0.11.3.tar.gz (229 kB)\n",
      "\u001b[2K     \u001b[90m━━━━━━━━━━━━━━━━━━━━━━━━━━━━━━━━━━━━━━━\u001b[0m \u001b[32m229.9/229.9 kB\u001b[0m \u001b[31m8.4 MB/s\u001b[0m eta \u001b[36m0:00:00\u001b[0m\n",
      "\u001b[?25h  Preparing metadata (setup.py) ... \u001b[?25ldone\n",
      "\u001b[?25hCollecting qcs-api-client<0.22.0,>=0.21.0 (from pyquil<4.0.0,>=3.2.0->cirq-rigetti==1.3.0->cirq)\n",
      "  Downloading qcs_api_client-0.21.6-py3-none-any.whl.metadata (3.9 kB)\n",
      "Collecting rpcq<4.0.0,>=3.10.0 (from pyquil<4.0.0,>=3.2.0->cirq-rigetti==1.3.0->cirq)\n",
      "  Downloading rpcq-3.11.0.tar.gz (45 kB)\n",
      "\u001b[2K     \u001b[90m━━━━━━━━━━━━━━━━━━━━━━━━━━━━━━━━━━━━━━━━\u001b[0m \u001b[32m45.6/45.6 kB\u001b[0m \u001b[31m10.7 MB/s\u001b[0m eta \u001b[36m0:00:00\u001b[0m\n",
      "\u001b[?25h  Preparing metadata (setup.py) ... \u001b[?25ldone\n",
      "\u001b[?25hCollecting tenacity<9.0.0,>=8.2.2 (from pyquil<4.0.0,>=3.2.0->cirq-rigetti==1.3.0->cirq)\n",
      "  Downloading tenacity-8.2.3-py3-none-any.whl.metadata (1.0 kB)\n",
      "Collecting types-deprecated<2.0.0.0,>=1.2.9.2 (from pyquil<4.0.0,>=3.2.0->cirq-rigetti==1.3.0->cirq)\n",
      "  Downloading types_Deprecated-1.2.9.20240106-py3-none-any.whl.metadata (1.6 kB)\n",
      "Requirement already satisfied: types-python-dateutil<3.0.0,>=2.8.19 in /usr/local/lib/python3.10/dist-packages (from pyquil<4.0.0,>=3.2.0->cirq-rigetti==1.3.0->cirq) (2.8.19.20240106)\n",
      "Collecting types-retry<0.10.0,>=0.9.9 (from pyquil<4.0.0,>=3.2.0->cirq-rigetti==1.3.0->cirq)\n",
      "  Downloading types_retry-0.9.9.4-py3-none-any.whl.metadata (1.4 kB)\n",
      "Requirement already satisfied: comm>=0.1.3 in /usr/local/lib/python3.10/dist-packages (from ipywidgets->cirq-ft==1.3.0->cirq) (0.2.1)\n",
      "Requirement already satisfied: ipython>=6.1.0 in /usr/local/lib/python3.10/dist-packages (from ipywidgets->cirq-ft==1.3.0->cirq) (8.20.0)\n",
      "Requirement already satisfied: traitlets>=4.3.1 in /usr/local/lib/python3.10/dist-packages (from ipywidgets->cirq-ft==1.3.0->cirq) (5.14.1)\n",
      "Collecting widgetsnbextension~=4.0.10 (from ipywidgets->cirq-ft==1.3.0->cirq)\n",
      "  Downloading widgetsnbextension-4.0.10-py3-none-any.whl.metadata (1.6 kB)\n",
      "Collecting jupyterlab-widgets~=3.0.10 (from ipywidgets->cirq-ft==1.3.0->cirq)\n",
      "  Downloading jupyterlab_widgets-3.0.10-py3-none-any.whl.metadata (4.1 kB)\n",
      "Requirement already satisfied: beautifulsoup4 in /usr/local/lib/python3.10/dist-packages (from nbconvert->cirq-ft==1.3.0->cirq) (4.12.3)\n",
      "Requirement already satisfied: bleach!=5.0.0 in /usr/local/lib/python3.10/dist-packages (from nbconvert->cirq-ft==1.3.0->cirq) (6.1.0)\n",
      "Requirement already satisfied: defusedxml in /usr/local/lib/python3.10/dist-packages (from nbconvert->cirq-ft==1.3.0->cirq) (0.7.1)\n",
      "Requirement already satisfied: jinja2>=3.0 in /usr/local/lib/python3.10/dist-packages (from nbconvert->cirq-ft==1.3.0->cirq) (3.1.3)\n",
      "Requirement already satisfied: jupyter-core>=4.7 in /usr/local/lib/python3.10/dist-packages (from nbconvert->cirq-ft==1.3.0->cirq) (5.7.1)\n",
      "Requirement already satisfied: jupyterlab-pygments in /usr/local/lib/python3.10/dist-packages (from nbconvert->cirq-ft==1.3.0->cirq) (0.3.0)\n",
      "Requirement already satisfied: markupsafe>=2.0 in /usr/local/lib/python3.10/dist-packages (from nbconvert->cirq-ft==1.3.0->cirq) (2.1.4)\n",
      "Requirement already satisfied: mistune<4,>=2.0.3 in /usr/local/lib/python3.10/dist-packages (from nbconvert->cirq-ft==1.3.0->cirq) (3.0.2)\n",
      "Requirement already satisfied: nbclient>=0.5.0 in /usr/local/lib/python3.10/dist-packages (from nbconvert->cirq-ft==1.3.0->cirq) (0.9.0)\n",
      "Requirement already satisfied: pandocfilters>=1.4.1 in /usr/local/lib/python3.10/dist-packages (from nbconvert->cirq-ft==1.3.0->cirq) (1.5.1)\n",
      "Requirement already satisfied: pygments>=2.4.1 in /usr/local/lib/python3.10/dist-packages (from nbconvert->cirq-ft==1.3.0->cirq) (2.17.2)\n",
      "Requirement already satisfied: tinycss2 in /usr/local/lib/python3.10/dist-packages (from nbconvert->cirq-ft==1.3.0->cirq) (1.2.1)\n",
      "Requirement already satisfied: fastjsonschema in /usr/local/lib/python3.10/dist-packages (from nbformat->cirq-ft==1.3.0->cirq) (2.19.1)\n",
      "Requirement already satisfied: jsonschema>=2.6 in /usr/local/lib/python3.10/dist-packages (from nbformat->cirq-ft==1.3.0->cirq) (4.21.1)\n",
      "Collecting pytz>=2020.1 (from pandas->cirq-core==1.3.0->cirq)\n",
      "  Downloading pytz-2024.1-py2.py3-none-any.whl.metadata (22 kB)\n",
      "Collecting tzdata>=2022.7 (from pandas->cirq-core==1.3.0->cirq)\n",
      "  Downloading tzdata-2024.1-py2.py3-none-any.whl.metadata (1.4 kB)\n",
      "Requirement already satisfied: mpmath>=0.19 in /home/jupyter/.local/lib/python3.10/site-packages (from sympy->cirq-core==1.3.0->cirq) (1.3.0)\n",
      "Requirement already satisfied: six>=1.9.0 in /usr/local/lib/python3.10/dist-packages (from bleach!=5.0.0->nbconvert->cirq-ft==1.3.0->cirq) (1.16.0)\n",
      "Requirement already satisfied: webencodings in /usr/local/lib/python3.10/dist-packages (from bleach!=5.0.0->nbconvert->cirq-ft==1.3.0->cirq) (0.5.1)\n",
      "Requirement already satisfied: wrapt<2,>=1.10 in /home/jupyter/.local/lib/python3.10/site-packages (from deprecated<2.0.0,>=1.2.13->pyquil<4.0.0,>=3.2.0->cirq-rigetti==1.3.0->cirq) (1.14.1)\n",
      "Requirement already satisfied: pyasn1-modules>=0.2.1 in /home/jupyter/.local/lib/python3.10/site-packages (from google-auth<3.0.dev0,>=2.14.1->google-api-core>=1.14.0->google-api-core[grpc]>=1.14.0->cirq-google==1.3.0->cirq) (0.3.0)\n",
      "Requirement already satisfied: rsa<5,>=3.1.4 in /home/jupyter/.local/lib/python3.10/site-packages (from google-auth<3.0.dev0,>=2.14.1->google-api-core>=1.14.0->google-api-core[grpc]>=1.14.0->cirq-google==1.3.0->cirq) (4.9)\n",
      "Collecting grpcio<2.0dev,>=1.33.2 (from google-api-core[grpc]>=1.14.0->cirq-google==1.3.0->cirq)\n",
      "  Downloading grpcio-1.62.0-cp310-cp310-manylinux_2_17_x86_64.manylinux2014_x86_64.whl.metadata (4.0 kB)\n",
      "Requirement already satisfied: decorator in /usr/local/lib/python3.10/dist-packages (from ipython>=6.1.0->ipywidgets->cirq-ft==1.3.0->cirq) (5.1.1)\n",
      "Requirement already satisfied: jedi>=0.16 in /usr/local/lib/python3.10/dist-packages (from ipython>=6.1.0->ipywidgets->cirq-ft==1.3.0->cirq) (0.19.1)\n",
      "Requirement already satisfied: matplotlib-inline in /usr/local/lib/python3.10/dist-packages (from ipython>=6.1.0->ipywidgets->cirq-ft==1.3.0->cirq) (0.1.6)\n",
      "Requirement already satisfied: prompt-toolkit<3.1.0,>=3.0.41 in /usr/local/lib/python3.10/dist-packages (from ipython>=6.1.0->ipywidgets->cirq-ft==1.3.0->cirq) (3.0.43)\n",
      "Requirement already satisfied: stack-data in /usr/local/lib/python3.10/dist-packages (from ipython>=6.1.0->ipywidgets->cirq-ft==1.3.0->cirq) (0.6.3)\n",
      "Requirement already satisfied: exceptiongroup in /usr/local/lib/python3.10/dist-packages (from ipython>=6.1.0->ipywidgets->cirq-ft==1.3.0->cirq) (1.2.0)\n",
      "Requirement already satisfied: pexpect>4.3 in /usr/local/lib/python3.10/dist-packages (from ipython>=6.1.0->ipywidgets->cirq-ft==1.3.0->cirq) (4.9.0)\n",
      "Requirement already satisfied: jsonschema-specifications>=2023.03.6 in /usr/local/lib/python3.10/dist-packages (from jsonschema>=2.6->nbformat->cirq-ft==1.3.0->cirq) (2023.12.1)\n",
      "Requirement already satisfied: referencing>=0.28.4 in /usr/local/lib/python3.10/dist-packages (from jsonschema>=2.6->nbformat->cirq-ft==1.3.0->cirq) (0.33.0)\n",
      "Requirement already satisfied: rpds-py>=0.7.1 in /usr/local/lib/python3.10/dist-packages (from jsonschema>=2.6->nbformat->cirq-ft==1.3.0->cirq) (0.17.1)\n",
      "Requirement already satisfied: platformdirs>=2.5 in /usr/local/lib/python3.10/dist-packages (from jupyter-core>=4.7->nbconvert->cirq-ft==1.3.0->cirq) (4.1.0)\n",
      "Requirement already satisfied: jupyter-client>=6.1.12 in /usr/local/lib/python3.10/dist-packages (from nbclient>=0.5.0->nbconvert->cirq-ft==1.3.0->cirq) (8.6.0)\n",
      "Collecting PyJWT<3.0.0,>=2.4.0 (from qcs-api-client<0.22.0,>=0.21.0->pyquil<4.0.0,>=3.2.0->cirq-rigetti==1.3.0->cirq)\n",
      "  Downloading PyJWT-2.8.0-py3-none-any.whl.metadata (4.2 kB)\n",
      "INFO: pip is looking at multiple versions of qcs-api-client to determine which version is compatible with other requirements. This could take a while.\n",
      "Collecting qcs-api-client<0.22.0,>=0.21.0 (from pyquil<4.0.0,>=3.2.0->cirq-rigetti==1.3.0->cirq)\n",
      "  Downloading qcs_api_client-0.21.5-py3-none-any.whl.metadata (3.9 kB)\n",
      "  Downloading qcs_api_client-0.21.4-py3-none-any.whl.metadata (3.9 kB)\n",
      "  Downloading qcs_api_client-0.21.3-py3-none-any.whl.metadata (3.9 kB)\n",
      "  Downloading qcs_api_client-0.21.2-py3-none-any.whl.metadata (3.9 kB)\n",
      "  Downloading qcs_api_client-0.21.1-py3-none-any.whl.metadata (3.9 kB)\n",
      "  Downloading qcs_api_client-0.21.0-py3-none-any.whl.metadata (3.9 kB)\n",
      "Collecting jsonschema>=2.6 (from nbformat->cirq-ft==1.3.0->cirq)\n",
      "  Downloading jsonschema-4.21.1-py3-none-any.whl.metadata (7.8 kB)\n",
      "INFO: pip is still looking at multiple versions of qcs-api-client to determine which version is compatible with other requirements. This could take a while.\n",
      "INFO: This is taking longer than usual. You might need to provide the dependency resolver with stricter constraints to reduce runtime. See https://pip.pypa.io/warnings/backtracking for guidance. If you want to abort this run, press Ctrl + C.\n",
      "  Downloading jsonschema-4.21.0-py3-none-any.whl.metadata (8.0 kB)\n",
      "  Downloading jsonschema-4.20.0-py3-none-any.whl.metadata (8.1 kB)\n",
      "  Downloading jsonschema-4.19.2-py3-none-any.whl.metadata (7.9 kB)\n",
      "  Downloading jsonschema-4.19.1-py3-none-any.whl.metadata (7.9 kB)\n",
      "  Downloading jsonschema-4.19.0-py3-none-any.whl.metadata (8.2 kB)\n",
      "  Downloading jsonschema-4.18.6-py3-none-any.whl.metadata (7.8 kB)\n",
      "  Downloading jsonschema-4.18.5-py3-none-any.whl.metadata (7.7 kB)\n",
      "  Downloading jsonschema-4.18.4-py3-none-any.whl.metadata (7.8 kB)\n",
      "  Downloading jsonschema-4.18.3-py3-none-any.whl.metadata (7.9 kB)\n",
      "  Downloading jsonschema-4.18.2-py3-none-any.whl.metadata (7.8 kB)\n",
      "  Downloading jsonschema-4.18.1-py3-none-any.whl.metadata (7.8 kB)\n",
      "  Downloading jsonschema-4.18.0-py3-none-any.whl.metadata (10 kB)\n",
      "  Downloading jsonschema-4.17.3-py3-none-any.whl.metadata (7.9 kB)\n",
      "Collecting pyrsistent!=0.17.0,!=0.17.1,!=0.17.2,>=0.14.0 (from jsonschema>=2.6->nbformat->cirq-ft==1.3.0->cirq)\n",
      "  Downloading pyrsistent-0.20.0-cp310-cp310-manylinux_2_17_x86_64.manylinux2014_x86_64.whl.metadata (27 kB)\n",
      "Collecting attrs (from cirq-ft==1.3.0->cirq)\n",
      "  Downloading attrs-21.4.0-py2.py3-none-any.whl (60 kB)\n",
      "\u001b[2K     \u001b[90m━━━━━━━━━━━━━━━━━━━━━━━━━━━━━━━━━━━━━━━━\u001b[0m \u001b[32m60.6/60.6 kB\u001b[0m \u001b[31m14.0 MB/s\u001b[0m eta \u001b[36m0:00:00\u001b[0m\n",
      "\u001b[?25hCollecting httpx<0.24.0,>=0.23.0 (from qcs-api-client<0.22.0,>=0.21.0->pyquil<4.0.0,>=3.2.0->cirq-rigetti==1.3.0->cirq)\n",
      "  Downloading httpx-0.23.3-py3-none-any.whl.metadata (7.1 kB)\n",
      "Collecting iso8601<2.0.0,>=1.0.2 (from qcs-api-client<0.22.0,>=0.21.0->pyquil<4.0.0,>=3.2.0->cirq-rigetti==1.3.0->cirq)\n",
      "  Downloading iso8601-1.1.0-py3-none-any.whl.metadata (9.8 kB)\n",
      "Collecting pydantic<2.0.0,>=1.7.2 (from qcs-api-client<0.22.0,>=0.21.0->pyquil<4.0.0,>=3.2.0->cirq-rigetti==1.3.0->cirq)\n",
      "  Downloading pydantic-1.10.14-cp310-cp310-manylinux_2_17_x86_64.manylinux2014_x86_64.whl.metadata (150 kB)\n",
      "\u001b[2K     \u001b[90m━━━━━━━━━━━━━━━━━━━━━━━━━━━━━━━━━━━━━━\u001b[0m \u001b[32m150.2/150.2 kB\u001b[0m \u001b[31m29.4 MB/s\u001b[0m eta \u001b[36m0:00:00\u001b[0m\n",
      "\u001b[?25hCollecting retrying<2.0.0,>=1.3.3 (from qcs-api-client<0.22.0,>=0.21.0->pyquil<4.0.0,>=3.2.0->cirq-rigetti==1.3.0->cirq)\n",
      "  Downloading retrying-1.3.4-py3-none-any.whl.metadata (6.9 kB)\n",
      "Collecting rfc3339<7.0,>=6.2 (from qcs-api-client<0.22.0,>=0.21.0->pyquil<4.0.0,>=3.2.0->cirq-rigetti==1.3.0->cirq)\n",
      "  Downloading rfc3339-6.2-py3-none-any.whl (5.5 kB)\n",
      "Collecting msgpack<2.0,>=0.6 (from rpcq<4.0.0,>=3.10.0->pyquil<4.0.0,>=3.2.0->cirq-rigetti==1.3.0->cirq)\n",
      "  Downloading msgpack-1.0.7-cp310-cp310-manylinux_2_17_x86_64.manylinux2014_x86_64.whl.metadata (9.1 kB)\n",
      "Collecting python-rapidjson (from rpcq<4.0.0,>=3.10.0->pyquil<4.0.0,>=3.2.0->cirq-rigetti==1.3.0->cirq)\n",
      "  Downloading python_rapidjson-1.14-cp310-cp310-manylinux_2_17_x86_64.manylinux2014_x86_64.whl.metadata (21 kB)\n",
      "Requirement already satisfied: pyzmq>=17 in /usr/local/lib/python3.10/dist-packages (from rpcq<4.0.0,>=3.10.0->pyquil<4.0.0,>=3.2.0->cirq-rigetti==1.3.0->cirq) (25.1.2)\n",
      "Collecting ruamel.yaml (from rpcq<4.0.0,>=3.10.0->pyquil<4.0.0,>=3.2.0->cirq-rigetti==1.3.0->cirq)\n",
      "  Downloading ruamel.yaml-0.18.6-py3-none-any.whl.metadata (23 kB)\n",
      "Requirement already satisfied: soupsieve>1.2 in /usr/local/lib/python3.10/dist-packages (from beautifulsoup4->nbconvert->cirq-ft==1.3.0->cirq) (2.5)\n",
      "Collecting httpcore<0.17.0,>=0.15.0 (from httpx<0.24.0,>=0.23.0->qcs-api-client<0.22.0,>=0.21.0->pyquil<4.0.0,>=3.2.0->cirq-rigetti==1.3.0->cirq)\n",
      "  Downloading httpcore-0.16.3-py3-none-any.whl.metadata (16 kB)\n",
      "Collecting rfc3986<2,>=1.3 (from rfc3986[idna2008]<2,>=1.3->httpx<0.24.0,>=0.23.0->qcs-api-client<0.22.0,>=0.21.0->pyquil<4.0.0,>=3.2.0->cirq-rigetti==1.3.0->cirq)\n",
      "  Downloading rfc3986-1.5.0-py2.py3-none-any.whl (31 kB)\n",
      "Requirement already satisfied: sniffio in /usr/local/lib/python3.10/dist-packages (from httpx<0.24.0,>=0.23.0->qcs-api-client<0.22.0,>=0.21.0->pyquil<4.0.0,>=3.2.0->cirq-rigetti==1.3.0->cirq) (1.3.0)\n",
      "Requirement already satisfied: parso<0.9.0,>=0.8.3 in /usr/local/lib/python3.10/dist-packages (from jedi>=0.16->ipython>=6.1.0->ipywidgets->cirq-ft==1.3.0->cirq) (0.8.3)\n",
      "Requirement already satisfied: tornado>=6.2 in /usr/local/lib/python3.10/dist-packages (from jupyter-client>=6.1.12->nbclient>=0.5.0->nbconvert->cirq-ft==1.3.0->cirq) (6.4)\n",
      "Requirement already satisfied: ptyprocess>=0.5 in /usr/local/lib/python3.10/dist-packages (from pexpect>4.3->ipython>=6.1.0->ipywidgets->cirq-ft==1.3.0->cirq) (0.7.0)\n",
      "Requirement already satisfied: wcwidth in /usr/local/lib/python3.10/dist-packages (from prompt-toolkit<3.1.0,>=3.0.41->ipython>=6.1.0->ipywidgets->cirq-ft==1.3.0->cirq) (0.2.13)\n",
      "Requirement already satisfied: pyasn1<0.6.0,>=0.4.6 in /home/jupyter/.local/lib/python3.10/site-packages (from pyasn1-modules>=0.2.1->google-auth<3.0.dev0,>=2.14.1->google-api-core>=1.14.0->google-api-core[grpc]>=1.14.0->cirq-google==1.3.0->cirq) (0.5.1)\n",
      "Collecting ruamel.yaml.clib>=0.2.7 (from ruamel.yaml->rpcq<4.0.0,>=3.10.0->pyquil<4.0.0,>=3.2.0->cirq-rigetti==1.3.0->cirq)\n",
      "  Downloading ruamel.yaml.clib-0.2.8-cp310-cp310-manylinux_2_17_x86_64.manylinux2014_x86_64.manylinux_2_24_x86_64.whl.metadata (2.2 kB)\n",
      "Requirement already satisfied: executing>=1.2.0 in /usr/local/lib/python3.10/dist-packages (from stack-data->ipython>=6.1.0->ipywidgets->cirq-ft==1.3.0->cirq) (2.0.1)\n",
      "Requirement already satisfied: asttokens>=2.1.0 in /usr/local/lib/python3.10/dist-packages (from stack-data->ipython>=6.1.0->ipywidgets->cirq-ft==1.3.0->cirq) (2.4.1)\n",
      "Requirement already satisfied: pure-eval in /usr/local/lib/python3.10/dist-packages (from stack-data->ipython>=6.1.0->ipywidgets->cirq-ft==1.3.0->cirq) (0.2.2)\n",
      "Collecting h11<0.15,>=0.13 (from httpcore<0.17.0,>=0.15.0->httpx<0.24.0,>=0.23.0->qcs-api-client<0.22.0,>=0.21.0->pyquil<4.0.0,>=3.2.0->cirq-rigetti==1.3.0->cirq)\n",
      "  Downloading h11-0.14.0-py3-none-any.whl.metadata (8.2 kB)\n",
      "Requirement already satisfied: anyio<5.0,>=3.0 in /usr/local/lib/python3.10/dist-packages (from httpcore<0.17.0,>=0.15.0->httpx<0.24.0,>=0.23.0->qcs-api-client<0.22.0,>=0.21.0->pyquil<4.0.0,>=3.2.0->cirq-rigetti==1.3.0->cirq) (4.2.0)\n",
      "Downloading cirq-1.3.0-py3-none-any.whl (8.1 kB)\n",
      "Downloading cirq_aqt-1.3.0-py3-none-any.whl (27 kB)\n",
      "Downloading cirq_core-1.3.0-py3-none-any.whl (1.8 MB)\n",
      "\u001b[2K   \u001b[90m━━━━━━━━━━━━━━━━━━━━━━━━━━━━━━━━━━━━━━━━\u001b[0m \u001b[32m1.8/1.8 MB\u001b[0m \u001b[31m32.6 MB/s\u001b[0m eta \u001b[36m0:00:00\u001b[0ma \u001b[36m0:00:01\u001b[0m\n",
      "\u001b[?25hDownloading cirq_ft-1.3.0-py3-none-any.whl (143 kB)\n",
      "\u001b[2K   \u001b[90m━━━━━━━━━━━━━━━━━━━━━━━━━━━━━━━━━━━━━━━━\u001b[0m \u001b[32m143.1/143.1 kB\u001b[0m \u001b[31m30.4 MB/s\u001b[0m eta \u001b[36m0:00:00\u001b[0m\n",
      "\u001b[?25hDownloading cirq_google-1.3.0-py3-none-any.whl (598 kB)\n",
      "\u001b[2K   \u001b[90m━━━━━━━━━━━━━━━━━━━━━━━━━━━━━━━━━━━━━━━━\u001b[0m \u001b[32m598.8/598.8 kB\u001b[0m \u001b[31m58.9 MB/s\u001b[0m eta \u001b[36m0:00:00\u001b[0m\n",
      "\u001b[?25hDownloading cirq_ionq-1.3.0-py3-none-any.whl (60 kB)\n",
      "\u001b[2K   \u001b[90m━━━━━━━━━━━━━━━━━━━━━━━━━━━━━━━━━━━━━━━━\u001b[0m \u001b[32m60.9/60.9 kB\u001b[0m \u001b[31m21.4 MB/s\u001b[0m eta \u001b[36m0:00:00\u001b[0m\n",
      "\u001b[?25hDownloading cirq_pasqal-1.3.0-py3-none-any.whl (31 kB)\n",
      "Downloading cirq_rigetti-1.3.0-py3-none-any.whl (66 kB)\n",
      "\u001b[2K   \u001b[90m━━━━━━━━━━━━━━━━━━━━━━━━━━━━━━━━━━━━━━━━\u001b[0m \u001b[32m66.2/66.2 kB\u001b[0m \u001b[31m20.9 MB/s\u001b[0m eta \u001b[36m0:00:00\u001b[0m\n",
      "\u001b[?25hDownloading cirq_web-1.3.0-py3-none-any.whl (596 kB)\n",
      "\u001b[2K   \u001b[90m━━━━━━━━━━━━━━━━━━━━━━━━━━━━━━━━━━━━━━━━\u001b[0m \u001b[32m596.5/596.5 kB\u001b[0m \u001b[31m63.1 MB/s\u001b[0m eta \u001b[36m0:00:00\u001b[0m\n",
      "\u001b[?25hDownloading duet-0.2.9-py3-none-any.whl (29 kB)\n",
      "Downloading google_api_core-2.17.1-py3-none-any.whl (137 kB)\n",
      "\u001b[2K   \u001b[90m━━━━━━━━━━━━━━━━━━━━━━━━━━━━━━━━━━━━━━━━\u001b[0m \u001b[32m137.0/137.0 kB\u001b[0m \u001b[31m44.1 MB/s\u001b[0m eta \u001b[36m0:00:00\u001b[0m\n",
      "\u001b[?25hDownloading proto_plus-1.23.0-py3-none-any.whl (48 kB)\n",
      "\u001b[2K   \u001b[90m━━━━━━━━━━━━━━━━━━━━━━━━━━━━━━━━━━━━━━━━\u001b[0m \u001b[32m48.8/48.8 kB\u001b[0m \u001b[31m15.9 MB/s\u001b[0m eta \u001b[36m0:00:00\u001b[0m\n",
      "\u001b[?25hDownloading pyquil-3.5.4-py3-none-any.whl (223 kB)\n",
      "\u001b[2K   \u001b[90m━━━━━━━━━━━━━━━━━━━━━━━━━━━━━━━━━━━━━━━━\u001b[0m \u001b[32m223.8/223.8 kB\u001b[0m \u001b[31m56.5 MB/s\u001b[0m eta \u001b[36m0:00:00\u001b[0m\n",
      "\u001b[?25hDownloading ipywidgets-8.1.2-py3-none-any.whl (139 kB)\n",
      "\u001b[2K   \u001b[90m━━━━━━━━━━━━━━━━━━━━━━━━━━━━━━━━━━━━━━━━\u001b[0m \u001b[32m139.4/139.4 kB\u001b[0m \u001b[31m38.7 MB/s\u001b[0m eta \u001b[36m0:00:00\u001b[0m\n",
      "\u001b[?25hDownloading pandas-2.2.0-cp310-cp310-manylinux_2_17_x86_64.manylinux2014_x86_64.whl (13.0 MB)\n",
      "\u001b[2K   \u001b[90m━━━━━━━━━━━━━━━━━━━━━━━━━━━━━━━━━━━━━━━━\u001b[0m \u001b[32m13.0/13.0 MB\u001b[0m \u001b[31m68.3 MB/s\u001b[0m eta \u001b[36m0:00:00\u001b[0m00:01\u001b[0m00:01\u001b[0m\n",
      "\u001b[?25hDownloading tqdm-4.66.2-py3-none-any.whl (78 kB)\n",
      "\u001b[2K   \u001b[90m━━━━━━━━━━━━━━━━━━━━━━━━━━━━━━━━━━━━━━━━\u001b[0m \u001b[32m78.3/78.3 kB\u001b[0m \u001b[31m17.7 MB/s\u001b[0m eta \u001b[36m0:00:00\u001b[0m\n",
      "\u001b[?25hDownloading Deprecated-1.2.14-py2.py3-none-any.whl (9.6 kB)\n",
      "Downloading googleapis_common_protos-1.62.0-py2.py3-none-any.whl (228 kB)\n",
      "\u001b[2K   \u001b[90m━━━━━━━━━━━━━━━━━━━━━━━━━━━━━━━━━━━━━━━━\u001b[0m \u001b[32m228.7/228.7 kB\u001b[0m \u001b[31m45.3 MB/s\u001b[0m eta \u001b[36m0:00:00\u001b[0m\n",
      "\u001b[?25hDownloading grpcio_status-1.62.0-py3-none-any.whl (14 kB)\n",
      "Downloading grpcio-1.62.0-cp310-cp310-manylinux_2_17_x86_64.manylinux2014_x86_64.whl (5.5 MB)\n",
      "\u001b[2K   \u001b[90m━━━━━━━━━━━━━━━━━━━━━━━━━━━━━━━━━━━━━━━━\u001b[0m \u001b[32m5.5/5.5 MB\u001b[0m \u001b[31m75.4 MB/s\u001b[0m eta \u001b[36m0:00:00\u001b[0m00:01\u001b[0m00:01\u001b[0m\n",
      "\u001b[?25hDownloading jsonschema-4.17.3-py3-none-any.whl (90 kB)\n",
      "\u001b[2K   \u001b[90m━━━━━━━━━━━━━━━━━━━━━━━━━━━━━━━━━━━━━━━━\u001b[0m \u001b[32m90.4/90.4 kB\u001b[0m \u001b[31m31.0 MB/s\u001b[0m eta \u001b[36m0:00:00\u001b[0m\n",
      "\u001b[?25hDownloading qcs_api_client-0.21.6-py3-none-any.whl (151 kB)\n",
      "\u001b[2K   \u001b[90m━━━━━━━━━━━━━━━━━━━━━━━━━━━━━━━━━━━━━━━━\u001b[0m \u001b[32m151.7/151.7 kB\u001b[0m \u001b[31m39.7 MB/s\u001b[0m eta \u001b[36m0:00:00\u001b[0m\n",
      "\u001b[?25hDownloading jupyterlab_widgets-3.0.10-py3-none-any.whl (215 kB)\n",
      "\u001b[2K   \u001b[90m━━━━━━━━━━━━━━━━━━━━━━━━━━━━━━━━━━━━━━━━\u001b[0m \u001b[32m215.0/215.0 kB\u001b[0m \u001b[31m41.7 MB/s\u001b[0m eta \u001b[36m0:00:00\u001b[0m\n",
      "\u001b[?25hDownloading pytz-2024.1-py2.py3-none-any.whl (505 kB)\n",
      "\u001b[2K   \u001b[90m━━━━━━━━━━━━━━━━━━━━━━━━━━━━━━━━━━━━━━━━\u001b[0m \u001b[32m505.5/505.5 kB\u001b[0m \u001b[31m92.5 MB/s\u001b[0m eta \u001b[36m0:00:00\u001b[0m\n",
      "\u001b[?25hDownloading tenacity-8.2.3-py3-none-any.whl (24 kB)\n",
      "Downloading types_Deprecated-1.2.9.20240106-py3-none-any.whl (3.5 kB)\n",
      "Downloading types_retry-0.9.9.4-py3-none-any.whl (2.5 kB)\n",
      "Downloading tzdata-2024.1-py2.py3-none-any.whl (345 kB)\n",
      "\u001b[2K   \u001b[90m━━━━━━━━━━━━━━━━━━━━━━━━━━━━━━━━━━━━━━━━\u001b[0m \u001b[32m345.4/345.4 kB\u001b[0m \u001b[31m47.6 MB/s\u001b[0m eta \u001b[36m0:00:00\u001b[0m\n",
      "\u001b[?25hDownloading widgetsnbextension-4.0.10-py3-none-any.whl (2.3 MB)\n",
      "\u001b[2K   \u001b[90m━━━━━━━━━━━━━━━━━━━━━━━━━━━━━━━━━━━━━━━━\u001b[0m \u001b[32m2.3/2.3 MB\u001b[0m \u001b[31m76.3 MB/s\u001b[0m eta \u001b[36m0:00:00\u001b[0m\n",
      "\u001b[?25hDownloading httpx-0.23.3-py3-none-any.whl (71 kB)\n",
      "\u001b[2K   \u001b[90m━━━━━━━━━━━━━━━━━━━━━━━━━━━━━━━━━━━━━━━━\u001b[0m \u001b[32m71.5/71.5 kB\u001b[0m \u001b[31m7.3 MB/s\u001b[0m eta \u001b[36m0:00:00\u001b[0m\n",
      "\u001b[?25hDownloading iso8601-1.1.0-py3-none-any.whl (9.9 kB)\n",
      "Downloading msgpack-1.0.7-cp310-cp310-manylinux_2_17_x86_64.manylinux2014_x86_64.whl (530 kB)\n",
      "\u001b[2K   \u001b[90m━━━━━━━━━━━━━━━━━━━━━━━━━━━━━━━━━━━━━━━━\u001b[0m \u001b[32m530.8/530.8 kB\u001b[0m \u001b[31m72.2 MB/s\u001b[0m eta \u001b[36m0:00:00\u001b[0m\n",
      "\u001b[?25hDownloading pydantic-1.10.14-cp310-cp310-manylinux_2_17_x86_64.manylinux2014_x86_64.whl (3.1 MB)\n",
      "\u001b[2K   \u001b[90m━━━━━━━━━━━━━━━━━━━━━━━━━━━━━━━━━━━━━━━━\u001b[0m \u001b[32m3.1/3.1 MB\u001b[0m \u001b[31m81.1 MB/s\u001b[0m eta \u001b[36m0:00:00\u001b[0m:00:01\u001b[0m\n",
      "\u001b[?25hDownloading PyJWT-2.8.0-py3-none-any.whl (22 kB)\n",
      "Downloading pyrsistent-0.20.0-cp310-cp310-manylinux_2_17_x86_64.manylinux2014_x86_64.whl (117 kB)\n",
      "\u001b[2K   \u001b[90m━━━━━━━━━━━━━━━━━━━━━━━━━━━━━━━━━━━━━━━━\u001b[0m \u001b[32m117.7/117.7 kB\u001b[0m \u001b[31m34.4 MB/s\u001b[0m eta \u001b[36m0:00:00\u001b[0m\n",
      "\u001b[?25hDownloading retrying-1.3.4-py3-none-any.whl (11 kB)\n",
      "Downloading python_rapidjson-1.14-cp310-cp310-manylinux_2_17_x86_64.manylinux2014_x86_64.whl (1.7 MB)\n",
      "\u001b[2K   \u001b[90m━━━━━━━━━━━━━━━━━━━━━━━━━━━━━━━━━━━━━━━━\u001b[0m \u001b[32m1.7/1.7 MB\u001b[0m \u001b[31m87.7 MB/s\u001b[0m eta \u001b[36m0:00:00\u001b[0m\n",
      "\u001b[?25hDownloading ruamel.yaml-0.18.6-py3-none-any.whl (117 kB)\n",
      "\u001b[2K   \u001b[90m━━━━━━━━━━━━━━━━━━━━━━━━━━━━━━━━━━━━━━━━\u001b[0m \u001b[32m117.8/117.8 kB\u001b[0m \u001b[31m24.9 MB/s\u001b[0m eta \u001b[36m0:00:00\u001b[0m\n",
      "\u001b[?25hDownloading httpcore-0.16.3-py3-none-any.whl (69 kB)\n",
      "\u001b[2K   \u001b[90m━━━━━━━━━━━━━━━━━━━━━━━━━━━━━━━━━━━━━━━━\u001b[0m \u001b[32m69.6/69.6 kB\u001b[0m \u001b[31m27.0 MB/s\u001b[0m eta \u001b[36m0:00:00\u001b[0m\n",
      "\u001b[?25hDownloading ruamel.yaml.clib-0.2.8-cp310-cp310-manylinux_2_17_x86_64.manylinux2014_x86_64.manylinux_2_24_x86_64.whl (526 kB)\n",
      "\u001b[2K   \u001b[90m━━━━━━━━━━━━━━━━━━━━━━━━━━━━━━━━━━━━━━━━\u001b[0m \u001b[32m526.7/526.7 kB\u001b[0m \u001b[31m69.3 MB/s\u001b[0m eta \u001b[36m0:00:00\u001b[0m\n",
      "\u001b[?25hDownloading h11-0.14.0-py3-none-any.whl (58 kB)\n",
      "\u001b[2K   \u001b[90m━━━━━━━━━━━━━━━━━━━━━━━━━━━━━━━━━━━━━━━━\u001b[0m \u001b[32m58.3/58.3 kB\u001b[0m \u001b[31m14.4 MB/s\u001b[0m eta \u001b[36m0:00:00\u001b[0m\n",
      "\u001b[?25hBuilding wheels for collected packages: lark, rpcq\n",
      "  Building wheel for lark (setup.py) ... \u001b[?25ldone\n",
      "\u001b[?25h  Created wheel for lark: filename=lark-0.11.3-py2.py3-none-any.whl size=99648 sha256=156a6633d72b84dc75c8840f4a2112ecb9f3627639e04ae28c9144eef97028b2\n",
      "  Stored in directory: /home/jupyter/.cache/pip/wheels/7d/72/22/a2dbd112cf05c55adf2e1ead5fba8aa527b848f01cdd99687c\n",
      "  Building wheel for rpcq (setup.py) ... \u001b[?25ldone\n",
      "\u001b[?25h  Created wheel for rpcq: filename=rpcq-3.11.0-py3-none-any.whl size=45986 sha256=af8bc89c76ee8b99a1fb1152748f8b9b738de7068dd7a008f4268920b733e099\n",
      "  Stored in directory: /home/jupyter/.cache/pip/wheels/91/97/0a/b384d94155345284ec00712ab814cbfb5bc2b631080b4fa4c3\n",
      "Successfully built lark rpcq\n",
      "Installing collected packages: types-retry, sortedcontainers, rfc3986, rfc3339, pytz, lark, widgetsnbextension, tzdata, types-deprecated, tqdm, tenacity, ruamel.yaml.clib, retrying, python-rapidjson, pyrsistent, PyJWT, pydantic, proto-plus, msgpack, jupyterlab-widgets, iso8601, h11, grpcio, googleapis-common-protos, duet, deprecated, attrs, ruamel.yaml, pandas, jsonschema, httpcore, grpcio-status, rpcq, httpx, google-api-core, cirq-core, qcs-api-client, ipywidgets, cirq-web, cirq-pasqal, cirq-ionq, cirq-aqt, pyquil, cirq-google, cirq-rigetti, cirq-ft, cirq\n",
      "\u001b[33m  WARNING: The script tqdm is installed in '/home/jupyter/.local/bin' which is not on PATH.\n",
      "  Consider adding this directory to PATH or, if you prefer to suppress this warning, use --no-warn-script-location.\u001b[0m\u001b[33m\n",
      "\u001b[0m  Attempting uninstall: grpcio\n",
      "    Found existing installation: grpcio 1.60.1\n",
      "    Uninstalling grpcio-1.60.1:\n",
      "      Successfully uninstalled grpcio-1.60.1\n",
      "\u001b[33m  WARNING: The script jsonschema is installed in '/home/jupyter/.local/bin' which is not on PATH.\n",
      "  Consider adding this directory to PATH or, if you prefer to suppress this warning, use --no-warn-script-location.\u001b[0m\u001b[33m\n",
      "\u001b[0m\u001b[33m  WARNING: The script httpx is installed in '/home/jupyter/.local/bin' which is not on PATH.\n",
      "  Consider adding this directory to PATH or, if you prefer to suppress this warning, use --no-warn-script-location.\u001b[0m\u001b[33m\n",
      "\u001b[0m\u001b[31mERROR: pip's dependency resolver does not currently take into account all the packages that are installed. This behaviour is the source of the following dependency conflicts.\n",
      "jupyter-events 0.9.0 requires jsonschema[format-nongpl]>=4.18.0, but you have jsonschema 4.17.3 which is incompatible.\n",
      "jupyterlab-server 2.25.2 requires jsonschema>=4.18.0, but you have jsonschema 4.17.3 which is incompatible.\n",
      "referencing 0.33.0 requires attrs>=22.2.0, but you have attrs 21.4.0 which is incompatible.\u001b[0m\u001b[31m\n",
      "\u001b[0mSuccessfully installed PyJWT-2.8.0 attrs-21.4.0 cirq-1.3.0 cirq-aqt-1.3.0 cirq-core-1.3.0 cirq-ft-1.3.0 cirq-google-1.3.0 cirq-ionq-1.3.0 cirq-pasqal-1.3.0 cirq-rigetti-1.3.0 cirq-web-1.3.0 deprecated-1.2.14 duet-0.2.9 google-api-core-2.17.1 googleapis-common-protos-1.62.0 grpcio-1.62.0 grpcio-status-1.62.0 h11-0.14.0 httpcore-0.16.3 httpx-0.23.3 ipywidgets-8.1.2 iso8601-1.1.0 jsonschema-4.17.3 jupyterlab-widgets-3.0.10 lark-0.11.3 msgpack-1.0.7 pandas-2.2.0 proto-plus-1.23.0 pydantic-1.10.14 pyquil-3.5.4 pyrsistent-0.20.0 python-rapidjson-1.14 pytz-2024.1 qcs-api-client-0.21.6 retrying-1.3.4 rfc3339-6.2 rfc3986-1.5.0 rpcq-3.11.0 ruamel.yaml-0.18.6 ruamel.yaml.clib-0.2.8 sortedcontainers-2.4.0 tenacity-8.2.3 tqdm-4.66.2 types-deprecated-1.2.9.20240106 types-retry-0.9.9.4 tzdata-2024.1 widgetsnbextension-4.0.10\n"
     ]
    }
   ],
   "source": [
    "!pip install pennylane nftopt"
   ]
  },
  {
   "cell_type": "markdown",
   "metadata": {},
   "source": [
    "## Importing Libraries"
   ]
  },
  {
   "cell_type": "code",
   "execution_count": 68,
   "metadata": {
    "id": "X1R4BqZVC4DP",
    "tags": []
   },
   "outputs": [],
   "source": [
    "import pennylane as qml\n",
    "import math\n",
    "import numpy as np\n",
    "from scipy.linalg import block_diag\n",
    "from scipy import optimize\n",
    "# from nftopt import nakanishi_fujii_todo as nftmethod\n",
    "# from qiskit import QuantumCircuit\n",
    "# import qiskit.quantum_info as qi\n",
    "from scipy.linalg import expm, norm\n",
    "import matplotlib.pyplot as plt\n",
    "import numpy as np"
   ]
  },
  {
   "cell_type": "markdown",
   "metadata": {},
   "source": [
    "## First trying to prepare the initial state"
   ]
  },
  {
   "cell_type": "markdown",
   "metadata": {},
   "source": [
    "### Since our initial state contains all positive values, we'll use approach 1, which uses no ancillary qubits"
   ]
  },
  {
   "cell_type": "code",
   "execution_count": 180,
   "metadata": {
    "id": "ua0dLujbVZqM",
    "tags": []
   },
   "outputs": [],
   "source": [
    "# defing parameters\n",
    "n_qubits = 3\n",
    "wires=[i for i in range(n_qubits)]\n",
    "# lower depth works for our qubits\n",
    "depth = 4"
   ]
  },
  {
   "cell_type": "code",
   "execution_count": 181,
   "metadata": {
    "id": "5pgkcwU7XEPG",
    "tags": []
   },
   "outputs": [],
   "source": [
    "dev = qml.device(\"default.qubit\", wires = wires)"
   ]
  },
  {
   "cell_type": "code",
   "execution_count": 182,
   "metadata": {
    "id": "qLjwGxBHAlAo",
    "tags": []
   },
   "outputs": [],
   "source": [
    "# Set parameters, defining the initial state\n",
    "delta = 1.0\n",
    "Omega = 1.0\n",
    "gamma = 1.0\n",
    "Delta_t = 0.01\n",
    "alpha=np.sqrt(2)/2*delta*Delta_t;\n",
    "beta=(1-gamma*Delta_t/2);\n",
    "\n",
    "# defining normalized state vector x \n",
    "aa=[Delta_t*np.sqrt(2)/2*delta,Delta_t*gamma/4,np.sqrt(alpha**2+beta**2),Delta_t*gamma/4,Delta_t*gamma/4,Delta_t*gamma/4,Delta_t*gamma/4,Delta_t*gamma/4]\n",
    "x=np.sqrt(aa);\n",
    "norma=np.linalg.norm(x);\n",
    "x=x/np.linalg.norm(x);"
   ]
  },
  {
   "cell_type": "code",
   "execution_count": 183,
   "metadata": {
    "id": "FIvBgq9WCk6c",
    "tags": []
   },
   "outputs": [],
   "source": [
    "# Exact vector a\n",
    "alpha = np.sqrt(2)/2*delta*Delta_t\n",
    "beta = (1-gamma*Delta_t/2)"
   ]
  },
  {
   "cell_type": "markdown",
   "metadata": {},
   "source": [
    "#### Defining functions needed for the preparation"
   ]
  },
  {
   "cell_type": "code",
   "execution_count": 184,
   "metadata": {},
   "outputs": [],
   "source": [
    "def accuracy(labels, predictions):\n",
    "  state0 = qml.math.dm_from_state_vector(labels)\n",
    "  state1 = qml.math.dm_from_state_vector(predictions)\n",
    "  return qml.math.fidelity(state0, state1)"
   ]
  },
  {
   "cell_type": "code",
   "execution_count": 192,
   "metadata": {},
   "outputs": [],
   "source": [
    "def ansatz_layer_Ua(layer_weights, depth=depth, n_qubits=n_qubits):\n",
    "    # using the efficient SU2 ansatz, since that provided better performance than author's ansatz\n",
    "    # cntr=0\n",
    "    # for dep in range(depth):\n",
    "    #     for i in range(n_qubits):\n",
    "    #       qml.RY(layer_weights[cntr],i)\n",
    "    #       qml.RZ(layer_weights[cntr+1],i)\n",
    "    #       cntr+=2\n",
    "    #     for k in range(n_qubits):\n",
    "    #         for j in range(k+1,n_qubits):\n",
    "    #             qml.CNOT(wires=[k, j])\n",
    "    # for i in range(n_qubits):\n",
    "    #   qml.RY(layer_weights[cntr],i)\n",
    "    #   qml.RZ(layer_weights[cntr+1],i)\n",
    "    #   cntr+=2\n",
    "\n",
    "    #using the random gate structure with C PhaseFlip gates\n",
    "    cntr= 0\n",
    "    for dep in range(depth):\n",
    "         for i in range(n_qubits):\n",
    "            match gate_decider[cntr]:\n",
    "                case 0:\n",
    "                    qml.RX(layer_weights[cntr],i)\n",
    "                case 1:\n",
    "                    qml.RY(layer_weights[cntr],i)\n",
    "                case 2:\n",
    "                    qml.RZ(layer_weights[cntr],i)\n",
    "            cntr+=1\n",
    "            if i+1 != n_qubits:\n",
    "                qml.CZ(wires=[i,i+1])"
   ]
  },
  {
   "cell_type": "code",
   "execution_count": 186,
   "metadata": {},
   "outputs": [],
   "source": [
    "@qml.qnode(dev,diff_method=\"backprop\")\n",
    "def circuit(weights):\n",
    "  # since depth 4 was used\n",
    "  ansatz_layer_Ua(weights,depth=depth, n_qubits=n_qubits)\n",
    "  # qml.state() applies Ua to Ini State, which gives Appro_a\n",
    "  return qml.state()"
   ]
  },
  {
   "cell_type": "code",
   "execution_count": 187,
   "metadata": {},
   "outputs": [],
   "source": [
    "def variational_classifier(weights, x):\n",
    "    # weights are thetas\n",
    "    return np.real(circuit(weights))"
   ]
  },
  {
   "cell_type": "markdown",
   "metadata": {},
   "source": [
    "##### Defining the loss function"
   ]
  },
  {
   "cell_type": "code",
   "execution_count": 188,
   "metadata": {},
   "outputs": [],
   "source": [
    "def F1_loss(a,Appro_a, thetas):\n",
    "  global max_cost\n",
    "  #   Define the cost function\n",
    "  F1=(a[0]**2)*np.log2((Appro_a[0]**2)/(a[0]**2))+(a[1]**2)*np.log2((Appro_a[1]**2)/(a[1]**2))+(a[2]**2)*np.log2((Appro_a[2]**2)/(a[2]**2))\n",
    "  F2=(a[3]**2)*np.log2((Appro_a[3]**2)/(a[3]**2))+(a[4]**2)*np.log2((Appro_a[4]**2)/(a[4]**2))+(a[5]**2)*np.log2((Appro_a[5]**2)/(a[5]**2))\n",
    "  F3=(a[6]**2)*np.log2((Appro_a[6]**2)/(a[6]**2))+(a[7]**2)*np.log2((Appro_a[7]**2)/(a[7]**2))\n",
    "\n",
    "  #   Prepare the Bell state\n",
    "  Bell_State=np.ones((8,1))/np.linalg.norm(np.ones((8,1)))\n",
    "  #   The sum of vector a\n",
    "  Sum_a=np.sum(a)\n",
    "  sqrt_D = np.linalg.norm(np.ones((8,1)))\n",
    "  UaFunction=np.abs(Sum_a -  (sqrt_D * np.matmul(np.transpose(Bell_State), Appro_a)))-(F1+F2+F3)\n",
    "  if UaFunction < max_cost-0.01:\n",
    "      max_cost=UaFunction\n",
    "      print(max_cost)\n",
    "  # theta_print_factor=0.01\n",
    "  # if max_cost < theta_print_factor:\n",
    "  #     print(thetas)\n",
    "  return np.real(UaFunction)"
   ]
  },
  {
   "cell_type": "code",
   "execution_count": 189,
   "metadata": {},
   "outputs": [],
   "source": [
    "def cost(weights, X=x):\n",
    "    # X is our preparation state, Appro_a is our approximation\n",
    "    Appro_a = variational_classifier(weights, X)\n",
    "    return F1_loss(X, Appro_a, weights)"
   ]
  },
  {
   "cell_type": "code",
   "execution_count": 195,
   "metadata": {
    "scrolled": true
   },
   "outputs": [
    {
     "name": "stdout",
     "output_type": "stream",
     "text": [
      "[0.89936703]\n",
      "[0.83320752]\n",
      "[0.83079092]\n",
      "[0.91021543]\n",
      "[0.87585324]\n",
      "[0.79797818]\n",
      "[0.87481594]\n",
      "[0.80195829]\n",
      "[0.75398214]\n",
      "[0.79893177]\n",
      "[0.9715419]\n",
      "[0.74568955]\n",
      "[0.83253996]\n",
      "[0.98937017]\n",
      "[0.85371109]\n",
      "[0.49929271][0.92455386]\n",
      "[0.78573877]\n",
      "\n",
      "[0.84933444]\n",
      "[0.84970856]\n",
      "[0.8394239]\n",
      "[0.63283492]\n",
      "[0.74758515]\n",
      "[0.75919417]\n",
      "[0.47239823]\n",
      "[0.91684264]\n",
      "[0.83920656]\n",
      "[0.82643499]\n",
      "[0.60673807]\n",
      "[0.89762797]\n",
      "[0.98700973]\n",
      "[0.92637254]\n",
      "[0.5837372]\n",
      "[0.91711809]\n",
      "[0.8865757]\n",
      "[0.60620683]\n",
      "[0.70121376]\n",
      "[0.77146713]\n",
      "[0.77194064]\n",
      "[0.97814374]\n",
      "[0.63322152][0.9802608]\n",
      "\n",
      "[0.840717]\n",
      "[0.51690847]\n",
      "[0.70642398]\n",
      "[0.9099772]\n",
      "[0.91479578]\n",
      "[0.79560345]\n",
      "[0.85757436]\n",
      "[0.73393328]\n",
      "[0.7728514]\n",
      "[0.84131406]\n",
      "[0.83336779]\n",
      "[0.69782226]\n",
      "[0.82100048]\n",
      "[0.96102385]\n",
      "[0.90163139]\n",
      "[0.70010319]\n",
      "[0.61336175]\n",
      "[0.98722295]\n",
      "[0.82067701]\n",
      "[0.6483149]\n",
      "[0.98260026]\n",
      "[0.7442937]\n",
      "[0.69896261]\n",
      "[0.87649593]\n",
      "[0.66753431]\n",
      "[0.8803118]\n",
      "[0.96134564]\n",
      "[0.90945399]\n",
      "[0.90385527]\n",
      "[0.92909078][0.66921072]\n",
      "\n",
      "[0.79773814]\n",
      "[0.51146815]\n",
      "[0.66748285]\n",
      "[0.70733483]\n",
      "[0.75853901][0.63924309]\n",
      "\n",
      "[0.72539341]\n",
      "[0.38956139]\n",
      "[0.75820229]\n",
      "[0.91514875]\n",
      "[0.73884839]\n",
      "[0.68729083]\n",
      "[0.8132226]\n",
      "[0.72560682]\n",
      "[0.91796869]\n",
      "[0.50009501]\n",
      "[0.449577]\n",
      "[0.90194394]\n",
      "[0.77883622]\n",
      "[0.964735]\n",
      "[0.58167176]\n",
      "[0.60446519]\n",
      "[0.98981635]\n",
      "[0.83998631]\n",
      "[0.43663841]\n",
      "[0.93938437]\n",
      "[0.65485945]\n",
      "[0.6442285]\n",
      "[0.98688671]\n",
      "[0.73429579]\n",
      "[0.43253474]\n",
      "[0.46749876]\n",
      "[0.94072014]\n",
      "[0.95073301]\n",
      "[0.97485477][0.87375696]\n",
      "\n",
      "[0.37631559]\n",
      "[0.51989112]\n",
      "[0.72063233]\n",
      "[0.48032922]\n",
      "[0.83664651]\n",
      "[0.89439959]\n",
      "[0.69485666]\n",
      "[0.79883704]\n",
      "[0.39668573]\n",
      "[0.81975586]\n",
      "[0.73199475]\n",
      "[0.91130116]\n",
      "[0.72113507]\n",
      "[0.46981648]\n",
      "[0.73745175]\n",
      "[0.62195837]\n",
      "[0.87660893]\n",
      "[0.64676543]\n",
      "[0.45782615]\n",
      "[0.70437877]\n",
      "[0.97234463]\n",
      "[0.47384428][0.65959319]\n",
      "\n",
      "[0.66517231]\n",
      "[0.57478473]\n",
      "[0.38408254][0.64110052]\n",
      "\n",
      "[0.90503099]\n",
      "[0.796626]\n",
      "[0.94125206]\n",
      "[0.59886502]\n",
      "[0.74428446]\n",
      "[0.89325255]\n",
      "[0.77390214]\n",
      "[0.70767007]\n",
      "[0.44071063]\n",
      "[0.54044471]\n",
      "[0.62264968]\n",
      "[0.63211785]\n",
      "[0.96069037]\n",
      "[0.67254056]\n",
      "[0.94100631]\n",
      "[0.41931794]\n",
      "[0.47675181]\n",
      "[0.79633641]\n",
      "[0.65450265]\n",
      "[0.98638072]\n",
      "[0.84506167]\n",
      "[0.66086291]\n",
      "[0.91890458]\n",
      "[0.62175444]\n",
      "[0.67087616]\n",
      "[0.90927852]\n",
      "[0.60395828]\n",
      "[0.26962413]\n",
      "[0.40909457]\n",
      "[0.84321552]\n",
      "[0.89500318]\n",
      "[0.71839918]\n",
      "[0.65768438]\n",
      "[0.88785762]\n",
      "[0.36279891]\n",
      "[0.53227204]\n",
      "[0.75246199]\n",
      "[0.31038512]\n",
      "[0.5585418]\n",
      "[0.545434]\n",
      "[0.77214704]\n",
      "[0.86193861]\n",
      "[0.90839587]\n",
      "[0.78991941]\n",
      "[0.67806577]\n",
      "[0.57053605]\n",
      "[0.7273156]\n",
      "[0.55889349]\n",
      "[0.78828335]\n",
      "[0.70879296]\n",
      "[0.71734346]\n",
      "[0.75304272]\n",
      "[0.47453968]\n",
      "[0.83927984]\n",
      "[0.86584234]\n",
      "[0.51741225]\n",
      "[0.54447703]\n",
      "[0.61891646]\n",
      "[0.78092856]\n",
      "[0.44465472]\n",
      "[0.4893952]\n",
      "[0.59450605]\n",
      "[0.56808908]\n",
      "[0.57119227]\n",
      "[0.85864528]\n",
      "[0.63601019]\n",
      "[0.91969351]\n",
      "[0.30666254]\n",
      "[0.90876944]\n",
      "[0.86537604]\n",
      "[0.7037096]\n",
      "[0.96758095]\n",
      "[0.52640791]\n",
      "[0.5157628]\n",
      "[0.78772164]\n",
      "[0.73819643]\n",
      "[0.53931967]\n",
      "[0.67753382]\n",
      "[0.84162186]\n",
      "[0.66260018]\n",
      "[0.83441413]\n",
      "[0.73445374]\n",
      "[0.75947632]\n",
      "[0.58242331]\n",
      "[0.65647202]\n",
      "[0.71573707]\n",
      "[0.85079896]\n",
      "[0.63382663]\n",
      "[0.61105349]\n",
      "[0.96275719]\n",
      "[0.74175539]\n",
      "[0.34331922]\n",
      "[0.78271931]\n",
      "[0.47967342]\n",
      "[0.5979579]\n",
      "[0.65827332]\n",
      "[0.29631606]\n",
      "[0.78601618]\n",
      "[0.52516127]\n",
      "[0.86351735]\n",
      "[0.83521916]\n",
      "[0.80144258]\n",
      "[0.59609798]\n",
      "[0.27295793]\n",
      "[0.42346136]\n",
      "[0.40839536]\n",
      "[0.44163023]\n",
      "[0.34325394]\n",
      "[0.54945973]\n",
      "[0.63002509]\n",
      "[0.54164358]\n",
      "[0.98985296]\n",
      "[0.26962413]\n",
      "[0.22936072]\n",
      "[0.21048623]\n",
      "[0.14567642]\n",
      "[0.1230361]\n",
      "[0.11223037]\n",
      "[0.09758166]\n"
     ]
    }
   ],
   "source": [
    "# printing the cost, just to see effectiveness of minimize methods\n",
    "max_cost= 1\n",
    "# for deciding random circuits\n",
    "param_num = n_qubits*depth\n",
    "gate_decider = np.random.randint(3, size=param_num)\n",
    "weights=4*np.pi*np.random.rand(param_num)\n",
    "bounds = [(0, 4*np.pi)]*len(weights)\n",
    "result= optimize.differential_evolution(cost, bounds,maxiter=2000, x0=weights, mutation=(0.5,1.2),popsize=20, workers=-1, tol=1e-3)#optimize.dual_annealing(cost, bounds,maxiter=300, x0=weights,initial_temp=10**4)"
   ]
  },
  {
   "cell_type": "code",
   "execution_count": 84,
   "metadata": {},
   "outputs": [
    {
     "name": "stdout",
     "output_type": "stream",
     "text": [
      "[ 3.30878217  6.98384882  6.06375519  2.33229351  2.54408835  9.17930314\n",
      "  0.19086799 10.67248359  1.29418114  1.16329476  3.15607829  6.51101469\n",
      "  9.23705349  4.57354318 11.03925065  1.19358174  5.8770505   3.56503638\n",
      "  9.45871296  9.33999659  7.55102784  4.48873571  1.72465797  4.9100174\n",
      "  9.38889579 10.26104615  9.35028035 11.56169551  4.19650682  3.13755318]\n"
     ]
    }
   ],
   "source": [
    "print(result.x)"
   ]
  },
  {
   "cell_type": "markdown",
   "metadata": {},
   "source": [
    "#### Printing the accuracy"
   ]
  },
  {
   "cell_type": "code",
   "execution_count": 85,
   "metadata": {},
   "outputs": [
    {
     "name": "stdout",
     "output_type": "stream",
     "text": [
      "[ 0.10018887  0.06709122  0.98350083 -0.03663443  0.06353929  0.06513062\n",
      "  0.06685325  0.0602687 ] [0.08337992 0.049578   0.98909045 0.049578   0.049578   0.049578\n",
      " 0.049578   0.049578  ]\n"
     ]
    },
    {
     "data": {
      "text/plain": [
       "0.9906552950789766"
      ]
     },
     "execution_count": 85,
     "metadata": {},
     "output_type": "execute_result"
    }
   ],
   "source": [
    "predictions=variational_classifier(result.x,x)\n",
    "acc = accuracy(x, predictions)\n",
    "print(predictions.numpy(), x)\n",
    "acc"
   ]
  },
  {
   "cell_type": "code",
   "execution_count": 86,
   "metadata": {},
   "outputs": [],
   "source": [
    "# since we wanted to keep this file clean, we avoided running it all over again\n",
    "Appro_a=predictions.numpy()"
   ]
  },
  {
   "cell_type": "markdown",
   "metadata": {},
   "source": [
    "#### Getting the Unitary operator for preparing the Initial State"
   ]
  },
  {
   "cell_type": "code",
   "execution_count": 87,
   "metadata": {},
   "outputs": [],
   "source": [
    "# getting a\n",
    "#based on the formulation of the paper\n",
    "Ua_matrix = qml.matrix(ansatz_layer_Ua, wire_order=wires)\n",
    "\n",
    "Ua_theta_opt = np.matrix(Ua_matrix(result.x))"
   ]
  },
  {
   "cell_type": "markdown",
   "metadata": {},
   "source": [
    "## Preparation of evolution unitary operator"
   ]
  },
  {
   "cell_type": "markdown",
   "metadata": {},
   "source": [
    "### Getting the actual unitary"
   ]
  },
  {
   "cell_type": "code",
   "execution_count": 30,
   "metadata": {
    "id": "5izhLjrJGm1S",
    "tags": []
   },
   "outputs": [],
   "source": [
    "# Pauli operators\n",
    "I = np.eye(2)\n",
    "X = np.array([[0,1],[1,0]])\n",
    "Y = np.array([[0, -1j], [1j, 0]])\n",
    "Z = np.array([[1, 0], [0, -1]])\n",
    "Hadamard = np.array([[1, 1], [1, -1]]) / np.sqrt(2)"
   ]
  },
  {
   "cell_type": "code",
   "execution_count": 31,
   "metadata": {
    "id": "yv3rdqNdDJL3",
    "tags": []
   },
   "outputs": [],
   "source": [
    "# The non-Hermitian operator H\n",
    "\n",
    "H0 = np.kron(I,1j*Hadamard)\n",
    "H1 = np.kron(I,-Z)\n",
    "H2 = np.kron((-1j * alpha * Hadamard + beta * I) / np.sqrt(alpha**2 + beta**2), I)\n",
    "H3 = np.kron(-Z,I)\n",
    "H4 = np.kron(X,X)\n",
    "H5 = np.kron(X,-1j*Y)\n",
    "H6 = np.kron(-1j*Y,X)\n",
    "H7 = np.kron(-Y,Y)"
   ]
  },
  {
   "cell_type": "code",
   "execution_count": 32,
   "metadata": {
    "id": "2ecbpsQqfGkX",
    "tags": []
   },
   "outputs": [],
   "source": [
    "# The non-Hermitian operator Q\n",
    "\n",
    "I_4 = np.eye(4)\n",
    "\n",
    "Q0 = I_4 + Delta_t*H0\n",
    "Q1 = I_4 + Delta_t*H1\n",
    "Q2 = I_4 + Delta_t*H2\n",
    "Q3 = I_4 + Delta_t*H3\n",
    "Q4 = I_4 + Delta_t*H4\n",
    "Q5 = I_4 + Delta_t*H5\n",
    "Q6 = I_4 + Delta_t*H6\n",
    "Q7 = I_4 + Delta_t*H7\n",
    "Q_i = np.array([Q0,Q1,Q2,Q3,Q4,Q5,Q6,Q7])"
   ]
  },
  {
   "cell_type": "code",
   "execution_count": 33,
   "metadata": {
    "tags": []
   },
   "outputs": [],
   "source": [
    "Q =0\n",
    "for i in range(len(aa)):\n",
    "    Q+= aa[i]*Q_i"
   ]
  },
  {
   "cell_type": "code",
   "execution_count": 34,
   "metadata": {},
   "outputs": [],
   "source": [
    "# unitary checker\n",
    "def is_unitary(m):\n",
    "    return np.allclose(np.eye(m.shape[0]), m.H * m)"
   ]
  },
  {
   "cell_type": "code",
   "execution_count": 35,
   "metadata": {
    "colab": {
     "base_uri": "https://localhost:8080/"
    },
    "id": "Yn-LYKOMgiyx",
    "outputId": "4d106f8d-c6d5-461d-85d1-ccef88ce2874",
    "scrolled": true,
    "tags": []
   },
   "outputs": [
    {
     "name": "stdout",
     "output_type": "stream",
     "text": [
      "[[ 1.  +0.00707107j  0.  +0.00707107j  0.  +0.j         ...\n",
      "   0.  +0.j          0.  +0.j          0.  +0.j        ]\n",
      " [ 0.  +0.00707107j  1.  -0.00707107j  0.  +0.j         ...\n",
      "   0.  +0.j          0.  +0.j          0.  +0.j        ]\n",
      " [ 0.  +0.j          0.  +0.j          1.  +0.00707107j ...\n",
      "   0.  +0.j          0.  +0.j          0.  +0.j        ]\n",
      " ...\n",
      " [ 0.  +0.j          0.  +0.j          0.  +0.j         ...\n",
      "   1.  +0.j         -0.01+0.j          0.  +0.j        ]\n",
      " [ 0.  +0.j          0.  +0.j          0.  +0.j         ...\n",
      "  -0.01+0.j          1.  +0.j          0.  +0.j        ]\n",
      " [ 0.  +0.j          0.  +0.j          0.  +0.j         ...\n",
      "   0.  +0.j          0.  +0.j          1.  +0.j        ]]\n",
      "False\n"
     ]
    }
   ],
   "source": [
    "# Multi-controlled unitary\n",
    "Lambda_Q_actual = np.asmatrix(block_diag(Q0, Q1, Q2, Q3, Q4, Q5, Q6, Q7))\n",
    "\n",
    "print(Lambda_Q_actual)\n",
    "print(is_unitary(Lambda_Q_actual))"
   ]
  },
  {
   "cell_type": "markdown",
   "metadata": {},
   "source": [
    "### The circuit and optimization configuration"
   ]
  },
  {
   "cell_type": "code",
   "execution_count": 260,
   "metadata": {},
   "outputs": [],
   "source": [
    "# defing parameters\n",
    "n_qubits = 5\n",
    "wires=[i for i in range(n_qubits)]\n",
    "# lower depth works for our qubits\n",
    "depth = 10"
   ]
  },
  {
   "cell_type": "code",
   "execution_count": 261,
   "metadata": {
    "id": "g9wcAyPtd8A8",
    "tags": []
   },
   "outputs": [],
   "source": [
    "# @qml.qnode(dev,diff_method=\"backprop\")\n",
    "def circuit(weights):\n",
    "  # returning the matrix itself, since it'll be the component needed for simulation\n",
    "  return Uq_theta(weights)"
   ]
  },
  {
   "cell_type": "code",
   "execution_count": 262,
   "metadata": {
    "id": "zf8oyQCid9J3",
    "tags": []
   },
   "outputs": [],
   "source": [
    "def accuracy__unitary_matrices(u1, u2):\n",
    "    #qml.HilbertSchmidt\n",
    "  state0 = qml.math.dm_from_state_vector(labels)\n",
    "  state1 = qml.math.dm_from_state_vector(predictions)\n",
    "  return qml.math.fidelity(state0, state1)"
   ]
  },
  {
   "cell_type": "code",
   "execution_count": 263,
   "metadata": {
    "colab": {
     "base_uri": "https://localhost:8080/"
    },
    "id": "oGy02sWBeHR0",
    "outputId": "a19c7649-1920-4ebc-b408-3980e0271624",
    "tags": []
   },
   "outputs": [
    {
     "data": {
      "text/plain": [
       "<default.qubit device (wires=5) at 0x7f827a48cf40>"
      ]
     },
     "execution_count": 263,
     "metadata": {},
     "output_type": "execute_result"
    }
   ],
   "source": [
    "dev = qml.device(\"default.qubit\",wires=wires)\n",
    "dev"
   ]
  },
  {
   "cell_type": "code",
   "execution_count": 264,
   "metadata": {
    "id": "yJE72biceaAs"
   },
   "outputs": [],
   "source": [
    "def variational_classifier(weights):\n",
    "    # weights are thetas\n",
    "    # np.real(Ua|0>)\n",
    "    return circuit(weights)"
   ]
  },
  {
   "cell_type": "code",
   "execution_count": 265,
   "metadata": {
    "id": "MZhfreSdiKfx"
   },
   "outputs": [],
   "source": [
    "def g_beta_loss(Uq_theta):\n",
    "\n",
    "  UqFunction = np.abs(1-1/(32**2) * np.trace(np.matmul(Uq_theta.H,Lambda_Q_actual))**2)\n",
    "  return UqFunction\n"
   ]
  },
  {
   "cell_type": "code",
   "execution_count": 266,
   "metadata": {
    "id": "YhPQ67imgq91"
   },
   "outputs": [],
   "source": [
    "def cost(weights):\n",
    "    # X is our preparation state\n",
    "    Uq_theta = variational_classifier(weights)\n",
    "    return g_beta_loss(Uq_theta)"
   ]
  },
  {
   "cell_type": "code",
   "execution_count": 267,
   "metadata": {
    "id": "FDm_GtEjM8wE"
   },
   "outputs": [],
   "source": [
    "#UqLay\n",
    "def ansatz_layer_Uq(layer_weights,depth=depth, n_qubits=n_qubits):\n",
    "    # cntr = 0\n",
    "    # for dep in range(depth):\n",
    "    #     for wire in range(n_qubits):\n",
    "    #       qml.RZ(layer_weights[cntr+wire], wires = wire)\n",
    "    #       qml.RY(layer_weights[cntr+wire+n_qubits], wires = wire)\n",
    "    #       qml.RZ(layer_weights[cntr+wire+2*n_qubits], wires = wire)\n",
    "    #     cntr += 15\n",
    "    #     qml.CRY(layer_weights[cntr], wires = [0,1])\n",
    "    #     qml.CRY(layer_weights[cntr+1], wires = [2,3])\n",
    "    #     qml.CRY(layer_weights[cntr+2], wires = [1,2])\n",
    "    #     qml.CRY(layer_weights[cntr+3], wires = [3,4])\n",
    "    #     qml.CRY(layer_weights[cntr+4], wires = [4,0])\n",
    "    #     cntr+=5\n",
    "    #Using Efficient SU2 provided much better results with lower depth\n",
    "    # cntr=0\n",
    "    # for dep in range(depth):\n",
    "    #     for i in range(n_qubits):\n",
    "    #       qml.RY(layer_weights[cntr],i)\n",
    "    #       qml.RZ(layer_weights[cntr+1],i)\n",
    "    #       cntr+=2\n",
    "    #     for k in range(n_qubits):\n",
    "    #         for j in range(k+1,n_qubits):\n",
    "    #             qml.CNOT(wires=[k, j])\n",
    "    # for i in range(n_qubits):\n",
    "    #   qml.RY(layer_weights[cntr],i)\n",
    "    #   qml.RZ(layer_weights[cntr+1],i)\n",
    "    #   cntr+=2\n",
    "\n",
    "    # # random unitary results in fastest convergence, logical framework\n",
    "    cntr= 0\n",
    "    for dep in range(depth):\n",
    "         for i in range(n_qubits):\n",
    "            match gate_decider[cntr]:\n",
    "                case 0:\n",
    "                    qml.RX(layer_weights[cntr],i)\n",
    "                case 1:\n",
    "                    qml.RY(layer_weights[cntr],i)\n",
    "                case 2:\n",
    "                    qml.RZ(layer_weights[cntr],i)\n",
    "            cntr+=1\n",
    "            if i+1 != n_qubits:\n",
    "                qml.CZ(wires=[i,i+1])\n",
    "                \n",
    "def ansatz_layer_Uq_qiskit(layer_weights,depth=depth, n_qubits=n_qubits):\n",
    "    cntr = 0\n",
    "    qc=QuantumCircuit(n_qubits)\n",
    "    for dep in range(depth):\n",
    "        for wire in range(n_qubits):\n",
    "          qc.rz(layer_weights[cntr+wire],  wire)\n",
    "          qc.ry(layer_weights[cntr+wire+n_qubits], wire)\n",
    "          qc.rz(layer_weights[cntr+wire+(2*n_qubits)], wire)\n",
    "        cntr += (3*n_qubits)\n",
    "\n",
    "        qc.cry(layer_weights[cntr],  0,1)\n",
    "        qc.cry(layer_weights[cntr+1],1,2)\n",
    "        qc.cry(layer_weights[cntr+2], 2,3)\n",
    "        qc.cry(layer_weights[cntr+3], 3,4)\n",
    "        qc.cry(layer_weights[cntr+4],4,0)\n",
    "        cntr+=5\n",
    "    return qc\n"
   ]
  },
  {
   "cell_type": "code",
   "execution_count": 268,
   "metadata": {
    "id": "v_LCjLwFjDui"
   },
   "outputs": [],
   "source": [
    "#no of params\n",
    "gate_decider = np.random.randint(3, size=param_num)\n",
    "param_num = (n_qubits)*depth#depth*(3*n_qubits + 5)\n",
    "weights = 4*np.pi*np.random.rand(param_num)\n",
    "Uq_theta = qml.matrix(ansatz_layer_Uq, wire_order=wires)\n",
    "# mat= qml.matrix(ansatz_layer, wire_order=wires)\n",
    "# mat(weights)"
   ]
  },
  {
   "cell_type": "code",
   "execution_count": 318,
   "metadata": {
    "id": "BhiQSJBlybHc"
   },
   "outputs": [],
   "source": [
    "# result= optimize.differential_evolution(cost,weights, method=nftmethod, options={'maxfev':10024})\n",
    "\"\"\"Since running this requires a lot of time because of huge number of parameters, we have used the \n",
    "Uq matrix computed from our earlier simulation where we had used the random gate configuaration with CPhase flip gates, we\n",
    "result.fun=1e-6\n",
    "\"\"\"\n",
    "\n",
    "Lambda_Q=np.asmatrix(Uq_theta(np.array([ 5.33737125,  8.25781812,  9.47067565,  0.63426178,  2.72262396,\n",
    "       11.43083309,  2.98240673,  6.19901819,  3.67142375,  2.31424128,\n",
    "        6.27329224,  5.10920449,  2.38272196, 10.14531661,  7.89559017,\n",
    "       11.55791786,  7.4724418 ,  8.84451533, 11.57312007,  3.18134265,\n",
    "        2.98633586,  4.5405008 ,  6.24543523,  5.56273977,  2.71928707,\n",
    "       12.56877596, 10.21007478,  2.88312078,  1.53550569,  0.74682235,\n",
    "        3.14212126,  4.87801661,  6.27176622,  3.13828776, 11.84375966,\n",
    "        0.20540738,  8.72411719,  9.42692602,  5.29301087,  1.62740387,\n",
    "        8.62711677,  3.13673716,  7.74366438, 12.3791118 ,  9.28185859,\n",
    "        6.24703898, 11.3714098 ,  6.29434697,  0.60730553,  0.79115804])))"
   ]
  },
  {
   "cell_type": "code",
   "execution_count": 285,
   "metadata": {
    "colab": {
     "base_uri": "https://localhost:8080/",
     "height": 141
    },
    "id": "X-P1h6fFo_Xw",
    "outputId": "af97a747-9a6a-4322-ac15-c7a0cdaeb37f"
   },
   "outputs": [
    {
     "name": "stdout",
     "output_type": "stream",
     "text": [
      "True\n"
     ]
    }
   ],
   "source": [
    "# Lambda_Q=np.asmatrix(Uq_theta(params))\n",
    "print(is_unitary(Lambda_Q))"
   ]
  },
  {
   "cell_type": "code",
   "execution_count": 287,
   "metadata": {},
   "outputs": [
    {
     "data": {
      "text/plain": [
       "0.8538931972297111"
      ]
     },
     "execution_count": 287,
     "metadata": {},
     "output_type": "execute_result"
    }
   ],
   "source": [
    "# measuring the fidelity\n",
    "\n",
    "1-np.sum(np.abs(Lambda_Q_actual - Lambda_Q ))/(len(Lambda_Q)**2)\n",
    "# Lambda_Q = Lambda_Q_actual"
   ]
  },
  {
   "cell_type": "markdown",
   "metadata": {
    "id": "MidEIAo5srlt"
   },
   "source": [
    "## Simulations Part"
   ]
  },
  {
   "cell_type": "code",
   "execution_count": 301,
   "metadata": {
    "id": "HRXJzE95idT_",
    "tags": []
   },
   "outputs": [],
   "source": [
    "zero = np.array([1,0])\n",
    "I = np.identity(2)\n",
    "X = np.array([[0,1],[1,0]])"
   ]
  },
  {
   "cell_type": "code",
   "execution_count": 302,
   "metadata": {
    "id": "HpgyayFoKvU7",
    "tags": []
   },
   "outputs": [],
   "source": [
    "Vec_Rho_Ini = np.kron(zero, zero)\n",
    "# Lambda_Q@np.kron(Appro_a, Rho_t)"
   ]
  },
  {
   "cell_type": "code",
   "execution_count": 303,
   "metadata": {
    "id": "WjcW61chKwcN",
    "tags": []
   },
   "outputs": [],
   "source": [
    "Hat_M = np.kron(I,X)"
   ]
  },
  {
   "cell_type": "code",
   "execution_count": 304,
   "metadata": {
    "id": "BcqpAn6UKx5s",
    "tags": []
   },
   "outputs": [],
   "source": [
    "# Strategy B\n",
    "I_three = np.asmatrix(np.kron(zero, np.kron(zero, zero))).T\n",
    "Widetilde_M = np.kron(I_three@ I_three.H, Hat_M)\n",
    "Widetilde_I = np.kron(I_three@ I_three.H, np.kron(I,I))\n",
    "\n",
    "# Bell state\n",
    "Bell_state = np.asmatrix(np.sqrt(2)*np.array([1,0,0,1])).T"
   ]
  },
  {
   "cell_type": "code",
   "execution_count": 306,
   "metadata": {
    "id": "YEsZpr1eKzUE",
    "tags": []
   },
   "outputs": [],
   "source": [
    "\n",
    "Number = 500\n",
    "Delta_t = 0.01\n",
    "\n",
    "Simu_Expectation = np.zeros(Number)\n",
    "Exact_Expectation = np.zeros(Number)\n",
    "First_Expectation = np.zeros(Number)\n",
    "Pro = np.zeros(Number)\n",
    "ExactTrace = np.zeros(Number)\n",
    "Iteration=[]"
   ]
  },
  {
   "cell_type": "code",
   "execution_count": 307,
   "metadata": {
    "id": "CjE3PwpkK6fz",
    "tags": []
   },
   "outputs": [
    {
     "name": "stdout",
     "output_type": "stream",
     "text": [
      "[1 0 0 0]\n"
     ]
    }
   ],
   "source": [
    "\n",
    "Rho_t = Vec_Rho_Ini\n",
    "Exact_Rho_t = Vec_Rho_Ini\n",
    "First_Rho_t = Vec_Rho_Ini\n",
    "print(Rho_t)"
   ]
  },
  {
   "cell_type": "code",
   "execution_count": 308,
   "metadata": {
    "id": "kazLYtEUs5Bl",
    "tags": []
   },
   "outputs": [],
   "source": [
    "H=-delta/2*Z-Omega/2*X;\n",
    "L=np.sqrt(gamma)/2*(X-1j*Y);"
   ]
  },
  {
   "cell_type": "code",
   "execution_count": 309,
   "metadata": {
    "id": "Te7TfnFld1UK",
    "tags": []
   },
   "outputs": [],
   "source": [
    "Hat_L1=np.kron(np.conj(L),L)-1/2*np.kron(I,(L.T)@L)-1/2*np.kron((L.T)@np.conj(L),I);\n",
    "Hat_H=-1j*(np.kron(I,H)-np.kron((H.T),I))+Hat_L1;\n",
    "First_operator=np.kron(I,I)+Hat_H*Delta_t;\n",
    "Error_HQ=First_operator-Q"
   ]
  },
  {
   "cell_type": "code",
   "execution_count": 310,
   "metadata": {
    "colab": {
     "base_uri": "https://localhost:8080/",
     "height": 228
    },
    "id": "-1F4gB4hK75X",
    "outputId": "c8fe8c15-f509-412f-93c6-5cd383ff762a",
    "tags": []
   },
   "outputs": [
    {
     "name": "stderr",
     "output_type": "stream",
     "text": [
      "/tmp/ipykernel_105/12199506.py:19: DeprecationWarning: Conversion of an array with ndim > 0 to a scalar is deprecated, and will error in future. Ensure you extract a single element from your array before performing this operation. (Deprecated NumPy 1.25.)\n",
      "  Simu_Expectation[i] = np.real(Simu_Expectation_M)/Simu_Trace\n",
      "/tmp/ipykernel_105/12199506.py:26: DeprecationWarning: Conversion of an array with ndim > 0 to a scalar is deprecated, and will error in future. Ensure you extract a single element from your array before performing this operation. (Deprecated NumPy 1.25.)\n",
      "  First_Expectation[i] = First_Exception_M/First_Trace\n",
      "/tmp/ipykernel_105/12199506.py:29: DeprecationWarning: Conversion of an array with ndim > 0 to a scalar is deprecated, and will error in future. Ensure you extract a single element from your array before performing this operation. (Deprecated NumPy 1.25.)\n",
      "  ExactTrace[i] = np.sqrt(2)*np.real(Bell_state.H @ Exact_Rho_t)\n",
      "/tmp/ipykernel_105/12199506.py:33: DeprecationWarning: Conversion of an array with ndim > 0 to a scalar is deprecated, and will error in future. Ensure you extract a single element from your array before performing this operation. (Deprecated NumPy 1.25.)\n",
      "  Exact_Expectation[i] = Exact_Expectation_M/Exact_Trace\n",
      "/tmp/ipykernel_105/12199506.py:35: DeprecationWarning: Conversion of an array with ndim > 0 to a scalar is deprecated, and will error in future. Ensure you extract a single element from your array before performing this operation. (Deprecated NumPy 1.25.)\n",
      "  ExactTrace[i] = (np.real(np.dot(Bell_state.H, Exact_Rho_t)) - 1) / 2\n"
     ]
    }
   ],
   "source": [
    "Rho_t = Vec_Rho_Ini\n",
    "Exact_Rho_t = Vec_Rho_Ini\n",
    "First_Rho_t = Vec_Rho_Ini\n",
    "for i in range(Number):\n",
    "    Iteration.append((i+1)*Delta_t)\n",
    "\n",
    "    Rho_t = Lambda_Q@(np.kron(Appro_a, Rho_t))\n",
    "    Rho_t = np.kron(Ua_theta_opt.H,np.kron(I,I)) @ Rho_t.T\n",
    "    # Measurement\n",
    "    PI = I_three@ I_three.H\n",
    "    PI = np.kron(PI, np.kron(I,I))\n",
    "    Rho_t = PI@Rho_t\n",
    "    Pro[i]= (np.linalg.norm(Rho_t)**2)\n",
    "    Rho_t = Rho_t/np.linalg.norm(Rho_t)\n",
    "    Rho_t = Rho_t[:4].A1\n",
    "\n",
    "    Simu_Trace = np.real(Bell_state.H @ Rho_t)\n",
    "    Simu_Expectation_M = np.real(np.dot(np.dot(Bell_state.H, Hat_M), Rho_t))\n",
    "    Simu_Expectation[i] = np.real(Simu_Expectation_M)/Simu_Trace\n",
    "\n",
    "    First_Rho_t = np.dot(First_operator, First_Rho_t)\n",
    "    First_Rho_t = First_Rho_t/norm(First_Rho_t)\n",
    "\n",
    "    First_Trace = np.real(np.dot(Bell_state.H, First_Rho_t))\n",
    "    First_Exception_M = np.real(np.dot(np.dot(Bell_state.H, Hat_M),First_Rho_t))\n",
    "    First_Expectation[i] = First_Exception_M/First_Trace\n",
    "\n",
    "    Exact_Rho_t = np.dot(expm(Hat_H*Delta_t),Exact_Rho_t)\n",
    "    ExactTrace[i] = np.sqrt(2)*np.real(Bell_state.H @ Exact_Rho_t)\n",
    "    Exact_Rho_t = Exact_Rho_t/norm(Exact_Rho_t)\n",
    "    Exact_Trace = np.real(np.dot(Bell_state.H, Exact_Rho_t))\n",
    "    Exact_Expectation_M = np.real(np.dot(np.dot(Bell_state.H,Hat_M),Exact_Rho_t))\n",
    "    Exact_Expectation[i] = Exact_Expectation_M/Exact_Trace\n",
    "\n",
    "    ExactTrace[i] = (np.real(np.dot(Bell_state.H, Exact_Rho_t)) - 1) / 2"
   ]
  },
  {
   "cell_type": "code",
   "execution_count": 311,
   "metadata": {
    "colab": {
     "base_uri": "https://localhost:8080/"
    },
    "id": "I2jgohNvP5a5",
    "outputId": "56f7d0e6-534b-4ff9-bdcd-fbebee017656",
    "tags": []
   },
   "outputs": [
    {
     "data": {
      "text/plain": [
       "array([ 0.22694794+0.35558394j, -0.4526308 -0.19991568j,\n",
       "       -0.10829349+0.54101477j,  0.49705587-0.16038945j])"
      ]
     },
     "execution_count": 311,
     "metadata": {},
     "output_type": "execute_result"
    }
   ],
   "source": [
    "Rho_t"
   ]
  },
  {
   "cell_type": "code",
   "execution_count": 317,
   "metadata": {
    "scrolled": true,
    "tags": []
   },
   "outputs": [
    {
     "data": {
      "image/png": "[encoded data removed]",
      "text/plain": [
       "<Figure size 640x480 with 1 Axes>"
      ]
     },
     "metadata": {},
     "output_type": "display_data"
    }
   ],
   "source": [
    "STEP=1\n",
    "fig=plt.figure()\n",
    "plt.plot(Iteration[::STEP], Exact_Expectation[::STEP], 'r-', linewidth=1, markersize=4, markeredgecolor='r', markerfacecolor='r', label='Exact Expectation')\n",
    "plt.plot(Iteration[::STEP], Simu_Expectation[::STEP], 'g', linewidth=1, markersize=4, markeredgecolor='g', markerfacecolor='g', label='Simulated Expectation')\n",
    "plt.plot(Iteration[::STEP], First_Expectation[::STEP], 'b--', linewidth=1, markersize=4, markeredgecolor='b', markerfacecolor='b',label='First Expectation')\n",
    "plt.ylabel(r'$\\langle\\sigma_x\\rangle,\\langle\\sigma_z\\rangle$')\n",
    "plt.xlabel('time (in s)')\n",
    "plt.legend()\n",
    "plt.show()"
   ]
  },
  {
   "cell_type": "code",
   "execution_count": 314,
   "metadata": {},
   "outputs": [],
   "source": [
    "fig.savefig('open_system_diff_d_10', dpi=fig.dpi)"
   ]
  },
  {
   "cell_type": "code",
   "execution_count": null,
   "metadata": {},
   "outputs": [],
   "source": []
  },
  {
   "cell_type": "code",
   "execution_count": null,
   "metadata": {},
   "outputs": [],
   "source": []
  }
 ],
 "metadata": {
  "colab": {
   "provenance": []
  },
  "kernelspec": {
   "display_name": "Python 3 (ipykernel)",
   "language": "python",
   "name": "python3"
  },
  "language_info": {
   "codemirror_mode": {
    "name": "ipython",
    "version": 3
   },
   "file_extension": ".py",
   "mimetype": "text/x-python",
   "name": "python",
   "nbconvert_exporter": "python",
   "pygments_lexer": "ipython3",
   "version": "3.10.12"
  }
 },
 "nbformat": 4,
 "nbformat_minor": 4
}
