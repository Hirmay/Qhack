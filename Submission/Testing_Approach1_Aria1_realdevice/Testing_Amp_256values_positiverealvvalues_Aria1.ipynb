{
 "cells": [
  {
   "cell_type": "code",
   "execution_count": 1,
   "id": "a3edd86f-a880-4b32-9d8a-61044c2e7a64",
   "metadata": {
    "tags": []
   },
   "outputs": [],
   "source": [
    "# !pip install pennylane nftopt"
   ]
  },
  {
   "cell_type": "code",
   "execution_count": 2,
   "id": "70c21fb5-a217-41ec-833c-2687f6f21398",
   "metadata": {
    "tags": []
   },
   "outputs": [],
   "source": [
    "# %pip install nftopt"
   ]
  },
  {
   "cell_type": "markdown",
   "id": "b42c516d-bb42-4c2c-a46c-f084824de5d8",
   "metadata": {},
   "source": [
    "Testing the Amplitude Embedding - Approach 1 implementation in AWS braket Physical device."
   ]
  },
  {
   "cell_type": "code",
   "execution_count": 3,
   "id": "bce44b0b-e441-4888-9511-8d63073777bc",
   "metadata": {
    "tags": []
   },
   "outputs": [],
   "source": [
    "import pennylane as qml\n",
    "from pennylane import numpy as np\n",
    "from pennylane.optimize import NesterovMomentumOptimizer\n",
    "from scipy import optimize\n",
    "from nftopt import nakanishi_fujii_todo as nftmethod"
   ]
  },
  {
   "cell_type": "code",
   "execution_count": 4,
   "id": "f8173a4f-bcba-4d82-96e3-a451ed8634fa",
   "metadata": {
    "tags": []
   },
   "outputs": [],
   "source": [
    "n_qubits = 12\n",
    "depth = 4"
   ]
  },
  {
   "cell_type": "markdown",
   "id": "b58846bb-e0de-4720-90ca-24a85652f0f6",
   "metadata": {},
   "source": [
    "We use the AWS braket - Real quantum computer from "
   ]
  },
  {
   "cell_type": "code",
   "execution_count": 5,
   "id": "f0df71bf-4e06-4721-8abc-2bdb556267f3",
   "metadata": {
    "tags": []
   },
   "outputs": [
    {
     "data": {
      "text/plain": [
       "<BraketAwsQubitDevice device (wires=12, shots=1024) at 0x7fa0d9a7a9e0>"
      ]
     },
     "execution_count": 5,
     "metadata": {},
     "output_type": "execute_result"
    }
   ],
   "source": [
    "device_arn = \"arn:aws:braket:us-east-1::device/qpu/ionq/Aria-1\"\n",
    "dev = qml.device(\"braket.aws.qubit\", wires=n_qubits, device_arn=device_arn, shots=1024)\n",
    "dev"
   ]
  },
  {
   "cell_type": "code",
   "execution_count": 6,
   "id": "e0b51ea5-c5e7-48d8-8944-a989812fe7fd",
   "metadata": {
    "tags": []
   },
   "outputs": [],
   "source": [
    "data = np.loadtxt('12_qubit_data.out')\n",
    "weights = np.loadtxt('12_qubit_weights.out')"
   ]
  },
  {
   "cell_type": "code",
   "execution_count": 7,
   "id": "1c4ca772-0d85-4816-89a2-448bd9972fc5",
   "metadata": {
    "tags": []
   },
   "outputs": [
    {
     "name": "stdout",
     "output_type": "stream",
     "text": [
      "[0.00975932 0.02195996 0.00954274 ... 0.01582369 0.02101887 0.01189177]\n",
      "[ 1.34730403e+01  6.08781112e+00  2.23222438e+00  9.41198146e+00\n",
      "  7.19025136e+00  6.27874028e+00  3.27355972e+00  1.59422817e-02\n",
      "  6.16736248e+00  3.13499254e+00  1.02795449e+01  3.14328155e+00\n",
      "  3.13860280e+00  3.11840574e+00  1.17668482e-02  9.42731269e+00\n",
      "  3.22188528e+00  6.28057554e+00  4.31305869e+00  3.14920044e+00\n",
      "  1.12584161e+01  3.11340870e+00  6.77459811e+00  1.25607068e+01\n",
      "  2.46688751e+00  4.56249561e+00  5.60919706e+00  4.69490231e+00\n",
      "  2.40140690e+00  7.85524717e+00  9.18206385e+00  1.57091538e+00\n",
      "  3.63954967e-01  4.70750144e+00  2.93105472e+00  7.85840491e+00\n",
      "  9.42815699e+00 -2.74568408e-02  9.42519845e+00  3.14230608e+00\n",
      "  3.13708694e+00  9.42858711e+00  1.25697236e+01  9.41732257e+00\n",
      "  1.25687459e+01  9.39739819e+00  1.25707670e+01  6.28472098e+00]\n"
     ]
    }
   ],
   "source": [
    "print(data)\n",
    "print(weights)"
   ]
  },
  {
   "cell_type": "code",
   "execution_count": 8,
   "id": "e3b8eb76-2549-4be8-acc8-7a0f721d732a",
   "metadata": {
    "tags": []
   },
   "outputs": [],
   "source": [
    "def ansatz_layer(layer_weights, depth, n_qubits):\n",
    "    for dep in range(depth):\n",
    "        for wire in range(n_qubits):\n",
    "            qml.RY(layer_weights[wire+(n_qubits*dep)], wires=wire)\n",
    "\n",
    "        for i in range(n_qubits-1):\n",
    "            qml.CZ(wires=[i,i+1])\n",
    "        qml.CZ(wires=[n_qubits-1,0])"
   ]
  },
  {
   "cell_type": "code",
   "execution_count": 9,
   "id": "07329c45-f29e-4446-9a60-d623a3905c6c",
   "metadata": {
    "tags": []
   },
   "outputs": [],
   "source": [
    "def accuracy(labels, predictions):\n",
    "  state0 = qml.math.dm_from_state_vector(labels)\n",
    "  state1 = qml.math.dm_from_state_vector(predictions)\n",
    "  return qml.math.fidelity(state0, state1)"
   ]
  },
  {
   "cell_type": "code",
   "execution_count": 10,
   "id": "b1970790-b96c-4845-95d5-c4baa7918d79",
   "metadata": {
    "tags": []
   },
   "outputs": [],
   "source": [
    "@qml.qnode(dev)\n",
    "def circuit(weights):\n",
    "  # since depth 4 was used\n",
    "  ansatz_layer(weights,depth=depth, n_qubits=n_qubits)\n",
    "  return [qml.expval(qml.PauliZ(i)) for i in range(n_qubits)]\n",
    "  # return qml.state() - for simulator"
   ]
  },
  {
   "cell_type": "code",
   "execution_count": 11,
   "id": "be3dc50f-c042-483f-b13b-a3e0907d6142",
   "metadata": {
    "tags": []
   },
   "outputs": [],
   "source": [
    "def variational_classifier(weights):\n",
    "    # weights are thetas\n",
    "    return np.real(circuit(weights))"
   ]
  },
  {
   "cell_type": "code",
   "execution_count": null,
   "id": "15afadc4-e2df-4f04-82ac-e699c613b837",
   "metadata": {
    "tags": []
   },
   "outputs": [],
   "source": [
    "predictions=variational_classifier(weights)\n",
    "acc = accuracy(data, predictions)\n",
    "print(predictions.numpy(), data.numpy())\n",
    "print(acc)"
   ]
  }
 ],
 "metadata": {
  "kernelspec": {
   "display_name": "conda_braket",
   "language": "python",
   "name": "conda_braket"
  },
  "language_info": {
   "codemirror_mode": {
    "name": "ipython",
    "version": 3
   },
   "file_extension": ".py",
   "mimetype": "text/x-python",
   "name": "python",
   "nbconvert_exporter": "python",
   "pygments_lexer": "ipython3",
   "version": "3.10.13"
  }
 },
 "nbformat": 4,
 "nbformat_minor": 5
}
