{
 "cells": [
  {
   "cell_type": "markdown",
   "metadata": {
    "id": "e_S3eSpKP8xe"
   },
   "source": [
    "Testing the implementaion of positive and negative real values using 7 Qubits - 128 data points"
   ]
  },
  {
   "cell_type": "markdown",
   "metadata": {},
   "source": [
    "The experimental code for developing Amplitude embedded circuits using Variational Quantum State Preparation (VQSP). The VQSP algorithm uses PQC to create training circuits which learns the parameters to create the corresponding amplitude embedded states."
   ]
  },
  {
   "cell_type": "code",
   "execution_count": 1,
   "metadata": {},
   "outputs": [],
   "source": [
    "# !pip install pennylane nftopt"
   ]
  },
  {
   "cell_type": "markdown",
   "metadata": {},
   "source": [
    "We specify the number of qubits needed to map the data, for n qubits we can amplitude embedded 2^n data. The depth represents the ansatz repitition depth."
   ]
  },
  {
   "cell_type": "code",
   "execution_count": 2,
   "metadata": {},
   "outputs": [],
   "source": [
    "#defining parameters\n",
    "n_qubits = 8 #( 7 + 1 ancillary)\n",
    "depth = 4"
   ]
  },
  {
   "cell_type": "markdown",
   "metadata": {},
   "source": [
    "Generating Random data points to be amplitude embedded."
   ]
  },
  {
   "cell_type": "code",
   "execution_count": 3,
   "metadata": {
    "colab": {
     "base_uri": "https://localhost:8080/"
    },
    "id": "IGTk4AV29R4y",
    "outputId": "ec379772-071f-4b4f-d678-7f7d5d794677"
   },
   "outputs": [
    {
     "name": "stdout",
     "output_type": "stream",
     "text": [
      "[-0.70424754  0.87278122  0.66255356 -0.66986281 -0.55128017  0.38011702\n",
      " -0.95325887  0.17897378  0.20796851  0.98045511 -0.33809465 -0.40302431\n",
      "  0.51877297  0.85100879  0.98094323 -0.03564409 -0.00256089  0.57411929\n",
      "  0.57051631 -0.52202975  0.04519416  0.55265281 -0.01643657  0.79379017\n",
      "  0.52339093  0.98762905 -0.13297438 -0.08848808 -0.58455263  0.4417752\n",
      "  0.75676534 -0.82705967  0.04307669  0.41312231 -0.6006768   0.77608563\n",
      "  0.55497029  0.41639246  0.6407472   0.5898041   0.74634478  0.96241982\n",
      " -0.33416484 -0.20242394  0.16282349 -0.75535338  0.45574452  0.6276558\n",
      " -0.02137622  0.42224026 -0.82739042  0.66467966 -0.86010725  0.74764164\n",
      " -0.57575937 -0.80243934  0.04416072 -0.28031168  0.81253653  0.96624351\n",
      "  0.48579161 -0.6945506   0.11436622  0.86425604 -0.81489526 -0.99323742\n",
      "  0.51569615 -0.95273841  0.67277711 -0.43932167 -0.51438317 -0.09989456\n",
      " -0.55925981  0.01251173 -0.29715562  0.54102016 -0.16574478 -0.46300727\n",
      "  0.48760006  0.92129725  0.88091797 -0.37667489  0.64233146  0.29838362\n",
      "  0.97728868  0.25243819 -0.59824092  0.02990951  0.37879667 -0.34105262\n",
      " -0.91070234 -0.87695901 -0.86556811 -0.55974194 -0.21027805  0.96258416\n",
      "  0.87809322  0.91435114  0.90633484 -0.27412874 -0.42255363  0.5860665\n",
      "  0.53410979 -0.92342119 -0.31850633  0.24759373  0.07199226  0.1675728\n",
      " -0.79468674 -0.49352246 -0.15327145  0.90060627  0.48925812 -0.19327333\n",
      "  0.38217235  0.61216976 -0.76425025  0.33318122  0.11965333  0.92852113\n",
      "  0.10764392  0.82563007 -0.7208598   0.24741742 -0.3465988   0.17803651\n",
      "  0.70532709 -0.90484797]\n"
     ]
    }
   ],
   "source": [
    "import numpy as np\n",
    "val_total = 2 ** (n_qubits - 1)\n",
    "arr = np.random.uniform(low=-1, high=1,size=(val_total))\n",
    "print(arr)"
   ]
  },
  {
   "cell_type": "code",
   "execution_count": 4,
   "metadata": {
    "colab": {
     "base_uri": "https://localhost:8080/"
    },
    "id": "GuY1qV2evgru",
    "outputId": "0004acac-51ed-49aa-b2f5-d3990c3089f3"
   },
   "outputs": [
    {
     "data": {
      "text/plain": [
       "array([-0.99323742, -0.95325887, -0.95273841, -0.92342119, -0.91070234,\n",
       "       -0.90484797, -0.87695901, -0.86556811, -0.86010725, -0.82739042,\n",
       "       -0.82705967, -0.81489526, -0.80243934, -0.79468674, -0.76425025,\n",
       "       -0.75535338, -0.7208598 , -0.70424754, -0.6945506 , -0.66986281,\n",
       "       -0.6006768 , -0.59824092, -0.58455263, -0.57575937, -0.55974194,\n",
       "       -0.55925981, -0.55128017, -0.52202975, -0.51438317, -0.49352246,\n",
       "       -0.46300727, -0.43932167, -0.42255363, -0.40302431, -0.37667489,\n",
       "       -0.3465988 , -0.34105262, -0.33809465, -0.33416484, -0.31850633,\n",
       "       -0.29715562, -0.28031168, -0.27412874, -0.21027805, -0.20242394,\n",
       "       -0.19327333, -0.16574478, -0.15327145, -0.13297438, -0.09989456,\n",
       "       -0.08848808, -0.03564409, -0.02137622, -0.01643657, -0.00256089,\n",
       "        0.01251173,  0.02990951,  0.04307669,  0.04416072,  0.04519416,\n",
       "        0.07199226,  0.10764392,  0.11436622,  0.11965333,  0.16282349,\n",
       "        0.1675728 ,  0.17803651,  0.17897378,  0.20796851,  0.24741742,\n",
       "        0.24759373,  0.25243819,  0.29838362,  0.33318122,  0.37879667,\n",
       "        0.38011702,  0.38217235,  0.41312231,  0.41639246,  0.42224026,\n",
       "        0.4417752 ,  0.45574452,  0.48579161,  0.48760006,  0.48925812,\n",
       "        0.51569615,  0.51877297,  0.52339093,  0.53410979,  0.54102016,\n",
       "        0.55265281,  0.55497029,  0.57051631,  0.57411929,  0.5860665 ,\n",
       "        0.5898041 ,  0.61216976,  0.6276558 ,  0.6407472 ,  0.64233146,\n",
       "        0.66255356,  0.66467966,  0.67277711,  0.70532709,  0.74634478,\n",
       "        0.74764164,  0.75676534,  0.77608563,  0.79379017,  0.81253653,\n",
       "        0.82563007,  0.85100879,  0.86425604,  0.87278122,  0.87809322,\n",
       "        0.88091797,  0.90060627,  0.90633484,  0.91435114,  0.92129725,\n",
       "        0.92852113,  0.96241982,  0.96258416,  0.96624351,  0.97728868,\n",
       "        0.98045511,  0.98094323,  0.98762905])"
      ]
     },
     "execution_count": 4,
     "metadata": {},
     "output_type": "execute_result"
    }
   ],
   "source": [
    "np.unique(arr)"
   ]
  },
  {
   "cell_type": "markdown",
   "metadata": {},
   "source": [
    "Cumulating the negative towards the end of the array so that we can easily store the indices of negative elements."
   ]
  },
  {
   "cell_type": "code",
   "execution_count": 5,
   "metadata": {
    "colab": {
     "base_uri": "https://localhost:8080/"
    },
    "id": "Xv5tYw51SzOh",
    "outputId": "132f59dc-1406-4f2f-b9e0-39d53d71c997"
   },
   "outputs": [
    {
     "name": "stdout",
     "output_type": "stream",
     "text": [
      "[ 0.87278122  0.66255356  0.38011702  0.17897378  0.20796851  0.98045511\n",
      "  0.51877297  0.85100879  0.98094323  0.57411929  0.57051631  0.04519416\n",
      "  0.55265281  0.79379017  0.52339093  0.98762905  0.4417752   0.75676534\n",
      "  0.04307669  0.41312231  0.77608563  0.55497029  0.41639246  0.6407472\n",
      "  0.5898041   0.74634478  0.96241982  0.16282349  0.45574452  0.6276558\n",
      "  0.42224026  0.66467966  0.74764164  0.04416072  0.81253653  0.96624351\n",
      "  0.48579161  0.11436622  0.86425604  0.51569615  0.67277711  0.01251173\n",
      "  0.54102016  0.48760006  0.92129725  0.88091797  0.64233146  0.29838362\n",
      "  0.97728868  0.25243819  0.02990951  0.37879667  0.96258416  0.87809322\n",
      "  0.91435114  0.90633484  0.5860665   0.53410979  0.24759373  0.07199226\n",
      "  0.1675728   0.90060627  0.48925812  0.38217235  0.61216976  0.33318122\n",
      "  0.11965333  0.92852113  0.10764392  0.82563007  0.24741742  0.17803651\n",
      "  0.70532709 -0.70424754 -0.66986281 -0.55128017 -0.95325887 -0.33809465\n",
      " -0.40302431 -0.03564409 -0.00256089 -0.52202975 -0.01643657 -0.13297438\n",
      " -0.08848808 -0.58455263 -0.82705967 -0.6006768  -0.33416484 -0.20242394\n",
      " -0.75535338 -0.02137622 -0.82739042 -0.86010725 -0.57575937 -0.80243934\n",
      " -0.28031168 -0.6945506  -0.81489526 -0.99323742 -0.95273841 -0.43932167\n",
      " -0.51438317 -0.09989456 -0.55925981 -0.29715562 -0.16574478 -0.46300727\n",
      " -0.37667489 -0.59824092 -0.34105262 -0.91070234 -0.87695901 -0.86556811\n",
      " -0.55974194 -0.21027805 -0.27412874 -0.42255363 -0.92342119 -0.31850633\n",
      " -0.79468674 -0.49352246 -0.15327145 -0.19327333 -0.76425025 -0.7208598\n",
      " -0.3465988  -0.90484797]\n"
     ]
    }
   ],
   "source": [
    "# Rearranging the array so that there is no index confusion\n",
    "arr1 = []\n",
    "for i in range(len(arr)):\n",
    "  if(arr[i] > 0):\n",
    "    arr1.append(arr[i])\n",
    "\n",
    "for i in range(len(arr)):\n",
    "  if(arr[i] < 0):\n",
    "    arr1.append(arr[i])\n",
    "\n",
    "arr1 = np.array(arr1)\n",
    "print(arr1)"
   ]
  },
  {
   "cell_type": "markdown",
   "metadata": {},
   "source": [
    "Normalizing the points by dividing by their sum"
   ]
  },
  {
   "cell_type": "code",
   "execution_count": 6,
   "metadata": {
    "colab": {
     "base_uri": "https://localhost:8080/"
    },
    "id": "EMpMS6myyaZ9",
    "outputId": "75e862c7-c389-432e-dd99-a1154e59d040"
   },
   "outputs": [
    {
     "name": "stdout",
     "output_type": "stream",
     "text": [
      "68.23263974619076\n",
      "[ 1.27912569e-02  9.71021431e-03  5.57089722e-03  2.62299367e-03\n",
      "  3.04793292e-03  1.43692977e-02  7.60300304e-03  1.24721657e-02\n",
      "  1.43764513e-02  8.41414453e-03  8.36134018e-03  6.62353982e-04\n",
      "  8.09953729e-03  1.16335844e-02  7.67068269e-03  1.44744371e-02\n",
      "  6.47454362e-03  1.10909580e-02  6.31320939e-04  6.05461422e-03\n",
      "  1.13741112e-02  8.13350164e-03  6.10254067e-03  9.39062593e-03\n",
      "  8.64401707e-03  1.09382369e-02  1.41049770e-02  2.38629919e-03\n",
      "  6.67927431e-03  9.19876182e-03  6.18824450e-03  9.74137395e-03\n",
      "  1.09572434e-02  6.47208198e-04  1.19083262e-02  1.41610161e-02\n",
      "  7.11963678e-03  1.67612182e-03  1.26663140e-02  7.55790994e-03\n",
      "  9.86004807e-03  1.83368761e-04  7.92905216e-03  7.14614088e-03\n",
      "  1.35022952e-02  1.29105070e-02  9.41384448e-03  4.37303344e-03\n",
      "  1.43228913e-02  3.69966906e-03  4.38346072e-04  5.55154645e-03\n",
      "  1.41073856e-02  1.28691081e-02  1.34004949e-02  1.32830101e-02\n",
      "  8.58923970e-03  7.82777551e-03  3.62866994e-03  1.05510004e-03\n",
      "  2.45590384e-03  1.31990536e-02  7.17044103e-03  5.60101949e-03\n",
      "  8.97180243e-03  4.88301812e-03  1.75360844e-03  1.36081667e-02\n",
      "  1.57760164e-03  1.21002217e-02  3.62608595e-03  2.60925726e-03\n",
      "  1.03370923e-02 -1.03212706e-02 -9.81733686e-03 -8.07942017e-03\n",
      " -1.39707165e-02 -4.95502817e-03 -5.90662049e-03 -5.22390659e-04\n",
      " -3.75317457e-05 -7.65073363e-03 -2.40890181e-04 -1.94883829e-03\n",
      " -1.29685852e-03 -8.56705283e-03 -1.21211736e-02 -8.80336454e-03\n",
      " -4.89743384e-03 -2.96667320e-03 -1.10702646e-02 -3.13284435e-04\n",
      " -1.21260210e-02 -1.26055103e-02 -8.43818105e-03 -1.17603444e-02\n",
      " -4.10817587e-03 -1.01791548e-02 -1.19428951e-02 -1.45566320e-02\n",
      " -1.39630888e-02 -6.43858530e-03 -7.53866734e-03 -1.46402889e-03\n",
      " -8.19636782e-03 -4.35503631e-03 -2.42911287e-03 -6.78571533e-03\n",
      " -5.52045023e-03 -8.76766492e-03 -4.99837941e-03 -1.33470190e-02\n",
      " -1.28524855e-02 -1.26855434e-02 -8.20343373e-03 -3.08178091e-03\n",
      " -4.01756029e-03 -6.19283715e-03 -1.35334232e-02 -4.66794682e-03\n",
      " -1.16467243e-02 -7.23293812e-03 -2.24630698e-03 -2.83256410e-03\n",
      " -1.12006548e-02 -1.05647356e-02 -5.07966277e-03 -1.32612188e-02]\n"
     ]
    }
   ],
   "source": [
    "summer = np.sum(np.abs(arr1))\n",
    "print(summer)\n",
    "normalized_X = arr1/summer\n",
    "print(normalized_X)"
   ]
  },
  {
   "cell_type": "code",
   "execution_count": 7,
   "metadata": {
    "id": "LHEOby-1QAja"
   },
   "outputs": [],
   "source": [
    "import pennylane as qml\n",
    "from pennylane import numpy as np\n",
    "from pennylane.optimize import NesterovMomentumOptimizer\n",
    "from scipy import optimize\n",
    "from nftopt import nakanishi_fujii_todo as nftmethod"
   ]
  },
  {
   "cell_type": "markdown",
   "metadata": {},
   "source": [
    "Lightning.GPU device has been used to work on NVIDIA GPU powerups"
   ]
  },
  {
   "cell_type": "code",
   "execution_count": 8,
   "metadata": {
    "colab": {
     "base_uri": "https://localhost:8080/"
    },
    "id": "NMFJbv1ZQCB1",
    "outputId": "69e9d8e1-a0f3-4008-cd7b-03252222dba4"
   },
   "outputs": [
    {
     "data": {
      "text/plain": [
       "<LightningGPU device (wires=8, shots=None) at 0x7f20f423f070>"
      ]
     },
     "execution_count": 8,
     "metadata": {},
     "output_type": "execute_result"
    }
   ],
   "source": [
    "dev = qml.device(\"lightning.gpu\",wires=n_qubits)\n",
    "dev"
   ]
  },
  {
   "cell_type": "markdown",
   "metadata": {},
   "source": [
    "A single Ansatz layer used for training contains set of trainiable RY gates for all the qubits followed by cyclic CZ arrangement."
   ]
  },
  {
   "cell_type": "code",
   "execution_count": 9,
   "metadata": {
    "id": "c-OxlJ3QQDKK"
   },
   "outputs": [],
   "source": [
    "def ansatz_layer(layer_weights, depth, n_qubits):\n",
    "    for dep in range(depth):\n",
    "        for wire in range(n_qubits):\n",
    "            qml.RY(layer_weights[wire+(n_qubits*dep)], wires=wire)\n",
    "\n",
    "        for i in range(n_qubits-1):\n",
    "            qml.CZ(wires=[i,i+1])\n",
    "\n",
    "    qml.Hadamard(0)"
   ]
  },
  {
   "cell_type": "markdown",
   "metadata": {},
   "source": [
    "We use the Fidelity as the accuracy metric in this case. The Fidelity estimate provides the similarity between the generated state and the required amplitude embedding. It returs 1 if there are similar."
   ]
  },
  {
   "cell_type": "code",
   "execution_count": 10,
   "metadata": {
    "id": "FTW1SGK9QEoN"
   },
   "outputs": [],
   "source": [
    "def accuracy(labels, predictions):\n",
    "  state0 = qml.math.dm_from_state_vector(labels)\n",
    "  state1 = qml.math.dm_from_state_vector(predictions)\n",
    "  return qml.math.fidelity(state0, state1)"
   ]
  },
  {
   "cell_type": "code",
   "execution_count": 11,
   "metadata": {
    "id": "XR4C_aLQQGIy"
   },
   "outputs": [],
   "source": [
    "@qml.qnode(dev)\n",
    "def circuit(weights):\n",
    "  # since depth 4 was used\n",
    "  ansatz_layer(weights,depth=depth, n_qubits=n_qubits)\n",
    "  # qml.state() applies Ua to Ini State, which gives Appro_a\n",
    "  return qml.state()"
   ]
  },
  {
   "cell_type": "code",
   "execution_count": 12,
   "metadata": {
    "id": "JZGfLnJeQHjz"
   },
   "outputs": [],
   "source": [
    "def variational_classifier(weights):\n",
    "    # weights are thetas\n",
    "    return np.real(circuit(weights))"
   ]
  },
  {
   "cell_type": "markdown",
   "metadata": {},
   "source": [
    "We convert the data into a state representation by dividing them with their squre root of sum so as to obtain the probability value of the state vector as 1."
   ]
  },
  {
   "cell_type": "code",
   "execution_count": 13,
   "metadata": {
    "colab": {
     "base_uri": "https://localhost:8080/"
    },
    "id": "7aI212uqQIlQ",
    "outputId": "ede76f88-314f-42c9-ee4d-dad6465ac7d6"
   },
   "outputs": [
    {
     "name": "stdout",
     "output_type": "stream",
     "text": [
      "[ 0.11309844  0.09854042  0.07463844  0.05121517  0.05520809  0.11987201\n",
      "  0.0871952   0.11167885  0.11990184  0.09172865  0.09144036  0.02573624\n",
      "  0.08999743  0.1078591   0.08758243  0.12030975  0.08046455  0.10531362\n",
      "  0.0251261   0.0778114   0.10664948  0.09018593  0.07811876  0.09690524\n",
      "  0.09297321  0.10458603  0.11876438  0.04884976  0.08172683  0.09591018\n",
      "  0.0786654   0.0986984   0.10467685  0.02544029  0.10912528  0.11900007\n",
      "  0.08437794  0.04094047  0.11254472  0.08693624  0.09929777  0.01354137\n",
      "  0.08904523  0.08453485  0.11619938  0.11362441  0.09702497  0.06612892\n",
      "  0.11967828  0.0608249   0.02093672  0.0745087   0.11877452  0.11344209\n",
      "  0.11576051  0.11525194  0.09267815  0.08847472  0.06023844  0.0324823\n",
      "  0.04955708  0.11488713  0.08467846  0.07483996  0.0947196   0.0698786\n",
      "  0.04187611  0.11665405  0.03971903  0.11000101  0.06021699  0.05108089\n",
      "  0.10167149 -0.10159365 -0.09908248 -0.08988559 -0.11819779 -0.07039196\n",
      " -0.07685454 -0.02285587 -0.00612632 -0.08746847 -0.01552064 -0.04414565\n",
      " -0.03601192 -0.09255838 -0.1100962  -0.09382625 -0.06998167 -0.05446718\n",
      " -0.10521532 -0.01769984 -0.11011821 -0.11227426 -0.09185957 -0.10844512\n",
      " -0.06409505 -0.1008918  -0.10928355 -0.12065087 -0.11816551 -0.0802408\n",
      " -0.0868255  -0.03826263 -0.09053379 -0.0659927  -0.04928603 -0.08237545\n",
      " -0.07429973 -0.09363581 -0.07069922 -0.1155293  -0.1133688  -0.11263012\n",
      " -0.09057281 -0.05551379 -0.06338423 -0.07869458 -0.11633324 -0.06832237\n",
      " -0.10791999 -0.08504668 -0.04739522 -0.05322184 -0.10583315 -0.1027849\n",
      " -0.07127175 -0.11515737]\n"
     ]
    }
   ],
   "source": [
    "temp = []\n",
    "for i in range(len(normalized_X)):\n",
    "  val = np.sqrt(np.abs(normalized_X[i]))\n",
    "  if (normalized_X[i] < 0):\n",
    "    val = val * -1\n",
    "  temp.append(val)\n",
    "\n",
    "x = np.array(temp)\n",
    "print(x)\n"
   ]
  },
  {
   "cell_type": "markdown",
   "metadata": {},
   "source": [
    "This calculates the total probability value of the state and it's 1."
   ]
  },
  {
   "cell_type": "code",
   "execution_count": 14,
   "metadata": {
    "colab": {
     "base_uri": "https://localhost:8080/"
    },
    "id": "m9IqJ70dphm0",
    "outputId": "8dc5094e-e46c-419b-8b90-9b9736dbe637"
   },
   "outputs": [
    {
     "name": "stdout",
     "output_type": "stream",
     "text": [
      "0.9999999999999998\n"
     ]
    }
   ],
   "source": [
    "sum = 0\n",
    "for i in range(len(x)):\n",
    "  sum += x[i]**2\n",
    "print(sum)"
   ]
  },
  {
   "cell_type": "markdown",
   "metadata": {},
   "source": [
    "The Cost function for Approach 2 from the paper https://arxiv.org/pdf/2302.13299.pdf. This cost function can only be used for positive and negative values in an array for all real values."
   ]
  },
  {
   "cell_type": "code",
   "execution_count": 15,
   "metadata": {
    "id": "eDGI-EXh6Jhl"
   },
   "outputs": [],
   "source": [
    "# D = 2**d\n",
    "# D+ = k\n",
    "# D- = l\n",
    "def F2_loss(a,Appro_a):\n",
    "  #   Define the cost function\n",
    "  F2 = 0.\n",
    "  k = []\n",
    "  k_ind = []\n",
    "  l = []\n",
    "  l_ind = []\n",
    "  # Split a into k and l, store indices as well(+ve and -ve)\n",
    "  for i in range(len(a)):\n",
    "    if(a[i] >= 0):\n",
    "      k.append(a[i])\n",
    "      k_ind.append(i)\n",
    "    else:\n",
    "      l.append(a[i])\n",
    "      l_ind.append(i)\n",
    "\n",
    "  for i in range(len(k)):\n",
    "    F2 += (k[i]**2)*np.log2((Appro_a[k_ind[i]]**2)/(k[i]**2))\n",
    "  D = 2 ** (n_qubits-1)\n",
    "  for i in range(len(l)):\n",
    "    F2 += (l[i]**2)*np.log2((Appro_a[l_ind[i]+D]**2)/(l[i]**2))\n",
    "\n",
    "\n",
    "  #   Prepare the Bell state\n",
    "  states_with_ancillary = 2**(n_qubits)\n",
    "  Bell_State=np.ones((states_with_ancillary,1))/np.linalg.norm(np.ones((states_with_ancillary,1)))\n",
    "  #   The sum of vector a\n",
    "  Sum_a=np.sum(np.abs(a))\n",
    "  sqrt_D = np.sqrt(2) * np.linalg.norm(np.ones((D,1)))\n",
    "  UaFunction=np.abs(Sum_a -  (sqrt_D * np.matmul(np.transpose(Bell_State), Appro_a)))-(F2)\n",
    "  return np.real(UaFunction)"
   ]
  },
  {
   "cell_type": "code",
   "execution_count": 16,
   "metadata": {
    "colab": {
     "base_uri": "https://localhost:8080/"
    },
    "id": "tL5u-vVq4y0-",
    "outputId": "21b397b3-d4b3-4a54-d7b9-3bb1c98a922a"
   },
   "outputs": [
    {
     "name": "stdout",
     "output_type": "stream",
     "text": [
      "[ 0.11309844  0.09854042  0.07463844  0.05121517  0.05520809  0.11987201\n",
      "  0.0871952   0.11167885  0.11990184  0.09172865  0.09144036  0.02573624\n",
      "  0.08999743  0.1078591   0.08758243  0.12030975  0.08046455  0.10531362\n",
      "  0.0251261   0.0778114   0.10664948  0.09018593  0.07811876  0.09690524\n",
      "  0.09297321  0.10458603  0.11876438  0.04884976  0.08172683  0.09591018\n",
      "  0.0786654   0.0986984   0.10467685  0.02544029  0.10912528  0.11900007\n",
      "  0.08437794  0.04094047  0.11254472  0.08693624  0.09929777  0.01354137\n",
      "  0.08904523  0.08453485  0.11619938  0.11362441  0.09702497  0.06612892\n",
      "  0.11967828  0.0608249   0.02093672  0.0745087   0.11877452  0.11344209\n",
      "  0.11576051  0.11525194  0.09267815  0.08847472  0.06023844  0.0324823\n",
      "  0.04955708  0.11488713  0.08467846  0.07483996  0.0947196   0.0698786\n",
      "  0.04187611  0.11665405  0.03971903  0.11000101  0.06021699  0.05108089\n",
      "  0.10167149 -0.10159365 -0.09908248 -0.08988559 -0.11819779 -0.07039196\n",
      " -0.07685454 -0.02285587 -0.00612632 -0.08746847 -0.01552064 -0.04414565\n",
      " -0.03601192 -0.09255838 -0.1100962  -0.09382625 -0.06998167 -0.05446718\n",
      " -0.10521532 -0.01769984 -0.11011821 -0.11227426 -0.09185957 -0.10844512\n",
      " -0.06409505 -0.1008918  -0.10928355 -0.12065087 -0.11816551 -0.0802408\n",
      " -0.0868255  -0.03826263 -0.09053379 -0.0659927  -0.04928603 -0.08237545\n",
      " -0.07429973 -0.09363581 -0.07069922 -0.1155293  -0.1133688  -0.11263012\n",
      " -0.09057281 -0.05551379 -0.06338423 -0.07869458 -0.11633324 -0.06832237\n",
      " -0.10791999 -0.08504668 -0.04739522 -0.05322184 -0.10583315 -0.1027849\n",
      " -0.07127175 -0.11515737]\n"
     ]
    }
   ],
   "source": [
    "print(x)"
   ]
  },
  {
   "cell_type": "code",
   "execution_count": 17,
   "metadata": {
    "id": "Z9jjzQJFQq-O"
   },
   "outputs": [],
   "source": [
    "cost_values = []\n",
    "def cost(weights, X=x):\n",
    "    # X is our preparation state\n",
    "    Appro_a = variational_classifier(weights)\n",
    "    expectation_value = F2_loss(X, Appro_a)\n",
    "    cost_values.append(expectation_value)\n",
    "    return expectation_value"
   ]
  },
  {
   "cell_type": "markdown",
   "metadata": {},
   "source": [
    "We perform the minimization using the Nakanishi-Fujii-Todo algorithm."
   ]
  },
  {
   "cell_type": "code",
   "execution_count": 18,
   "metadata": {
    "id": "dhuy_o6ZQvPY"
   },
   "outputs": [
    {
     "name": "stdout",
     "output_type": "stream",
     "text": [
      "Training time: 175.71855354309082s\n"
     ]
    }
   ],
   "source": [
    "import time\n",
    "weights = 4*np.pi*np.random.rand(n_qubits * depth)\n",
    "start = time.time()\n",
    "result= optimize.minimize(cost,weights, method=nftmethod, options={'maxfev':8000})\n",
    "stop = time.time()\n",
    "print(f\"Training time: {stop - start}s\")"
   ]
  },
  {
   "cell_type": "markdown",
   "metadata": {},
   "source": [
    "The final sets of weights after performin optimization. These can be used to the generate the requried amplitude embedded state."
   ]
  },
  {
   "cell_type": "code",
   "execution_count": 19,
   "metadata": {
    "colab": {
     "base_uri": "https://localhost:8080/"
    },
    "id": "Wpzlr_C7QsYZ",
    "outputId": "5cc3d488-7b1c-456a-a895-5382c7f001b1"
   },
   "outputs": [
    {
     "data": {
      "text/plain": [
       "array([ 1.22204900e+02,  2.79013359e+01,  1.05633958e+01,  1.89836425e+01,\n",
       "        9.82866533e+00,  5.67366199e+00,  3.10918522e+00,  1.75895001e+00,\n",
       "       -1.61838124e+00,  1.01909453e+01,  1.92472348e+01,  3.22054210e+00,\n",
       "        5.93773300e+00,  1.02006916e+01,  1.26981455e+01, -1.49549722e+00,\n",
       "        1.33922232e+01,  7.50664137e+00,  1.34521189e+01,  4.56273137e+00,\n",
       "        1.10582116e+01,  1.28870629e+00,  7.65064365e+00,  1.40328604e+01,\n",
       "        2.29129262e+01,  2.69066766e+00, -7.35132595e-02,  6.30120843e+00,\n",
       "        1.25294504e+01,  1.25543855e+01,  9.38517153e+00,  6.29806546e+00])"
      ]
     },
     "execution_count": 19,
     "metadata": {},
     "output_type": "execute_result"
    }
   ],
   "source": [
    "result.x"
   ]
  },
  {
   "cell_type": "markdown",
   "metadata": {},
   "source": [
    "We take the positive elemnts from |0> state of zeroth qubit and negative elements from |1> state of zeroth qubit"
   ]
  },
  {
   "cell_type": "code",
   "execution_count": 20,
   "metadata": {
    "colab": {
     "base_uri": "https://localhost:8080/"
    },
    "id": "Y1mS03NXP0JE",
    "outputId": "6a705224-f7a8-48b2-c01c-021dd8c78e8b"
   },
   "outputs": [
    {
     "name": "stdout",
     "output_type": "stream",
     "text": [
      "[0, 1, 2, 3, 4, 5, 6, 7, 8, 9, 10, 11, 12, 13, 14, 15, 16, 17, 18, 19, 20, 21, 22, 23, 24, 25, 26, 27, 28, 29, 30, 31, 32, 33, 34, 35, 36, 37, 38, 39, 40, 41, 42, 43, 44, 45, 46, 47, 48, 49, 50, 51, 52, 53, 54, 55, 56, 57, 58, 59, 60, 61, 62, 63, 64, 65, 66, 67, 68, 69, 70, 71, 72]\n",
      "[73, 74, 75, 76, 77, 78, 79, 80, 81, 82, 83, 84, 85, 86, 87, 88, 89, 90, 91, 92, 93, 94, 95, 96, 97, 98, 99, 100, 101, 102, 103, 104, 105, 106, 107, 108, 109, 110, 111, 112, 113, 114, 115, 116, 117, 118, 119, 120, 121, 122, 123, 124, 125, 126, 127]\n"
     ]
    }
   ],
   "source": [
    "k_ind = []\n",
    "l_ind = []\n",
    "for i in range(len(x)):\n",
    "    if(x[i] >= 0):\n",
    "      k_ind.append(i)\n",
    "    else:\n",
    "      l_ind.append(i)\n",
    "print(k_ind)\n",
    "print(l_ind)"
   ]
  },
  {
   "cell_type": "markdown",
   "metadata": {},
   "source": [
    "We compite the fidelity of the generated states using VQSP and the original amplitude embedding needed."
   ]
  },
  {
   "cell_type": "code",
   "execution_count": 21,
   "metadata": {
    "colab": {
     "base_uri": "https://localhost:8080/"
    },
    "id": "0y3eA9FWRQnj",
    "outputId": "d7486ce0-1444-4147-83d3-6a80726dbbab"
   },
   "outputs": [
    {
     "name": "stdout",
     "output_type": "stream",
     "text": [
      "[ 0.1039876   0.1004879   0.08726704  0.09041739  0.08069716  0.08004262\n",
      "  0.07990649  0.08033485  0.07444788  0.07185772  0.06804649  0.07041724\n",
      "  0.10278835  0.10186191  0.09460445  0.09500149  0.0950796   0.09214045\n",
      "  0.07966967  0.08226634  0.0781658   0.07734276  0.07718217  0.07779632\n",
      "  0.07801547  0.07508611  0.07107128  0.07377159  0.10159405  0.1009156\n",
      "  0.0933821   0.0934874   0.07449449  0.07204505  0.062416    0.06461\n",
      "  0.05627814  0.05577818  0.0559125   0.05626604  0.05106638  0.0492393\n",
      "  0.04686416  0.04854288  0.07255047  0.07194075  0.06668158  0.06690606\n",
      "  0.07662309  0.07419939  0.06430447  0.06645736  0.06459329  0.06395319\n",
      "  0.06360072  0.06405819  0.06535022  0.06295153  0.05934122  0.06154646\n",
      "  0.08305953  0.08245398  0.07644835  0.07659877  0.04053004  0.03916049\n",
      "  0.03399113  0.03522496  0.03127486  0.03102587  0.03099807  0.03116003\n",
      "  0.02870902 -0.05341457 -0.05047661 -0.05221804 -0.07548961 -0.07479278\n",
      " -0.06952486 -0.06983756 -0.07978897 -0.07733358 -0.06682703 -0.06899395\n",
      " -0.06519348 -0.06449903 -0.06442181 -0.06494451 -0.0653729  -0.06290766\n",
      " -0.05960978 -0.06188351 -0.08570521 -0.08514164 -0.0787465  -0.07882378\n",
      " -0.09170046 -0.08869972 -0.07678984 -0.07947482 -0.06867484 -0.06805352\n",
      " -0.06830593 -0.06875261 -0.06273841 -0.06047848 -0.05765027 -0.05972873\n",
      " -0.08988105 -0.08913796 -0.08257061 -0.08283278 -0.0808142  -0.0782321\n",
      " -0.06788303 -0.070182   -0.06899043 -0.06832487 -0.06783042 -0.06829573\n",
      " -0.06949594 -0.06696893 -0.06299568 -0.06531614 -0.0871845  -0.08652742\n",
      " -0.08030695 -0.08049264]\n",
      "[ 0.1039876   0.1004879   0.08726704  0.09041739  0.08069716  0.08004262\n",
      "  0.07990649  0.08033485  0.07444788  0.07185772  0.06804649  0.07041724\n",
      "  0.10278835  0.10186191  0.09460445  0.09500149  0.0950796   0.09214045\n",
      "  0.07966967  0.08226634  0.0781658   0.07734276  0.07718217  0.07779632\n",
      "  0.07801547  0.07508611  0.07107128  0.07377159  0.10159405  0.1009156\n",
      "  0.0933821   0.0934874   0.07449449  0.07204505  0.062416    0.06461\n",
      "  0.05627814  0.05577818  0.0559125   0.05626604  0.05106638  0.0492393\n",
      "  0.04686416  0.04854288  0.07255047  0.07194075  0.06668158  0.06690606\n",
      "  0.07662309  0.07419939  0.06430447  0.06645736  0.06459329  0.06395319\n",
      "  0.06360072  0.06405819  0.06535022  0.06295153  0.05934122  0.06154646\n",
      "  0.08305953  0.08245398  0.07644835  0.07659877  0.04053004  0.03916049\n",
      "  0.03399113  0.03522496  0.03127486  0.03102587  0.03099807  0.03116003\n",
      "  0.02870902 -0.05341457 -0.05047661 -0.05221804 -0.07548961 -0.07479278\n",
      " -0.06952486 -0.06983756 -0.07978897 -0.07733358 -0.06682703 -0.06899395\n",
      " -0.06519348 -0.06449903 -0.06442181 -0.06494451 -0.0653729  -0.06290766\n",
      " -0.05960978 -0.06188351 -0.08570521 -0.08514164 -0.0787465  -0.07882378\n",
      " -0.09170046 -0.08869972 -0.07678984 -0.07947482 -0.06867484 -0.06805352\n",
      " -0.06830593 -0.06875261 -0.06273841 -0.06047848 -0.05765027 -0.05972873\n",
      " -0.08988105 -0.08913796 -0.08257061 -0.08283278 -0.0808142  -0.0782321\n",
      " -0.06788303 -0.070182   -0.06899043 -0.06832487 -0.06783042 -0.06829573\n",
      " -0.06949594 -0.06696893 -0.06299568 -0.06531614 -0.0871845  -0.08652742\n",
      " -0.08030695 -0.08049264] [ 0.11309844  0.09854042  0.07463844  0.05121517  0.05520809  0.11987201\n",
      "  0.0871952   0.11167885  0.11990184  0.09172865  0.09144036  0.02573624\n",
      "  0.08999743  0.1078591   0.08758243  0.12030975  0.08046455  0.10531362\n",
      "  0.0251261   0.0778114   0.10664948  0.09018593  0.07811876  0.09690524\n",
      "  0.09297321  0.10458603  0.11876438  0.04884976  0.08172683  0.09591018\n",
      "  0.0786654   0.0986984   0.10467685  0.02544029  0.10912528  0.11900007\n",
      "  0.08437794  0.04094047  0.11254472  0.08693624  0.09929777  0.01354137\n",
      "  0.08904523  0.08453485  0.11619938  0.11362441  0.09702497  0.06612892\n",
      "  0.11967828  0.0608249   0.02093672  0.0745087   0.11877452  0.11344209\n",
      "  0.11576051  0.11525194  0.09267815  0.08847472  0.06023844  0.0324823\n",
      "  0.04955708  0.11488713  0.08467846  0.07483996  0.0947196   0.0698786\n",
      "  0.04187611  0.11665405  0.03971903  0.11000101  0.06021699  0.05108089\n",
      "  0.10167149 -0.10159365 -0.09908248 -0.08988559 -0.11819779 -0.07039196\n",
      " -0.07685454 -0.02285587 -0.00612632 -0.08746847 -0.01552064 -0.04414565\n",
      " -0.03601192 -0.09255838 -0.1100962  -0.09382625 -0.06998167 -0.05446718\n",
      " -0.10521532 -0.01769984 -0.11011821 -0.11227426 -0.09185957 -0.10844512\n",
      " -0.06409505 -0.1008918  -0.10928355 -0.12065087 -0.11816551 -0.0802408\n",
      " -0.0868255  -0.03826263 -0.09053379 -0.0659927  -0.04928603 -0.08237545\n",
      " -0.07429973 -0.09363581 -0.07069922 -0.1155293  -0.1133688  -0.11263012\n",
      " -0.09057281 -0.05551379 -0.06338423 -0.07869458 -0.11633324 -0.06832237\n",
      " -0.10791999 -0.08504668 -0.04739522 -0.05322184 -0.10583315 -0.1027849\n",
      " -0.07127175 -0.11515737]\n",
      "0.588953058005192\n"
     ]
    }
   ],
   "source": [
    "# Left most value in state vector is the 0th qubit which the top one in circuit - Pennylane\n",
    "predictions=variational_classifier(result.x)\n",
    "# print(predictions)\n",
    "\n",
    "modified_predictions = []\n",
    "D = 2 ** (n_qubits - 1)\n",
    "for i in range(len(x)):\n",
    "  if(i in k_ind):\n",
    "    # positive we take from |0> of zeroth qubit\n",
    "    modified_predictions.append(predictions[i])\n",
    "  else:\n",
    "    modified_predictions.append(-1 * predictions[i + D])\n",
    "\n",
    "modified_predictions = np.array(modified_predictions)\n",
    "print(modified_predictions)\n",
    "\n",
    "acc = accuracy(x, modified_predictions)\n",
    "print(modified_predictions.numpy(), x.numpy())\n",
    "print(acc)"
   ]
  },
  {
   "cell_type": "code",
   "execution_count": 22,
   "metadata": {
    "id": "VB43gUKQRVnW"
   },
   "outputs": [],
   "source": [
    "plotting_values = []\n",
    "for i in range(len(cost_values)):\n",
    "    val = cost_values[i].numpy()\n",
    "    plotting_values.append(val)"
   ]
  },
  {
   "cell_type": "code",
   "execution_count": 23,
   "metadata": {},
   "outputs": [
    {
     "data": {
      "text/plain": [
       "Text(0, 0.5, 'Cost Value')"
      ]
     },
     "execution_count": 23,
     "metadata": {},
     "output_type": "execute_result"
    },
    {
     "data": {
      "image/png": "[encoded data removed]",
      "text/plain": [
       "<Figure size 640x480 with 1 Axes>"
      ]
     },
     "metadata": {},
     "output_type": "display_data"
    }
   ],
   "source": [
    "# Plotting how the value of the cost function decreases during the minimization procedure.\n",
    "import matplotlib.pyplot as plt\n",
    "\n",
    "x_values = list(range(len(plotting_values)))\n",
    "y_values = plotting_values\n",
    "\n",
    "plt.plot(x_values, y_values)\n",
    "\n",
    "plt.xlabel(\"Epochs\")\n",
    "plt.ylabel(\"Cost Value\")"
   ]
  },
  {
   "cell_type": "code",
   "execution_count": 24,
   "metadata": {},
   "outputs": [
    {
     "data": {
      "text/plain": [
       "{'resources': Resources(num_wires=8, num_gates=61, gate_types=defaultdict(<class 'int'>, {'RY': 32, 'CZ': 28, 'Hadamard': 1}), gate_sizes=defaultdict(<class 'int'>, {1: 33, 2: 28}), depth=17, shots=Shots(total_shots=None, shot_vector=())),\n",
       " 'num_observables': 1,\n",
       " 'num_diagonalizing_gates': 0,\n",
       " 'num_trainable_params': 0,\n",
       " 'num_device_wires': 8,\n",
       " 'device_name': 'lightning.gpu',\n",
       " 'expansion_strategy': 'gradient',\n",
       " 'gradient_options': {},\n",
       " 'interface': 'auto',\n",
       " 'diff_method': 'best',\n",
       " 'gradient_fn': 'pennylane.gradients.parameter_shift.param_shift',\n",
       " 'num_gradient_executions': 'NotSupported: Computing the gradient of circuits that return the state with the parameter-shift rule gradient transform is not supported, as it is a hardware-compatible method.'}"
      ]
     },
     "execution_count": 24,
     "metadata": {},
     "output_type": "execute_result"
    }
   ],
   "source": [
    "specs_func = qml.specs(circuit)\n",
    "specs_func(result.x)"
   ]
  },
  {
   "cell_type": "code",
   "execution_count": 25,
   "metadata": {},
   "outputs": [],
   "source": [
    "np.savetxt('7_qubit_data.out', x, delimiter=',')   # X is an array"
   ]
  },
  {
   "cell_type": "code",
   "execution_count": 26,
   "metadata": {},
   "outputs": [],
   "source": [
    "np.savetxt('7_qubit_weights.out', result.x, delimiter=',')   # weights is an array"
   ]
  },
  {
   "cell_type": "code",
   "execution_count": 27,
   "metadata": {},
   "outputs": [],
   "source": [
    "# D- = l\n",
    "l_ind_np = np.array(l_ind)\n",
    "np.savetxt('7_qubit_negative_indices.out', l_ind_np, delimiter=',')"
   ]
  }
 ],
 "metadata": {
  "colab": {
   "provenance": []
  },
  "kernelspec": {
   "display_name": "Python 3 (ipykernel)",
   "language": "python",
   "name": "python3"
  },
  "language_info": {
   "codemirror_mode": {
    "name": "ipython",
    "version": 3
   },
   "file_extension": ".py",
   "mimetype": "text/x-python",
   "name": "python",
   "nbconvert_exporter": "python",
   "pygments_lexer": "ipython3",
   "version": "3.10.12"
  }
 },
 "nbformat": 4,
 "nbformat_minor": 4
}
