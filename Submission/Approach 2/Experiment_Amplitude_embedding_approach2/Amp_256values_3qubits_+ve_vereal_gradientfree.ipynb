{
 "cells": [
  {
   "cell_type": "markdown",
   "metadata": {
    "id": "e_S3eSpKP8xe"
   },
   "source": [
    "Testing the implementaion of positive and negative real values using 3 Qubits - 8 data points"
   ]
  },
  {
   "cell_type": "markdown",
   "metadata": {},
   "source": [
    "The experimental code for developing Amplitude embedded circuits using Variational Quantum State Preparation (VQSP). The VQSP algorithm uses PQC to create training circuits which learns the parameters to create the corresponding amplitude embedded states."
   ]
  },
  {
   "cell_type": "code",
   "execution_count": 1,
   "metadata": {},
   "outputs": [],
   "source": [
    "# !pip install pennylane nftopt"
   ]
  },
  {
   "cell_type": "markdown",
   "metadata": {},
   "source": [
    "We specify the number of qubits needed to map the data, for n qubits we can amplitude embedded 2^n data. The depth represents the ansatz repitition depth."
   ]
  },
  {
   "cell_type": "code",
   "execution_count": 2,
   "metadata": {},
   "outputs": [],
   "source": [
    "#defining parameters\n",
    "n_qubits = 4 #( 3 + 1 ancillary)\n",
    "depth = 4"
   ]
  },
  {
   "cell_type": "markdown",
   "metadata": {},
   "source": [
    "Generating Random data points to be amplitude embedded."
   ]
  },
  {
   "cell_type": "code",
   "execution_count": 3,
   "metadata": {
    "colab": {
     "base_uri": "https://localhost:8080/"
    },
    "id": "IGTk4AV29R4y",
    "outputId": "ec379772-071f-4b4f-d678-7f7d5d794677"
   },
   "outputs": [
    {
     "name": "stdout",
     "output_type": "stream",
     "text": [
      "[ 0.16217302  0.22035561  0.27822917 -0.19910086  0.18267739 -0.12250387\n",
      " -0.00611243  0.06161227]\n"
     ]
    }
   ],
   "source": [
    "import numpy as np\n",
    "val_total = 2 ** (n_qubits - 1)\n",
    "arr = np.random.uniform(low=-1, high=1,size=(val_total))\n",
    "print(arr)"
   ]
  },
  {
   "cell_type": "code",
   "execution_count": 4,
   "metadata": {
    "colab": {
     "base_uri": "https://localhost:8080/"
    },
    "id": "GuY1qV2evgru",
    "outputId": "0004acac-51ed-49aa-b2f5-d3990c3089f3"
   },
   "outputs": [
    {
     "data": {
      "text/plain": [
       "array([-0.19910086, -0.12250387, -0.00611243,  0.06161227,  0.16217302,\n",
       "        0.18267739,  0.22035561,  0.27822917])"
      ]
     },
     "execution_count": 4,
     "metadata": {},
     "output_type": "execute_result"
    }
   ],
   "source": [
    "np.unique(arr)"
   ]
  },
  {
   "cell_type": "markdown",
   "metadata": {},
   "source": [
    "Cumulating the negative towards the end of the array so that we can easily store the indices of negative elements."
   ]
  },
  {
   "cell_type": "code",
   "execution_count": 5,
   "metadata": {
    "colab": {
     "base_uri": "https://localhost:8080/"
    },
    "id": "Xv5tYw51SzOh",
    "outputId": "132f59dc-1406-4f2f-b9e0-39d53d71c997"
   },
   "outputs": [
    {
     "name": "stdout",
     "output_type": "stream",
     "text": [
      "[ 0.16217302  0.22035561  0.27822917  0.18267739  0.06161227 -0.19910086\n",
      " -0.12250387 -0.00611243]\n"
     ]
    }
   ],
   "source": [
    "# Rearranging the array so that there is no index confusion\n",
    "arr1 = []\n",
    "for i in range(len(arr)):\n",
    "  if(arr[i] > 0):\n",
    "    arr1.append(arr[i])\n",
    "\n",
    "for i in range(len(arr)):\n",
    "  if(arr[i] < 0):\n",
    "    arr1.append(arr[i])\n",
    "\n",
    "arr1 = np.array(arr1)\n",
    "print(arr1)"
   ]
  },
  {
   "cell_type": "markdown",
   "metadata": {},
   "source": [
    "Normalizing the points by dividing by their sum"
   ]
  },
  {
   "cell_type": "code",
   "execution_count": 6,
   "metadata": {
    "colab": {
     "base_uri": "https://localhost:8080/"
    },
    "id": "EMpMS6myyaZ9",
    "outputId": "75e862c7-c389-432e-dd99-a1154e59d040"
   },
   "outputs": [
    {
     "name": "stdout",
     "output_type": "stream",
     "text": [
      "1.23276461175111\n",
      "[ 0.1315523   0.17874913  0.22569529  0.14818513  0.04997894 -0.16150761\n",
      " -0.09937328 -0.00495831]\n"
     ]
    }
   ],
   "source": [
    "summer = np.sum(np.abs(arr1))\n",
    "print(summer)\n",
    "normalized_X = arr1/summer\n",
    "print(normalized_X)"
   ]
  },
  {
   "cell_type": "code",
   "execution_count": 7,
   "metadata": {
    "id": "LHEOby-1QAja"
   },
   "outputs": [],
   "source": [
    "import pennylane as qml\n",
    "from pennylane import numpy as np\n",
    "from pennylane.optimize import NesterovMomentumOptimizer\n",
    "from scipy import optimize\n",
    "from nftopt import nakanishi_fujii_todo as nftmethod"
   ]
  },
  {
   "cell_type": "markdown",
   "metadata": {},
   "source": [
    "Lightning.GPU device has been used to work on NVIDIA GPU powerups"
   ]
  },
  {
   "cell_type": "code",
   "execution_count": 8,
   "metadata": {
    "colab": {
     "base_uri": "https://localhost:8080/"
    },
    "id": "NMFJbv1ZQCB1",
    "outputId": "69e9d8e1-a0f3-4008-cd7b-03252222dba4"
   },
   "outputs": [
    {
     "data": {
      "text/plain": [
       "<LightningGPU device (wires=4, shots=None) at 0x7f254a6a8100>"
      ]
     },
     "execution_count": 8,
     "metadata": {},
     "output_type": "execute_result"
    }
   ],
   "source": [
    "dev = qml.device(\"lightning.gpu\",wires=n_qubits)\n",
    "dev"
   ]
  },
  {
   "cell_type": "markdown",
   "metadata": {},
   "source": [
    "A single Ansatz layer used for training contains set of trainiable RY gates for all the qubits followed by cyclic CZ arrangement."
   ]
  },
  {
   "cell_type": "code",
   "execution_count": 9,
   "metadata": {
    "id": "c-OxlJ3QQDKK"
   },
   "outputs": [],
   "source": [
    "def ansatz_layer(layer_weights, depth, n_qubits):\n",
    "    for dep in range(depth):\n",
    "        for wire in range(n_qubits):\n",
    "            qml.RY(layer_weights[wire+(n_qubits*dep)], wires=wire)\n",
    "\n",
    "        for i in range(n_qubits-1):\n",
    "            qml.CZ(wires=[i,i+1])\n",
    "        # qml.CZ(wires=[n_qubits-1,0])\n",
    "\n",
    "    qml.Hadamard(0)"
   ]
  },
  {
   "cell_type": "markdown",
   "metadata": {},
   "source": [
    "We use the Fidelity as the accuracy metric in this case. The Fidelity estimate provides the similarity between the generated state and the required amplitude embedding. It returs 1 if there are similar."
   ]
  },
  {
   "cell_type": "code",
   "execution_count": 10,
   "metadata": {
    "id": "FTW1SGK9QEoN"
   },
   "outputs": [],
   "source": [
    "def accuracy(labels, predictions):\n",
    "  state0 = qml.math.dm_from_state_vector(labels)\n",
    "  state1 = qml.math.dm_from_state_vector(predictions)\n",
    "  return qml.math.fidelity(state0, state1)"
   ]
  },
  {
   "cell_type": "code",
   "execution_count": 11,
   "metadata": {
    "id": "XR4C_aLQQGIy"
   },
   "outputs": [],
   "source": [
    "@qml.qnode(dev)\n",
    "def circuit(weights):\n",
    "  # since depth 4 was used\n",
    "  ansatz_layer(weights,depth=depth, n_qubits=n_qubits)\n",
    "  # qml.state() applies Ua to Ini State, which gives Appro_a\n",
    "  return qml.state()"
   ]
  },
  {
   "cell_type": "code",
   "execution_count": 12,
   "metadata": {
    "id": "JZGfLnJeQHjz"
   },
   "outputs": [],
   "source": [
    "def variational_classifier(weights):\n",
    "    # weights are thetas\n",
    "    return np.real(circuit(weights))"
   ]
  },
  {
   "cell_type": "markdown",
   "metadata": {},
   "source": [
    "We convert the data into a state representation by dividing them with their squre root of sum so as to obtain the probability value of the state vector as 1."
   ]
  },
  {
   "cell_type": "code",
   "execution_count": 13,
   "metadata": {
    "colab": {
     "base_uri": "https://localhost:8080/"
    },
    "id": "7aI212uqQIlQ",
    "outputId": "ede76f88-314f-42c9-ee4d-dad6465ac7d6"
   },
   "outputs": [
    {
     "name": "stdout",
     "output_type": "stream",
     "text": [
      "[ 0.36270139  0.42278734  0.47507398  0.38494822  0.2235597  -0.40188009\n",
      " -0.31523528 -0.07041528]\n"
     ]
    }
   ],
   "source": [
    "temp = []\n",
    "for i in range(len(normalized_X)):\n",
    "  val = np.sqrt(np.abs(normalized_X[i]))\n",
    "  if (normalized_X[i] < 0):\n",
    "    val = val * -1\n",
    "  temp.append(val)\n",
    "\n",
    "x = np.array(temp)\n",
    "print(x)\n"
   ]
  },
  {
   "cell_type": "markdown",
   "metadata": {},
   "source": [
    "This calculates the total probability value of the state and it's 1."
   ]
  },
  {
   "cell_type": "code",
   "execution_count": 14,
   "metadata": {
    "colab": {
     "base_uri": "https://localhost:8080/"
    },
    "id": "m9IqJ70dphm0",
    "outputId": "8dc5094e-e46c-419b-8b90-9b9736dbe637"
   },
   "outputs": [
    {
     "name": "stdout",
     "output_type": "stream",
     "text": [
      "1.0\n"
     ]
    }
   ],
   "source": [
    "sum = 0\n",
    "for i in range(len(x)):\n",
    "  sum += x[i]**2\n",
    "print(sum)"
   ]
  },
  {
   "cell_type": "markdown",
   "metadata": {},
   "source": [
    "The Cost function for Approach 2 from the paper https://arxiv.org/pdf/2302.13299.pdf. This cost function can only be used for positive and negative values in an array for all real values."
   ]
  },
  {
   "cell_type": "code",
   "execution_count": 15,
   "metadata": {
    "id": "eDGI-EXh6Jhl"
   },
   "outputs": [],
   "source": [
    "# D = 2**d\n",
    "# D+ = k\n",
    "# D- = l\n",
    "def F2_loss(a,Appro_a):\n",
    "  #   Define the cost function\n",
    "  F2 = 0.\n",
    "  k = []\n",
    "  k_ind = []\n",
    "  l = []\n",
    "  l_ind = []\n",
    "  # Split a into k and l, store indices as well(+ve and -ve)\n",
    "  for i in range(len(a)):\n",
    "    if(a[i] >= 0):\n",
    "      k.append(a[i])\n",
    "      k_ind.append(i)\n",
    "    else:\n",
    "      l.append(a[i])\n",
    "      l_ind.append(i)\n",
    "\n",
    "  for i in range(len(k)):\n",
    "    F2 += (k[i]**2)*np.log2((Appro_a[k_ind[i]]**2)/(k[i]**2))\n",
    "  D = 2 ** (n_qubits-1)\n",
    "  for i in range(len(l)):\n",
    "    F2 += (l[i]**2)*np.log2((Appro_a[l_ind[i]+D]**2)/(l[i]**2))\n",
    "\n",
    "\n",
    "  #   Prepare the Bell state\n",
    "  states_with_ancillary = 2**(n_qubits)\n",
    "  Bell_State=np.ones((states_with_ancillary,1))/np.linalg.norm(np.ones((states_with_ancillary,1)))\n",
    "  #   The sum of vector a\n",
    "  Sum_a=np.sum(np.abs(a))\n",
    "  sqrt_D = np.sqrt(2) * np.linalg.norm(np.ones((D,1)))\n",
    "  UaFunction=np.abs(Sum_a -  (sqrt_D * np.matmul(np.transpose(Bell_State), Appro_a)))-(F2)\n",
    "  return np.real(UaFunction)"
   ]
  },
  {
   "cell_type": "code",
   "execution_count": 16,
   "metadata": {
    "colab": {
     "base_uri": "https://localhost:8080/"
    },
    "id": "tL5u-vVq4y0-",
    "outputId": "21b397b3-d4b3-4a54-d7b9-3bb1c98a922a"
   },
   "outputs": [
    {
     "name": "stdout",
     "output_type": "stream",
     "text": [
      "[ 0.36270139  0.42278734  0.47507398  0.38494822  0.2235597  -0.40188009\n",
      " -0.31523528 -0.07041528]\n"
     ]
    }
   ],
   "source": [
    "print(x)"
   ]
  },
  {
   "cell_type": "code",
   "execution_count": 17,
   "metadata": {
    "id": "Z9jjzQJFQq-O"
   },
   "outputs": [],
   "source": [
    "cost_values = []\n",
    "def cost(weights, X=x):\n",
    "    # X is our preparation state\n",
    "    Appro_a = variational_classifier(weights)\n",
    "    expectation_value = F2_loss(X, Appro_a)\n",
    "    cost_values.append(expectation_value)\n",
    "    return expectation_value"
   ]
  },
  {
   "cell_type": "markdown",
   "metadata": {},
   "source": [
    "We perform the minimization using the Nakanishi-Fujii-Todo algorithm."
   ]
  },
  {
   "cell_type": "code",
   "execution_count": 18,
   "metadata": {
    "id": "dhuy_o6ZQvPY"
   },
   "outputs": [
    {
     "name": "stdout",
     "output_type": "stream",
     "text": [
      "Training time: 24.960504055023193s\n"
     ]
    }
   ],
   "source": [
    "import time\n",
    "weights = 4*np.pi*np.random.rand(n_qubits * depth)\n",
    "start = time.time()\n",
    "result= optimize.minimize(cost,weights, method=nftmethod, options={'maxfev':5000})\n",
    "stop = time.time()\n",
    "print(f\"Training time: {stop - start}s\")"
   ]
  },
  {
   "cell_type": "markdown",
   "metadata": {},
   "source": [
    "The final sets of weights after performin optimization. These can be used to the generate the requried amplitude embedded state."
   ]
  },
  {
   "cell_type": "code",
   "execution_count": 19,
   "metadata": {
    "colab": {
     "base_uri": "https://localhost:8080/"
    },
    "id": "Wpzlr_C7QsYZ",
    "outputId": "5cc3d488-7b1c-456a-a895-5382c7f001b1"
   },
   "outputs": [
    {
     "data": {
      "text/plain": [
       "array([-0.32127062,  1.39560429, 12.98211759,  4.2332057 ,  1.7587283 ,\n",
       "        9.058988  ,  5.74022844,  3.94062805, 13.08054298, 10.3200419 ,\n",
       "        1.24090187, 12.42902993, 15.15165604,  0.38645515, -0.21193179,\n",
       "       18.8884569 ])"
      ]
     },
     "execution_count": 19,
     "metadata": {},
     "output_type": "execute_result"
    }
   ],
   "source": [
    "result.x"
   ]
  },
  {
   "cell_type": "markdown",
   "metadata": {},
   "source": [
    "We take the positive elemnts from |0> state of zeroth qubit and negative elements from |1> state of zeroth qubit"
   ]
  },
  {
   "cell_type": "code",
   "execution_count": 20,
   "metadata": {
    "colab": {
     "base_uri": "https://localhost:8080/"
    },
    "id": "Y1mS03NXP0JE",
    "outputId": "6a705224-f7a8-48b2-c01c-021dd8c78e8b"
   },
   "outputs": [
    {
     "name": "stdout",
     "output_type": "stream",
     "text": [
      "[0, 1, 2, 3, 4]\n",
      "[5, 6, 7]\n"
     ]
    }
   ],
   "source": [
    "k_ind = []\n",
    "l_ind = []\n",
    "for i in range(len(x)):\n",
    "    if(x[i] >= 0):\n",
    "      k_ind.append(i)\n",
    "    else:\n",
    "      l_ind.append(i)\n",
    "print(k_ind)\n",
    "print(l_ind)"
   ]
  },
  {
   "cell_type": "markdown",
   "metadata": {},
   "source": [
    "We compite the fidelity of the generated states using VQSP and the original amplitude embedding needed."
   ]
  },
  {
   "cell_type": "code",
   "execution_count": 21,
   "metadata": {
    "colab": {
     "base_uri": "https://localhost:8080/"
    },
    "id": "0y3eA9FWRQnj",
    "outputId": "d7486ce0-1444-4147-83d3-6a80726dbbab"
   },
   "outputs": [
    {
     "name": "stdout",
     "output_type": "stream",
     "text": [
      "[ 0.26582501  0.50217938  0.48928848  0.32429666  0.09210824 -0.39559818\n",
      " -0.21334611 -0.13282652]\n",
      "[ 0.26582501  0.50217938  0.48928848  0.32429666  0.09210824 -0.39559818\n",
      " -0.21334611 -0.13282652] [ 0.36270139  0.42278734  0.47507398  0.38494822  0.2235597  -0.40188009\n",
      " -0.31523528 -0.07041528]\n",
      "0.8504488117338378\n"
     ]
    }
   ],
   "source": [
    "# Left most value in state vector is the 0th qubit which the top one in circuit - Pennylane\n",
    "predictions=variational_classifier(result.x)\n",
    "# print(predictions)\n",
    "\n",
    "modified_predictions = []\n",
    "D = 2 ** (n_qubits - 1)\n",
    "for i in range(len(x)):\n",
    "  if(i in k_ind):\n",
    "    # positive we take from |0> of zeroth qubit\n",
    "    modified_predictions.append(predictions[i])\n",
    "  else:\n",
    "    modified_predictions.append(-1 * predictions[i + D])\n",
    "\n",
    "modified_predictions = np.array(modified_predictions)\n",
    "print(modified_predictions)\n",
    "\n",
    "acc = accuracy(x, modified_predictions)\n",
    "print(modified_predictions.numpy(), x.numpy())\n",
    "print(acc)"
   ]
  },
  {
   "cell_type": "code",
   "execution_count": 22,
   "metadata": {
    "id": "VB43gUKQRVnW"
   },
   "outputs": [],
   "source": [
    "plotting_values = []\n",
    "for i in range(len(cost_values)):\n",
    "    val = cost_values[i].numpy()\n",
    "    plotting_values.append(val)"
   ]
  },
  {
   "cell_type": "code",
   "execution_count": 23,
   "metadata": {},
   "outputs": [
    {
     "data": {
      "text/plain": [
       "Text(0, 0.5, 'Cost Value')"
      ]
     },
     "execution_count": 23,
     "metadata": {},
     "output_type": "execute_result"
    },
    {
     "data": {
      "image/png": "[encoded data removed]",
      "text/plain": [
       "<Figure size 640x480 with 1 Axes>"
      ]
     },
     "metadata": {},
     "output_type": "display_data"
    }
   ],
   "source": [
    "# Plotting how the value of the cost function decreases during the minimization procedure.\n",
    "import matplotlib.pyplot as plt\n",
    "\n",
    "x_values = list(range(len(plotting_values)))\n",
    "y_values = plotting_values\n",
    "\n",
    "plt.plot(x_values, y_values)\n",
    "\n",
    "plt.xlabel(\"Epochs\")\n",
    "plt.ylabel(\"Cost Value\")"
   ]
  },
  {
   "cell_type": "code",
   "execution_count": 24,
   "metadata": {},
   "outputs": [
    {
     "data": {
      "text/plain": [
       "{'resources': Resources(num_wires=4, num_gates=29, gate_types=defaultdict(<class 'int'>, {'RY': 16, 'CZ': 12, 'Hadamard': 1}), gate_sizes=defaultdict(<class 'int'>, {1: 17, 2: 12}), depth=13, shots=Shots(total_shots=None, shot_vector=())),\n",
       " 'num_observables': 1,\n",
       " 'num_diagonalizing_gates': 0,\n",
       " 'num_trainable_params': 0,\n",
       " 'num_device_wires': 4,\n",
       " 'device_name': 'lightning.gpu',\n",
       " 'expansion_strategy': 'gradient',\n",
       " 'gradient_options': {},\n",
       " 'interface': 'auto',\n",
       " 'diff_method': 'best',\n",
       " 'gradient_fn': 'pennylane.gradients.parameter_shift.param_shift',\n",
       " 'num_gradient_executions': 'NotSupported: Computing the gradient of circuits that return the state with the parameter-shift rule gradient transform is not supported, as it is a hardware-compatible method.'}"
      ]
     },
     "execution_count": 24,
     "metadata": {},
     "output_type": "execute_result"
    }
   ],
   "source": [
    "specs_func = qml.specs(circuit)\n",
    "specs_func(result.x)"
   ]
  },
  {
   "cell_type": "code",
   "execution_count": 25,
   "metadata": {},
   "outputs": [],
   "source": [
    "np.savetxt('3_qubit_data.out', x, delimiter=',')   # X is an array"
   ]
  },
  {
   "cell_type": "code",
   "execution_count": 26,
   "metadata": {},
   "outputs": [],
   "source": [
    "np.savetxt('3_qubit_weights.out', result.x, delimiter=',')   # weights is an array"
   ]
  },
  {
   "cell_type": "code",
   "execution_count": 27,
   "metadata": {},
   "outputs": [],
   "source": [
    "# D- = l\n",
    "l_ind_np = np.array(l_ind)\n",
    "np.savetxt('3_qubit_negative_indices.out', l_ind_np, delimiter=',')"
   ]
  }
 ],
 "metadata": {
  "colab": {
   "provenance": []
  },
  "kernelspec": {
   "display_name": "Python 3 (ipykernel)",
   "language": "python",
   "name": "python3"
  },
  "language_info": {
   "codemirror_mode": {
    "name": "ipython",
    "version": 3
   },
   "file_extension": ".py",
   "mimetype": "text/x-python",
   "name": "python",
   "nbconvert_exporter": "python",
   "pygments_lexer": "ipython3",
   "version": "3.10.12"
  }
 },
 "nbformat": 4,
 "nbformat_minor": 4
}
