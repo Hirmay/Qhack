{
 "cells": [
  {
   "cell_type": "markdown",
   "metadata": {
    "id": "e_S3eSpKP8xe"
   },
   "source": [
    "Testing the implementaion of positive and negative real values using 6 Qubits - 64 data points"
   ]
  },
  {
   "cell_type": "markdown",
   "metadata": {},
   "source": [
    "The experimental code for developing Amplitude embedded circuits using Variational Quantum State Preparation (VQSP). The VQSP algorithm uses PQC to create training circuits which learns the parameters to create the corresponding amplitude embedded states."
   ]
  },
  {
   "cell_type": "code",
   "execution_count": 1,
   "metadata": {},
   "outputs": [],
   "source": [
    "# !pip install pennylane nftopt"
   ]
  },
  {
   "cell_type": "markdown",
   "metadata": {},
   "source": [
    "We specify the number of qubits needed to map the data, for n qubits we can amplitude embedded 2^n data. The depth represents the ansatz repitition depth."
   ]
  },
  {
   "cell_type": "code",
   "execution_count": 2,
   "metadata": {},
   "outputs": [],
   "source": [
    "#defining parameters\n",
    "n_qubits = 7 #( 6 + 1 ancillary)\n",
    "depth = 4"
   ]
  },
  {
   "cell_type": "markdown",
   "metadata": {},
   "source": [
    "Generating Random data points to be amplitude embedded."
   ]
  },
  {
   "cell_type": "code",
   "execution_count": 3,
   "metadata": {
    "colab": {
     "base_uri": "https://localhost:8080/"
    },
    "id": "IGTk4AV29R4y",
    "outputId": "ec379772-071f-4b4f-d678-7f7d5d794677"
   },
   "outputs": [
    {
     "name": "stdout",
     "output_type": "stream",
     "text": [
      "[ 0.99236741 -0.24752209 -0.98684305  0.70030876 -0.86898287  0.4564274\n",
      "  0.60753235 -0.70162701  0.77724597 -0.83713444 -0.26276052  0.39973055\n",
      " -0.84604166 -0.2733159  -0.68356227  0.63273108 -0.37296277  0.24321413\n",
      " -0.32835072 -0.44427859 -0.4464695   0.53925435 -0.44558967  0.56345934\n",
      "  0.95275894  0.82321199 -0.12235137  0.77525247 -0.24903018 -0.55349237\n",
      "  0.38894708  0.11174561 -0.18182555  0.61081053  0.77020627  0.69428991\n",
      " -0.63907067 -0.75770937 -0.77903434 -0.65903756  0.13533355 -0.14226274\n",
      " -0.60595802 -0.87876338 -0.88356335 -0.54893274  0.68179297  0.1248074\n",
      "  0.25266089 -0.2362627   0.74560239 -0.2597737  -0.21077212 -0.57166376\n",
      " -0.7028248   0.75085475  0.12089332  0.38749845 -0.19740807  0.36994985\n",
      "  0.51489683 -0.86984577  0.91509972  0.71578094]\n"
     ]
    }
   ],
   "source": [
    "import numpy as np\n",
    "val_total = 2 ** (n_qubits - 1)\n",
    "arr = np.random.uniform(low=-1, high=1,size=(val_total))\n",
    "print(arr)"
   ]
  },
  {
   "cell_type": "code",
   "execution_count": 4,
   "metadata": {
    "colab": {
     "base_uri": "https://localhost:8080/"
    },
    "id": "GuY1qV2evgru",
    "outputId": "0004acac-51ed-49aa-b2f5-d3990c3089f3"
   },
   "outputs": [
    {
     "data": {
      "text/plain": [
       "array([-0.98684305, -0.88356335, -0.87876338, -0.86984577, -0.86898287,\n",
       "       -0.84604166, -0.83713444, -0.77903434, -0.75770937, -0.7028248 ,\n",
       "       -0.70162701, -0.68356227, -0.65903756, -0.63907067, -0.60595802,\n",
       "       -0.57166376, -0.55349237, -0.54893274, -0.4464695 , -0.44558967,\n",
       "       -0.44427859, -0.37296277, -0.32835072, -0.2733159 , -0.26276052,\n",
       "       -0.2597737 , -0.24903018, -0.24752209, -0.2362627 , -0.21077212,\n",
       "       -0.19740807, -0.18182555, -0.14226274, -0.12235137,  0.11174561,\n",
       "        0.12089332,  0.1248074 ,  0.13533355,  0.24321413,  0.25266089,\n",
       "        0.36994985,  0.38749845,  0.38894708,  0.39973055,  0.4564274 ,\n",
       "        0.51489683,  0.53925435,  0.56345934,  0.60753235,  0.61081053,\n",
       "        0.63273108,  0.68179297,  0.69428991,  0.70030876,  0.71578094,\n",
       "        0.74560239,  0.75085475,  0.77020627,  0.77525247,  0.77724597,\n",
       "        0.82321199,  0.91509972,  0.95275894,  0.99236741])"
      ]
     },
     "execution_count": 4,
     "metadata": {},
     "output_type": "execute_result"
    }
   ],
   "source": [
    "np.unique(arr)"
   ]
  },
  {
   "cell_type": "markdown",
   "metadata": {},
   "source": [
    "Cumulating the negative towards the end of the array so that we can easily store the indices of negative elements."
   ]
  },
  {
   "cell_type": "code",
   "execution_count": 5,
   "metadata": {
    "colab": {
     "base_uri": "https://localhost:8080/"
    },
    "id": "Xv5tYw51SzOh",
    "outputId": "132f59dc-1406-4f2f-b9e0-39d53d71c997"
   },
   "outputs": [
    {
     "name": "stdout",
     "output_type": "stream",
     "text": [
      "[ 0.99236741  0.70030876  0.4564274   0.60753235  0.77724597  0.39973055\n",
      "  0.63273108  0.24321413  0.53925435  0.56345934  0.95275894  0.82321199\n",
      "  0.77525247  0.38894708  0.11174561  0.61081053  0.77020627  0.69428991\n",
      "  0.13533355  0.68179297  0.1248074   0.25266089  0.74560239  0.75085475\n",
      "  0.12089332  0.38749845  0.36994985  0.51489683  0.91509972  0.71578094\n",
      " -0.24752209 -0.98684305 -0.86898287 -0.70162701 -0.83713444 -0.26276052\n",
      " -0.84604166 -0.2733159  -0.68356227 -0.37296277 -0.32835072 -0.44427859\n",
      " -0.4464695  -0.44558967 -0.12235137 -0.24903018 -0.55349237 -0.18182555\n",
      " -0.63907067 -0.75770937 -0.77903434 -0.65903756 -0.14226274 -0.60595802\n",
      " -0.87876338 -0.88356335 -0.54893274 -0.2362627  -0.2597737  -0.21077212\n",
      " -0.57166376 -0.7028248  -0.19740807 -0.86984577]\n"
     ]
    }
   ],
   "source": [
    "# Rearranging the array so that there is no index confusion\n",
    "arr1 = []\n",
    "for i in range(len(arr)):\n",
    "  if(arr[i] > 0):\n",
    "    arr1.append(arr[i])\n",
    "\n",
    "for i in range(len(arr)):\n",
    "  if(arr[i] < 0):\n",
    "    arr1.append(arr[i])\n",
    "\n",
    "arr1 = np.array(arr1)\n",
    "print(arr1)"
   ]
  },
  {
   "cell_type": "markdown",
   "metadata": {},
   "source": [
    "Normalizing the points by dividing by their sum"
   ]
  },
  {
   "cell_type": "code",
   "execution_count": 6,
   "metadata": {
    "colab": {
     "base_uri": "https://localhost:8080/"
    },
    "id": "EMpMS6myyaZ9",
    "outputId": "75e862c7-c389-432e-dd99-a1154e59d040"
   },
   "outputs": [
    {
     "name": "stdout",
     "output_type": "stream",
     "text": [
      "34.54968883447452\n",
      "[ 0.0287229   0.02026961  0.01321075  0.01758431  0.02249647  0.01156973\n",
      "  0.01831365  0.00703955  0.01560808  0.01630867  0.02757648  0.0238269\n",
      "  0.02243877  0.01125761  0.00323434  0.01767919  0.02229271  0.0200954\n",
      "  0.00391707  0.01973369  0.0036124   0.00731297  0.02158058  0.02173261\n",
      "  0.00349911  0.01121569  0.01070776  0.01490308  0.02648648  0.02071744\n",
      " -0.00716423 -0.02856301 -0.02515168 -0.02030777 -0.02422987 -0.00760529\n",
      " -0.02448768 -0.00791081 -0.0197849  -0.01079497 -0.00950372 -0.01285912\n",
      " -0.01292253 -0.01289707 -0.00354132 -0.00720789 -0.01602018 -0.00526273\n",
      " -0.01849715 -0.021931   -0.02254823 -0.01907507 -0.00411763 -0.01753874\n",
      " -0.02543477 -0.0255737  -0.01588821 -0.00683835 -0.00751884 -0.00610055\n",
      " -0.01654613 -0.02034244 -0.00571374 -0.02517666]\n"
     ]
    }
   ],
   "source": [
    "summer = np.sum(np.abs(arr1))\n",
    "print(summer)\n",
    "normalized_X = arr1/summer\n",
    "print(normalized_X)"
   ]
  },
  {
   "cell_type": "code",
   "execution_count": 7,
   "metadata": {
    "id": "LHEOby-1QAja"
   },
   "outputs": [],
   "source": [
    "import pennylane as qml\n",
    "from pennylane import numpy as np\n",
    "from pennylane.optimize import NesterovMomentumOptimizer\n",
    "from scipy import optimize\n",
    "from nftopt import nakanishi_fujii_todo as nftmethod"
   ]
  },
  {
   "cell_type": "markdown",
   "metadata": {},
   "source": [
    "Lightning.GPU device has been used to work on NVIDIA GPU powerups"
   ]
  },
  {
   "cell_type": "code",
   "execution_count": 8,
   "metadata": {
    "colab": {
     "base_uri": "https://localhost:8080/"
    },
    "id": "NMFJbv1ZQCB1",
    "outputId": "69e9d8e1-a0f3-4008-cd7b-03252222dba4"
   },
   "outputs": [
    {
     "data": {
      "text/plain": [
       "<LightningGPU device (wires=7, shots=None) at 0x7f9307f273a0>"
      ]
     },
     "execution_count": 8,
     "metadata": {},
     "output_type": "execute_result"
    }
   ],
   "source": [
    "dev = qml.device(\"lightning.gpu\",wires=n_qubits)\n",
    "dev"
   ]
  },
  {
   "cell_type": "markdown",
   "metadata": {},
   "source": [
    "A single Ansatz layer used for training contains set of trainiable RY gates for all the qubits followed by cyclic CZ arrangement."
   ]
  },
  {
   "cell_type": "code",
   "execution_count": 9,
   "metadata": {
    "id": "c-OxlJ3QQDKK"
   },
   "outputs": [],
   "source": [
    "def ansatz_layer(layer_weights, depth, n_qubits):\n",
    "    for dep in range(depth):\n",
    "        for wire in range(n_qubits):\n",
    "            qml.RY(layer_weights[wire+(n_qubits*dep)], wires=wire)\n",
    "\n",
    "        for i in range(n_qubits-1):\n",
    "            qml.CZ(wires=[i,i+1])\n",
    "        # qml.CZ(wires=[n_qubits-1,0])\n",
    "\n",
    "    qml.Hadamard(0)"
   ]
  },
  {
   "cell_type": "markdown",
   "metadata": {},
   "source": [
    "We use the Fidelity as the accuracy metric in this case. The Fidelity estimate provides the similarity between the generated state and the required amplitude embedding. It returs 1 if there are similar."
   ]
  },
  {
   "cell_type": "code",
   "execution_count": 10,
   "metadata": {
    "id": "FTW1SGK9QEoN"
   },
   "outputs": [],
   "source": [
    "def accuracy(labels, predictions):\n",
    "  state0 = qml.math.dm_from_state_vector(labels)\n",
    "  state1 = qml.math.dm_from_state_vector(predictions)\n",
    "  return qml.math.fidelity(state0, state1)"
   ]
  },
  {
   "cell_type": "code",
   "execution_count": 11,
   "metadata": {
    "id": "XR4C_aLQQGIy"
   },
   "outputs": [],
   "source": [
    "@qml.qnode(dev)\n",
    "def circuit(weights):\n",
    "  # since depth 4 was used\n",
    "  ansatz_layer(weights,depth=depth, n_qubits=n_qubits)\n",
    "  # qml.state() applies Ua to Ini State, which gives Appro_a\n",
    "  return qml.state()"
   ]
  },
  {
   "cell_type": "code",
   "execution_count": 12,
   "metadata": {
    "id": "JZGfLnJeQHjz"
   },
   "outputs": [],
   "source": [
    "def variational_classifier(weights):\n",
    "    # weights are thetas\n",
    "    return np.real(circuit(weights))"
   ]
  },
  {
   "cell_type": "markdown",
   "metadata": {},
   "source": [
    "We convert the data into a state representation by dividing them with their squre root of sum so as to obtain the probability value of the state vector as 1."
   ]
  },
  {
   "cell_type": "code",
   "execution_count": 13,
   "metadata": {
    "colab": {
     "base_uri": "https://localhost:8080/"
    },
    "id": "7aI212uqQIlQ",
    "outputId": "ede76f88-314f-42c9-ee4d-dad6465ac7d6"
   },
   "outputs": [
    {
     "name": "stdout",
     "output_type": "stream",
     "text": [
      "[ 0.16947833  0.14237138  0.11493804  0.13260583  0.14998823  0.10756268\n",
      "  0.13532795  0.083902    0.12493231  0.12770539  0.16606169  0.15435965\n",
      "  0.14979576  0.10610191  0.0568713   0.13296312  0.14930744  0.14175825\n",
      "  0.0625865   0.14047666  0.06010327  0.08551591  0.14690331  0.14741983\n",
      "  0.05915331  0.10590413  0.10347832  0.12207818  0.16274668  0.14393552\n",
      " -0.0846418  -0.16900594 -0.15859283 -0.14250532 -0.15565947 -0.08720833\n",
      " -0.15648539 -0.08894271 -0.14065882 -0.10389883 -0.09748705 -0.11339806\n",
      " -0.11367732 -0.11356526 -0.05950896 -0.08489926 -0.12657086 -0.07254465\n",
      " -0.13600422 -0.1480912  -0.15016068 -0.13811251 -0.06416874 -0.13243391\n",
      " -0.15948282 -0.15991779 -0.12604845 -0.08269429 -0.08671126 -0.07810602\n",
      " -0.12863177 -0.14262691 -0.07558931 -0.15867155]\n"
     ]
    }
   ],
   "source": [
    "temp = []\n",
    "for i in range(len(normalized_X)):\n",
    "  val = np.sqrt(np.abs(normalized_X[i]))\n",
    "  if (normalized_X[i] < 0):\n",
    "    val = val * -1\n",
    "  temp.append(val)\n",
    "\n",
    "x = np.array(temp)\n",
    "print(x)\n"
   ]
  },
  {
   "cell_type": "markdown",
   "metadata": {},
   "source": [
    "This calculates the total probability value of the state and it's 1."
   ]
  },
  {
   "cell_type": "code",
   "execution_count": 14,
   "metadata": {
    "colab": {
     "base_uri": "https://localhost:8080/"
    },
    "id": "m9IqJ70dphm0",
    "outputId": "8dc5094e-e46c-419b-8b90-9b9736dbe637"
   },
   "outputs": [
    {
     "name": "stdout",
     "output_type": "stream",
     "text": [
      "1.0000000000000002\n"
     ]
    }
   ],
   "source": [
    "sum = 0\n",
    "for i in range(len(x)):\n",
    "  sum += x[i]**2\n",
    "print(sum)"
   ]
  },
  {
   "cell_type": "markdown",
   "metadata": {},
   "source": [
    "The Cost function for Approach 2 from the paper https://arxiv.org/pdf/2302.13299.pdf. This cost function can only be used for positive and negative values in an array for all real values."
   ]
  },
  {
   "cell_type": "code",
   "execution_count": 15,
   "metadata": {
    "id": "eDGI-EXh6Jhl"
   },
   "outputs": [],
   "source": [
    "# D = 2**d\n",
    "# D+ = k\n",
    "# D- = l\n",
    "def F2_loss(a,Appro_a):\n",
    "  #   Define the cost function\n",
    "  F2 = 0.\n",
    "  k = []\n",
    "  k_ind = []\n",
    "  l = []\n",
    "  l_ind = []\n",
    "  # Split a into k and l, store indices as well(+ve and -ve)\n",
    "  for i in range(len(a)):\n",
    "    if(a[i] >= 0):\n",
    "      k.append(a[i])\n",
    "      k_ind.append(i)\n",
    "    else:\n",
    "      l.append(a[i])\n",
    "      l_ind.append(i)\n",
    "\n",
    "  for i in range(len(k)):\n",
    "    F2 += (k[i]**2)*np.log2((Appro_a[k_ind[i]]**2)/(k[i]**2))\n",
    "  D = 2 ** (n_qubits-1)\n",
    "  for i in range(len(l)):\n",
    "    F2 += (l[i]**2)*np.log2((Appro_a[l_ind[i]+D]**2)/(l[i]**2))\n",
    "\n",
    "\n",
    "  #   Prepare the Bell state\n",
    "  states_with_ancillary = 2**(n_qubits)\n",
    "  Bell_State=np.ones((states_with_ancillary,1))/np.linalg.norm(np.ones((states_with_ancillary,1)))\n",
    "  #   The sum of vector a\n",
    "  Sum_a=np.sum(np.abs(a))\n",
    "  sqrt_D = np.sqrt(2) * np.linalg.norm(np.ones((D,1)))\n",
    "  UaFunction=np.abs(Sum_a -  (sqrt_D * np.matmul(np.transpose(Bell_State), Appro_a)))-(F2)\n",
    "  return np.real(UaFunction)"
   ]
  },
  {
   "cell_type": "code",
   "execution_count": 16,
   "metadata": {
    "colab": {
     "base_uri": "https://localhost:8080/"
    },
    "id": "tL5u-vVq4y0-",
    "outputId": "21b397b3-d4b3-4a54-d7b9-3bb1c98a922a"
   },
   "outputs": [
    {
     "name": "stdout",
     "output_type": "stream",
     "text": [
      "[ 0.16947833  0.14237138  0.11493804  0.13260583  0.14998823  0.10756268\n",
      "  0.13532795  0.083902    0.12493231  0.12770539  0.16606169  0.15435965\n",
      "  0.14979576  0.10610191  0.0568713   0.13296312  0.14930744  0.14175825\n",
      "  0.0625865   0.14047666  0.06010327  0.08551591  0.14690331  0.14741983\n",
      "  0.05915331  0.10590413  0.10347832  0.12207818  0.16274668  0.14393552\n",
      " -0.0846418  -0.16900594 -0.15859283 -0.14250532 -0.15565947 -0.08720833\n",
      " -0.15648539 -0.08894271 -0.14065882 -0.10389883 -0.09748705 -0.11339806\n",
      " -0.11367732 -0.11356526 -0.05950896 -0.08489926 -0.12657086 -0.07254465\n",
      " -0.13600422 -0.1480912  -0.15016068 -0.13811251 -0.06416874 -0.13243391\n",
      " -0.15948282 -0.15991779 -0.12604845 -0.08269429 -0.08671126 -0.07810602\n",
      " -0.12863177 -0.14262691 -0.07558931 -0.15867155]\n"
     ]
    }
   ],
   "source": [
    "print(x)"
   ]
  },
  {
   "cell_type": "code",
   "execution_count": 17,
   "metadata": {
    "id": "Z9jjzQJFQq-O"
   },
   "outputs": [],
   "source": [
    "cost_values = []\n",
    "def cost(weights, X=x):\n",
    "    # X is our preparation state\n",
    "    Appro_a = variational_classifier(weights)\n",
    "    expectation_value = F2_loss(X, Appro_a)\n",
    "    cost_values.append(expectation_value)\n",
    "    return expectation_value"
   ]
  },
  {
   "cell_type": "markdown",
   "metadata": {},
   "source": [
    "We perform the minimization using the Nakanishi-Fujii-Todo algorithm."
   ]
  },
  {
   "cell_type": "code",
   "execution_count": 18,
   "metadata": {
    "id": "dhuy_o6ZQvPY"
   },
   "outputs": [
    {
     "name": "stdout",
     "output_type": "stream",
     "text": [
      "Training time: 111.37225103378296s\n"
     ]
    }
   ],
   "source": [
    "import time\n",
    "weights = 4*np.pi*np.random.rand(n_qubits * depth)\n",
    "start = time.time()\n",
    "result= optimize.minimize(cost,weights, method=nftmethod, options={'maxfev':8000})\n",
    "stop = time.time()\n",
    "print(f\"Training time: {stop - start}s\")"
   ]
  },
  {
   "cell_type": "markdown",
   "metadata": {},
   "source": [
    "The final sets of weights after performin optimization. These can be used to the generate the requried amplitude embedded state."
   ]
  },
  {
   "cell_type": "code",
   "execution_count": 19,
   "metadata": {
    "colab": {
     "base_uri": "https://localhost:8080/"
    },
    "id": "Wpzlr_C7QsYZ",
    "outputId": "5cc3d488-7b1c-456a-a895-5382c7f001b1"
   },
   "outputs": [
    {
     "data": {
      "text/plain": [
       "array([11.61828245, 15.95167207, 15.33473427, 10.27329003, 12.38286767,\n",
       "       17.22343392, 10.97994294,  7.09410763,  2.62086333,  3.36990145,\n",
       "        5.93167541, -3.42886375, 12.73880319, 16.01009518, 10.37888822,\n",
       "       13.84467407,  7.79909124, 13.32494759,  8.11853836, 12.43039028,\n",
       "        9.38777807, 26.74527085,  2.86265876,  9.47701914,  6.34360186,\n",
       "       12.74414325,  9.43723746, 11.90092418])"
      ]
     },
     "execution_count": 19,
     "metadata": {},
     "output_type": "execute_result"
    }
   ],
   "source": [
    "result.x"
   ]
  },
  {
   "cell_type": "markdown",
   "metadata": {},
   "source": [
    "We take the positive elemnts from |0> state of zeroth qubit and negative elements from |1> state of zeroth qubit"
   ]
  },
  {
   "cell_type": "code",
   "execution_count": 20,
   "metadata": {
    "colab": {
     "base_uri": "https://localhost:8080/"
    },
    "id": "Y1mS03NXP0JE",
    "outputId": "6a705224-f7a8-48b2-c01c-021dd8c78e8b"
   },
   "outputs": [
    {
     "name": "stdout",
     "output_type": "stream",
     "text": [
      "[0, 1, 2, 3, 4, 5, 6, 7, 8, 9, 10, 11, 12, 13, 14, 15, 16, 17, 18, 19, 20, 21, 22, 23, 24, 25, 26, 27, 28, 29]\n",
      "[30, 31, 32, 33, 34, 35, 36, 37, 38, 39, 40, 41, 42, 43, 44, 45, 46, 47, 48, 49, 50, 51, 52, 53, 54, 55, 56, 57, 58, 59, 60, 61, 62, 63]\n"
     ]
    }
   ],
   "source": [
    "k_ind = []\n",
    "l_ind = []\n",
    "for i in range(len(x)):\n",
    "    if(x[i] >= 0):\n",
    "      k_ind.append(i)\n",
    "    else:\n",
    "      l_ind.append(i)\n",
    "print(k_ind)\n",
    "print(l_ind)"
   ]
  },
  {
   "cell_type": "markdown",
   "metadata": {},
   "source": [
    "We compite the fidelity of the generated states using VQSP and the original amplitude embedding needed."
   ]
  },
  {
   "cell_type": "code",
   "execution_count": 21,
   "metadata": {
    "colab": {
     "base_uri": "https://localhost:8080/"
    },
    "id": "0y3eA9FWRQnj",
    "outputId": "d7486ce0-1444-4147-83d3-6a80726dbbab"
   },
   "outputs": [
    {
     "name": "stdout",
     "output_type": "stream",
     "text": [
      "[ 0.17407738  0.14686779  0.13738816  0.15589442  0.18164082  0.14294826\n",
      "  0.10837012  0.13601917  0.10945202  0.09180039  0.10571099  0.12318894\n",
      "  0.13144163  0.10589195  0.05989768  0.07430671  0.11097286  0.09344834\n",
      "  0.09026374  0.10309801  0.10729664  0.08475967  0.06298098  0.0788122\n",
      "  0.06754776  0.05688925  0.06352288  0.0734774   0.0946339   0.07553265\n",
      " -0.00831997 -0.01023461 -0.17865969 -0.15081718 -0.14145748 -0.16039587\n",
      " -0.187308   -0.14733357 -0.11133646 -0.13986254 -0.10595439 -0.08873213\n",
      " -0.10184964 -0.11887705 -0.12450976 -0.10049894 -0.05688007 -0.07031393\n",
      " -0.15982072 -0.13444775 -0.12982862 -0.14856724 -0.1518322  -0.12012593\n",
      " -0.08961543 -0.11190755 -0.10728689 -0.09055073 -0.10200955 -0.11778173\n",
      " -0.15259086 -0.12162296 -0.07442536 -0.09346783]\n",
      "[ 0.17407738  0.14686779  0.13738816  0.15589442  0.18164082  0.14294826\n",
      "  0.10837012  0.13601917  0.10945202  0.09180039  0.10571099  0.12318894\n",
      "  0.13144163  0.10589195  0.05989768  0.07430671  0.11097286  0.09344834\n",
      "  0.09026374  0.10309801  0.10729664  0.08475967  0.06298098  0.0788122\n",
      "  0.06754776  0.05688925  0.06352288  0.0734774   0.0946339   0.07553265\n",
      " -0.00831997 -0.01023461 -0.17865969 -0.15081718 -0.14145748 -0.16039587\n",
      " -0.187308   -0.14733357 -0.11133646 -0.13986254 -0.10595439 -0.08873213\n",
      " -0.10184964 -0.11887705 -0.12450976 -0.10049894 -0.05688007 -0.07031393\n",
      " -0.15982072 -0.13444775 -0.12982862 -0.14856724 -0.1518322  -0.12012593\n",
      " -0.08961543 -0.11190755 -0.10728689 -0.09055073 -0.10200955 -0.11778173\n",
      " -0.15259086 -0.12162296 -0.07442536 -0.09346783] [ 0.16947833  0.14237138  0.11493804  0.13260583  0.14998823  0.10756268\n",
      "  0.13532795  0.083902    0.12493231  0.12770539  0.16606169  0.15435965\n",
      "  0.14979576  0.10610191  0.0568713   0.13296312  0.14930744  0.14175825\n",
      "  0.0625865   0.14047666  0.06010327  0.08551591  0.14690331  0.14741983\n",
      "  0.05915331  0.10590413  0.10347832  0.12207818  0.16274668  0.14393552\n",
      " -0.0846418  -0.16900594 -0.15859283 -0.14250532 -0.15565947 -0.08720833\n",
      " -0.15648539 -0.08894271 -0.14065882 -0.10389883 -0.09748705 -0.11339806\n",
      " -0.11367732 -0.11356526 -0.05950896 -0.08489926 -0.12657086 -0.07254465\n",
      " -0.13600422 -0.1480912  -0.15016068 -0.13811251 -0.06416874 -0.13243391\n",
      " -0.15948282 -0.15991779 -0.12604845 -0.08269429 -0.08671126 -0.07810602\n",
      " -0.12863177 -0.14262691 -0.07558931 -0.15867155]\n",
      "0.7546041168861622\n"
     ]
    }
   ],
   "source": [
    "# Left most value in state vector is the 0th qubit which the top one in circuit - Pennylane\n",
    "predictions=variational_classifier(result.x)\n",
    "# print(predictions)\n",
    "\n",
    "modified_predictions = []\n",
    "D = 2 ** (n_qubits - 1)\n",
    "for i in range(len(x)):\n",
    "  if(i in k_ind):\n",
    "    # positive we take from |0> of zeroth qubit\n",
    "    modified_predictions.append(predictions[i])\n",
    "  else:\n",
    "    modified_predictions.append(-1 * predictions[i + D])\n",
    "\n",
    "modified_predictions = np.array(modified_predictions)\n",
    "print(modified_predictions)\n",
    "\n",
    "acc = accuracy(x, modified_predictions)\n",
    "print(modified_predictions.numpy(), x.numpy())\n",
    "print(acc)"
   ]
  },
  {
   "cell_type": "code",
   "execution_count": 22,
   "metadata": {
    "id": "VB43gUKQRVnW"
   },
   "outputs": [],
   "source": [
    "plotting_values = []\n",
    "for i in range(len(cost_values)):\n",
    "    val = cost_values[i].numpy()\n",
    "    plotting_values.append(val)"
   ]
  },
  {
   "cell_type": "code",
   "execution_count": 23,
   "metadata": {},
   "outputs": [
    {
     "data": {
      "text/plain": [
       "Text(0, 0.5, 'Cost Value')"
      ]
     },
     "execution_count": 23,
     "metadata": {},
     "output_type": "execute_result"
    },
    {
     "data": {
      "image/png": "[encoded data removed]",
      "text/plain": [
       "<Figure size 640x480 with 1 Axes>"
      ]
     },
     "metadata": {},
     "output_type": "display_data"
    }
   ],
   "source": [
    "# Plotting how the value of the cost function decreases during the minimization procedure.\n",
    "import matplotlib.pyplot as plt\n",
    "\n",
    "x_values = list(range(len(plotting_values)))\n",
    "y_values = plotting_values\n",
    "\n",
    "plt.plot(x_values, y_values)\n",
    "\n",
    "plt.xlabel(\"Epochs\")\n",
    "plt.ylabel(\"Cost Value\")"
   ]
  },
  {
   "cell_type": "code",
   "execution_count": 24,
   "metadata": {},
   "outputs": [
    {
     "data": {
      "text/plain": [
       "{'resources': Resources(num_wires=7, num_gates=53, gate_types=defaultdict(<class 'int'>, {'RY': 28, 'CZ': 24, 'Hadamard': 1}), gate_sizes=defaultdict(<class 'int'>, {1: 29, 2: 24}), depth=16, shots=Shots(total_shots=None, shot_vector=())),\n",
       " 'num_observables': 1,\n",
       " 'num_diagonalizing_gates': 0,\n",
       " 'num_trainable_params': 0,\n",
       " 'num_device_wires': 7,\n",
       " 'device_name': 'lightning.gpu',\n",
       " 'expansion_strategy': 'gradient',\n",
       " 'gradient_options': {},\n",
       " 'interface': 'auto',\n",
       " 'diff_method': 'best',\n",
       " 'gradient_fn': 'pennylane.gradients.parameter_shift.param_shift',\n",
       " 'num_gradient_executions': 'NotSupported: Computing the gradient of circuits that return the state with the parameter-shift rule gradient transform is not supported, as it is a hardware-compatible method.'}"
      ]
     },
     "execution_count": 24,
     "metadata": {},
     "output_type": "execute_result"
    }
   ],
   "source": [
    "specs_func = qml.specs(circuit)\n",
    "specs_func(result.x)"
   ]
  },
  {
   "cell_type": "code",
   "execution_count": 25,
   "metadata": {},
   "outputs": [],
   "source": [
    "np.savetxt('6_qubit_data.out', x, delimiter=',')   # X is an array"
   ]
  },
  {
   "cell_type": "code",
   "execution_count": 26,
   "metadata": {},
   "outputs": [],
   "source": [
    "np.savetxt('6_qubit_weights.out', result.x, delimiter=',')   # weights is an array"
   ]
  },
  {
   "cell_type": "code",
   "execution_count": 27,
   "metadata": {},
   "outputs": [],
   "source": [
    "# D- = l\n",
    "l_ind_np = np.array(l_ind)\n",
    "np.savetxt('6_qubit_negative_indices.out', l_ind_np, delimiter=',')"
   ]
  }
 ],
 "metadata": {
  "colab": {
   "provenance": []
  },
  "kernelspec": {
   "display_name": "Python 3 (ipykernel)",
   "language": "python",
   "name": "python3"
  },
  "language_info": {
   "codemirror_mode": {
    "name": "ipython",
    "version": 3
   },
   "file_extension": ".py",
   "mimetype": "text/x-python",
   "name": "python",
   "nbconvert_exporter": "python",
   "pygments_lexer": "ipython3",
   "version": "3.10.12"
  }
 },
 "nbformat": 4,
 "nbformat_minor": 4
}
