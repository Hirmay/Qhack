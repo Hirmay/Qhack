{
  "cells": [
    {
      "cell_type": "markdown",
      "id": "e636f617-3fad-48c0-926b-79eec11441fe",
      "metadata": {
        "id": "e636f617-3fad-48c0-926b-79eec11441fe"
      },
      "source": [
        "Testing the implementaion of All positive values using 12 Qubits - 4096 data points. The weights are obtained from pre training using a simulator and tested in the Cat Qubits."
      ]
    },
    {
      "cell_type": "markdown",
      "id": "9be78276-ba16-4997-acc8-327e8936f0e3",
      "metadata": {
        "id": "9be78276-ba16-4997-acc8-327e8936f0e3"
      },
      "source": [
        "The experimental code for developing Amplitude embedded circuits using Variational Quantum State Preparation (VQSP). The VQSP algorithm uses PQC to create training circuits which learns the parameters to create the corresponding amplitude embedded states."
      ]
    },
    {
      "cell_type": "code",
      "execution_count": 1,
      "id": "ae60a68f-eb91-48fa-acdd-f182c9973c22",
      "metadata": {
        "id": "ae60a68f-eb91-48fa-acdd-f182c9973c22"
      },
      "outputs": [],
      "source": [
        "# !pip install pennylane nftopt"
      ]
    },
    {
      "cell_type": "code",
      "source": [
        "# !pip install git+https://github.com/QuantumETS/pennylane-alice-bob.git@main"
      ],
      "metadata": {
        "id": "bSI4rTQ-r7PS"
      },
      "id": "bSI4rTQ-r7PS",
      "execution_count": 2,
      "outputs": []
    },
    {
      "cell_type": "markdown",
      "id": "f619c0e1-7048-46bf-9220-4060ed674c17",
      "metadata": {
        "id": "f619c0e1-7048-46bf-9220-4060ed674c17"
      },
      "source": [
        "We specify the number of qubits needed to map the data, for n qubits we can amplitude embedded 2^n data. The depth represents the ansatz repitition depth."
      ]
    },
    {
      "cell_type": "code",
      "execution_count": 3,
      "id": "36a2c84f-0092-4fd2-a84c-daeff317dd48",
      "metadata": {
        "id": "36a2c84f-0092-4fd2-a84c-daeff317dd48"
      },
      "outputs": [],
      "source": [
        "#defining parameters\n",
        "n_qubits = 12\n",
        "depth = 4"
      ]
    },
    {
      "cell_type": "code",
      "execution_count": 4,
      "id": "2a7c1c73-0907-4ee9-b995-ab8d33fea9ef",
      "metadata": {
        "id": "2a7c1c73-0907-4ee9-b995-ab8d33fea9ef"
      },
      "outputs": [],
      "source": [
        "import pennylane as qml\n",
        "from pennylane import numpy as np\n",
        "from pennylane.optimize import NesterovMomentumOptimizer\n",
        "from scipy import optimize\n",
        "from nftopt import nakanishi_fujii_todo as nftmethod"
      ]
    },
    {
      "cell_type": "markdown",
      "id": "00272b92-afad-423e-b45f-35353c92c4a9",
      "metadata": {
        "id": "00272b92-afad-423e-b45f-35353c92c4a9"
      },
      "source": [
        "We use the Logical Cat qubit version as the physical cat qubit version does not support the gate configurations that have been used in the circuit. Repo Link - <a> https://github.com/QuantumETS/pennylane-alice-bob/tree/main </a>"
      ]
    },
    {
      "cell_type": "code",
      "execution_count": 5,
      "id": "8dd1f0e1-7dc0-40b1-b780-303853264e98",
      "metadata": {
        "colab": {
          "base_uri": "https://localhost:8080/"
        },
        "id": "8dd1f0e1-7dc0-40b1-b780-303853264e98",
        "outputId": "0d0c0a93-4561-4b81-eaf4-6a72f464b6b2"
      },
      "outputs": [
        {
          "output_type": "stream",
          "name": "stdout",
          "text": [
            "Using alice & bob EMU:15Q:LOGICAL_EARLY backend...\n"
          ]
        },
        {
          "output_type": "execute_result",
          "data": {
            "text/plain": [
              "<RemoteDevice device (wires=12, shots=1024) at 0x7fedddcdb7f0>"
            ]
          },
          "metadata": {},
          "execution_count": 5
        }
      ],
      "source": [
        "# dev = qml.device(\"alicebob.qubit\", alice_backend=\"EMU:40Q:PHYSICAL_CATS\", wires=n_qubits, average_nb_photons=4,kappa_1=1e2, kappa_2=1e4, shots=1000)\n",
        "dev = qml.device(\"alicebob.qubit\", alice_backend=\"EMU:15Q:LOGICAL_EARLY\", wires=n_qubits)\n",
        "dev"
      ]
    },
    {
      "cell_type": "markdown",
      "id": "1d56b886-e22f-4336-b0d5-360ef823a74f",
      "metadata": {
        "id": "1d56b886-e22f-4336-b0d5-360ef823a74f"
      },
      "source": [
        "A single Ansatz layer used for training contains set of trainiable RY gates for all the qubits followed by cyclic CZ arrangement."
      ]
    },
    {
      "cell_type": "code",
      "execution_count": 6,
      "id": "c2ffba23-faec-4557-b143-52c21b2d75f0",
      "metadata": {
        "id": "c2ffba23-faec-4557-b143-52c21b2d75f0"
      },
      "outputs": [],
      "source": [
        "def ansatz_layer(layer_weights, depth, n_qubits):\n",
        "    for dep in range(depth):\n",
        "        for wire in range(n_qubits):\n",
        "            qml.RY(layer_weights[wire+(n_qubits*dep)], wires=wire)\n",
        "\n",
        "        for i in range(n_qubits-1):\n",
        "            qml.CZ(wires=[i,i+1])\n",
        "        qml.CZ(wires=[n_qubits-1,0])"
      ]
    },
    {
      "cell_type": "markdown",
      "id": "9c245bd5-3e9d-4f38-bd38-d45dbe8788fa",
      "metadata": {
        "id": "9c245bd5-3e9d-4f38-bd38-d45dbe8788fa"
      },
      "source": [
        "We use the Fidelity as the accuracy metric in this case. The Fidelity estimate provides the similarity between the generated state and the required amplitude embedding. It returs 1 if there are similar."
      ]
    },
    {
      "cell_type": "code",
      "execution_count": 7,
      "id": "7e480cd0-73f5-4222-843e-0905eee5b8c5",
      "metadata": {
        "id": "7e480cd0-73f5-4222-843e-0905eee5b8c5"
      },
      "outputs": [],
      "source": [
        "def accuracy(labels, predictions):\n",
        "  state0 = qml.math.dm_from_state_vector(labels)\n",
        "  state1 = qml.math.dm_from_state_vector(predictions)\n",
        "  return qml.math.fidelity(state0, state1)"
      ]
    },
    {
      "cell_type": "code",
      "execution_count": 8,
      "id": "f6d051b0-8776-4c2d-a185-6942ece52e2f",
      "metadata": {
        "id": "f6d051b0-8776-4c2d-a185-6942ece52e2f"
      },
      "outputs": [],
      "source": [
        "@qml.qnode(dev)\n",
        "def circuit(weights):\n",
        "  # since depth 4 was used\n",
        "  ansatz_layer(weights,depth=depth, n_qubits=n_qubits)\n",
        "  # qml.state() applies Ua to Ini State, which gives Appro_a\n",
        "  # return qml.state()\n",
        "  return qml.probs()"
      ]
    },
    {
      "cell_type": "code",
      "execution_count": 9,
      "id": "e050d3ed-6542-4c7c-bd5a-0742604cccc0",
      "metadata": {
        "id": "e050d3ed-6542-4c7c-bd5a-0742604cccc0"
      },
      "outputs": [],
      "source": [
        "def variational_classifier(weights, x):\n",
        "    # weights are thetas\n",
        "    return np.real(circuit(weights))"
      ]
    },
    {
      "cell_type": "markdown",
      "source": [
        "Loading the data which have been used to get the weights by previous training"
      ],
      "metadata": {
        "id": "Nwit5Eodvvg2"
      },
      "id": "Nwit5Eodvvg2"
    },
    {
      "cell_type": "code",
      "source": [
        "value = np.loadtxt('12_qubit_data.out')\n",
        "print(value)"
      ],
      "metadata": {
        "colab": {
          "base_uri": "https://localhost:8080/"
        },
        "id": "RHuNQ61WtnNA",
        "outputId": "f9a16e14-67f3-4e6d-d026-69948fa5494d"
      },
      "id": "RHuNQ61WtnNA",
      "execution_count": 10,
      "outputs": [
        {
          "output_type": "stream",
          "name": "stdout",
          "text": [
            "[0.00975932 0.02195996 0.00954274 ... 0.01582369 0.02101887 0.01189177]\n"
          ]
        }
      ]
    },
    {
      "cell_type": "markdown",
      "source": [
        "Loading the weights to prepare the amplitude embedding of the above data"
      ],
      "metadata": {
        "id": "nGJ8rIa4v4P5"
      },
      "id": "nGJ8rIa4v4P5"
    },
    {
      "cell_type": "code",
      "source": [
        "weights = np.loadtxt('12_qubit_weights.out')\n",
        "print(weights)"
      ],
      "metadata": {
        "colab": {
          "base_uri": "https://localhost:8080/"
        },
        "id": "XLHV2SSctn7m",
        "outputId": "d62fa85b-4f0c-4013-cd14-c48588937251"
      },
      "id": "XLHV2SSctn7m",
      "execution_count": 11,
      "outputs": [
        {
          "output_type": "stream",
          "name": "stdout",
          "text": [
            "[ 1.34730403e+01  6.08781112e+00  2.23222438e+00  9.41198146e+00\n",
            "  7.19025136e+00  6.27874028e+00  3.27355972e+00  1.59422817e-02\n",
            "  6.16736248e+00  3.13499254e+00  1.02795449e+01  3.14328155e+00\n",
            "  3.13860280e+00  3.11840574e+00  1.17668482e-02  9.42731269e+00\n",
            "  3.22188528e+00  6.28057554e+00  4.31305869e+00  3.14920044e+00\n",
            "  1.12584161e+01  3.11340870e+00  6.77459811e+00  1.25607068e+01\n",
            "  2.46688751e+00  4.56249561e+00  5.60919706e+00  4.69490231e+00\n",
            "  2.40140690e+00  7.85524717e+00  9.18206385e+00  1.57091538e+00\n",
            "  3.63954967e-01  4.70750144e+00  2.93105472e+00  7.85840491e+00\n",
            "  9.42815699e+00 -2.74568408e-02  9.42519845e+00  3.14230608e+00\n",
            "  3.13708694e+00  9.42858711e+00  1.25697236e+01  9.41732257e+00\n",
            "  1.25687459e+01  9.39739819e+00  1.25707670e+01  6.28472098e+00]\n"
          ]
        }
      ]
    },
    {
      "cell_type": "markdown",
      "id": "213f0f4e-c26f-4bfb-91b0-3fb3ec188428",
      "metadata": {
        "id": "213f0f4e-c26f-4bfb-91b0-3fb3ec188428"
      },
      "source": [
        "We compite the fidelity of the generated states using VQSP and the original amplitude embedding needed."
      ]
    },
    {
      "cell_type": "markdown",
      "source": [
        "The Cat qubit library does not support gathering state vector from circuit, so we get the probabilities of the result.\n",
        "\n",
        "Since (Amplitude of state) ^ 2 = Probability,\n",
        "we compute the squre root of Probability before finding the fidelity of the states."
      ],
      "metadata": {
        "id": "p7jO2ooDv-L4"
      },
      "id": "p7jO2ooDv-L4"
    },
    {
      "cell_type": "code",
      "execution_count": 12,
      "id": "d47ecf5f-7828-44a8-9417-be207174e056",
      "metadata": {
        "colab": {
          "base_uri": "https://localhost:8080/"
        },
        "id": "d47ecf5f-7828-44a8-9417-be207174e056",
        "outputId": "cec5c434-9615-4b1e-8a57-affd6899dd87"
      },
      "outputs": [
        {
          "output_type": "stream",
          "name": "stdout",
          "text": [
            "[0.         0.00195312 0.00097656 ... 0.         0.         0.00097656]\n",
            "0.18937636074588654\n"
          ]
        }
      ],
      "source": [
        "predictions=variational_classifier(weights,value)\n",
        "print(predictions)\n",
        "# Amp (qml.state) ^ 2 = prob (qml.prob)\n",
        "acc = accuracy(value, np.sqrt(predictions))\n",
        "# print(predictions.numpy(), x.numpy())\n",
        "print(acc)"
      ]
    }
  ],
  "metadata": {
    "kernelspec": {
      "display_name": "Python 3 (ipykernel)",
      "language": "python",
      "name": "python3"
    },
    "language_info": {
      "codemirror_mode": {
        "name": "ipython",
        "version": 3
      },
      "file_extension": ".py",
      "mimetype": "text/x-python",
      "name": "python",
      "nbconvert_exporter": "python",
      "pygments_lexer": "ipython3",
      "version": "3.10.12"
    },
    "colab": {
      "provenance": []
    }
  },
  "nbformat": 4,
  "nbformat_minor": 5
}