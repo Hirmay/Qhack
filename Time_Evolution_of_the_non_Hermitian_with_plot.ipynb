{
 "cells": [
  {
   "cell_type": "code",
   "execution_count": 1,
   "metadata": {
    "colab": {
     "base_uri": "https://localhost:8080/"
    },
    "id": "P0junK8SAgeN",
    "outputId": "8b0a8161-5ea7-4fef-9f8a-2e5018ea2812",
    "tags": []
   },
   "outputs": [
    {
     "name": "stdout",
     "output_type": "stream",
     "text": [
      "Collecting pennylane\n",
      "  Downloading PennyLane-0.34.0-py3-none-any.whl.metadata (9.0 kB)\n",
      "Collecting nftopt\n",
      "  Downloading nftopt-0.0.1-py3-none-any.whl (6.9 kB)\n",
      "Collecting qiskit\n",
      "  Downloading qiskit-1.0.0-cp38-abi3-manylinux_2_17_x86_64.manylinux2014_x86_64.whl.metadata (12 kB)\n",
      "Requirement already satisfied: numpy in /home/ec2-user/anaconda3/envs/JupyterSystemEnv/lib/python3.10/site-packages (from pennylane) (1.26.3)\n",
      "Collecting scipy (from pennylane)\n",
      "  Downloading scipy-1.12.0-cp310-cp310-manylinux_2_17_x86_64.manylinux2014_x86_64.whl.metadata (60 kB)\n",
      "\u001b[2K     \u001b[90m━━━━━━━━━━━━━━━━━━━━━━━━━━━━━━━━━━━━━━━━\u001b[0m \u001b[32m60.4/60.4 kB\u001b[0m \u001b[31m7.2 MB/s\u001b[0m eta \u001b[36m0:00:00\u001b[0m\n",
      "\u001b[?25hCollecting networkx (from pennylane)\n",
      "  Downloading networkx-3.2.1-py3-none-any.whl.metadata (5.2 kB)\n",
      "Collecting rustworkx (from pennylane)\n",
      "  Downloading rustworkx-0.14.0-cp310-cp310-manylinux_2_17_x86_64.manylinux2014_x86_64.whl.metadata (10.0 kB)\n",
      "Collecting autograd (from pennylane)\n",
      "  Downloading autograd-1.6.2-py3-none-any.whl.metadata (706 bytes)\n",
      "Collecting toml (from pennylane)\n",
      "  Downloading toml-0.10.2-py2.py3-none-any.whl (16 kB)\n",
      "Collecting appdirs (from pennylane)\n",
      "  Downloading appdirs-1.4.4-py2.py3-none-any.whl (9.6 kB)\n",
      "Collecting semantic-version>=2.7 (from pennylane)\n",
      "  Downloading semantic_version-2.10.0-py2.py3-none-any.whl (15 kB)\n",
      "Collecting autoray>=0.6.1 (from pennylane)\n",
      "  Downloading autoray-0.6.8-py3-none-any.whl.metadata (5.7 kB)\n",
      "Collecting cachetools (from pennylane)\n",
      "  Downloading cachetools-5.3.2-py3-none-any.whl.metadata (5.2 kB)\n",
      "Collecting pennylane-lightning>=0.34 (from pennylane)\n",
      "  Downloading PennyLane_Lightning-0.34.0-cp310-cp310-manylinux_2_17_x86_64.manylinux2014_x86_64.whl.metadata (21 kB)\n",
      "Requirement already satisfied: requests in /home/ec2-user/anaconda3/envs/JupyterSystemEnv/lib/python3.10/site-packages (from pennylane) (2.31.0)\n",
      "Requirement already satisfied: typing-extensions in /home/ec2-user/anaconda3/envs/JupyterSystemEnv/lib/python3.10/site-packages (from pennylane) (4.9.0)\n",
      "Collecting sympy>=1.3 (from qiskit)\n",
      "  Downloading sympy-1.12-py3-none-any.whl.metadata (12 kB)\n",
      "Requirement already satisfied: dill>=0.3 in /home/ec2-user/anaconda3/envs/JupyterSystemEnv/lib/python3.10/site-packages (from qiskit) (0.3.8)\n",
      "Requirement already satisfied: python-dateutil>=2.8.0 in /home/ec2-user/anaconda3/envs/JupyterSystemEnv/lib/python3.10/site-packages (from qiskit) (2.8.2)\n",
      "Collecting stevedore>=3.0.0 (from qiskit)\n",
      "  Downloading stevedore-5.1.0-py3-none-any.whl.metadata (2.2 kB)\n",
      "Collecting symengine>=0.11 (from qiskit)\n",
      "  Downloading symengine-0.11.0-cp310-cp310-manylinux_2_12_x86_64.manylinux2010_x86_64.whl.metadata (1.2 kB)\n",
      "Requirement already satisfied: six>=1.5 in /home/ec2-user/anaconda3/envs/JupyterSystemEnv/lib/python3.10/site-packages (from python-dateutil>=2.8.0->qiskit) (1.16.0)\n",
      "Collecting pbr!=2.1.0,>=2.0.0 (from stevedore>=3.0.0->qiskit)\n",
      "  Downloading pbr-6.0.0-py2.py3-none-any.whl.metadata (1.3 kB)\n",
      "Collecting mpmath>=0.19 (from sympy>=1.3->qiskit)\n",
      "  Downloading mpmath-1.3.0-py3-none-any.whl.metadata (8.6 kB)\n",
      "Collecting future>=0.15.2 (from autograd->pennylane)\n",
      "  Downloading future-1.0.0-py3-none-any.whl.metadata (4.0 kB)\n",
      "Requirement already satisfied: charset-normalizer<4,>=2 in /home/ec2-user/anaconda3/envs/JupyterSystemEnv/lib/python3.10/site-packages (from requests->pennylane) (3.3.2)\n",
      "Requirement already satisfied: idna<4,>=2.5 in /home/ec2-user/anaconda3/envs/JupyterSystemEnv/lib/python3.10/site-packages (from requests->pennylane) (3.6)\n",
      "Requirement already satisfied: urllib3<3,>=1.21.1 in /home/ec2-user/anaconda3/envs/JupyterSystemEnv/lib/python3.10/site-packages (from requests->pennylane) (1.26.18)\n",
      "Requirement already satisfied: certifi>=2017.4.17 in /home/ec2-user/anaconda3/envs/JupyterSystemEnv/lib/python3.10/site-packages (from requests->pennylane) (2023.11.17)\n",
      "Downloading PennyLane-0.34.0-py3-none-any.whl (1.6 MB)\n",
      "\u001b[2K   \u001b[90m━━━━━━━━━━━━━━━━━━━━━━━━━━━━━━━━━━━━━━━━\u001b[0m \u001b[32m1.6/1.6 MB\u001b[0m \u001b[31m13.1 MB/s\u001b[0m eta \u001b[36m0:00:00\u001b[0m00:01\u001b[0m00:01\u001b[0m\n",
      "\u001b[?25hDownloading qiskit-1.0.0-cp38-abi3-manylinux_2_17_x86_64.manylinux2014_x86_64.whl (5.6 MB)\n",
      "\u001b[2K   \u001b[90m━━━━━━━━━━━━━━━━━━━━━━━━━━━━━━━━━━━━━━━━\u001b[0m \u001b[32m5.6/5.6 MB\u001b[0m \u001b[31m47.6 MB/s\u001b[0m eta \u001b[36m0:00:00\u001b[0m:00:01\u001b[0m\n",
      "\u001b[?25hDownloading autoray-0.6.8-py3-none-any.whl (49 kB)\n",
      "\u001b[2K   \u001b[90m━━━━━━━━━━━━━━━━━━━━━━━━━━━━━━━━━━━━━━━━\u001b[0m \u001b[32m49.9/49.9 kB\u001b[0m \u001b[31m5.5 MB/s\u001b[0m eta \u001b[36m0:00:00\u001b[0m\n",
      "\u001b[?25hDownloading PennyLane_Lightning-0.34.0-cp310-cp310-manylinux_2_17_x86_64.manylinux2014_x86_64.whl (18.1 MB)\n",
      "\u001b[2K   \u001b[90m━━━━━━━━━━━━━━━━━━━━━━━━━━━━━━━━━━━━━━━━\u001b[0m \u001b[32m18.1/18.1 MB\u001b[0m \u001b[31m71.1 MB/s\u001b[0m eta \u001b[36m0:00:00\u001b[0m:00:01\u001b[0m00:01\u001b[0m\n",
      "\u001b[?25hDownloading rustworkx-0.14.0-cp310-cp310-manylinux_2_17_x86_64.manylinux2014_x86_64.whl (2.2 MB)\n",
      "\u001b[2K   \u001b[90m━━━━━━━━━━━━━━━━━━━━━━━━━━━━━━━━━━━━━━━━\u001b[0m \u001b[32m2.2/2.2 MB\u001b[0m \u001b[31m111.1 MB/s\u001b[0m eta \u001b[36m0:00:00\u001b[0m\n",
      "\u001b[?25hDownloading scipy-1.12.0-cp310-cp310-manylinux_2_17_x86_64.manylinux2014_x86_64.whl (38.4 MB)\n",
      "\u001b[2K   \u001b[90m━━━━━━━━━━━━━━━━━━━━━━━━━━━━━━━━━━━━━━━━\u001b[0m \u001b[32m38.4/38.4 MB\u001b[0m \u001b[31m58.0 MB/s\u001b[0m eta \u001b[36m0:00:00\u001b[0m:00:01\u001b[0m00:01\u001b[0m\n",
      "\u001b[?25hDownloading stevedore-5.1.0-py3-none-any.whl (49 kB)\n",
      "\u001b[2K   \u001b[90m━━━━━━━━━━━━━━━━━━━━━━━━━━━━━━━━━━━━━━━━\u001b[0m \u001b[32m49.6/49.6 kB\u001b[0m \u001b[31m9.7 MB/s\u001b[0m eta \u001b[36m0:00:00\u001b[0m\n",
      "\u001b[?25hDownloading symengine-0.11.0-cp310-cp310-manylinux_2_12_x86_64.manylinux2010_x86_64.whl (39.4 MB)\n",
      "\u001b[2K   \u001b[90m━━━━━━━━━━━━━━━━━━━━━━━━━━━━━━━━━━━━━━━━\u001b[0m \u001b[32m39.4/39.4 MB\u001b[0m \u001b[31m12.7 MB/s\u001b[0m eta \u001b[36m0:00:00\u001b[0m:00:01\u001b[0m00:01\u001b[0m\n",
      "\u001b[?25hDownloading sympy-1.12-py3-none-any.whl (5.7 MB)\n",
      "\u001b[2K   \u001b[90m━━━━━━━━━━━━━━━━━━━━━━━━━━━━━━━━━━━━━━━━\u001b[0m \u001b[32m5.7/5.7 MB\u001b[0m \u001b[31m34.5 MB/s\u001b[0m eta \u001b[36m0:00:00\u001b[0m:00:01\u001b[0m\n",
      "\u001b[?25hDownloading autograd-1.6.2-py3-none-any.whl (49 kB)\n",
      "\u001b[2K   \u001b[90m━━━━━━━━━━━━━━━━━━━━━━━━━━━━━━━━━━━━━━━━\u001b[0m \u001b[32m49.3/49.3 kB\u001b[0m \u001b[31m11.1 MB/s\u001b[0m eta \u001b[36m0:00:00\u001b[0m\n",
      "\u001b[?25hDownloading cachetools-5.3.2-py3-none-any.whl (9.3 kB)\n",
      "Downloading networkx-3.2.1-py3-none-any.whl (1.6 MB)\n",
      "\u001b[2K   \u001b[90m━━━━━━━━━━━━━━━━━━━━━━━━━━━━━━━━━━━━━━━━\u001b[0m \u001b[32m1.6/1.6 MB\u001b[0m \u001b[31m22.0 MB/s\u001b[0m eta \u001b[36m0:00:00\u001b[0m:00:01\u001b[0m\n",
      "\u001b[?25hDownloading future-1.0.0-py3-none-any.whl (491 kB)\n",
      "\u001b[2K   \u001b[90m━━━━━━━━━━━━━━━━━━━━━━━━━━━━━━━━━━━━━━━━\u001b[0m \u001b[32m491.3/491.3 kB\u001b[0m \u001b[31m8.3 MB/s\u001b[0m eta \u001b[36m0:00:00\u001b[0m:00:01\u001b[0m\n",
      "\u001b[?25hDownloading mpmath-1.3.0-py3-none-any.whl (536 kB)\n",
      "\u001b[2K   \u001b[90m━━━━━━━━━━━━━━━━━━━━━━━━━━━━━━━━━━━━━━━━\u001b[0m \u001b[32m536.2/536.2 kB\u001b[0m \u001b[31m8.7 MB/s\u001b[0m eta \u001b[36m0:00:00\u001b[0m:00:01\u001b[0m\n",
      "\u001b[?25hDownloading pbr-6.0.0-py2.py3-none-any.whl (107 kB)\n",
      "\u001b[2K   \u001b[90m━━━━━━━━━━━━━━━━━━━━━━━━━━━━━━━━━━━━━━━━\u001b[0m \u001b[32m107.5/107.5 kB\u001b[0m \u001b[31m1.3 MB/s\u001b[0m eta \u001b[36m0:00:00\u001b[0mta \u001b[36m0:00:01\u001b[0m\n",
      "\u001b[?25hInstalling collected packages: mpmath, appdirs, toml, sympy, symengine, semantic-version, scipy, rustworkx, pbr, networkx, future, cachetools, autoray, stevedore, nftopt, autograd, qiskit, pennylane-lightning, pennylane\n",
      "Successfully installed appdirs-1.4.4 autograd-1.6.2 autoray-0.6.8 cachetools-5.3.2 future-1.0.0 mpmath-1.3.0 networkx-3.2.1 nftopt-0.0.1 pbr-6.0.0 pennylane-0.34.0 pennylane-lightning-0.34.0 qiskit-1.0.0 rustworkx-0.14.0 scipy-1.12.0 semantic-version-2.10.0 stevedore-5.1.0 symengine-0.11.0 sympy-1.12 toml-0.10.2\n"
     ]
    }
   ],
   "source": [
    "!pip install pennylane nftopt qiskit"
   ]
  },
  {
   "cell_type": "code",
   "execution_count": 188,
   "metadata": {
    "id": "X1R4BqZVC4DP",
    "tags": []
   },
   "outputs": [],
   "source": [
    "import pennylane as qml\n",
    "import math\n",
    "import numpy as np\n",
    "from scipy.linalg import block_diag\n",
    "from scipy import optimize\n",
    "# from nftopt import nakanishi_fujii_todo as nftmethod\n",
    "from qiskit import QuantumCircuit\n",
    "import qiskit.quantum_info as qi\n",
    "from scipy.linalg import expm, norm\n",
    "import matplotlib.pyplot as plt\n",
    "import numpy as np"
   ]
  },
  {
   "cell_type": "code",
   "execution_count": 4,
   "metadata": {
    "id": "ua0dLujbVZqM",
    "tags": []
   },
   "outputs": [],
   "source": [
    "# defing parameters\n",
    "n_qubits = 5\n",
    "wires=[0,1,2,3,4]\n",
    "depth = 10"
   ]
  },
  {
   "cell_type": "code",
   "execution_count": 5,
   "metadata": {
    "id": "5pgkcwU7XEPG",
    "tags": []
   },
   "outputs": [],
   "source": [
    "dev = qml.device(\"default.qubit\", wires = wires)"
   ]
  },
  {
   "cell_type": "code",
   "execution_count": 6,
   "metadata": {
    "id": "qLjwGxBHAlAo",
    "tags": []
   },
   "outputs": [],
   "source": [
    "# Set parameters\n",
    "delta = 1.0\n",
    "Omega = 1.0\n",
    "gamma = 1.0\n",
    "Delta_t = 0.01"
   ]
  },
  {
   "cell_type": "code",
   "execution_count": 7,
   "metadata": {
    "id": "FIvBgq9WCk6c",
    "tags": []
   },
   "outputs": [],
   "source": [
    "# Exact vector a\n",
    "alpha = np.sqrt(2)/2*delta*Delta_t\n",
    "beta = (1-gamma*Delta_t/2)"
   ]
  },
  {
   "cell_type": "code",
   "execution_count": 8,
   "metadata": {
    "id": "5izhLjrJGm1S",
    "tags": []
   },
   "outputs": [],
   "source": [
    "# Pauli operators\n",
    "I = np.eye(2)\n",
    "X = np.array([[0,1],[1,0]])\n",
    "Y = np.array([[0, -1j], [1j, 0]])\n",
    "Z = np.array([[1, 0], [0, -1]])\n",
    "Hadamard = np.array([[1, 1], [1, -1]]) / np.sqrt(2)"
   ]
  },
  {
   "cell_type": "code",
   "execution_count": 9,
   "metadata": {
    "id": "yv3rdqNdDJL3",
    "tags": []
   },
   "outputs": [],
   "source": [
    "# The non-Hermitian operator H\n",
    "\n",
    "H0 = np.kron(I,1j*Hadamard)\n",
    "H1 = np.kron(I,-Z)\n",
    "H2 = np.kron((-1j * alpha * Hadamard + beta * I) / np.sqrt(alpha**2 + beta**2), I)\n",
    "H3 = np.kron(-Z,I)\n",
    "H4 = np.kron(X,X)\n",
    "H5 = np.kron(X,-1j*Y)\n",
    "H6 = np.kron(-1j*Y,X)\n",
    "H7 = np.kron(-Y,Y)"
   ]
  },
  {
   "cell_type": "code",
   "execution_count": 43,
   "metadata": {
    "id": "2ecbpsQqfGkX",
    "tags": []
   },
   "outputs": [],
   "source": [
    "# The non-Hermitian operator Q\n",
    "\n",
    "I_4 = np.eye(4)\n",
    "\n",
    "Q0 = I_4 + Delta_t*H0\n",
    "Q1 = I_4 + Delta_t*H1\n",
    "Q2 = I_4 + Delta_t*H2\n",
    "Q3 = I_4 + Delta_t*H3\n",
    "Q4 = I_4 + Delta_t*H4\n",
    "Q5 = I_4 + Delta_t*H5\n",
    "Q6 = I_4 + Delta_t*H6\n",
    "Q7 = I_4 + Delta_t*H7\n",
    "Q_i = np.array([Q0,Q1,Q2,Q3,Q4,Q5,Q6,Q7])"
   ]
  },
  {
   "cell_type": "code",
   "execution_count": 46,
   "metadata": {
    "tags": []
   },
   "outputs": [
    {
     "name": "stdout",
     "output_type": "stream",
     "text": [
      "[[2.+0.01414214j 0.+0.01414214j 0.+0.j         0.+0.j        ]\n",
      " [0.+0.01414214j 2.-0.01414214j 0.+0.j         0.+0.j        ]\n",
      " [0.+0.j         0.+0.j         2.+0.01414214j 0.+0.01414214j]\n",
      " [0.+0.j         0.+0.j         0.+0.01414214j 2.-0.01414214j]]\n"
     ]
    }
   ],
   "source": [
    "print(Q_i[0]*2)"
   ]
  },
  {
   "cell_type": "code",
   "execution_count": 34,
   "metadata": {
    "tags": []
   },
   "outputs": [],
   "source": [
    "delta=1;\n",
    "Omega=1;\n",
    "gamma=1;\n",
    "Delta_t=0.01;\n",
    "\n",
    "alpha=np.sqrt(2)/2*delta*Delta_t;\n",
    "beta=(1-gamma*Delta_t/2);\n",
    "aa=[Delta_t*np.sqrt(2)/2*delta,Delta_t*gamma/4,np.sqrt(alpha**2+beta**2),Delta_t*gamma/4,Delta_t*gamma/4,Delta_t*gamma/4,Delta_t*gamma/4,Delta_t*gamma/4]\n",
    "x=np.sqrt(aa);\n",
    "norma=np.linalg.norm(x);\n",
    "x=x/np.linalg.norm(x);\n",
    "Appro_a =x"
   ]
  },
  {
   "cell_type": "code",
   "execution_count": 47,
   "metadata": {
    "tags": []
   },
   "outputs": [],
   "source": [
    "Q =0\n",
    "for i in range(len(aa)):\n",
    "    Q+= aa[i]*Q_i"
   ]
  },
  {
   "cell_type": "code",
   "execution_count": 91,
   "metadata": {
    "colab": {
     "base_uri": "https://localhost:8080/"
    },
    "id": "Yn-LYKOMgiyx",
    "outputId": "4d106f8d-c6d5-461d-85d1-ccef88ce2874",
    "tags": []
   },
   "outputs": [
    {
     "name": "stdout",
     "output_type": "stream",
     "text": [
      "[[ 1.  +0.00707107j  0.  +0.00707107j  0.  +0.j         ...\n",
      "   0.  +0.j          0.  +0.j          0.  +0.j        ]\n",
      " [ 0.  +0.00707107j  1.  -0.00707107j  0.  +0.j         ...\n",
      "   0.  +0.j          0.  +0.j          0.  +0.j        ]\n",
      " [ 0.  +0.j          0.  +0.j          1.  +0.00707107j ...\n",
      "   0.  +0.j          0.  +0.j          0.  +0.j        ]\n",
      " ...\n",
      " [ 0.  +0.j          0.  +0.j          0.  +0.j         ...\n",
      "   1.  +0.j         -0.01+0.j          0.  +0.j        ]\n",
      " [ 0.  +0.j          0.  +0.j          0.  +0.j         ...\n",
      "  -0.01+0.j          1.  +0.j          0.  +0.j        ]\n",
      " [ 0.  +0.j          0.  +0.j          0.  +0.j         ...\n",
      "   0.  +0.j          0.  +0.j          1.  +0.j        ]]\n"
     ]
    }
   ],
   "source": [
    "# Multi-controlled unitary\n",
    "Lambda_Q = np.asmatrix(block_diag(Q0, Q1, Q2, Q3, Q4, Q5, Q6, Q7))\n",
    "print(Lambda_Q)"
   ]
  },
  {
   "cell_type": "code",
   "execution_count": 15,
   "metadata": {
    "id": "g9wcAyPtd8A8",
    "tags": []
   },
   "outputs": [],
   "source": [
    "# @qml.qnode(dev,diff_method=\"backprop\")\n",
    "def circuit(weights):\n",
    "  # since depth 4 was used\n",
    "  # qml.state() applies Ua to Ini State, which gives Appro_a\n",
    "  return Uq_theta(weights)"
   ]
  },
  {
   "cell_type": "code",
   "execution_count": 16,
   "metadata": {
    "id": "zf8oyQCid9J3",
    "tags": []
   },
   "outputs": [],
   "source": [
    "def accuracy(labels, predictions):\n",
    "  state0 = qml.math.dm_from_state_vector(labels)\n",
    "  state1 = qml.math.dm_from_state_vector(predictions)\n",
    "  return qml.math.fidelity(state0, state1)"
   ]
  },
  {
   "cell_type": "code",
   "execution_count": 17,
   "metadata": {
    "colab": {
     "base_uri": "https://localhost:8080/"
    },
    "id": "oGy02sWBeHR0",
    "outputId": "a19c7649-1920-4ebc-b408-3980e0271624",
    "tags": []
   },
   "outputs": [
    {
     "data": {
      "text/plain": [
       "<default.qubit device (wires=5) at 0x7f20b3c93ac0>"
      ]
     },
     "execution_count": 17,
     "metadata": {},
     "output_type": "execute_result"
    }
   ],
   "source": [
    "dev = qml.device(\"default.qubit\",wires=wires)\n",
    "dev"
   ]
  },
  {
   "cell_type": "code",
   "execution_count": null,
   "metadata": {
    "id": "yJE72biceaAs"
   },
   "outputs": [],
   "source": [
    "def variational_classifier(weights):\n",
    "    # weights are thetas\n",
    "    # np.real(Ua|0>)\n",
    "    return circuit(weights)"
   ]
  },
  {
   "cell_type": "code",
   "execution_count": null,
   "metadata": {
    "id": "MZhfreSdiKfx"
   },
   "outputs": [],
   "source": [
    "def g_beta_loss(Uq_theta):\n",
    "\n",
    "  UqFunction = np.abs(1-1/(32**2) * np.trace(np.matmul(Uq_theta.H,Lambda_Q))**2)\n",
    "  return UqFunction\n"
   ]
  },
  {
   "cell_type": "code",
   "execution_count": null,
   "metadata": {
    "id": "YhPQ67imgq91"
   },
   "outputs": [],
   "source": [
    "def cost(weights):\n",
    "    # X is our preparation state\n",
    "    Uq_theta = variational_classifier(weights)\n",
    "    return g_beta_loss(Uq_theta)"
   ]
  },
  {
   "cell_type": "code",
   "execution_count": null,
   "metadata": {
    "id": "FDm_GtEjM8wE"
   },
   "outputs": [],
   "source": [
    "#UqLay\n",
    "def ansatz_layer(layer_weights,depth=depth, n_qubits=n_qubits):\n",
    "    cntr = 0\n",
    "    for dep in range(depth):\n",
    "        for wire in range(n_qubits):\n",
    "          qml.RZ(layer_weights[cntr+wire], wires = wire)\n",
    "          qml.RY(layer_weights[cntr+wire+n_qubits], wires = wire)\n",
    "          qml.RZ(layer_weights[cntr+wire+2*n_qubits], wires = wire)\n",
    "        cntr += 15\n",
    "        qml.CRY(layer_weights[cntr], wires = [0,1])\n",
    "        qml.CRY(layer_weights[cntr+1], wires = [2,3])\n",
    "        qml.CRY(layer_weights[cntr+2], wires = [1,2])\n",
    "        qml.CRY(layer_weights[cntr+3], wires = [3,4])\n",
    "        qml.CRY(layer_weights[cntr+4], wires = [4,0])\n",
    "        cntr+=5\n",
    "\n",
    "\n",
    "def ansatz_layer_qiskit(layer_weights,depth=depth, n_qubits=n_qubits):\n",
    "    cntr = 0\n",
    "    qc=QuantumCircuit(n_qubits)\n",
    "    for dep in range(depth):\n",
    "        for wire in range(n_qubits):\n",
    "          qc.rz(layer_weights[cntr+wire],  wire)\n",
    "          qc.ry(layer_weights[cntr+wire+n_qubits], wire)\n",
    "          qc.rz(layer_weights[cntr+wire+(2*n_qubits)], wire)\n",
    "        cntr += (3*n_qubits)\n",
    "\n",
    "        qc.cry(layer_weights[cntr],  0,1)\n",
    "        qc.cry(layer_weights[cntr+1],1,2)\n",
    "        qc.cry(layer_weights[cntr+2], 2,3)\n",
    "        qc.cry(layer_weights[cntr+3], 3,4)\n",
    "        qc.cry(layer_weights[cntr+4],4,0)\n",
    "        cntr+=5\n",
    "    return qc\n"
   ]
  },
  {
   "cell_type": "code",
   "execution_count": null,
   "metadata": {
    "id": "v_LCjLwFjDui"
   },
   "outputs": [],
   "source": [
    "#no of params\n",
    "\n",
    "param_num = depth*(3*n_qubits + 5)\n",
    "weights = 4*np.pi*np.random.rand(param_num)\n",
    "Uq_theta = qml.matrix(ansatz_layer, wire_order=wires)\n",
    "# mat= qml.matrix(ansatz_layer, wire_order=wires)\n",
    "# mat(weights)"
   ]
  },
  {
   "cell_type": "code",
   "execution_count": null,
   "metadata": {
    "id": "BhiQSJBlybHc"
   },
   "outputs": [],
   "source": [
    "result= optimize.differential_evolution(cost,weights, method=nftmethod, options={'maxfev':10024})"
   ]
  },
  {
   "cell_type": "code",
   "execution_count": 1,
   "metadata": {
    "colab": {
     "base_uri": "https://localhost:8080/",
     "height": 141
    },
    "id": "X-P1h6fFo_Xw",
    "outputId": "af97a747-9a6a-4322-ac15-c7a0cdaeb37f"
   },
   "outputs": [
    {
     "ename": "NameError",
     "evalue": "name 'Uq_theta' is not defined",
     "output_type": "error",
     "traceback": [
      "\u001b[0;31m---------------------------------------------------------------------------\u001b[0m",
      "\u001b[0;31mNameError\u001b[0m                                 Traceback (most recent call last)",
      "\u001b[0;32m<ipython-input-1-be8eaa7f8eff>\u001b[0m in \u001b[0;36m<cell line: 1>\u001b[0;34m()\u001b[0m\n\u001b[0;32m----> 1\u001b[0;31m \u001b[0mLambda_Q\u001b[0m\u001b[0;34m=\u001b[0m\u001b[0mUq_theta\u001b[0m\u001b[0;34m(\u001b[0m\u001b[0mresult\u001b[0m\u001b[0;34m.\u001b[0m\u001b[0mx\u001b[0m\u001b[0;34m)\u001b[0m\u001b[0;34m\u001b[0m\u001b[0;34m\u001b[0m\u001b[0m\n\u001b[0m",
      "\u001b[0;31mNameError\u001b[0m: name 'Uq_theta' is not defined"
     ]
    }
   ],
   "source": [
    "Lambda_Q=Uq_theta(result.x)"
   ]
  },
  {
   "cell_type": "code",
   "execution_count": null,
   "metadata": {
    "id": "lgEveXB8giH2"
   },
   "outputs": [],
   "source": [
    "actual= np.array([1.57079733591099,1.11359502220427,-1.00669506549188,1.57250085376222,1.02409557893575,1.57079679146982,-4.15665383066625e-07,7.14719394747723e-07,-1.56724773824862,-0.000614013929320578,0.719876509408139,0.997019010625927,1.34266643602999,-0.0566423964091659,-0.198803606107426,4.12402219276197e-07,2.36004519680925,3.14159355260020,2.59447240543746,1.64995941832298,6.57167736894368e-06,-0.204426436552582,0.718822906024339,0.0555381143566316,1.22077655054078,1.47012607039025,1.24568787397716,3.16470575286539e-07,-1.41523650969969,-1.12443160971972e-05,9.56247275530149e-07,0.225481974967938,-0.370580804204376,0.946569757824895,1.09582358297068,2.60944296625233e-06,2.83005612005484,1.80281320871742e-07,3.05465559140493,-4.64438225630518,7.18492141641211e-06,1.01649349032213,0.397054959402862,0.891331221113881,1.42949809347604,0.668756803928736,0.405699396560314,6.86530483904170e-07,-1.45873202753671,0.881902656523558,-7.67979744447070e-06,1.27651005073939,0.436796768649163,-0.113451673777618,0.331706689945956,-6.75014714232562e-08,3.47789082953119,2.29543748987603e-07,9.29655114196422e-05,2.98711003906548,9.74888797984682e-07,0.485187254668692,0.701984759105152,0.153510737915355,2.00174613736982,0.785610475143101,0.854479713729773,-3.16770017244822e-07,-0.713575292704574,0.888168349793261,1.86164167761867e-05,0.777344522869591,0.911026411259294,2.19049922735768,0.200707954646294,3.79204627326816e-06,1.11990000439054,6.43694492806998e-07,2.86672143506094,1.46041918491953,-0.00117640233280669,0.656328627882187,1.11052625891696,-2.05453019579337,-1.03561090101006,-0.0385576531861913,0.679512334289457,3.49981514234440e-07,0.616115790485040,1.96671866486657,0.00118298541680430,0.0959655335563301,0.806757491714172,1.37550324222698,1.28170054112367,-2.72146569950459e-06,3.79107538088120,3.14159049070168,-2.97839814331328,1.13499009065223,0.000164963327193107,0.708402055065732,-0.508085764996444,-1.10338478220173,-0.145930490596749,-0.0833709612525789,-0.0769024890951715,1.50058572229758e-06,0.457028608006845,-1.11624944106986,-0.000186427950202115,0.0367794149738548,0.100719990203789,1.66879218349985,0.690908540854943,8.00351219085385e-07,2.71638878661625,-2.03797906878869e-06,3.42407854715108,3.15066337137045,-7.89579355264028e-06,0.703851652884238,-0.351384547074919,0.00653016763185684,0.460006933077785,0.629776613346937,-0.0257066355231561,9.31788928688248e-07,0.988893076829831,-1.39138216555928,1.92133478626211e-05,0.671068569899600,0.290473096238051,-0.00345094992316553,0.557939537638457,7.20303829054454e-07,1.16963667314765,2.55028707329980e-06,3.39355155799844,1.36939312951080,0.000113468659633244,0.919770045772259,1.57208852755251,0.704740614345514,0.00544616504091159,0.270036060251177,-0.104235441502291,-8.09610636842791e-07,0.414588049726535,-1.40164069712475,-0.000106712713222192,0.0118054501508154,1.25141779531807,2.27104250842408,1.38569367538623,-9.90914580337425e-07,-2.15134001562986,-4.20518401123418e-06,2.79940777684330,0.979933399204776,-4.87895462973966e-05,0.646379924586987,1.12353895240239,0.100688292830383,-0.00377433577073084,0.217036836300740,-0.0912333819206649,1.57236409935787e-06,0.612676788035841,-0.693935274916199,4.30522750195906e-05,0.676505471187040,1.53939824819962,0.767155351536031,-0.00465164670062250,1.49806357059613e-07,5.20294323949608,3.87142341824550e-06,2.91884011869610,-1.86140952130424,0.101352529892813,0.272942450384811,0.809437810305190,-1.03696350482872,-0.531720967877519,1.57081255681975,-0.0827630009432063,1.31798944307755e-06,-2.48052344311936,1.74464906123692,1.57078935628697,0.989435035630191,0.119610052783714,-1.74740155497789,1.47571606248112,-2.56410174824011e-07,4.23516700586156,-6.58014685665469e-07,1.57398823652499,-8.33531232142770e-06])"
   ]
  },
  {
   "cell_type": "code",
   "execution_count": null,
   "metadata": {
    "colab": {
     "base_uri": "https://localhost:8080/"
    },
    "id": "Ji1swmIhibA5",
    "outputId": "7c7e83b6-2ce3-4246-aca7-3677950dfd18"
   },
   "outputs": [
    {
     "data": {
      "text/plain": [
       "array([ 0.35525202-0.38432711j, -0.13376795+0.24788094j,\n",
       "       -0.00093155-0.02828442j, -0.35012158+0.08152903j,\n",
       "       -0.00076479-0.00401041j,  0.00729262-0.00594939j,\n",
       "       -0.00782965-0.00782849j, -0.00197026-0.00524867j,\n",
       "        0.03776296+0.00342262j,  0.025089  +0.01513018j,\n",
       "        0.00967501-0.00523224j, -0.00515973+0.02140832j,\n",
       "        0.04671689+0.03053072j, -0.12738565+0.00092946j,\n",
       "        0.10966839-0.0969609j , -0.04289459+0.02379246j,\n",
       "       -0.23169368-0.16927703j, -0.11106961-0.02621189j,\n",
       "       -0.00134295+0.51218331j, -0.12024863+0.24196631j,\n",
       "       -0.00258283+0.004838j  ,  0.00293826-0.00370314j,\n",
       "        0.00519751+0.00106249j,  0.0013665 +0.00397458j,\n",
       "       -0.02220288+0.00597553j, -0.00441416-0.00652423j,\n",
       "        0.00175369-0.01095157j, -0.00384448+0.01926277j,\n",
       "        0.00630222+0.11318483j, -0.03610057+0.05099095j,\n",
       "       -0.11727479-0.06472517j, -0.05410269-0.02925295j])"
      ]
     },
     "execution_count": 218,
     "metadata": {},
     "output_type": "execute_result"
    }
   ],
   "source": [
    "Uq_theta(actual)[0]"
   ]
  },
  {
   "cell_type": "markdown",
   "metadata": {
    "id": "MidEIAo5srlt"
   },
   "source": [
    "### Post U_e obtained, Simulations Part"
   ]
  },
  {
   "cell_type": "code",
   "execution_count": 178,
   "metadata": {
    "id": "HRXJzE95idT_",
    "tags": []
   },
   "outputs": [],
   "source": [
    "zero = np.array([1,0])\n",
    "I = np.identity(2)\n",
    "X = np.array([[0,1],[1,0]])"
   ]
  },
  {
   "cell_type": "code",
   "execution_count": 179,
   "metadata": {
    "id": "HpgyayFoKvU7",
    "tags": []
   },
   "outputs": [],
   "source": [
    "Vec_Rho_Ini = np.kron(zero, zero)\n",
    "# Lambda_Q@np.kron(Appro_a, Rho_t)"
   ]
  },
  {
   "cell_type": "code",
   "execution_count": 180,
   "metadata": {
    "id": "WjcW61chKwcN",
    "tags": []
   },
   "outputs": [],
   "source": [
    "Hat_M = np.kron(I,X)"
   ]
  },
  {
   "cell_type": "code",
   "execution_count": 181,
   "metadata": {
    "id": "BcqpAn6UKx5s",
    "tags": []
   },
   "outputs": [],
   "source": [
    "# Strategy B\n",
    "I_three = np.asmatrix(np.kron(zero, np.kron(zero, zero))).T\n",
    "Widetilde_M = np.kron(I_three@ I_three.H, Hat_M)\n",
    "Widetilde_I = np.kron(I_three@ I_three.H, np.kron(I,I))\n",
    "\n",
    "# Bell state\n",
    "Bell_state = np.asmatrix(np.sqrt(2)*np.array([1,0,0,1])).T"
   ]
  },
  {
   "cell_type": "code",
   "execution_count": 182,
   "metadata": {
    "id": "YEsZpr1eKzUE",
    "tags": []
   },
   "outputs": [],
   "source": [
    "\n",
    "Number = 500\n",
    "Delta_t = 0.01\n",
    "\n",
    "Simu_Expectation = np.zeros(Number)\n",
    "Exact_Expectation = np.zeros(Number)\n",
    "First_Expectation = np.zeros(Number)\n",
    "Pro = np.zeros(Number)\n",
    "ExactTrace = np.zeros(Number)\n",
    "Iteration=[]"
   ]
  },
  {
   "cell_type": "code",
   "execution_count": 183,
   "metadata": {
    "id": "CjE3PwpkK6fz",
    "tags": []
   },
   "outputs": [
    {
     "name": "stdout",
     "output_type": "stream",
     "text": [
      "[1 0 0 0]\n"
     ]
    }
   ],
   "source": [
    "\n",
    "Rho_t = Vec_Rho_Ini\n",
    "Exact_Rho_t = Vec_Rho_Ini\n",
    "First_Rho_t = Vec_Rho_Ini\n",
    "print(Rho_t)"
   ]
  },
  {
   "cell_type": "code",
   "execution_count": 184,
   "metadata": {
    "id": "kazLYtEUs5Bl",
    "tags": []
   },
   "outputs": [],
   "source": [
    "H=-delta/2*Z-Omega/2*X;\n",
    "L=np.sqrt(gamma)/2*(X-1j*Y);"
   ]
  },
  {
   "cell_type": "code",
   "execution_count": 185,
   "metadata": {
    "id": "Te7TfnFld1UK",
    "tags": []
   },
   "outputs": [],
   "source": [
    "Hat_L1=np.kron(np.conj(L),L)-1/2*np.kron(I,(L.T)@L)-1/2*np.kron((L.T)@np.conj(L),I);\n",
    "Hat_H=-1j*(np.kron(I,H)-np.kron((H.T),I))+Hat_L1;\n",
    "First_operator=np.kron(I,I)+Hat_H*Delta_t;\n",
    "Error_HQ=First_operator-Q"
   ]
  },
  {
   "cell_type": "code",
   "execution_count": 186,
   "metadata": {
    "id": "H3weL-S-L0Za",
    "tags": []
   },
   "outputs": [],
   "source": [
    "# getting a\n",
    "#based on the formulation of the paper\n",
    "\n",
    "Ua_theta_opt = np.matrix([[ 0.09732194+0.j,  0.09515274+0.j, -0.84231131+0.j,\n",
    "         0.2145027 +0.j,  0.33979514+0.j, -0.05761081+0.j,\n",
    "         0.32089011+0.j, -0.06499571+0.j],\n",
    "       [ 0.06499144+0.j, -0.28490135+0.j, -0.20239675+0.j,\n",
    "        -0.21907834+0.j,  0.41394431+0.j, -0.19986512+0.j,\n",
    "        -0.78110412+0.j,  0.06502277+0.j],\n",
    "       [ 0.98391304+0.j, -0.0601953 +0.j,  0.11899291+0.j,\n",
    "        -0.05525732+0.j, -0.02790954+0.j, -0.04651244+0.j,\n",
    "         0.0825758 +0.j, -0.03630224+0.j],\n",
    "       [ 0.06497902+0.j,  0.25415947+0.j, -0.43544085+0.j,\n",
    "        -0.12950159+0.j, -0.7736793 +0.j, -0.01872677+0.j,\n",
    "        -0.34877471+0.j, -0.06501651+0.j],\n",
    "       [ 0.06501651+0.j, -0.34877471+0.j, -0.01872677+0.j,\n",
    "         0.7736793 +0.j, -0.12950159+0.j,  0.43544085+0.j,\n",
    "        -0.25415947+0.j,  0.06497902+0.j],\n",
    "       [-0.03630224+0.j, -0.0825758 +0.j,  0.04651244+0.j,\n",
    "        -0.02790954+0.j,  0.05525732+0.j,  0.11899291+0.j,\n",
    "        -0.0601953 +0.j, -0.98391304+0.j],\n",
    "       [ 0.06502277+0.j,  0.78110412+0.j,  0.19986512+0.j,\n",
    "         0.41394431+0.j,  0.21907834+0.j, -0.20239675+0.j,\n",
    "        -0.28490135+0.j, -0.06499144+0.j],\n",
    "       [ 0.06499571+0.j,  0.32089011+0.j, -0.05761081+0.j,\n",
    "        -0.33979514+0.j,  0.2145027 +0.j,  0.84231131+0.j,\n",
    "        -0.09515274+0.j,  0.09732194+0.j]])"
   ]
  },
  {
   "cell_type": "code",
   "execution_count": 187,
   "metadata": {
    "colab": {
     "base_uri": "https://localhost:8080/",
     "height": 228
    },
    "id": "-1F4gB4hK75X",
    "outputId": "c8fe8c15-f509-412f-93c6-5cd383ff762a",
    "tags": []
   },
   "outputs": [
    {
     "name": "stderr",
     "output_type": "stream",
     "text": [
      "/tmp/ipykernel_7552/12199506.py:19: DeprecationWarning: Conversion of an array with ndim > 0 to a scalar is deprecated, and will error in future. Ensure you extract a single element from your array before performing this operation. (Deprecated NumPy 1.25.)\n",
      "  Simu_Expectation[i] = np.real(Simu_Expectation_M)/Simu_Trace\n",
      "/tmp/ipykernel_7552/12199506.py:26: DeprecationWarning: Conversion of an array with ndim > 0 to a scalar is deprecated, and will error in future. Ensure you extract a single element from your array before performing this operation. (Deprecated NumPy 1.25.)\n",
      "  First_Expectation[i] = First_Exception_M/First_Trace\n",
      "/tmp/ipykernel_7552/12199506.py:29: DeprecationWarning: Conversion of an array with ndim > 0 to a scalar is deprecated, and will error in future. Ensure you extract a single element from your array before performing this operation. (Deprecated NumPy 1.25.)\n",
      "  ExactTrace[i] = np.sqrt(2)*np.real(Bell_state.H @ Exact_Rho_t)\n",
      "/tmp/ipykernel_7552/12199506.py:33: DeprecationWarning: Conversion of an array with ndim > 0 to a scalar is deprecated, and will error in future. Ensure you extract a single element from your array before performing this operation. (Deprecated NumPy 1.25.)\n",
      "  Exact_Expectation[i] = Exact_Expectation_M/Exact_Trace\n",
      "/tmp/ipykernel_7552/12199506.py:35: DeprecationWarning: Conversion of an array with ndim > 0 to a scalar is deprecated, and will error in future. Ensure you extract a single element from your array before performing this operation. (Deprecated NumPy 1.25.)\n",
      "  ExactTrace[i] = (np.real(np.dot(Bell_state.H, Exact_Rho_t)) - 1) / 2\n"
     ]
    }
   ],
   "source": [
    "Rho_t = Vec_Rho_Ini\n",
    "Exact_Rho_t = Vec_Rho_Ini\n",
    "First_Rho_t = Vec_Rho_Ini\n",
    "for i in range(Number):\n",
    "    Iteration.append((i+1)*Delta_t)\n",
    "\n",
    "    Rho_t = Lambda_Q@(np.kron(Appro_a, Rho_t))\n",
    "    Rho_t = np.kron(Ua_theta_opt.H,np.kron(I,I)) @ Rho_t.T\n",
    "    # Measurement\n",
    "    PI = I_three@ I_three.H\n",
    "    PI = np.kron(PI, np.kron(I,I))\n",
    "    Rho_t = PI@Rho_t\n",
    "    Pro[i]= (np.linalg.norm(Rho_t)**2)\n",
    "    Rho_t = Rho_t/np.linalg.norm(Rho_t)\n",
    "    Rho_t = Rho_t[:4].A1\n",
    "\n",
    "    Simu_Trace = np.real(Bell_state.H @ Rho_t)\n",
    "    Simu_Expectation_M = np.real(np.dot(np.dot(Bell_state.H, Hat_M), Rho_t))\n",
    "    Simu_Expectation[i] = np.real(Simu_Expectation_M)/Simu_Trace\n",
    "\n",
    "    First_Rho_t = np.dot(First_operator, First_Rho_t)\n",
    "    First_Rho_t = First_Rho_t/norm(First_Rho_t)\n",
    "\n",
    "    First_Trace = np.real(np.dot(Bell_state.H, First_Rho_t))\n",
    "    First_Exception_M = np.real(np.dot(np.dot(Bell_state.H, Hat_M),First_Rho_t))\n",
    "    First_Expectation[i] = First_Exception_M/First_Trace\n",
    "\n",
    "    Exact_Rho_t = np.dot(expm(Hat_H*Delta_t),Exact_Rho_t)\n",
    "    ExactTrace[i] = np.sqrt(2)*np.real(Bell_state.H @ Exact_Rho_t)\n",
    "    Exact_Rho_t = Exact_Rho_t/norm(Exact_Rho_t)\n",
    "    Exact_Trace = np.real(np.dot(Bell_state.H, Exact_Rho_t))\n",
    "    Exact_Expectation_M = np.real(np.dot(np.dot(Bell_state.H,Hat_M),Exact_Rho_t))\n",
    "    Exact_Expectation[i] = Exact_Expectation_M/Exact_Trace\n",
    "\n",
    "    ExactTrace[i] = (np.real(np.dot(Bell_state.H, Exact_Rho_t)) - 1) / 2"
   ]
  },
  {
   "cell_type": "code",
   "execution_count": 189,
   "metadata": {
    "colab": {
     "base_uri": "https://localhost:8080/"
    },
    "id": "I2jgohNvP5a5",
    "outputId": "56f7d0e6-534b-4ff9-bdcd-fbebee017656",
    "tags": []
   },
   "outputs": [
    {
     "data": {
      "text/plain": [
       "array([9.98451353e-01+4.21144680e-03j, 6.98042742e-04+2.87531637e-02j,\n",
       "       6.95298313e-04-2.37258788e-02j, 4.10673458e-02-1.82289214e-06j])"
      ]
     },
     "execution_count": 189,
     "metadata": {},
     "output_type": "execute_result"
    }
   ],
   "source": [
    "Rho_t"
   ]
  },
  {
   "cell_type": "code",
   "execution_count": null,
   "metadata": {
    "id": "q_AvJ0IuUFXi"
   },
   "outputs": [],
   "source": [
    "Plot exactexpec, simuexpec, First_Expectation"
   ]
  },
  {
   "cell_type": "code",
   "execution_count": 191,
   "metadata": {
    "tags": []
   },
   "outputs": [
    {
     "data": {
      "image/png": "[encoded data removed]",
      "text/plain": [
       "<Figure size 640x480 with 1 Axes>"
      ]
     },
     "metadata": {},
     "output_type": "display_data"
    }
   ],
   "source": [
    "STEP=1\n",
    "plt.plot(Iteration[::STEP], Exact_Expectation[::STEP], 'r-', linewidth=1, markersize=4, markeredgecolor='r', markerfacecolor='r')\n",
    "plt.plot(Iteration[::STEP], Simu_Expectation[::STEP], 'g', linewidth=1, markersize=4, markeredgecolor='g', markerfacecolor='g')\n",
    "plt.plot(Iteration[::STEP], First_Expectation[::STEP], 'b--', linewidth=1, markersize=4, markeredgecolor='b', markerfacecolor='b')\n",
    "plt.ylabel(r'$\\langle\\sigma_x\\rangle,\\langle\\sigma_z\\rangle$')\n",
    "plt.xlabel('time')\n",
    "plt.show()"
   ]
  },
  {
   "cell_type": "code",
   "execution_count": null,
   "metadata": {},
   "outputs": [],
   "source": []
  }
 ],
 "metadata": {
  "colab": {
   "provenance": []
  },
  "kernelspec": {
   "display_name": "conda_braket",
   "language": "python",
   "name": "conda_braket"
  },
  "language_info": {
   "codemirror_mode": {
    "name": "ipython",
    "version": 3
   },
   "file_extension": ".py",
   "mimetype": "text/x-python",
   "name": "python",
   "nbconvert_exporter": "python",
   "pygments_lexer": "ipython3",
   "version": "3.10.13"
  }
 },
 "nbformat": 4,
 "nbformat_minor": 4
}
