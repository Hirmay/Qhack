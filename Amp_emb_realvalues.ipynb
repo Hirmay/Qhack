{
  "cells": [
    {
      "cell_type": "code",
      "execution_count": 108,
      "metadata": {
        "id": "Euoh1romGO8J",
        "colab": {
          "base_uri": "https://localhost:8080/"
        },
        "outputId": "45745cc3-302b-45c0-8c0a-24b862dc02e8"
      },
      "outputs": [
        {
          "output_type": "stream",
          "name": "stdout",
          "text": [
            "Requirement already satisfied: pennylane in /usr/local/lib/python3.10/dist-packages (0.34.0)\n",
            "Collecting nftopt\n",
            "  Downloading nftopt-0.0.1-py3-none-any.whl (6.9 kB)\n",
            "Requirement already satisfied: numpy in /usr/local/lib/python3.10/dist-packages (from pennylane) (1.25.2)\n",
            "Requirement already satisfied: scipy in /usr/local/lib/python3.10/dist-packages (from pennylane) (1.11.4)\n",
            "Requirement already satisfied: networkx in /usr/local/lib/python3.10/dist-packages (from pennylane) (3.2.1)\n",
            "Requirement already satisfied: rustworkx in /usr/local/lib/python3.10/dist-packages (from pennylane) (0.14.0)\n",
            "Requirement already satisfied: autograd in /usr/local/lib/python3.10/dist-packages (from pennylane) (1.6.2)\n",
            "Requirement already satisfied: toml in /usr/local/lib/python3.10/dist-packages (from pennylane) (0.10.2)\n",
            "Requirement already satisfied: appdirs in /usr/local/lib/python3.10/dist-packages (from pennylane) (1.4.4)\n",
            "Requirement already satisfied: semantic-version>=2.7 in /usr/local/lib/python3.10/dist-packages (from pennylane) (2.10.0)\n",
            "Requirement already satisfied: autoray>=0.6.1 in /usr/local/lib/python3.10/dist-packages (from pennylane) (0.6.8)\n",
            "Requirement already satisfied: cachetools in /usr/local/lib/python3.10/dist-packages (from pennylane) (5.3.2)\n",
            "Requirement already satisfied: pennylane-lightning>=0.34 in /usr/local/lib/python3.10/dist-packages (from pennylane) (0.34.0)\n",
            "Requirement already satisfied: requests in /usr/local/lib/python3.10/dist-packages (from pennylane) (2.31.0)\n",
            "Requirement already satisfied: typing-extensions in /usr/local/lib/python3.10/dist-packages (from pennylane) (4.9.0)\n",
            "Requirement already satisfied: future>=0.15.2 in /usr/local/lib/python3.10/dist-packages (from autograd->pennylane) (0.18.3)\n",
            "Requirement already satisfied: charset-normalizer<4,>=2 in /usr/local/lib/python3.10/dist-packages (from requests->pennylane) (3.3.2)\n",
            "Requirement already satisfied: idna<4,>=2.5 in /usr/local/lib/python3.10/dist-packages (from requests->pennylane) (3.6)\n",
            "Requirement already satisfied: urllib3<3,>=1.21.1 in /usr/local/lib/python3.10/dist-packages (from requests->pennylane) (2.0.7)\n",
            "Requirement already satisfied: certifi>=2017.4.17 in /usr/local/lib/python3.10/dist-packages (from requests->pennylane) (2024.2.2)\n",
            "Installing collected packages: nftopt\n",
            "Successfully installed nftopt-0.0.1\n"
          ]
        }
      ],
      "source": [
        "!pip install pennylane nftopt"
      ]
    },
    {
      "cell_type": "code",
      "source": [
        "#defining parameters\n",
        "n_qubits=3\n",
        "depth = 4"
      ],
      "metadata": {
        "id": "bBFRNZxpuR3R"
      },
      "execution_count": 122,
      "outputs": []
    },
    {
      "cell_type": "code",
      "execution_count": 109,
      "metadata": {
        "id": "OUIetXSsGgAt",
        "tags": []
      },
      "outputs": [],
      "source": [
        "import pennylane as qml\n",
        "from pennylane import numpy as np\n",
        "from pennylane.optimize import NesterovMomentumOptimizer\n",
        "from scipy import optimize\n",
        "from nftopt import nakanishi_fujii_todo as nftmethod"
      ]
    },
    {
      "cell_type": "code",
      "execution_count": 5,
      "metadata": {
        "colab": {
          "base_uri": "https://localhost:8080/"
        },
        "id": "3aUEEcCxGoD3",
        "outputId": "bc975f31-d30a-4648-b1ba-21e952b73954"
      },
      "outputs": [
        {
          "output_type": "execute_result",
          "data": {
            "text/plain": [
              "<default.qubit device (wires=3) at 0x7ac9f9536d70>"
            ]
          },
          "metadata": {},
          "execution_count": 5
        }
      ],
      "source": [
        "dev = qml.device(\"default.qubit\",wires=3)\n",
        "dev"
      ]
    },
    {
      "cell_type": "code",
      "execution_count": 97,
      "metadata": {
        "id": "66R8e35YGre-",
        "tags": []
      },
      "outputs": [],
      "source": [
        "def ansatz_layer(layer_weights, depth, n_qubits):\n",
        "    for dep in range(depth):\n",
        "    #L1\n",
        "        for wire in range(n_qubits):\n",
        "          qml.RY(layer_weights[wire+(n_qubits*dep)], wires=wire)\n",
        "\n",
        "        qml.CZ(wires=[0,1])\n",
        "        qml.CZ(wires=[1,2])\n",
        "        qml.CZ(wires=[2,0])"
      ]
    },
    {
      "cell_type": "code",
      "execution_count": 37,
      "metadata": {
        "id": "WieH_Ujb27BQ"
      },
      "outputs": [],
      "source": [
        "def state_preparation(x):\n",
        "    qml.BasisState(x, wires=[0, 1, 2, 3])"
      ]
    },
    {
      "cell_type": "code",
      "execution_count": 38,
      "metadata": {
        "id": "_kk6L91D6qO9"
      },
      "outputs": [],
      "source": [
        "def accuracy(labels, predictions):\n",
        "  state0 = qml.math.dm_from_state_vector(labels)\n",
        "  state1 = qml.math.dm_from_state_vector(predictions)\n",
        "  return qml.math.fidelity(state0, state1)"
      ]
    },
    {
      "cell_type": "code",
      "execution_count": 39,
      "metadata": {
        "id": "PITDH8xw3Fqh"
      },
      "outputs": [],
      "source": [
        "@qml.qnode(dev,diff_method=\"backprop\")\n",
        "def circuit(weights):\n",
        "  # since depth 4 was used\n",
        "  ansatz_layer(weights,depth=depth, n_qubits=n_qubits)\n",
        "  # qml.state() applies Ua to Ini State, which gives Appro_a\n",
        "  return qml.state()"
      ]
    },
    {
      "cell_type": "code",
      "execution_count": 40,
      "metadata": {
        "id": "UVAv1iLN7-va"
      },
      "outputs": [],
      "source": [
        "def variational_classifier(weights, x):\n",
        "    # weights are thetas\n",
        "    return np.real(circuit(weights))"
      ]
    },
    {
      "cell_type": "code",
      "execution_count": 41,
      "metadata": {
        "colab": {
          "base_uri": "https://localhost:8080/"
        },
        "id": "65g99nkI8B_T",
        "outputId": "41a8e2c3-936b-4eb0-86f1-1de35241352e"
      },
      "outputs": [
        {
          "output_type": "stream",
          "name": "stdout",
          "text": [
            "[[0.44731471 0.75685397 0.20380799 0.2034348  0.50767449 0.1875731\n",
            "  0.68983928 0.66625399 0.08423187 0.64010809 0.39933108 0.56013735]]\n",
            "[ 0.00326862  0.20828693  0.77497285 -0.22939319  0.52437271 -0.16354083\n",
            " -0.0319628   0.02584106]\n",
            "0.613606217159294\n"
          ]
        }
      ],
      "source": [
        "# x = np.array([0.1,0.2,0.3,0.4,0.5,0.6,0.7,0.8])\n",
        "x = np.array([0.083379922415887,0.049577998492674,0.989090451339352,0.049577998492674,0.049577998492674,0.049577998492674,0.049577998492674,0.049577998492674])\n",
        "weights = 4*np.pi *np.random.rand(1,12)\n",
        "print(weights)\n",
        "predictions_test = variational_classifier(weights, x)\n",
        "print(predictions_test)\n",
        "print(accuracy(x,predictions_test))"
      ]
    },
    {
      "cell_type": "code",
      "source": [
        "IniState= np.append(1, np.zeros(2**n_qubits - 1))\n",
        "print(IniState)"
      ],
      "metadata": {
        "colab": {
          "base_uri": "https://localhost:8080/"
        },
        "id": "_vW64_9RuIft",
        "outputId": "416ac2f0-0281-4f71-f542-04ea01e75283"
      },
      "execution_count": 54,
      "outputs": [
        {
          "output_type": "stream",
          "name": "stdout",
          "text": [
            "[1. 0. 0. 0. 0. 0. 0. 0.]\n"
          ]
        }
      ]
    },
    {
      "cell_type": "code",
      "execution_count": 88,
      "metadata": {
        "id": "hB8R1dkc8u7Z"
      },
      "outputs": [],
      "source": [
        "def F1_loss(a,Appro_a):\n",
        "  #   Define the cost function\n",
        "  F1=(a[0]**2)*np.log2((Appro_a[0]**2)/(a[0]**2))+(a[1]**2)*np.log2((Appro_a[1]**2)/(a[1]**2))+(a[2]**2)*np.log2((Appro_a[2]**2)/(a[2]**2))\n",
        "  F2=(a[3]**2)*np.log2((Appro_a[3]**2)/(a[3]**2))+(a[4]**2)*np.log2((Appro_a[4]**2)/(a[4]**2))+(a[5]**2)*np.log2((Appro_a[5]**2)/(a[5]**2))\n",
        "  F3=(a[6]**2)*np.log2((Appro_a[6]**2)/(a[6]**2))+(a[7]**2)*np.log2((Appro_a[7]**2)/(a[7]**2))\n",
        "\n",
        "  #   Prepare the Bell state\n",
        "  Bell_State=np.ones((8,1))/np.linalg.norm(np.ones((8,1)))\n",
        "  #   The sum of vector a\n",
        "  Sum_a=np.sum(a)\n",
        "  sqrt_D = np.linalg.norm(np.ones((8,1)))\n",
        "  UaFunction=np.abs(Sum_a -  (sqrt_D * np.matmul(np.transpose(Bell_State), Appro_a)))-(F1+F2+F3)\n",
        "  return np.real(UaFunction)"
      ]
    },
    {
      "cell_type": "code",
      "source": [
        "a= x\n",
        "Appro_a = variational_classifier(weights, a)\n",
        "F1=((a[0]**2)*np.log2((Appro_a[0]**2)/(a[0]**2))+(a[1]**2)*np.log2((Appro_a[1]**2)/(a[1]**2))+(a[2]**2)*np.log2((Appro_a[2]**2)/(a[2]**2))).numpy()\n",
        "F2=((a[3]**2)*np.log2((Appro_a[3]**2)/(a[3]**2))+(a[4]**2)*np.log2((Appro_a[4]**2)/(a[4]**2))+(a[5]**2)*np.log2((Appro_a[5]**2)/(a[5]**2))).numpy()\n",
        "F3=((a[6]**2)*np.log2((Appro_a[6]**2)/(a[6]**2))+(a[7]**2)*np.log2((Appro_a[7]**2)/(a[7]**2))).numpy()\n",
        "Bell_State=np.ones((8,1))/np.linalg.norm(np.ones((8,1)))\n",
        "  #   The sum of vector a\n",
        "# it is plus, but authors made a concept mistake\n",
        "#Sum_a=np.sum(a)\n",
        "#UaFunction=np.abs(Sum_a - np.linalg.norm(np.ones((8,1))) * np.transpose(Bell_State) *Appro_a)"
      ],
      "metadata": {
        "colab": {
          "base_uri": "https://localhost:8080/"
        },
        "id": "HCZ5TdFs3TqZ",
        "outputId": "8aed1f41-422d-4baa-a2be-ab05021edc7d"
      },
      "execution_count": 83,
      "outputs": [
        {
          "output_type": "execute_result",
          "data": {
            "text/plain": [
              "2.8284271247461903"
            ]
          },
          "metadata": {},
          "execution_count": 83
        }
      ]
    },
    {
      "cell_type": "code",
      "execution_count": 92,
      "metadata": {
        "id": "jluQA21DA76N"
      },
      "outputs": [],
      "source": [
        "def cost(weights, X=a):\n",
        "    # X is our preparation state\n",
        "    Appro_a = variational_classifier(weights, X)\n",
        "    return F1_loss(X, Appro_a)"
      ]
    },
    {
      "cell_type": "code",
      "execution_count": 81,
      "metadata": {
        "id": "y_K3u4NHBhyu"
      },
      "outputs": [],
      "source": [
        "opt = NesterovMomentumOptimizer(0.5)\n",
        "np.random.seed(0)"
      ]
    },
    {
      "cell_type": "code",
      "execution_count": 64,
      "metadata": {
        "id": "OPsEFzyGLu4I"
      },
      "outputs": [],
      "source": [
        "# delta=1;\n",
        "# Omega=1;\n",
        "# gamma=1;\n",
        "# Delta_t=0.01;\n",
        "\n",
        "# alpha=np.sqrt(2)/2*delta*Delta_t;\n",
        "# beta=(1-gamma*Delta_t/2);\n",
        "# aa=[Delta_t*np.sqrt(2)/2*delta,Delta_t*gamma/4,np.sqrt(alpha**2+beta**2),Delta_t*gamma/4,Delta_t*gamma/4,Delta_t*gamma/4,Delta_t*gamma/4,Delta_t*gamma/4]\n",
        "# x=np.sqrt(aa);\n",
        "# norma=np.linalg.norm(x);\n",
        "# x=x/np.linalg.norm(x);\n",
        "\n",
        "# print(x)"
      ]
    },
    {
      "cell_type": "code",
      "execution_count": 119,
      "metadata": {
        "id": "gkYRcLvnBPDd"
      },
      "outputs": [],
      "source": [
        "weights = 4*np.pi*np.random.rand(12)\n",
        "x = np.array([0.083379922415887,0.049577998492674,0.989090451339352,0.049577998492674,0.049577998492674,0.049577998492674,0.049577998492674,0.049577998492674])\n",
        "\n",
        "# for it in range(1000):\n",
        "#     # Update the weights by one optimizer step, using only a limited batch of data\n",
        "#     weights = opt.step(cost, weights, X=x)\n",
        "#     # Compute accuracy\n",
        "#     predictions = variational_classifier(weights, x)\n",
        "\n",
        "#     acc = accuracy(x, predictions)\n",
        "\n",
        "#     print(f\"Iter: {it+1:4d} | Accuracy: {acc:0.7f}\")\n",
        "#     print(weights)\n",
        "#     print(\"-----------------------------------------------------------\")\n",
        "result= optimize.minimize(cost,weights, method=nftmethod, options={'maxfev':2000})"
      ]
    },
    {
      "cell_type": "code",
      "source": [
        "predictions=variational_classifier(result.x,a)\n",
        "acc = accuracy(x, predictions)\n",
        "print(predictions.numpy(), x.numpy())\n",
        "acc\n",
        "#accuracy(a, result.x)"
      ],
      "metadata": {
        "colab": {
          "base_uri": "https://localhost:8080/"
        },
        "id": "UwaetfY679uI",
        "outputId": "35087f91-0430-4b6c-c78d-870c4e8665c0"
      },
      "execution_count": 121,
      "outputs": [
        {
          "output_type": "stream",
          "name": "stdout",
          "text": [
            "[ 0.11973385 -0.0218794   0.97417981  0.12113409  0.03922353  0.0546745\n",
            "  0.1229835   0.04280879] [0.08337992 0.049578   0.98909045 0.049578   0.049578   0.049578\n",
            " 0.049578   0.049578  ]\n"
          ]
        }
      ]
    },
    {
      "cell_type": "code",
      "source": [],
      "metadata": {
        "id": "y7R2Rn2UIm7E"
      },
      "execution_count": null,
      "outputs": []
    }
  ],
  "metadata": {
    "colab": {
      "provenance": []
    },
    "kernelspec": {
      "display_name": "Python 3 (ipykernel)",
      "language": "python",
      "name": "python3"
    },
    "language_info": {
      "codemirror_mode": {
        "name": "ipython",
        "version": 3
      },
      "file_extension": ".py",
      "mimetype": "text/x-python",
      "name": "python",
      "nbconvert_exporter": "python",
      "pygments_lexer": "ipython3",
      "version": "3.11.5"
    }
  },
  "nbformat": 4,
  "nbformat_minor": 0
}